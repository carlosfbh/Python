{
 "cells": [
  {
   "cell_type": "markdown",
   "metadata": {
    "slideshow": {
     "slide_type": "slide"
    }
   },
   "source": [
    "# Bucles\n",
    "\n",
    "<img src=\"https://www.python.org/static/img/python-logo.png\" alt=\"yogen\" style=\"width: 200px; float: right;\"/>\n",
    "<br>\n",
    "<br>\n",
    "<br>\n",
    "<a href = \"http://yogen.io\"><img src=\"http://yogen.io/assets/logo.svg\" alt=\"yogen\" style=\"width: 200px; float: right;\"/></a>"
   ]
  },
  {
   "cell_type": "markdown",
   "metadata": {
    "slideshow": {
     "slide_type": "slide"
    }
   },
   "source": [
    "# Objetivos \n",
    "\n",
    "-   Conocer el concepto de bucle\n",
    "\n",
    "-   Repetir comandos sin tener que escribirlos muchas veces usando\n",
    "    diferentes tipos de bucles\n",
    "\n",
    "-   Conocer cómo gestionar e interrumpir bucles desde nuestros programas"
   ]
  },
  {
   "cell_type": "markdown",
   "metadata": {
    "slideshow": {
     "slide_type": "slide"
    }
   },
   "source": [
    "# Bucles for \n",
    "\n",
    "### Ejemplo\n",
    "\n",
    "### Método de Newton para calcular una raíz cuadrada \n",
    "\n",
    "Si tenemos un cuadrado de área $A$, sabemos que el lado L del cuadrado de área A cumple:\n",
    "\n",
    "$$L=\\sqrt{A}$$"
   ]
  },
  {
   "cell_type": "markdown",
   "metadata": {
    "slideshow": {
     "slide_type": "slide"
    }
   },
   "source": [
    "# Bucles for \n",
    "\n",
    "### Ejemplo\n",
    "\n",
    "### Método de Newton para calcular una raíz cuadrada \n",
    "\n",
    "Podemos usar esta propiedad para ir aproximando el valor de la raíz\n",
    "cuadrada, usando rectángulos de área $A$\n",
    "\n",
    "<center>![image](figs/cuadrado.png)</center>"
   ]
  },
  {
   "cell_type": "markdown",
   "metadata": {
    "slideshow": {
     "slide_type": "slide"
    }
   },
   "source": [
    "# Bucles for \n",
    "\n",
    "### Ejemplo\n",
    "\n",
    "### Método de Newton para calcular una raíz cuadrada \n",
    "\n",
    "Al repetir el proceso varias veces tendremos que \n",
    "\n",
    "$$L_n \\simeq W_n \\simeq \\sqrt{A}$$\n",
    "\n",
    "<center>![image](figs/ultimopaso.png)</center>"
   ]
  },
  {
   "cell_type": "markdown",
   "metadata": {
    "slideshow": {
     "slide_type": "slide"
    }
   },
   "source": [
    "## Programa para aproximar la raíz\n",
    "\n",
    "Podemos escribir todos los pasos explícitamente:"
   ]
  },
  {
   "cell_type": "code",
   "execution_count": 1,
   "metadata": {},
   "outputs": [
    {
     "name": "stdout",
     "output_type": "stream",
     "text": [
      "3.997743748587357\n"
     ]
    }
   ],
   "source": [
    "A = 16\n",
    "\n",
    "W1 = 1\n",
    "L1 = A / W1\n",
    "\n",
    "W2 = (W1 + L1) / 2\n",
    "L2 = A / W2\n",
    "\n",
    "W3 = (W2 + L2) / 2\n",
    "L3 = A / W3\n",
    "\n",
    "W4 = (W3 + L3) / 2\n",
    "L4 = A / W4\n",
    "\n",
    "W5 = (W4 + L4) / 2\n",
    "L5 = A / W5\n",
    "\n",
    "print(L5)"
   ]
  },
  {
   "cell_type": "markdown",
   "metadata": {
    "slideshow": {
     "slide_type": "fragment"
    }
   },
   "source": [
    "¿Se puede mejorar este programa?"
   ]
  },
  {
   "cell_type": "markdown",
   "metadata": {
    "slideshow": {
     "slide_type": "slide"
    }
   },
   "source": [
    "## Programa para aproximar la raíz\n",
    "\n",
    "No tenemos por qué guardar todos los valores intermedios en sus variables respectivas, ¿no?"
   ]
  },
  {
   "cell_type": "code",
   "execution_count": 2,
   "metadata": {},
   "outputs": [
    {
     "name": "stdout",
     "output_type": "stream",
     "text": [
      "3.9999999999999494\n"
     ]
    }
   ],
   "source": [
    "A = 16\n",
    "\n",
    "W = 1\n",
    "L = A / W\n",
    "\n",
    "W = (W + L) / 2\n",
    "L = A / W\n",
    "\n",
    "W = (W + L) / 2\n",
    "L = A / W\n",
    "\n",
    "W = (W + L) / 2\n",
    "L = A / W\n",
    "\n",
    "W = (W + L) / 2\n",
    "L = A / W\n",
    "\n",
    "W = (W + L) / 2\n",
    "L = A / W\n",
    "\n",
    "W = (W + L) / 2\n",
    "L = A / W\n",
    "\n",
    "print(L)"
   ]
  },
  {
   "cell_type": "markdown",
   "metadata": {
    "slideshow": {
     "slide_type": "fragment"
    }
   },
   "source": [
    "¿Se puede mejorar este programa?"
   ]
  },
  {
   "cell_type": "markdown",
   "metadata": {
    "slideshow": {
     "slide_type": "slide"
    }
   },
   "source": [
    "## Estructura general del bucle for\n",
    "\n",
    "\n",
    "\n",
    "```python\n",
    "          N = _____       # Numero de repeticiones del bucle\n",
    "\n",
    "          for k in range(0,N):  # k es el contador\n",
    "             # Codigo          # Cuerpo del bucle\n",
    "             # Codigo          # Estas instrucciones se repetiran\n",
    "```             "
   ]
  },
  {
   "cell_type": "code",
   "execution_count": 3,
   "metadata": {},
   "outputs": [
    {
     "name": "stdout",
     "output_type": "stream",
     "text": [
      "0\n",
      "1\n",
      "2\n",
      "3\n",
      "4\n"
     ]
    }
   ],
   "source": [
    "for k in range(0, 5):\n",
    "    print(k)"
   ]
  },
  {
   "cell_type": "code",
   "execution_count": 4,
   "metadata": {},
   "outputs": [
    {
     "name": "stdout",
     "output_type": "stream",
     "text": [
      "el numero es 0\n",
      "el numero es 1\n",
      "el numero es 2\n",
      "el numero es 3\n",
      "el numero es 4\n"
     ]
    }
   ],
   "source": [
    "for k in range(0, 5):\n",
    "    message = 'el numero es ' + str(k)\n",
    "    print(message)"
   ]
  },
  {
   "cell_type": "markdown",
   "metadata": {
    "slideshow": {
     "slide_type": "slide"
    }
   },
   "source": [
    "## Bucles\n",
    "\n",
    "Hagamos que la máquina repita las mismas instrucciones las veces que haga falta, sin tener que repetirlas nosotros."
   ]
  },
  {
   "cell_type": "code",
   "execution_count": 5,
   "metadata": {},
   "outputs": [
    {
     "name": "stdout",
     "output_type": "stream",
     "text": [
      "Tras el paso 0 la aproximacion es 1.882353\n",
      "Tras el paso 1 la aproximacion es 3.082153\n",
      "Tras el paso 2 la aproximacion es 3.867850\n",
      "Tras el paso 3 la aproximacion es 3.997744\n",
      "3.997743748587357\n"
     ]
    }
   ],
   "source": [
    "A = 16\n",
    "\n",
    "W = 1\n",
    "L = A / W\n",
    "\n",
    "for n in [0, 1, 2, 3]:\n",
    "    \n",
    "    W = (W + L) / 2\n",
    "    L = A / W\n",
    "    print('Tras el paso %d la aproximacion es %f' % (n, L))\n",
    "\n",
    "print(L)"
   ]
  },
  {
   "cell_type": "code",
   "execution_count": 6,
   "metadata": {},
   "outputs": [
    {
     "name": "stdout",
     "output_type": "stream",
     "text": [
      "Tras el paso a la aproximacion es 1.882353\n",
      "Tras el paso b la aproximacion es 3.082153\n",
      "Tras el paso c la aproximacion es 3.867850\n",
      "Tras el paso d la aproximacion es 3.997744\n",
      "3.997743748587357\n"
     ]
    }
   ],
   "source": [
    "A = 16\n",
    "\n",
    "W = 1\n",
    "L = A / W\n",
    "\n",
    "for n in ['a', 'b', 'c', 'd']:\n",
    "    \n",
    "    W = (W + L) / 2\n",
    "    L = A / W\n",
    "    print('Tras el paso %s la aproximacion es %f' % (n, L))\n",
    "\n",
    "print(L)"
   ]
  },
  {
   "cell_type": "markdown",
   "metadata": {
    "slideshow": {
     "slide_type": "slide"
    }
   },
   "source": [
    "## Bucles con variables\n",
    "\n",
    "Mejora: número arbitrario de pasos"
   ]
  },
  {
   "cell_type": "code",
   "execution_count": 7,
   "metadata": {},
   "outputs": [
    {
     "name": "stdout",
     "output_type": "stream",
     "text": [
      "Tras el paso 0 la aproximacion es 1.882353\n",
      "Tras el paso 1 la aproximacion es 3.082153\n",
      "Tras el paso 2 la aproximacion es 3.867850\n",
      "Tras el paso 3 la aproximacion es 3.997744\n",
      "Tras el paso 4 la aproximacion es 3.999999\n",
      "3.999999363307162\n"
     ]
    }
   ],
   "source": [
    "A = 16\n",
    "n_steps = 5\n",
    "W = 1\n",
    "L = A / W\n",
    "\n",
    "for n in range(n_steps):\n",
    "    \n",
    "    W = (W + L) / 2\n",
    "    L = A / W\n",
    "    print('Tras el paso %d la aproximacion es %f' % (n, L))\n",
    "\n",
    "print(L)"
   ]
  },
  {
   "cell_type": "markdown",
   "metadata": {
    "slideshow": {
     "slide_type": "fragment"
    }
   },
   "source": [
    "#### Ejercicio\n",
    "\n",
    "Escribe un programa que muestre por pantalla todos los números del 1 al 10, cada uno en una línea. Usa un bucle _for_."
   ]
  },
  {
   "cell_type": "code",
   "execution_count": 8,
   "metadata": {},
   "outputs": [
    {
     "name": "stdout",
     "output_type": "stream",
     "text": [
      "1\n",
      "2\n",
      "3\n",
      "4\n",
      "5\n",
      "6\n",
      "7\n",
      "8\n",
      "9\n",
      "10\n"
     ]
    }
   ],
   "source": [
    "for number in range(10):\n",
    "    print(number + 1)"
   ]
  },
  {
   "cell_type": "markdown",
   "metadata": {
    "slideshow": {
     "slide_type": "slide"
    }
   },
   "source": [
    "### Pregunta\n",
    "\n",
    "¿Qué resultado da este programa?"
   ]
  },
  {
   "cell_type": "code",
   "execution_count": 9,
   "metadata": {},
   "outputs": [
    {
     "name": "stdout",
     "output_type": "stream",
     "text": [
      "55\n"
     ]
    }
   ],
   "source": [
    "summation = 0\n",
    "\n",
    "for i in range(10):\n",
    "    summation = summation + (i + 1)\n",
    "    \n",
    "print(summation)"
   ]
  },
  {
   "cell_type": "markdown",
   "metadata": {
    "slideshow": {
     "slide_type": "fragment"
    }
   },
   "source": [
    "Respuesta Muestra la suma de los números del 1 al 10."
   ]
  },
  {
   "cell_type": "markdown",
   "metadata": {
    "slideshow": {
     "slide_type": "fragment"
    }
   },
   "source": [
    "Podríamos haber utilizado la función `sum` de Python:"
   ]
  },
  {
   "cell_type": "markdown",
   "metadata": {
    "slideshow": {
     "slide_type": "slide"
    }
   },
   "source": [
    "### Pregunta\n",
    "\n",
    "¿Cuántas líneas escribirá este programa? ¿Y qué escribe?\n",
    "\n",
    "```python\n",
    "for k in range(100,200):\n",
    "    if k % 2 == 0:\n",
    "        print('k')\n",
    "```"
   ]
  },
  {
   "cell_type": "markdown",
   "metadata": {
    "slideshow": {
     "slide_type": "fragment"
    }
   },
   "source": [
    "a)  2\n",
    "\n",
    "b)  50\n",
    "\n",
    "c)  51\n",
    "\n",
    "d)  101"
   ]
  },
  {
   "cell_type": "markdown",
   "metadata": {
    "slideshow": {
     "slide_type": "fragment"
    }
   },
   "source": [
    "Imprime la letra *k* 50 veces, que es el número de\n",
    "impares que hay entre 100 y 200."
   ]
  },
  {
   "cell_type": "markdown",
   "metadata": {},
   "source": [
    "#### Ejercicio\n",
    "\n",
    "Escribe un programa que muestre los números divisibles por 7 y terminados en 9 entre el 100 y el 250\n",
    "\n",
    "_Salida de muestra_: \n",
    "```python\n",
    "119\n",
    "189\n",
    "```"
   ]
  },
  {
   "cell_type": "markdown",
   "metadata": {},
   "source": [
    "Podemos hacerlo de dos maneras:\n",
    "\n",
    "- Textualmente: extraer la última cifra de la secuencia de caracteres que constituye el número. Para ello, tenemos que convertirlo primero en esa secuencia de caracteres, una string:"
   ]
  },
  {
   "cell_type": "code",
   "execution_count": 14,
   "metadata": {},
   "outputs": [
    {
     "name": "stdout",
     "output_type": "stream",
     "text": [
      "119\n",
      "189\n"
     ]
    }
   ],
   "source": [
    "for n in range(100, 251):\n",
    "    if n % 7 == 0 and str(n)[-1] == '9':\n",
    "        print(n)"
   ]
  },
  {
   "cell_type": "markdown",
   "metadata": {},
   "source": [
    "- Aritméticamente: dándonos cuenta de que la última cifra de un número es el resto de dividir ese número entre diez."
   ]
  },
  {
   "cell_type": "code",
   "execution_count": 11,
   "metadata": {},
   "outputs": [
    {
     "data": {
      "text/plain": [
       "9"
      ]
     },
     "execution_count": 11,
     "metadata": {},
     "output_type": "execute_result"
    }
   ],
   "source": [
    "123134123119 % 10"
   ]
  },
  {
   "cell_type": "code",
   "execution_count": 12,
   "metadata": {},
   "outputs": [
    {
     "data": {
      "text/plain": [
       "'123134123119'"
      ]
     },
     "execution_count": 12,
     "metadata": {},
     "output_type": "execute_result"
    }
   ],
   "source": [
    "str(123134123119)"
   ]
  },
  {
   "cell_type": "code",
   "execution_count": 13,
   "metadata": {},
   "outputs": [
    {
     "data": {
      "text/plain": [
       "'9'"
      ]
     },
     "execution_count": 13,
     "metadata": {},
     "output_type": "execute_result"
    }
   ],
   "source": [
    "str(123134123119)[-1]"
   ]
  },
  {
   "cell_type": "code",
   "execution_count": 15,
   "metadata": {},
   "outputs": [
    {
     "name": "stdout",
     "output_type": "stream",
     "text": [
      "119\n",
      "189\n"
     ]
    }
   ],
   "source": [
    "for n in range(100, 251):\n",
    "    if n % 7 == 0 and n % 10 == 9:\n",
    "        print(n)"
   ]
  },
  {
   "cell_type": "markdown",
   "metadata": {},
   "source": [
    "#### Debugging y descomponer los problemas en partes\n",
    "\n",
    "**NUNCA** escribáis un programa entero y sólo entonces lo ejecutéis. Id escribiéndolo poco a poco, ejecutadlo pronto y frecuentemente, y comprobad que cada parte funciona como esperáis que funcione"
   ]
  },
  {
   "cell_type": "markdown",
   "metadata": {},
   "source": [
    "#### Ejercicio\n",
    "\n",
    "Dada una lista\n",
    "```python\n",
    "my_list = [1, 3, 7, 12, 32, 43, 21, 78]\n",
    "```\n",
    "\n",
    "Escribe un programa que cuente el número de pares e impares en ella (en este caso, 5 y 3)."
   ]
  },
  {
   "cell_type": "code",
   "execution_count": 16,
   "metadata": {},
   "outputs": [
    {
     "name": "stdout",
     "output_type": "stream",
     "text": [
      "1\n",
      "3\n",
      "7\n",
      "12\n",
      "32\n",
      "43\n",
      "21\n",
      "78\n"
     ]
    }
   ],
   "source": [
    "my_list = [1, 3, 7, 12, 32, 43, 21, 78]\n",
    "\n",
    "for number in range(len(my_list)):\n",
    "    \n",
    "    number_in_list = my_list[number]\n",
    "    \n",
    "    print(number_in_list)"
   ]
  },
  {
   "cell_type": "code",
   "execution_count": 17,
   "metadata": {},
   "outputs": [
    {
     "name": "stdout",
     "output_type": "stream",
     "text": [
      "3 5\n"
     ]
    }
   ],
   "source": [
    "my_list = [1, 3, 7, 12, 32, 43, 21, 78]\n",
    "\n",
    "evens = 0\n",
    "odds = 0\n",
    "\n",
    "for number in my_list:\n",
    "    \n",
    "    if number % 2 == 0:\n",
    "        evens = evens + 1\n",
    "    else:\n",
    "        odds = odds + 1\n",
    "        \n",
    "print(evens, odds)        "
   ]
  },
  {
   "cell_type": "markdown",
   "metadata": {},
   "source": [
    "## Bucles for en Python\n",
    "\n",
    "Python, al contrario que muchos otros lenguajes, nos permite iterar sobre cualquier tipo de secuencia.\n",
    "\n",
    "¿Qué tipo de secuencias conocemos bien ya?"
   ]
  },
  {
   "cell_type": "markdown",
   "metadata": {},
   "source": [
    "Por ejemplo, las strings."
   ]
  },
  {
   "cell_type": "code",
   "execution_count": 18,
   "metadata": {},
   "outputs": [
    {
     "name": "stdout",
     "output_type": "stream",
     "text": [
      "t\n",
      "h\n",
      "i\n",
      "s\n",
      " \n",
      "i\n",
      "s\n",
      " \n",
      "a\n",
      " \n",
      "s\n",
      "t\n",
      "r\n",
      "i\n",
      "n\n",
      "g\n"
     ]
    }
   ],
   "source": [
    "for letter in 'this is a string':\n",
    "    print(letter)"
   ]
  },
  {
   "cell_type": "markdown",
   "metadata": {},
   "source": [
    "#### Ejercicio\n",
    "\n",
    "Dada la string\n",
    "\n",
    "```python\n",
    "a_string = \"El 1ero de Mayo del 98, mis 4 hermanos y yo salimos a la calle juntos.\"\n",
    "```\n",
    "\n",
    "Escribe un programa que construya otra compuesta exclusivamente de los dígitos incluidos en ella."
   ]
  },
  {
   "cell_type": "code",
   "execution_count": 19,
   "metadata": {},
   "outputs": [
    {
     "name": "stdout",
     "output_type": "stream",
     "text": [
      "1984\n"
     ]
    }
   ],
   "source": [
    "a_string = \"El 1ero de Mayo del 98, mis 4 hermanos y yo salimos a la calle juntos.\"\n",
    "result_string = ''\n",
    "\n",
    "for letter in a_string:\n",
    "    if letter.isnumeric():\n",
    "        result_string = result_string + letter\n",
    "        \n",
    "print(result_string)"
   ]
  },
  {
   "cell_type": "markdown",
   "metadata": {},
   "source": [
    "### Orden de evaluación:\n",
    "\n",
    "La línea \n",
    "\n",
    "```python\n",
    "result_string = result_string + letter\n",
    "```\n",
    "\n",
    "Se va evaluando de la siguiente manera:\n",
    "\n",
    "Es una asignación, con lo que hay que evaluar todo lo que hay a la derecha del = primero. Empezamos por sustituir el valor de las variables `result_string`...\n",
    "\n",
    "```python\n",
    "result_string = '' + letter\n",
    "```\n",
    "...y `letter`. Ahora tenemos una concatenación de strings:\n",
    "```python\n",
    "result_string = '' + '1'\n",
    "```\n",
    "Y hemos llegado a una asignación limpia, con un nombre de variable a la izquierda y un literal a la derecha del igual. Guardamos el valor en la variable y hemos terminado.\n",
    "\n",
    "```python\n",
    "result_string = '1'\n",
    "```\n",
    "\n",
    "Como véis, el efecto neto es elongar `result_string` con el contenido de `letter`"
   ]
  },
  {
   "cell_type": "markdown",
   "metadata": {
    "slideshow": {
     "slide_type": "slide"
    }
   },
   "source": [
    "# Bucles while \n",
    "\n",
    "Los bucles `for` nos permiten repetir un comando un número\n",
    "determinado de veces.\n",
    "\n",
    "¿Qué ocurre si no sabemos de antemano cuántas\n",
    "veces se va a repetir el bucle?"
   ]
  },
  {
   "cell_type": "markdown",
   "metadata": {
    "slideshow": {
     "slide_type": "slide"
    }
   },
   "source": [
    "## Estructura general de un bucle while\n",
    "\n",
    "```python\n",
    "# Inicializamos variables\n",
    "while condicion_para_continuar:\n",
    "    # Codigo\n",
    "    # Actualizamos las variables que intervienen en la condicion\n",
    "```\n",
    "\n",
    "En la condición del bucle while intervienen variables que deben cambiar dentro del cuerpo del bucle."
   ]
  },
  {
   "cell_type": "markdown",
   "metadata": {
    "slideshow": {
     "slide_type": "fragment"
    }
   },
   "source": [
    "### Ejemplo\n",
    "\n",
    "Sumar todos los números menores que 5"
   ]
  },
  {
   "cell_type": "code",
   "execution_count": 23,
   "metadata": {},
   "outputs": [
    {
     "name": "stdout",
     "output_type": "stream",
     "text": [
      " 1  1\n",
      " 2  3\n",
      " 3  6\n",
      " 4 10\n",
      " 5 15\n"
     ]
    }
   ],
   "source": [
    "s = 0\n",
    "k = 0\n",
    "\n",
    "while k < 5:\n",
    "    k = k + 1\n",
    "    s = s + k\n",
    "    print('%2d %2d' % (k,s))"
   ]
  },
  {
   "cell_type": "markdown",
   "metadata": {
    "slideshow": {
     "slide_type": "slide"
    }
   },
   "source": [
    "## El bucle while paso a paso\n",
    "\n",
    "Sumar todos los números menores que 5\n",
    "\n",
    "```python\n",
    "->    s = 0\n",
    "      k = 0\n",
    "\n",
    "      while k < 5:\n",
    "          k = k + 1\n",
    "          s = s + k\n",
    "          print('%2d %2d' % (k,s))\n",
    "```\n",
    "\n",
    "\n",
    "Memoria:\n",
    "\n",
    "|   |   |\n",
    "|---|---|\n",
    "|   |   |\n",
    "\n",
    "Salida estándar:\n",
    "\n",
    "|   |   |\n",
    "|---|---|\n",
    "|   |   |\n"
   ]
  },
  {
   "cell_type": "markdown",
   "metadata": {
    "slideshow": {
     "slide_type": "slide"
    }
   },
   "source": [
    "## El bucle while paso a paso\n",
    "\n",
    "Sumar todos los números menores que 5\n",
    "\n",
    "```python\n",
    "      s = 0\n",
    "      k = 0\n",
    "\n",
    "->    while k < 5:\n",
    "          k = k + 1\n",
    "          s = s + k\n",
    "          print('%2d %2d' % (k,s))\n",
    "```\n",
    "\n",
    "Memoria:\n",
    "\n",
    "| k | s |\n",
    "|---|---|\n",
    "| 0 | 0 |\n",
    "\n",
    "Salida estándar:\n",
    "\n",
    "|   |   |\n",
    "|---|---|\n",
    "|   |   |\n",
    "\n",
    "Se inicializan k y s"
   ]
  },
  {
   "cell_type": "markdown",
   "metadata": {
    "slideshow": {
     "slide_type": "slide"
    }
   },
   "source": [
    "## El bucle while paso a paso\n",
    "\n",
    "Sumar todos los números menores que 5\n",
    "\n",
    "```python\n",
    "      s = 0\n",
    "      k = 0\n",
    "\n",
    "->    while k < 5:\n",
    "          k = k + 1\n",
    "          s = s + k\n",
    "          print('%2d %2d' % (k,s))\n",
    "```\n",
    "\n",
    "Memoria:\n",
    "\n",
    "| k | s |\n",
    "|---|---|\n",
    "| 0 | 0 |\n",
    "\n",
    "Salida estándar:\n",
    "\n",
    "|   |   |\n",
    "|---|---|\n",
    "|   |   |\n",
    "\n",
    "¿Es k menor que 5?. Sí, ejecuta el cuerpo del bucle."
   ]
  },
  {
   "cell_type": "markdown",
   "metadata": {
    "slideshow": {
     "slide_type": "slide"
    }
   },
   "source": [
    "## El bucle while paso a paso\n",
    "\n",
    "Sumar todos los números menores que 5\n",
    "\n",
    "```python\n",
    "      s = 0\n",
    "      k = 0\n",
    "\n",
    "      while k < 5:\n",
    "          k = k + 1\n",
    "          s = s + k\n",
    "          print('%2d %2d' % (k,s))\n",
    "->\n",
    "```\n",
    "\n",
    "Memoria:\n",
    "\n",
    "| k | s |\n",
    "|---|---|\n",
    "| 1 | 1 |\n",
    "\n",
    "Salida estándar:\n",
    "\n",
    "| 1 | 1 |\n",
    "|---|---|\n",
    "|   |   |\n",
    "\n",
    "Se actualizan k y s, y se muestra mensaje en pantalla."
   ]
  },
  {
   "cell_type": "markdown",
   "metadata": {
    "slideshow": {
     "slide_type": "slide"
    }
   },
   "source": [
    "## El bucle while paso a paso\n",
    "\n",
    "Sumar todos los números menores que 5\n",
    "\n",
    "```python\n",
    "      s = 0\n",
    "      k = 0\n",
    "\n",
    "->    while k < 5:\n",
    "          k = k + 1\n",
    "          s = s + k\n",
    "          print('%2d %2d' % (k,s))\n",
    "  \n",
    "```\n",
    "\n",
    "Memoria:\n",
    "\n",
    "| k | s |\n",
    "|---|---|\n",
    "| 1 | 1 |\n",
    "\n",
    "Salida estándar:\n",
    "\n",
    "| 1 | 1 |\n",
    "|---|---|\n",
    "|   |   |\n",
    "\n",
    "¿Es k menor que 5?. Sí, ejecuta el cuerpo del bucle."
   ]
  },
  {
   "cell_type": "markdown",
   "metadata": {
    "slideshow": {
     "slide_type": "slide"
    }
   },
   "source": [
    "## El bucle while paso a paso\n",
    "\n",
    "Sumar todos los números menores que 5\n",
    "\n",
    "```python\n",
    "      s = 0\n",
    "      k = 0\n",
    "\n",
    "      while k < 5:\n",
    "          k = k + 1\n",
    "          s = s + k\n",
    "          print('%2d %2d' % (k,s))\n",
    "->  \n",
    "```\n",
    "\n",
    "Memoria:\n",
    "\n",
    "| k | s |\n",
    "|---|---|\n",
    "| 2 | 3 |\n",
    "\n",
    "Salida estándar:\n",
    "\n",
    "| 1 | 1 |\n",
    "|---|---|\n",
    "| 2 | 3 |\n",
    "\n",
    "Se actualizan k y s, y se muestra mensaje en pantalla."
   ]
  },
  {
   "cell_type": "markdown",
   "metadata": {
    "slideshow": {
     "slide_type": "slide"
    }
   },
   "source": [
    "## El bucle while paso a paso\n",
    "\n",
    "Sumar todos los números menores que 5\n",
    "\n",
    "```python\n",
    "      s = 0\n",
    "      k = 0\n",
    "\n",
    "->      while k < 5:\n",
    "          k = k + 1\n",
    "          s = s + k\n",
    "          print('%2d %2d' % (k,s))\n",
    "  \n",
    "```\n",
    "\n",
    "Memoria:\n",
    "\n",
    "| k | s |\n",
    "|---|---|\n",
    "| 2 | 3 |\n",
    "\n",
    "Salida estándar:\n",
    "\n",
    "| 1 | 1 |\n",
    "|---|---|\n",
    "| 2 | 3 |\n",
    "\n",
    "¿Es k menor que 5?. Sí, ejecuta el cuerpo del bucle."
   ]
  },
  {
   "cell_type": "markdown",
   "metadata": {
    "slideshow": {
     "slide_type": "slide"
    }
   },
   "source": [
    "## El bucle while paso a paso\n",
    "\n",
    "Sumar todos los números menores que 5\n",
    "\n",
    "```python\n",
    "      s = 0\n",
    "      k = 0\n",
    "\n",
    "->      while k < 5:\n",
    "          k = k + 1\n",
    "          s = s + k\n",
    "          print('%2d %2d' % (k,s))\n",
    "  \n",
    "```\n",
    "\n",
    "Memoria:\n",
    "\n",
    "| k | s |\n",
    "|---|---|\n",
    "| 2 | 3 |\n",
    "\n",
    "Salida estándar:\n",
    "\n",
    "| 1 | 1 |\n",
    "|---|---|\n",
    "| 2 | 3 |\n",
    "| 3 | 6 |\n",
    "\n",
    "Se actualizan k y s, y se muestra mensaje en pantalla."
   ]
  },
  {
   "cell_type": "markdown",
   "metadata": {
    "slideshow": {
     "slide_type": "slide"
    }
   },
   "source": [
    "## El bucle while paso a paso\n",
    "\n",
    "Sumar todos los números menores que 5\n",
    "\n",
    "```python\n",
    "      s = 0\n",
    "      k = 0\n",
    "\n",
    "->      while k < 5:\n",
    "          k = k + 1\n",
    "          s = s + k\n",
    "          print('%2d %2d' % (k,s))\n",
    "  \n",
    "```\n",
    "\n",
    "Memoria:\n",
    "\n",
    "| k | s |\n",
    "|---|---|\n",
    "| 5 | 15|\n",
    "\n",
    "Salida estándar:\n",
    "\n",
    "| 1 | 1 |\n",
    "|---|---|\n",
    "| 2 | 3 |\n",
    "| 3 | 6 |\n",
    "| 4 | 10|\n",
    "| 5 | 15|\n",
    "\n",
    "El programa continúa hasta que k alcanza 5. En esta iteración\n",
    "iteración, la condición se vuelve falsa y el bucle no se ejecuta más."
   ]
  },
  {
   "cell_type": "markdown",
   "metadata": {
    "slideshow": {
     "slide_type": "fragment"
    }
   },
   "source": [
    "Si no cambian dentro del cuerpo y la condición es verdadera, el bucle se ejecutará una y otra vez: habremos caído en un **bucle infinito**."
   ]
  },
  {
   "cell_type": "markdown",
   "metadata": {
    "slideshow": {
     "slide_type": "fragment"
    }
   },
   "source": [
    "Equivalencia: Cualquier bucle for se puede\n",
    "escribir como un bucle  while, pero al contrario es imposible en muchas ocasiones"
   ]
  },
  {
   "cell_type": "markdown",
   "metadata": {
    "slideshow": {
     "slide_type": "fragment"
    }
   },
   "source": [
    "**¿Por qué?**"
   ]
  },
  {
   "cell_type": "markdown",
   "metadata": {
    "slideshow": {
     "slide_type": "slide"
    }
   },
   "source": [
    "### Ejemplo: lanzamiento de monedas\n",
    "\n",
    "¿Cuántas veces tengo que lanzar una\n",
    "moneda para sacar tres caras?"
   ]
  },
  {
   "cell_type": "markdown",
   "metadata": {},
   "source": [
    "Usamos la función random del módulo random para simular un lanzamiento de moneda."
   ]
  },
  {
   "cell_type": "code",
   "execution_count": 24,
   "metadata": {},
   "outputs": [
    {
     "name": "stdout",
     "output_type": "stream",
     "text": [
      "Help on built-in function random:\n",
      "\n",
      "random(...) method of random.Random instance\n",
      "    random() -> x in the interval [0, 1).\n",
      "\n"
     ]
    }
   ],
   "source": [
    "from random import random\n",
    "\n",
    "help(random)"
   ]
  },
  {
   "cell_type": "code",
   "execution_count": 25,
   "metadata": {},
   "outputs": [
    {
     "data": {
      "text/plain": [
       "0.6158624671742473"
      ]
     },
     "execution_count": 25,
     "metadata": {},
     "output_type": "execute_result"
    }
   ],
   "source": [
    "random()"
   ]
  },
  {
   "cell_type": "code",
   "execution_count": 26,
   "metadata": {},
   "outputs": [
    {
     "name": "stdout",
     "output_type": "stream",
     "text": [
      "3 3\n"
     ]
    }
   ],
   "source": [
    "from random import random\n",
    "\n",
    "heads = 0 \n",
    "tosses = 0\n",
    "\n",
    "while heads < 3:\n",
    "    # This variable will be True with a p=0.5\n",
    "    this_toss_is_heads = random() < 0.5\n",
    "    \n",
    "    if this_toss_is_heads:\n",
    "        heads = heads + 1\n",
    "    \n",
    "    tosses = tosses + 1\n",
    "    \n",
    "print(heads, tosses)"
   ]
  },
  {
   "cell_type": "markdown",
   "metadata": {
    "slideshow": {
     "slide_type": "slide"
    }
   },
   "source": [
    "### Ejercicio\n",
    "\n",
    "Volvemos al método de Newton para calcular una raíz cuadrada: ahora podemos escribir un programa mucho mejor. \n",
    "\n",
    "**¿Cómo?**"
   ]
  },
  {
   "cell_type": "markdown",
   "metadata": {
    "slideshow": {
     "slide_type": "fragment"
    }
   },
   "source": [
    "La entrada es un número entre $1$ y $10^6$\n",
    "\n",
    "Usaremos el método visto anteriormente, el cálculo se hará con un error relativo de $10^{-5}$, con tantas repeticiones como sean necesarias\n",
    "\n",
    "-   Empezamos con $L=x$, $W=1$\n",
    "\n",
    "-   Actualizamos con $L=\\frac{L + W}{2}$, $W = \\frac{x}{L}$\n",
    "\n",
    "El error relativo lo calculamos usando la diferencia entre dos pasos consecutivos\n",
    "\n",
    "$$\\frac{|L_1 - L_2|}{L_2}$$"
   ]
  },
  {
   "cell_type": "markdown",
   "metadata": {
    "slideshow": {
     "slide_type": "slide"
    }
   },
   "source": [
    "**Solución:** bucle while para calcular raíz\n",
    "cuadrada"
   ]
  },
  {
   "cell_type": "code",
   "execution_count": 38,
   "metadata": {},
   "outputs": [
    {
     "data": {
      "text/plain": [
       "0.30000000000000004"
      ]
     },
     "execution_count": 38,
     "metadata": {},
     "output_type": "execute_result"
    }
   ],
   "source": [
    "# Remember: watch out for floating point representation precision errors!\n",
    "\n",
    ".1 + .2"
   ]
  },
  {
   "cell_type": "code",
   "execution_count": 28,
   "metadata": {},
   "outputs": [
    {
     "name": "stdout",
     "output_type": "stream",
     "text": [
      "Tras el paso 1 la aproximacion es 0.947368 con un error de 0.002632\n",
      "Tras el paso 2 la aproximacion es 0.948682 con un error de 0.000002\n",
      "0.9486823855755895 2\n"
     ]
    }
   ],
   "source": [
    "A = .9\n",
    "precision = 1e-5\n",
    "W = 1\n",
    "L = A / W\n",
    "n =0\n",
    "error = abs(W - L)\n",
    "\n",
    "# Change this to a while loop\n",
    "while error > precision:\n",
    "    \n",
    "    W = (W + L) / 2\n",
    "    L = A / W\n",
    "    n = n + 1\n",
    "    \n",
    "    error = abs(W - L)\n",
    "    print('Tras el paso %d la aproximacion es %f con un error de %f' % (n, L, error))\n",
    "\n",
    "print(L, n)"
   ]
  },
  {
   "cell_type": "markdown",
   "metadata": {},
   "source": [
    "Esto que hemos escrito es lo mismo que hace la función `math.isclose`:"
   ]
  },
  {
   "cell_type": "code",
   "execution_count": 29,
   "metadata": {},
   "outputs": [
    {
     "name": "stdout",
     "output_type": "stream",
     "text": [
      "Help on built-in function isclose in module math:\n",
      "\n",
      "isclose(...)\n",
      "    isclose(a, b, *, rel_tol=1e-09, abs_tol=0.0) -> bool\n",
      "    \n",
      "    Determine whether two floating point numbers are close in value.\n",
      "    \n",
      "       rel_tol\n",
      "           maximum difference for being considered \"close\", relative to the\n",
      "           magnitude of the input values\n",
      "        abs_tol\n",
      "           maximum difference for being considered \"close\", regardless of the\n",
      "           magnitude of the input values\n",
      "    \n",
      "    Return True if a is close in value to b, and False otherwise.\n",
      "    \n",
      "    For the values to be considered close, the difference between them\n",
      "    must be smaller than at least one of the tolerances.\n",
      "    \n",
      "    -inf, inf and NaN behave similarly to the IEEE 754 Standard.  That\n",
      "    is, NaN is not close to anything, even itself.  inf and -inf are\n",
      "    only close to themselves.\n",
      "\n"
     ]
    }
   ],
   "source": [
    "import math\n",
    "help(math.isclose)"
   ]
  },
  {
   "cell_type": "code",
   "execution_count": 30,
   "metadata": {},
   "outputs": [
    {
     "name": "stdout",
     "output_type": "stream",
     "text": [
      "Tras el paso 1 la aproximacion es 0.000006\n",
      "Tras el paso 2 la aproximacion es 0.000013\n",
      "Tras el paso 3 la aproximacion es 0.000026\n",
      "Tras el paso 4 la aproximacion es 0.000051\n",
      "Tras el paso 5 la aproximacion es 0.000102\n",
      "Tras el paso 6 la aproximacion es 0.000204\n",
      "Tras el paso 7 la aproximacion es 0.000403\n",
      "Tras el paso 8 la aproximacion es 0.000766\n",
      "Tras el paso 9 la aproximacion es 0.001295\n",
      "Tras el paso 10 la aproximacion es 0.001699\n",
      "Tras el paso 11 la aproximacion es 0.001787\n",
      "Tras el paso 12 la aproximacion es 0.001789\n",
      "0.001788852835611687 12\n"
     ]
    }
   ],
   "source": [
    "import math \n",
    "\n",
    "A = 0.0000032\n",
    "precision = 1e-5\n",
    "W = 1\n",
    "L = A / W\n",
    "n =0\n",
    "\n",
    "# Change this to a while loop\n",
    "while not math.isclose(W, L, rel_tol=precision):\n",
    "    \n",
    "    W = (W + L) / 2\n",
    "    L = A / W\n",
    "    n = n + 1\n",
    "    \n",
    "    print('Tras el paso %d la aproximacion es %f' % (n, L))\n",
    "\n",
    "print(L, n)"
   ]
  },
  {
   "cell_type": "markdown",
   "metadata": {
    "slideshow": {
     "slide_type": "slide"
    }
   },
   "source": [
    "## Comentarios sobre la solución"
   ]
  },
  {
   "cell_type": "markdown",
   "metadata": {
    "slideshow": {
     "slide_type": "fragment"
    }
   },
   "source": [
    "### Cuidado con la inicialización\n",
    "\n",
    "La variable rel\\_error no existe al comenzar el bucle, y sin embargo no se produce un error.\n",
    "\n",
    "-   **¿Por qué?**"
   ]
  },
  {
   "cell_type": "markdown",
   "metadata": {
    "slideshow": {
     "slide_type": "fragment"
    }
   },
   "source": [
    "### Inicialización en métodos numéricos iterativos \n",
    "\n",
    "En un método numérico iterativo que calcula la solución con un error relativo dado será imprescindible usar un bucle while, porque no sabemos cuántas iteraciones hacen falta. "
   ]
  },
  {
   "cell_type": "markdown",
   "metadata": {
    "slideshow": {
     "slide_type": "fragment"
    }
   },
   "source": [
    "Para inicializar la condición, tenemos dos opciones para la variable que recoge el error relativo:\n",
    "\n",
    "-   Usar operadores lógicos perezosos para evitar usar la variable en la primera iteración.\n",
    "\n",
    "-   Inicializar la variable con un valor que haga que el bucle\n",
    "    empiece al menos una vez, y a partir de ahí seguir según se vaya calculando"
   ]
  },
  {
   "cell_type": "markdown",
   "metadata": {
    "slideshow": {
     "slide_type": "slide"
    }
   },
   "source": [
    "# Cómo interrumpir bucles \n",
    "\n",
    "Un bucle repite comandos. Pero ¿podemos controlar\n",
    "cuándo se repite y cuándo no?\n",
    "\n",
    "Dos comandos nuevos\n",
    "\n",
    "-   `break`: Termina el bucle en ese momento.\n",
    "\n",
    "-   `continue`: Se salta la iteración actual"
   ]
  },
  {
   "cell_type": "markdown",
   "metadata": {
    "slideshow": {
     "slide_type": "slide"
    }
   },
   "source": [
    "## El comando break\n",
    "\n",
    "En ocasiones puede ser útil terminar un bucle aunque no hayamos agotado todas las repeticiones:\n",
    "\n",
    "-   Búsqueda de un elemento con una característica particular dentro de\n",
    "    un conjunto de elementos."
   ]
  },
  {
   "cell_type": "markdown",
   "metadata": {
    "slideshow": {
     "slide_type": "fragment"
    }
   },
   "source": [
    "### Ejemplo"
   ]
  },
  {
   "cell_type": "code",
   "execution_count": 31,
   "metadata": {},
   "outputs": [
    {
     "name": "stdout",
     "output_type": "stream",
     "text": [
      "2\n"
     ]
    }
   ],
   "source": [
    "sequence = 'abcde'\n",
    "index = 0\n",
    "element = 'c'\n",
    "\n",
    "for letter in sequence:\n",
    "    if letter == element:\n",
    "        break\n",
    "    index = index + 1\n",
    "    \n",
    "print(index)"
   ]
  },
  {
   "cell_type": "markdown",
   "metadata": {
    "slideshow": {
     "slide_type": "slide"
    }
   },
   "source": [
    "### Ejercicio\n",
    "\n",
    "Busca el primer número par en un conjunto de números"
   ]
  },
  {
   "cell_type": "code",
   "execution_count": 32,
   "metadata": {},
   "outputs": [
    {
     "name": "stdout",
     "output_type": "stream",
     "text": [
      "12\n"
     ]
    }
   ],
   "source": [
    "numbers = [1, 9, 13, 3, 12, 5, 6, 19]\n",
    "\n",
    "for n in numbers:\n",
    "    if n % 2 == 0:\n",
    "        break\n",
    "        \n",
    "    \n",
    "print(n)"
   ]
  },
  {
   "cell_type": "markdown",
   "metadata": {
    "slideshow": {
     "slide_type": "slide"
    }
   },
   "source": [
    "## El comando continue\n",
    "\n",
    "El comando continue se salta la iteración actual. Puede ser útil para ignorar elementos determinados dentro de un bucle.\n",
    "\n",
    "Ejemplo"
   ]
  },
  {
   "cell_type": "code",
   "execution_count": null,
   "metadata": {
    "collapsed": true
   },
   "outputs": [],
   "source": []
  },
  {
   "cell_type": "markdown",
   "metadata": {
    "slideshow": {
     "slide_type": "fragment"
    }
   },
   "source": [
    "### Ejercicio\n",
    "\n",
    "Imprime todos los números en `range(0, 20)` excepto los múltiplos de 3, usando un continue"
   ]
  },
  {
   "cell_type": "code",
   "execution_count": 33,
   "metadata": {
    "scrolled": true
   },
   "outputs": [
    {
     "name": "stdout",
     "output_type": "stream",
     "text": [
      "1\n",
      "2\n",
      "4\n",
      "5\n",
      "7\n",
      "8\n",
      "10\n",
      "11\n",
      "13\n",
      "14\n",
      "16\n",
      "17\n",
      "19\n"
     ]
    }
   ],
   "source": [
    "for i in range(0, 20):\n",
    "    \n",
    "    if i % 3 == 0:\n",
    "        continue\n",
    "        \n",
    "    print(i)"
   ]
  },
  {
   "cell_type": "markdown",
   "metadata": {
    "slideshow": {
     "slide_type": "slide"
    }
   },
   "source": [
    "## También con bucles while\n",
    "\n",
    "Los comandos break y continue se pueden usar en bucles `while` o `for`"
   ]
  },
  {
   "cell_type": "markdown",
   "metadata": {
    "slideshow": {
     "slide_type": "fragment"
    }
   },
   "source": [
    "#### Ejercicio\n",
    "\n",
    "Lanzamos una moneda. Si se acumulan tres cruces, perdemos. Si se acumulan tres caras, ganamos tantos euros como tiradas se hayan realizado. Muestra por pantalla un mensaje que diga si hemos perdido o, si hemos ganado, cuánto hemos ganado.\n",
    "\n",
    "#### Bonus\n",
    "\n",
    "Modifica el programa anterior para que se gane sólo cuando salgan 3 caras consecutivas, y se pierda sólo cuando salgan tres cruces consecutivas. La ganancia sigue siendo el número de tiradas, pero lógicamente en esta versión no tiene un valor máximo."
   ]
  },
  {
   "cell_type": "code",
   "execution_count": null,
   "metadata": {
    "collapsed": true
   },
   "outputs": [],
   "source": []
  },
  {
   "cell_type": "markdown",
   "metadata": {
    "slideshow": {
     "slide_type": "slide"
    }
   },
   "source": [
    "# Para llevar "
   ]
  },
  {
   "cell_type": "markdown",
   "metadata": {
    "slideshow": {
     "slide_type": "fragment"
    }
   },
   "source": [
    "## Resumen\n",
    "\n",
    "\n",
    "**Bucle for:** Sabemos cuántas veces exactas se repite el bucle.\n",
    "  \n",
    "**Bucle while:** Sabemos la condición que tiene que cumplirse para continuar la ejecución del bucle.\n",
    "\n",
    "**`break`:** Termina la ejecución de un bucle.\n",
    "\n",
    "**`continue`:** Salta a la siguiente iteración, ignorando el resto de la iteración actual."
   ]
  },
  {
   "cell_type": "markdown",
   "metadata": {
    "slideshow": {
     "slide_type": "slide"
    }
   },
   "source": [
    "## Resumen\n",
    "\n",
    "¿Para qué sirve un bucle? Si hay que ejecutar un comando, o varios comandos, varias veces, hay que evitar repetir los comandos. Es\n",
    "mejor usar un bucle que haga que los repita la máquina.\n",
    "\n",
    "**Recordad!** con los bucles while las variables involucradas en la condición del bucle deben cambiar dentro del bucle."
   ]
  },
  {
   "cell_type": "markdown",
   "metadata": {},
   "source": [
    "#### Ejercicio\n",
    "\n",
    "Escribe un programa que escriba todos los números del 0 al 8 excepto el 3 y el 6, usando continue \n"
   ]
  },
  {
   "cell_type": "code",
   "execution_count": 34,
   "metadata": {},
   "outputs": [
    {
     "name": "stdout",
     "output_type": "stream",
     "text": [
      "0\n",
      "1\n",
      "2\n",
      "4\n",
      "5\n",
      "7\n",
      "8\n"
     ]
    }
   ],
   "source": [
    "for n in range(9):\n",
    "    if n==3 or n==6:\n",
    "        continue\n",
    "    print(n)"
   ]
  },
  {
   "cell_type": "markdown",
   "metadata": {},
   "source": [
    "Recordad que cualquier patrón con `continue` se puede conseguir con un `if` bien diseñado, y normalmente quedará más legible."
   ]
  },
  {
   "cell_type": "code",
   "execution_count": 35,
   "metadata": {},
   "outputs": [
    {
     "name": "stdout",
     "output_type": "stream",
     "text": [
      "0\n",
      "1\n",
      "2\n",
      "4\n",
      "5\n",
      "7\n",
      "8\n"
     ]
    }
   ],
   "source": [
    "for n in range(9):\n",
    "    if n!=3 and n!=6:\n",
    "        print(n)"
   ]
  },
  {
   "cell_type": "markdown",
   "metadata": {},
   "source": [
    "#### Ejercicio\n",
    "\n",
    "FizzBuzz otra vez. Escribe un programa que, para cada número entre el 1 y el 20, escriba algo por pantalla. Si el número es divisible por 3, escribe por pantalla \"Fizz\". Si es divisible por 5, escribe \"Buzz\". A no ser que sea divisible por ambos, en cuyo caso escribe \"FizzBuzz\". En caso de que no sea divisible por ninguno, escribe el número.\n"
   ]
  },
  {
   "cell_type": "code",
   "execution_count": 36,
   "metadata": {},
   "outputs": [
    {
     "name": "stdout",
     "output_type": "stream",
     "text": [
      "1\n",
      "2\n",
      "Fizz\n",
      "4\n",
      "Buzz\n",
      "Fizz\n",
      "7\n",
      "8\n",
      "Fizz\n",
      "Buzz\n",
      "11\n",
      "Fizz\n",
      "13\n",
      "14\n",
      "FizzBuzz\n",
      "16\n",
      "17\n",
      "Fizz\n",
      "19\n",
      "Buzz\n"
     ]
    }
   ],
   "source": [
    "for n in range(1, 21):\n",
    "    if n % 5 == 0 and n % 3 == 0:\n",
    "        print('FizzBuzz')\n",
    "    elif n % 3 == 0:\n",
    "        print('Fizz')        \n",
    "    elif n % 5 == 0:\n",
    "        print('Buzz')\n",
    "    else:\n",
    "        print(n)"
   ]
  },
  {
   "cell_type": "code",
   "execution_count": 37,
   "metadata": {},
   "outputs": [
    {
     "name": "stdout",
     "output_type": "stream",
     "text": [
      "1\n",
      "2\n",
      "Fizz\n",
      "4\n",
      "Buzz\n",
      "Fizz\n",
      "7\n",
      "8\n",
      "Fizz\n",
      "Buzz\n",
      "11\n",
      "Fizz\n",
      "13\n",
      "14\n",
      "FizzBuzz\n",
      "16\n",
      "17\n",
      "Fizz\n",
      "19\n",
      "Buzz\n"
     ]
    }
   ],
   "source": [
    "for n in range(1, 21):\n",
    "    if n % 5 == 0 and n % 3 == 0:\n",
    "        print('FizzBuzz')\n",
    "        continue\n",
    "    if n % 3 == 0:\n",
    "        print('Fizz')        \n",
    "        continue\n",
    "    if n % 5 == 0:\n",
    "        print('Buzz')\n",
    "        continue\n",
    "\n",
    "    print(n)"
   ]
  },
  {
   "cell_type": "markdown",
   "metadata": {},
   "source": [
    "#### Ejercicio\n",
    "\n",
    "Escribe un programa que testee la validez de un nuevo password aplicando el siguiente criterio de complejidad:\n",
    "\n",
    "- Al menos una letra minúscula\n",
    "\n",
    "- Al menos una letra mayúscula\n",
    "\n",
    "- Al menos un dígito\n",
    "\n",
    "- Al menos un símbolo.\n",
    "\n",
    "- Longitud mínima 8 caracteres.\n",
    "\n",
    "Pista: recuerda mirar la [documentación oficial](https://docs.python.org/3/library/stdtypes.html#text-sequence-type-str)"
   ]
  },
  {
   "cell_type": "code",
   "execution_count": null,
   "metadata": {
    "collapsed": true
   },
   "outputs": [],
   "source": []
  },
  {
   "cell_type": "markdown",
   "metadata": {},
   "source": [
    "Hemos evaluado una condición booleana para fijar una variable booleana para cada uno de los tipos de carácter. Podríamos haberlo hecho en una sola línea. \n",
    "\n",
    "Necesitaremos usar `or` para no sobreescribir los valores anteriores. Si no combináramos `lower = lower or letter.islower()` sino que hiciéramos `lower = letter.islower()`, estaríamos sobreescribiendo el valor de `lower` en cada vuelta del bucle, con lo que al terminar el bucle nos quedaríamos con los valores de `lower`, `upper`, `digit` y `symbol` correspondientes exclusivamente _al último carácter_."
   ]
  },
  {
   "cell_type": "code",
   "execution_count": null,
   "metadata": {
    "collapsed": true
   },
   "outputs": [],
   "source": []
  },
  {
   "cell_type": "markdown",
   "metadata": {},
   "source": [
    "#### Ejercicio\n",
    "\n",
    "Escribe un programa que encuentre, de los números entre 100 y 200, aquellos compuestos enteramente de dígitos pares\n"
   ]
  },
  {
   "cell_type": "code",
   "execution_count": null,
   "metadata": {
    "collapsed": true
   },
   "outputs": [],
   "source": []
  },
  {
   "cell_type": "markdown",
   "metadata": {},
   "source": [
    "#### Ejercicio\n",
    "\n",
    "Escribe un programa que tome una lista de enteros separados por comas introducida por el usuario y calcule la suma de todos ellos y su media. Hazlo sin usar `sum()` ni `len()`.\n",
    "\n",
    "\n",
    "_Entrada de muestra_: \n",
    "```python\n",
    "1,3,5,4,3,8,22\n",
    "```\n",
    "_Salida de muestra_: \n",
    "```python\n",
    "La suma es 46 y la media 6.57\n",
    "```\n",
    "\n",
    "Pista: consulta los [métodos de str](https://docs.python.org/3/library/stdtypes.html#string-methods)"
   ]
  },
  {
   "cell_type": "code",
   "execution_count": null,
   "metadata": {
    "collapsed": true
   },
   "outputs": [],
   "source": []
  },
  {
   "cell_type": "markdown",
   "metadata": {},
   "source": [
    "#### Ejercicio\n",
    "\n",
    "Extiende el programa anterior para que también calcule la desviación estándar.\n"
   ]
  },
  {
   "cell_type": "code",
   "execution_count": null,
   "metadata": {
    "collapsed": true
   },
   "outputs": [],
   "source": []
  },
  {
   "cell_type": "markdown",
   "metadata": {},
   "source": [
    "#### Ejercicio\n",
    "\n",
    "Escribe un programa que le pida un número al usuario. Si el usuario introduce entrada no numérica, el programa sigue pidiendo hasta que el usuario introduce entrada correcta."
   ]
  },
  {
   "cell_type": "code",
   "execution_count": null,
   "metadata": {
    "collapsed": true
   },
   "outputs": [],
   "source": []
  },
  {
   "cell_type": "markdown",
   "metadata": {},
   "source": [
    "#### Ejercicio\n",
    "\n",
    "Escribe una funcion que itere sobre una string que le pasemos y devuelva otra formada solo por las letras pares\n",
    "\n",
    "#### Bonus:\n",
    "\n",
    "Escribela en dos versiones: usando un bucle for y otra con while, produciendo resultados identicos"
   ]
  },
  {
   "cell_type": "code",
   "execution_count": null,
   "metadata": {
    "collapsed": true
   },
   "outputs": [],
   "source": []
  }
 ],
 "metadata": {
  "anaconda-cloud": {},
  "celltoolbar": "Slideshow",
  "kernelspec": {
   "display_name": "Python 3",
   "language": "python",
   "name": "python3"
  },
  "language_info": {
   "codemirror_mode": {
    "name": "ipython",
    "version": 3
   },
   "file_extension": ".py",
   "mimetype": "text/x-python",
   "name": "python",
   "nbconvert_exporter": "python",
   "pygments_lexer": "ipython3",
   "version": "3.6.3"
  },
  "livereveal": {
   "scroll": true,
   "start_slideshow_at": "selected"
  }
 },
 "nbformat": 4,
 "nbformat_minor": 2
}
