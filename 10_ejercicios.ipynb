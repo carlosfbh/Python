{
 "cells": [
  {
   "cell_type": "markdown",
   "metadata": {},
   "source": [
    "# Ejercicios de iteracion, strings, funciones, bifurcaciones, colecciones\n",
    "\n",
    "\n",
    "<img src=\"https://www.python.org/static/img/python-logo.png\" alt=\"yogen\" style=\"width: 200px; float: right;\"/>\n",
    "<br>\n",
    "<br>\n",
    "<br>\n",
    "<a href = \"http://yogen.io\"><img src=\"http://yogen.io/assets/logo.svg\" alt=\"yogen\" style=\"width: 200px; float: right;\"/></a>"
   ]
  },
  {
   "cell_type": "markdown",
   "metadata": {},
   "source": [
    "#### Ejercicio\n",
    "\n",
    "Escribe una funcion que itere sobre una string que le pasemos y devuelva otra formada solo por las letras pares."
   ]
  },
  {
   "cell_type": "code",
   "execution_count": 61,
   "metadata": {
    "collapsed": true
   },
   "outputs": [],
   "source": [
    "def letras_pares(string):\n",
    "\n",
    "    salida = \"\"\n",
    "\n",
    "    for index, element in enumerate(string):\n",
    "        if index % 2 == 1:\n",
    "            salida = salida + element\n",
    "\n",
    "    return salida"
   ]
  },
  {
   "cell_type": "code",
   "execution_count": 63,
   "metadata": {},
   "outputs": [
    {
     "data": {
      "text/plain": [
       "'bsnad'"
      ]
     },
     "execution_count": 63,
     "metadata": {},
     "output_type": "execute_result"
    }
   ],
   "source": [
    "letras_pares(\"abasdnrasdf\")"
   ]
  },
  {
   "cell_type": "markdown",
   "metadata": {},
   "source": [
    "#### Bonus:\n",
    "\n",
    "Escribela de otra manera: con un bucle `for` o con una list comprehension"
   ]
  },
  {
   "cell_type": "code",
   "execution_count": 58,
   "metadata": {
    "collapsed": true
   },
   "outputs": [],
   "source": [
    "def even_characters_of(string):\n",
    "         \n",
    "    return \"\".join([element for index, element in enumerate(string) if index % 2 == 1])"
   ]
  },
  {
   "cell_type": "code",
   "execution_count": 59,
   "metadata": {},
   "outputs": [
    {
     "data": {
      "text/plain": [
       "'bsrsf'"
      ]
     },
     "execution_count": 59,
     "metadata": {},
     "output_type": "execute_result"
    }
   ],
   "source": [
    "even_characters_of(\"abasdrasdf\")"
   ]
  },
  {
   "cell_type": "markdown",
   "metadata": {},
   "source": [
    "#### Ejercicio\n",
    "\n",
    "Escribe una funcion que devuelve todos los números cuyos digitos sean todos pares entre dos números que reciba como argumentos, estos números inclusive.\n",
    "\n",
    "\n",
    "Entrada de muestra\n",
    "\n",
    "```python\n",
    "10, 24\n",
    "```\n",
    "Salida de muestra\n",
    "```python\n",
    "20, 22, 24\n",
    "```\n",
    "\n",
    "Entrada de muestra\n",
    "\n",
    "```python\n",
    "150, 209\n",
    "```\n",
    "Salida de muestra\n",
    "```python\n",
    "200, 202, 204, 206, 208\n",
    "```"
   ]
  },
  {
   "cell_type": "code",
   "execution_count": 54,
   "metadata": {
    "collapsed": true
   },
   "outputs": [],
   "source": [
    "def digitos_pares(num1, num2):\n",
    "    \n",
    "    contador = 0\n",
    "    salida = []\n",
    "    \n",
    "    for numero in range(num1, num2+1):\n",
    "        \n",
    "        for digito in str(numero):\n",
    "            \n",
    "            if int(digito) % 2 == 0:\n",
    "                contador = contador + 1\n",
    "            \n",
    "            else:\n",
    "                contador = 0\n",
    "                \n",
    "            if contador == len(str(numero)):\n",
    "                salida.append(numero)\n",
    "    \n",
    "    return salida"
   ]
  },
  {
   "cell_type": "code",
   "execution_count": 60,
   "metadata": {},
   "outputs": [
    {
     "data": {
      "text/plain": [
       "[200, 202, 204, 206, 208]"
      ]
     },
     "execution_count": 60,
     "metadata": {},
     "output_type": "execute_result"
    }
   ],
   "source": [
    "digitos_pares(150, 209)"
   ]
  },
  {
   "cell_type": "code",
   "execution_count": 70,
   "metadata": {
    "collapsed": true
   },
   "outputs": [],
   "source": [
    "def even_digit_numbers(number_a, number_b):\n",
    "    \n",
    "    result = []\n",
    "    for number in range(number_a, number_b + 1):\n",
    "        if all_digits_even(number):\n",
    "            result.append(number)\n",
    "            \n",
    "    return result\n",
    "\n",
    "def all_digits_even(number):\n",
    "    \n",
    "    for digit in str(number):\n",
    "        if int(digit) % 2 != 0:\n",
    "            return False\n",
    "    \n",
    "    return True"
   ]
  },
  {
   "cell_type": "code",
   "execution_count": 73,
   "metadata": {},
   "outputs": [
    {
     "data": {
      "text/plain": [
       "[200, 202, 204, 206, 208]"
      ]
     },
     "execution_count": 73,
     "metadata": {},
     "output_type": "execute_result"
    }
   ],
   "source": [
    "list(filter(all_digits_even, range(150, 209 + 1)))"
   ]
  },
  {
   "cell_type": "code",
   "execution_count": 71,
   "metadata": {},
   "outputs": [
    {
     "data": {
      "text/plain": [
       "[200, 202, 204, 206, 208]"
      ]
     },
     "execution_count": 71,
     "metadata": {},
     "output_type": "execute_result"
    }
   ],
   "source": [
    "even_digit_numbers(150, 209)"
   ]
  },
  {
   "cell_type": "markdown",
   "metadata": {},
   "source": [
    "#### Ejercicio: \n",
    "\n",
    "Escribe una funcion `is_palindrome` que compruebe si una string que le pasamos es un palíndromo"
   ]
  },
  {
   "cell_type": "code",
   "execution_count": 90,
   "metadata": {
    "collapsed": true
   },
   "outputs": [],
   "source": [
    "def is_palindrome(string):\n",
    "    \n",
    "    return string == string[::-1]\n",
    "\n",
    "assert(is_palindrome(\"abba\")) == True\n",
    "assert(is_palindrome(\"abc\")) == False\n",
    "assert(is_palindrome(\"tocoto\")) == False\n",
    "assert(is_palindrome(\"\")) == True\n",
    "assert(is_palindrome(\"tocot\")) == True"
   ]
  },
  {
   "cell_type": "code",
   "execution_count": 91,
   "metadata": {},
   "outputs": [
    {
     "data": {
      "text/plain": [
       "True"
      ]
     },
     "execution_count": 91,
     "metadata": {},
     "output_type": "execute_result"
    }
   ],
   "source": [
    "is_palindrome(\"abba\")"
   ]
  },
  {
   "cell_type": "markdown",
   "metadata": {},
   "source": [
    "#### Bonus\n",
    "\n",
    "las strings se pueden *slicear* con un tercer indice, que representa el paso. Sabiendo esto y que dejar indices vacios al *slicear* representa coger hasta el extremo, escribe una version de `is_palindrome` en una linea."
   ]
  },
  {
   "cell_type": "code",
   "execution_count": null,
   "metadata": {
    "collapsed": true
   },
   "outputs": [],
   "source": []
  },
  {
   "cell_type": "markdown",
   "metadata": {},
   "source": [
    "#### Ejercicio\n",
    "\n",
    "Escribe un programa que ordene lexicograficamente una string. Es decir, que haga lo mismo que `sorted(string)`. No uses `sorted(string)`!!"
   ]
  },
  {
   "cell_type": "code",
   "execution_count": 120,
   "metadata": {
    "collapsed": true
   },
   "outputs": [],
   "source": [
    "def ordenar(string):\n",
    "    \n",
    "    result = [\"\"]\n",
    "    \n",
    "    for letter in string:\n",
    "        insert_point = len(string)\n",
    "        \n",
    "        for result_letter in result:\n",
    "            \n",
    "            if letter < result_letter:\n",
    "                insert_point = result.index(result_letter)\n",
    "                break\n",
    "                \n",
    "        result.insert(insert_point, letter)    \n",
    "    \n",
    "    ordered = \"\".join(result)\n",
    "    return ordered\n",
    "        \n",
    "assert(ordenar(\"abba\") == \"aabb\")\n",
    "assert(ordenar(\"oaisu\") == \"aiosu\") \n",
    "assert(ordenar(\"aaa\") == \"aaa\") \n",
    "assert(ordenar(\"\") == \"\") \n",
    "assert(ordenar(\"poxasx\") == \"aopsxx\") "
   ]
  },
  {
   "cell_type": "code",
   "execution_count": 121,
   "metadata": {},
   "outputs": [
    {
     "data": {
      "text/plain": [
       "'aabb'"
      ]
     },
     "execution_count": 121,
     "metadata": {},
     "output_type": "execute_result"
    }
   ],
   "source": [
    "ordenar(\"abba\")"
   ]
  },
  {
   "cell_type": "code",
   "execution_count": 126,
   "metadata": {
    "collapsed": true
   },
   "outputs": [],
   "source": [
    "def ordenar(string):\n",
    "    \n",
    "    characters = list(string)\n",
    "    result = \"\"\n",
    "    \n",
    "    for n in range(len(string)):\n",
    "        letter_to_place = min(characters)\n",
    "        result += letter_to_place\n",
    "        characters.pop(characters.index(letter_to_place))\n",
    "        \n",
    "    return result\n",
    "    \n",
    "assert(ordenar(\"abba\") == \"aabb\")\n",
    "assert(ordenar(\"oaisu\") == \"aiosu\") \n",
    "assert(ordenar(\"aaa\") == \"aaa\") \n",
    "assert(ordenar(\"\") == \"\") \n",
    "assert(ordenar(\"poxasx\") == \"aopsxx\") "
   ]
  },
  {
   "cell_type": "code",
   "execution_count": 125,
   "metadata": {},
   "outputs": [
    {
     "data": {
      "text/plain": [
       "'adffijjlsv'"
      ]
     },
     "execution_count": 125,
     "metadata": {},
     "output_type": "execute_result"
    }
   ],
   "source": [
    "ordenar(\"vjafljdsif\")"
   ]
  },
  {
   "cell_type": "markdown",
   "metadata": {},
   "source": [
    "#### Ejercicio\n",
    "\n",
    "escribe un programa que ordene lexicograficamente una lista de strings. Cuanto se parece al anterior?"
   ]
  },
  {
   "cell_type": "code",
   "execution_count": 94,
   "metadata": {},
   "outputs": [
    {
     "data": {
      "text/plain": [
       "True"
      ]
     },
     "execution_count": 94,
     "metadata": {},
     "output_type": "execute_result"
    }
   ],
   "source": [
    "\"a\"<\"b\""
   ]
  },
  {
   "cell_type": "markdown",
   "metadata": {},
   "source": [
    "#### Ejercicio\n",
    "\n",
    "El teorema de los infinitos monos:\n",
    "\n",
    "Cuanto tiempo tardaria un mono con maquina de escribir en generar el Quijote? o mejor, simplemente la frase \"en un lugar de la mancha de cuyo nombre no quiero acordarme\"\n",
    "\n",
    "Como los monos son caros y huelen, vamos a probar cuantas strings aleatorias de la longitud apropiada hace falta generar hasta encontrar la buena! Ademas, vamos a puntuar cada intento con cuanto se parece a la correcta, y vamos a mostrar la mejor puntuacion obtenida hasta ahora y la string en concreto, cada mil intentos. Por ultimo, retornaremos el numero de intentos que hemos necesitado."
   ]
  },
  {
   "cell_type": "code",
   "execution_count": 509,
   "metadata": {
    "collapsed": true
   },
   "outputs": [],
   "source": [
    "def infinitos_monos(string, intentos):\n",
    "    \n",
    "    mejor_string_mono = \"\"\n",
    "    mejor_puntuacion = 0\n",
    "    contador = 0\n",
    "    string_mono = random_string(string)[0]\n",
    "    puntuacion = random_string(string)[1]\n",
    "    \n",
    "    while string_mono != string:\n",
    "        contador += 1\n",
    "\n",
    "        if puntuacion > mejor_puntuacion:\n",
    "            mejor_puntuacion = puntuacion\n",
    "            mejor_string_mono = string_mono\n",
    "            resultado = [mejor_string_mono, mejor_puntuacion]\n",
    "            \n",
    "        if contador == intentos:\n",
    "            break\n",
    "        \n",
    "        string_mono = random_string(string)[0]\n",
    "        puntuacion = random_string(string)[1]\n",
    "    \n",
    "    return resultado\n",
    "\n",
    "\n",
    "def random_string(string):\n",
    "    \n",
    "    alphabet = \"abcdefghijklmnopqrstuvwxyz \"\n",
    "    string_mono = \"\"\n",
    "    contador_letras_buenas = 0\n",
    "    \n",
    "    for i in range(0, len(string)):\n",
    "        string_mono += random.choice(string)\n",
    "        \n",
    "        if (string[i] == string_mono[i]):\n",
    "            contador_letras_buenas += 1\n",
    "        \n",
    "    puntuacion = (contador_letras_buenas / len(string)) * 100\n",
    "    \n",
    "    return string_mono, puntuacion"
   ]
  },
  {
   "cell_type": "code",
   "execution_count": 522,
   "metadata": {},
   "outputs": [
    {
     "data": {
      "text/plain": [
       "['addyrnooommaeuna qdi  aoecn e dleuri eno   mulddbae c cgruc',\n",
       " 23.728813559322035]"
      ]
     },
     "execution_count": 522,
     "metadata": {},
     "output_type": "execute_result"
    }
   ],
   "source": [
    "import random\n",
    "string = \"en un lugar de la mancha de cuyo nombre no quiero acordarme\"\n",
    "infinitos_monos(string, 10000)"
   ]
  },
  {
   "cell_type": "markdown",
   "metadata": {},
   "source": [
    "Pistas:\n",
    "\n",
    "* el modulo random tiene funciones que nos pueden interesar\n",
    "* Recordad el *top down approach*! dividid en subproblemas simples, que representen fracciones logicas del problema original y que podamos reutilizar."
   ]
  },
  {
   "cell_type": "markdown",
   "metadata": {},
   "source": [
    "#### Bonus:\n",
    "\n",
    "Modifica el programa de forma que conserve las letras correctas y solo intente cambiar una letra que no coincida con el objetivo: esto es lo que se llama un *hill climbing algorithm*"
   ]
  },
  {
   "cell_type": "code",
   "execution_count": 4,
   "metadata": {
    "collapsed": true
   },
   "outputs": [],
   "source": [
    "def smart_mono(string):\n",
    "    \n",
    "    alphabet = \"abcdefghijklmnopqrstuvwxyz \"\n",
    "    string_mono = [\"\"]\n",
    "    intentos = 0\n",
    "        \n",
    "    for i in range(0, len(string)):\n",
    "        string_mono.insert(i, random.choice(alphabet))\n",
    "        \n",
    "        while string_mono[i] != string[i]:\n",
    "            string_mono[i] = random.choice(alphabet)\n",
    "            intentos += 1\n",
    "    \n",
    "    string_mono = \"\".join(string_mono)\n",
    "    \n",
    "    return string_mono, intentos"
   ]
  },
  {
   "cell_type": "code",
   "execution_count": 29,
   "metadata": {
    "collapsed": true
   },
   "outputs": [],
   "source": [
    "import random\n",
    "string = \"en un lugar de la mancha de cuyo nombre no quiero acordarme\"\n",
    "\n",
    "list = []\n",
    "for n in range(1000):\n",
    "    list.insert(n, smart_mono(string)[1])\n",
    "    \n",
    "list = sorted(list)"
   ]
  },
  {
   "cell_type": "code",
   "execution_count": 30,
   "metadata": {},
   "outputs": [
    {
     "name": "stdout",
     "output_type": "stream",
     "text": [
      "1531.1581\n",
      "203.09903699001782\n"
     ]
    }
   ],
   "source": [
    "import statistics as stats\n",
    "print(stats.mean(list))\n",
    "print(stats.stdev(list)) "
   ]
  },
  {
   "cell_type": "markdown",
   "metadata": {},
   "source": [
    "#### Bonus II\n",
    "\n",
    "Haz un programa que compare los dos anteriores: queremos saber que aproximacion necesita menos intentos *de media*, de modo que necesitaremos correr cada uno de los anteriores un numero n de veces y calcular la media y la desviacion estandar de ambos."
   ]
  },
  {
   "cell_type": "code",
   "execution_count": null,
   "metadata": {
    "collapsed": true
   },
   "outputs": [],
   "source": []
  },
  {
   "cell_type": "markdown",
   "metadata": {},
   "source": [
    "#### Ejercicio\n",
    "\n",
    "Escribe una funcion que tome como entrada tres variables y devuelva la mayor de las tres. No uses la funcion `max()`!"
   ]
  },
  {
   "cell_type": "code",
   "execution_count": 138,
   "metadata": {
    "collapsed": true
   },
   "outputs": [],
   "source": [
    "def max_of(a, b, c):\n",
    "    \n",
    "    if a >= b and a >= c:\n",
    "        result = a\n",
    "    elif b >= c:\n",
    "        result = b\n",
    "    else:\n",
    "        result = c\n",
    "    \n",
    "    return result\n",
    "\n",
    "assert(max_of(1,2,3) == 3)\n",
    "assert(max_of(1,1,5) == 5)\n",
    "assert(max_of(10,10,8) == 10)\n",
    "assert(max_of(4,4,3) == 4)\n",
    "assert(max_of(0,0,1) == 1)"
   ]
  },
  {
   "cell_type": "code",
   "execution_count": 136,
   "metadata": {},
   "outputs": [
    {
     "data": {
      "text/plain": [
       "0"
      ]
     },
     "execution_count": 136,
     "metadata": {},
     "output_type": "execute_result"
    }
   ],
   "source": [
    "max_of(0, 0, 0)"
   ]
  },
  {
   "cell_type": "markdown",
   "metadata": {},
   "source": [
    "#### Ejercicio\n",
    "\n",
    "Escribe una funcion que tome un string y devuelva `True` si la string es \"yes\", \"YES\", \"Yes\", \"Y\", o \"y\". En caso contrario, debe devolver `False`"
   ]
  },
  {
   "cell_type": "code",
   "execution_count": 166,
   "metadata": {
    "collapsed": true
   },
   "outputs": [],
   "source": [
    "def is_yes(string):\n",
    "    \n",
    "    return string in [\"yes\", \"YES\", \"Yes\", \"Y\", \"y\"]"
   ]
  },
  {
   "cell_type": "code",
   "execution_count": 167,
   "metadata": {},
   "outputs": [
    {
     "data": {
      "text/plain": [
       "True"
      ]
     },
     "execution_count": 167,
     "metadata": {},
     "output_type": "execute_result"
    }
   ],
   "source": [
    "is_yes(\"yes\")"
   ]
  },
  {
   "cell_type": "markdown",
   "metadata": {},
   "source": [
    "#### Ejercicio\n",
    "\n",
    "Escribe una funcion que acepte una string y devuelva el numero de letras mayusculas y minusculas"
   ]
  },
  {
   "cell_type": "code",
   "execution_count": null,
   "metadata": {
    "collapsed": true
   },
   "outputs": [],
   "source": []
  },
  {
   "cell_type": "markdown",
   "metadata": {},
   "source": [
    "#### Ejercicio\n",
    "\n",
    "Escribe una funcion que genere y retorne un diccionario cuyas claves sean las letras del alfabeto y los valores sean el número de esa letra en el alfabeto"
   ]
  },
  {
   "cell_type": "code",
   "execution_count": 3,
   "metadata": {
    "collapsed": true
   },
   "outputs": [],
   "source": [
    "def mi_diccionario():\n",
    "    \n",
    "    alphabet = \"abcdefghijklmnopqrstuvwxyz\"\n",
    "    diccionario = {}\n",
    "    \n",
    "    for index, letter in enumerate(alphabet):\n",
    "        diccionario[letter.upper()] = index + 10\n",
    "        \n",
    "    return diccionario"
   ]
  },
  {
   "cell_type": "code",
   "execution_count": 4,
   "metadata": {},
   "outputs": [
    {
     "data": {
      "text/plain": [
       "{'A': 10,\n",
       " 'B': 11,\n",
       " 'C': 12,\n",
       " 'D': 13,\n",
       " 'E': 14,\n",
       " 'F': 15,\n",
       " 'G': 16,\n",
       " 'H': 17,\n",
       " 'I': 18,\n",
       " 'J': 19,\n",
       " 'K': 20,\n",
       " 'L': 21,\n",
       " 'M': 22,\n",
       " 'N': 23,\n",
       " 'O': 24,\n",
       " 'P': 25,\n",
       " 'Q': 26,\n",
       " 'R': 27,\n",
       " 'S': 28,\n",
       " 'T': 29,\n",
       " 'U': 30,\n",
       " 'V': 31,\n",
       " 'W': 32,\n",
       " 'X': 33,\n",
       " 'Y': 34,\n",
       " 'Z': 35}"
      ]
     },
     "execution_count": 4,
     "metadata": {},
     "output_type": "execute_result"
    }
   ],
   "source": [
    "mi_diccionario()"
   ]
  },
  {
   "cell_type": "code",
   "execution_count": 177,
   "metadata": {},
   "outputs": [
    {
     "data": {
      "text/plain": [
       "{'a': 0,\n",
       " 'b': 1,\n",
       " 'c': 2,\n",
       " 'd': 3,\n",
       " 'e': 4,\n",
       " 'f': 5,\n",
       " 'g': 6,\n",
       " 'h': 7,\n",
       " 'i': 8,\n",
       " 'j': 9,\n",
       " 'k': 10,\n",
       " 'l': 11,\n",
       " 'm': 12,\n",
       " 'n': 13,\n",
       " 'o': 14,\n",
       " 'p': 15,\n",
       " 'q': 16,\n",
       " 'r': 17,\n",
       " 's': 18,\n",
       " 't': 19,\n",
       " 'u': 20,\n",
       " 'v': 21,\n",
       " 'w': 22,\n",
       " 'x': 23,\n",
       " 'y': 24,\n",
       " 'z': 25}"
      ]
     },
     "execution_count": 177,
     "metadata": {},
     "output_type": "execute_result"
    }
   ],
   "source": [
    "{letter: index for index, letter in enumerate(\"abcdefghijklmnopqrstuvwxyz\")}"
   ]
  },
  {
   "cell_type": "code",
   "execution_count": 175,
   "metadata": {},
   "outputs": [
    {
     "data": {
      "text/plain": [
       "{'a': 1,\n",
       " 'b': 2,\n",
       " 'c': 3,\n",
       " 'd': 4,\n",
       " 'e': 5,\n",
       " 'f': 6,\n",
       " 'g': 7,\n",
       " 'h': 8,\n",
       " 'i': 9,\n",
       " 'j': 10,\n",
       " 'k': 11,\n",
       " 'l': 12,\n",
       " 'm': 13,\n",
       " 'n': 14,\n",
       " 'o': 15,\n",
       " 'p': 16,\n",
       " 'q': 17,\n",
       " 'r': 18,\n",
       " 's': 19,\n",
       " 't': 20,\n",
       " 'u': 21,\n",
       " 'v': 22,\n",
       " 'w': 23,\n",
       " 'x': 24,\n",
       " 'y': 25,\n",
       " 'z': 26}"
      ]
     },
     "execution_count": 175,
     "metadata": {},
     "output_type": "execute_result"
    }
   ],
   "source": [
    "mi_diccionario()"
   ]
  },
  {
   "cell_type": "markdown",
   "metadata": {},
   "source": [
    "#### Ejercicio\n",
    "\n",
    "Implementa el operador in para listas. Es decir, escribe una funcion que tome una lista y un valor escalar como argumentos y devuelva un booleano: True si el elemento estaba en la lista y False si no estaba. No uses in, si no el ejercicio no tiene sentido!"
   ]
  },
  {
   "cell_type": "code",
   "execution_count": null,
   "metadata": {
    "collapsed": true
   },
   "outputs": [],
   "source": []
  },
  {
   "cell_type": "markdown",
   "metadata": {},
   "source": [
    "#### Ejercicio\n",
    "\n",
    "Escribe una funcion que tome una lista de numeros y devuelva una nueva lista que contenga solo el primer y ultimo elementos de la lista de entrada."
   ]
  },
  {
   "cell_type": "code",
   "execution_count": null,
   "metadata": {
    "collapsed": true
   },
   "outputs": [],
   "source": []
  },
  {
   "cell_type": "markdown",
   "metadata": {},
   "source": [
    "#### Ejercicio\n",
    "\n",
    "Escribe un problema que resuelva un viejo acertijo: si cuento 35 cabezas y 94 piernas entre los conejos y pollos de mi granja, cuantos conejos tengo? Hazlo iterando sobre las posibles soluciones, no resuelvas el sistema de ecuaciones!"
   ]
  },
  {
   "cell_type": "code",
   "execution_count": null,
   "metadata": {
    "collapsed": true
   },
   "outputs": [],
   "source": []
  },
  {
   "cell_type": "markdown",
   "metadata": {},
   "source": [
    "#### Ejercicio\n",
    "\n",
    "Implementa el metodo .count(x) de list. Puedes encontrar su definicion en https://docs.python.org/3/tutorial/datastructures.html. No uses el propio metodo, sino el ejercicio no tiene sentido!\n"
   ]
  },
  {
   "cell_type": "code",
   "execution_count": null,
   "metadata": {
    "collapsed": true
   },
   "outputs": [],
   "source": []
  },
  {
   "cell_type": "markdown",
   "metadata": {},
   "source": [
    "#### Ejercicio\n",
    "\n",
    "\n",
    "Implementa el metodo .reverse() de list. Puedes encontrar su definicion en https://docs.python.org/3/tutorial/datastructures.html. No uses el propio metodo, si no el ejercicio no tiene sentido!"
   ]
  },
  {
   "cell_type": "code",
   "execution_count": null,
   "metadata": {
    "collapsed": true
   },
   "outputs": [],
   "source": []
  },
  {
   "cell_type": "markdown",
   "metadata": {},
   "source": [
    "#### Ejercicio\n",
    "\n",
    "Implementa el metodo `.index(x)` de `list`. Puedes encontrar su definicion en https://docs.python.org/2/tutorial/datastructures.html. No uses el propio metodo, si no el ejercicio no tiene sentido!"
   ]
  },
  {
   "cell_type": "code",
   "execution_count": null,
   "metadata": {
    "collapsed": true
   },
   "outputs": [],
   "source": []
  },
  {
   "cell_type": "markdown",
   "metadata": {},
   "source": [
    "#### Ejercicio\n",
    "\n",
    "Implementa el metodo .insert(i, x) de list. Puedes encontrar su definicion en https://docs.python.org/2/tutorial/datastructures.html. No uses el propio metodo, si no el ejercicio no tiene sentido!"
   ]
  },
  {
   "cell_type": "code",
   "execution_count": null,
   "metadata": {
    "collapsed": true
   },
   "outputs": [],
   "source": []
  },
  {
   "cell_type": "markdown",
   "metadata": {},
   "source": [
    "#### Ejercicio\n",
    "\n",
    "El teorema de Euclides afirma que el maximo comun divisor de m y n es n si n es divisor de m. Si no lo es, el maximo comun divisor de m y n es el maximo comun divisor de n y el resto de m dividido por n. Implementa el teorema de Euclides con una funcion recursiva."
   ]
  },
  {
   "cell_type": "code",
   "execution_count": null,
   "metadata": {
    "collapsed": true
   },
   "outputs": [],
   "source": []
  },
  {
   "cell_type": "code",
   "execution_count": null,
   "metadata": {
    "collapsed": true
   },
   "outputs": [],
   "source": []
  },
  {
   "cell_type": "code",
   "execution_count": 89,
   "metadata": {},
   "outputs": [
    {
     "name": "stdout",
     "output_type": "stream",
     "text": [
      "Example:\n",
      "Helloworld\n"
     ]
    },
    {
     "ename": "AssertionError",
     "evalue": "",
     "output_type": "error",
     "traceback": [
      "\u001b[1;31m---------------------------------------------------------------------------\u001b[0m",
      "\u001b[1;31mAssertionError\u001b[0m                            Traceback (most recent call last)",
      "\u001b[1;32m<ipython-input-89-b15dc3c460ac>\u001b[0m in \u001b[0;36m<module>\u001b[1;34m()\u001b[0m\n\u001b[0;32m     24\u001b[0m \u001b[1;33m\u001b[0m\u001b[0m\n\u001b[0;32m     25\u001b[0m \u001b[1;31m#     These \"asserts\" are used for self-checking and not for an auto-testing\u001b[0m\u001b[1;33m\u001b[0m\u001b[1;33m\u001b[0m\u001b[0m\n\u001b[1;32m---> 26\u001b[1;33m     \u001b[1;32massert\u001b[0m \u001b[0mfirst_word\u001b[0m\u001b[1;33m(\u001b[0m\u001b[1;34m\"Hello world\"\u001b[0m\u001b[1;33m)\u001b[0m \u001b[1;33m==\u001b[0m \u001b[1;34m\"Hello\"\u001b[0m\u001b[1;33m\u001b[0m\u001b[0m\n\u001b[0m\u001b[0;32m     27\u001b[0m     \u001b[1;32massert\u001b[0m \u001b[0mfirst_word\u001b[0m\u001b[1;33m(\u001b[0m\u001b[1;34m\" a word \"\u001b[0m\u001b[1;33m)\u001b[0m \u001b[1;33m==\u001b[0m \u001b[1;34m\"a\"\u001b[0m\u001b[1;33m\u001b[0m\u001b[0m\n\u001b[0;32m     28\u001b[0m     \u001b[1;32massert\u001b[0m \u001b[0mfirst_word\u001b[0m\u001b[1;33m(\u001b[0m\u001b[1;34m\"don't touch it\"\u001b[0m\u001b[1;33m)\u001b[0m \u001b[1;33m==\u001b[0m \u001b[1;34m\"don't\"\u001b[0m\u001b[1;33m\u001b[0m\u001b[0m\n",
      "\u001b[1;31mAssertionError\u001b[0m: "
     ]
    }
   ],
   "source": [
    "def first_word(text: str) -> str:\n",
    "    \"\"\"\n",
    "        returns the first word in a given text.\n",
    "    \"\"\"\n",
    "    # your code here\n",
    "    \n",
    "    result = \"\"\n",
    "    \n",
    "    for index, character in enumerate(text):\n",
    "        \n",
    "        if character.isalpha():\n",
    "            result = result + character\n",
    "            \n",
    "        elif character == \"'\":\n",
    "            result = result + character\n",
    "        \n",
    "    return result\n",
    "\n",
    "if __name__ == '__main__':\n",
    "    print(\"Example:\")\n",
    "    print(first_word(\"Hello world\"))\n",
    "    \n",
    "#     These \"asserts\" are used for self-checking and not for an auto-testing\n",
    "    assert first_word(\"Hello world\") == \"Hello\"\n",
    "    assert first_word(\" a word \") == \"a\"\n",
    "    assert first_word(\"don't touch it\") == \"don't\"\n",
    "    assert first_word(\"greetings, friends\") == \"greetings\"\n",
    "    assert first_word(\"... and so on ...\") == \"and\"\n",
    "    assert first_word(\"hi\") == \"hi\"\n",
    "    print(\"Coding complete? Click 'Check' to earn cool rewards!\")"
   ]
  },
  {
   "cell_type": "code",
   "execution_count": 90,
   "metadata": {},
   "outputs": [
    {
     "data": {
      "text/plain": [
       "\"don't\""
      ]
     },
     "execution_count": 90,
     "metadata": {},
     "output_type": "execute_result"
    }
   ],
   "source": [
    "first_word(\"don't\")"
   ]
  },
  {
   "cell_type": "code",
   "execution_count": 77,
   "metadata": {
    "collapsed": true
   },
   "outputs": [],
   "source": [
    "text=\"6\""
   ]
  },
  {
   "cell_type": "code",
   "execution_count": 67,
   "metadata": {},
   "outputs": [
    {
     "name": "stdout",
     "output_type": "stream",
     "text": [
      "True\n",
      "False\n",
      "True\n",
      "False\n",
      "True\n",
      "False\n"
     ]
    }
   ],
   "source": [
    "print(text.isalnum())\n",
    "print(text.isalpha())\n",
    "print(text.isdecimal())\n",
    "print(text.isidentifier())\n",
    "print(text.isnumeric())\n",
    "print(text.isspace())"
   ]
  },
  {
   "cell_type": "code",
   "execution_count": 38,
   "metadata": {
    "collapsed": true
   },
   "outputs": [],
   "source": []
  },
  {
   "cell_type": "code",
   "execution_count": 51,
   "metadata": {},
   "outputs": [
    {
     "name": "stdout",
     "output_type": "stream",
     "text": [
      "0\n",
      "1\n",
      "2\n",
      "3\n",
      "4\n",
      "5\n",
      "6\n",
      "7\n",
      "8\n",
      "9\n",
      "10\n",
      "11\n",
      "12\n",
      "13\n"
     ]
    }
   ],
   "source": [
    "text = \"adsfda gh adfa\"\n",
    "for index in range(len(text)):\n",
    "    print(index)"
   ]
  },
  {
   "cell_type": "code",
   "execution_count": 40,
   "metadata": {},
   "outputs": [
    {
     "data": {
      "text/plain": [
       "9"
      ]
     },
     "execution_count": 40,
     "metadata": {},
     "output_type": "execute_result"
    }
   ],
   "source": [
    "text.find(\" \",7)"
   ]
  },
  {
   "cell_type": "code",
   "execution_count": 42,
   "metadata": {},
   "outputs": [
    {
     "data": {
      "text/plain": [
       "'gh'"
      ]
     },
     "execution_count": 42,
     "metadata": {},
     "output_type": "execute_result"
    }
   ],
   "source": [
    "text[7:9]"
   ]
  },
  {
   "cell_type": "code",
   "execution_count": 93,
   "metadata": {},
   "outputs": [
    {
     "data": {
      "text/plain": [
       "0"
      ]
     },
     "execution_count": 93,
     "metadata": {},
     "output_type": "execute_result"
    }
   ],
   "source": [
    "text=\"abcd\"\n",
    "text.index(\"a\")"
   ]
  },
  {
   "cell_type": "code",
   "execution_count": 102,
   "metadata": {},
   "outputs": [
    {
     "name": "stdout",
     "output_type": "stream",
     "text": [
      "0 f 0\n",
      "1 i 0\n",
      "2 n 0\n",
      "3 d 0\n",
      "4   0\n",
      "5 t 0\n",
      "6 h 0\n",
      "7 e 1\n",
      "8   1\n",
      "9 r 1\n",
      "10 i 1\n",
      "11 v 1\n",
      "12 e 2\n",
      "13 r 2\n"
     ]
    },
    {
     "data": {
      "text/plain": [
       "13"
      ]
     },
     "execution_count": 102,
     "metadata": {},
     "output_type": "execute_result"
    }
   ],
   "source": [
    "string= \"find the river\"\n",
    "letter = \"e\"\n",
    "\n",
    "contador = 0\n",
    "\n",
    "for index, a in enumerate(string):\n",
    "    \n",
    "    if a == letter:\n",
    "        contador += 1\n",
    "        \n",
    "    if contador == 2:\n",
    "        result = index\n",
    "        \n",
    "    else:\n",
    "        result = None\n",
    "    print(index,a,contador)  \n",
    "result"
   ]
  },
  {
   "cell_type": "code",
   "execution_count": null,
   "metadata": {
    "collapsed": true
   },
   "outputs": [],
   "source": []
  },
  {
   "cell_type": "code",
   "execution_count": null,
   "metadata": {
    "collapsed": true
   },
   "outputs": [],
   "source": []
  }
 ],
 "metadata": {
  "kernelspec": {
   "display_name": "Python 3",
   "language": "python",
   "name": "python3"
  },
  "language_info": {
   "codemirror_mode": {
    "name": "ipython",
    "version": 3
   },
   "file_extension": ".py",
   "mimetype": "text/x-python",
   "name": "python",
   "nbconvert_exporter": "python",
   "pygments_lexer": "ipython3",
   "version": "3.6.3"
  }
 },
 "nbformat": 4,
 "nbformat_minor": 1
}
