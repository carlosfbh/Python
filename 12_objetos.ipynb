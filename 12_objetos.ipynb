{
 "cells": [
  {
   "cell_type": "markdown",
   "metadata": {
    "slideshow": {
     "slide_type": "slide"
    }
   },
   "source": [
    "# Programación orientada a objectos\n",
    "\n",
    "<img src=\"https://www.python.org/static/img/python-logo.png\" alt=\"yogen\" style=\"width: 200px; float: right;\"/>\n",
    "<br>\n",
    "<br>\n",
    "<br>\n",
    "<a href = \"http://yogen.io\"><img src=\"http://yogen.io/assets/logo.svg\" alt=\"yogen\" style=\"width: 200px; float: right;\"/></a>"
   ]
  },
  {
   "cell_type": "markdown",
   "metadata": {
    "slideshow": {
     "slide_type": "slide"
    }
   },
   "source": [
    "# Objetivos\n",
    "\n",
    "- Entender de dónde salen los métodos que hemos venido usando, por ejemplo en `str`.\n",
    "\n",
    "- Ser capaces de definir objetos de software para simplificar nuestros diseños.\n",
    "\n",
    "- Ser capaces de definir y modificar métodos especiales en nuestros objetos."
   ]
  },
  {
   "cell_type": "markdown",
   "metadata": {},
   "source": [
    "# Que es la programacion orientada a objectos?\n",
    "\n",
    "Es el paradigma de programacion dominante. \n",
    "\n",
    "Utiliza el *objeto de software* como elemento basico de construccion de los programas.\n",
    "\n",
    "Vamos a empezar con un ejemplo: escribimos una clase `Mascota`"
   ]
  },
  {
   "cell_type": "markdown",
   "metadata": {},
   "source": [
    "# *Clase* e *instancias*\n",
    "\n",
    "Una clase es la *receta* en la que definimos como construir *instancias*."
   ]
  },
  {
   "cell_type": "markdown",
   "metadata": {},
   "source": [
    "Sintaxis:\n",
    "```python\n",
    "class Name(object):\n",
    "    # Cuerpo de la clase\n",
    "    # ....\n",
    "```    "
   ]
  },
  {
   "cell_type": "code",
   "execution_count": 18,
   "metadata": {
    "collapsed": true
   },
   "outputs": [],
   "source": [
    "class Pet(object):\n",
    "    pass\n",
    "\n",
    "my_pet = Pet()"
   ]
  },
  {
   "cell_type": "markdown",
   "metadata": {},
   "source": [
    "Como deciamos antes, podemos pensar en la clase `Pet` como la receta para hacer mascotas. \n",
    "\n",
    "Podemos pensar en ella tambien como un *tipo* creado por nosotros."
   ]
  },
  {
   "cell_type": "code",
   "execution_count": 22,
   "metadata": {},
   "outputs": [
    {
     "data": {
      "text/plain": [
       "__main__.Pet"
      ]
     },
     "execution_count": 22,
     "metadata": {},
     "output_type": "execute_result"
    }
   ],
   "source": [
    "type(my_pet)"
   ]
  },
  {
   "cell_type": "markdown",
   "metadata": {},
   "source": [
    "En la linea superior, `__main__` representa el modulo en que esta definida la clase. No os preocupeis mucho por ello. Vamos a ver el ejemplo de un modulo escrito por otros:"
   ]
  },
  {
   "cell_type": "code",
   "execution_count": 26,
   "metadata": {},
   "outputs": [
    {
     "data": {
      "text/plain": [
       "datetime.date"
      ]
     },
     "execution_count": 26,
     "metadata": {},
     "output_type": "execute_result"
    }
   ],
   "source": [
    "from datetime import date\n",
    "\n",
    "happiest_day_on_earth = date(1984, 5, 23)\n",
    "type(happiest_day_on_earth)"
   ]
  },
  {
   "cell_type": "code",
   "execution_count": null,
   "metadata": {
    "collapsed": true
   },
   "outputs": [],
   "source": []
  },
  {
   "cell_type": "markdown",
   "metadata": {},
   "source": [
    "# Métodos y atributos\n",
    "\n",
    "Los atributos son *variables* ligadas a una instancia. Los métodos son *funciones* ligadas a una instancia. Cuando escribimos una clase, definimos nuestros propios metodos y atributos.\n",
    "\n",
    "Podemos tomar una instancia de cualquier clase y ver sus metodos con `dir()`, por ejemplo con una string. Los metodos que empiezan con `__` son los llamados [metodos magicos](http://www.rafekettler.com/magicmethods.html). No os preocupeis por ellos, hoy solo vamos a usar `__init__` y `__repr__`"
   ]
  },
  {
   "cell_type": "code",
   "execution_count": 1,
   "metadata": {},
   "outputs": [
    {
     "data": {
      "text/plain": [
       "['__add__',\n",
       " '__class__',\n",
       " '__contains__',\n",
       " '__delattr__',\n",
       " '__dir__',\n",
       " '__doc__',\n",
       " '__eq__',\n",
       " '__format__',\n",
       " '__ge__',\n",
       " '__getattribute__',\n",
       " '__getitem__',\n",
       " '__getnewargs__',\n",
       " '__gt__',\n",
       " '__hash__',\n",
       " '__init__',\n",
       " '__init_subclass__',\n",
       " '__iter__',\n",
       " '__le__',\n",
       " '__len__',\n",
       " '__lt__',\n",
       " '__mod__',\n",
       " '__mul__',\n",
       " '__ne__',\n",
       " '__new__',\n",
       " '__reduce__',\n",
       " '__reduce_ex__',\n",
       " '__repr__',\n",
       " '__rmod__',\n",
       " '__rmul__',\n",
       " '__setattr__',\n",
       " '__sizeof__',\n",
       " '__str__',\n",
       " '__subclasshook__',\n",
       " 'capitalize',\n",
       " 'casefold',\n",
       " 'center',\n",
       " 'count',\n",
       " 'encode',\n",
       " 'endswith',\n",
       " 'expandtabs',\n",
       " 'find',\n",
       " 'format',\n",
       " 'format_map',\n",
       " 'index',\n",
       " 'isalnum',\n",
       " 'isalpha',\n",
       " 'isdecimal',\n",
       " 'isdigit',\n",
       " 'isidentifier',\n",
       " 'islower',\n",
       " 'isnumeric',\n",
       " 'isprintable',\n",
       " 'isspace',\n",
       " 'istitle',\n",
       " 'isupper',\n",
       " 'join',\n",
       " 'ljust',\n",
       " 'lower',\n",
       " 'lstrip',\n",
       " 'maketrans',\n",
       " 'partition',\n",
       " 'replace',\n",
       " 'rfind',\n",
       " 'rindex',\n",
       " 'rjust',\n",
       " 'rpartition',\n",
       " 'rsplit',\n",
       " 'rstrip',\n",
       " 'split',\n",
       " 'splitlines',\n",
       " 'startswith',\n",
       " 'strip',\n",
       " 'swapcase',\n",
       " 'title',\n",
       " 'translate',\n",
       " 'upper',\n",
       " 'zfill']"
      ]
     },
     "execution_count": 1,
     "metadata": {},
     "output_type": "execute_result"
    }
   ],
   "source": [
    "dir(\"a wholly unremarkable string\")"
   ]
  },
  {
   "cell_type": "code",
   "execution_count": null,
   "metadata": {
    "collapsed": true
   },
   "outputs": [],
   "source": [
    "class Pet(object):\n",
    "    pass\n"
   ]
  },
  {
   "cell_type": "markdown",
   "metadata": {},
   "source": [
    "## El parametro `self`\n",
    "\n",
    "Es obligatorio en todos los metodos de instancia y se refiere a la propia instancia.\n",
    "\n",
    "Es lo que hace que podamos escribir \n",
    "\n",
    "```python\n",
    "\"a string\".upper()\n",
    "```\n",
    "Además de \n",
    "\n",
    "```python\n",
    "str.upper(\"a string\")\n",
    "```"
   ]
  },
  {
   "cell_type": "code",
   "execution_count": 6,
   "metadata": {},
   "outputs": [
    {
     "name": "stdout",
     "output_type": "stream",
     "text": [
      "<class '__main__.Pet'>\n",
      "Woof\n"
     ]
    }
   ],
   "source": [
    "class Pet(object):\n",
    "    def make_noise(self):\n",
    "        print(\"Woof\")\n",
    "        \n",
    "lassie = Pet()\n",
    "print(type(lassie))\n",
    "lassie.make_noise()"
   ]
  },
  {
   "cell_type": "code",
   "execution_count": 7,
   "metadata": {},
   "outputs": [
    {
     "name": "stdout",
     "output_type": "stream",
     "text": [
      "Woof\n"
     ]
    }
   ],
   "source": [
    "tweety = Pet()\n",
    "tweety.make_noise()"
   ]
  },
  {
   "cell_type": "markdown",
   "metadata": {},
   "source": [
    "## El metodo `__init__`\n",
    "\n",
    "Es al que python llama cuando creamos una instancia: el *constructor*. Es donde tenemos que poner la logica que cree los atributos, que crearemos como cualquier variable:"
   ]
  },
  {
   "cell_type": "code",
   "execution_count": 8,
   "metadata": {},
   "outputs": [
    {
     "name": "stdout",
     "output_type": "stream",
     "text": [
      "A pet has been born!\n"
     ]
    }
   ],
   "source": [
    "class Pet(object):\n",
    "    def __init__(self):\n",
    "        print(\"A pet has been born!\")\n",
    "    \n",
    "    def make_noise(self):\n",
    "        print(\"Woof\")\n",
    "\n",
    "lassie = Pet()  "
   ]
  },
  {
   "cell_type": "code",
   "execution_count": 9,
   "metadata": {},
   "outputs": [
    {
     "name": "stdout",
     "output_type": "stream",
     "text": [
      "A pet has been born!\n"
     ]
    }
   ],
   "source": [
    "tweety = Pet()"
   ]
  },
  {
   "cell_type": "code",
   "execution_count": 10,
   "metadata": {},
   "outputs": [
    {
     "data": {
      "text/plain": [
       "['__class__',\n",
       " '__delattr__',\n",
       " '__dict__',\n",
       " '__dir__',\n",
       " '__doc__',\n",
       " '__eq__',\n",
       " '__format__',\n",
       " '__ge__',\n",
       " '__getattribute__',\n",
       " '__gt__',\n",
       " '__hash__',\n",
       " '__init__',\n",
       " '__init_subclass__',\n",
       " '__le__',\n",
       " '__lt__',\n",
       " '__module__',\n",
       " '__ne__',\n",
       " '__new__',\n",
       " '__reduce__',\n",
       " '__reduce_ex__',\n",
       " '__repr__',\n",
       " '__setattr__',\n",
       " '__sizeof__',\n",
       " '__str__',\n",
       " '__subclasshook__',\n",
       " '__weakref__',\n",
       " 'make_noise']"
      ]
     },
     "execution_count": 10,
     "metadata": {},
     "output_type": "execute_result"
    }
   ],
   "source": [
    "dir(tweety)"
   ]
  },
  {
   "cell_type": "code",
   "execution_count": 12,
   "metadata": {
    "collapsed": true
   },
   "outputs": [],
   "source": [
    "tweety.name = \"Tweety\"\n",
    "tweety.species = \"Canary\""
   ]
  },
  {
   "cell_type": "code",
   "execution_count": 13,
   "metadata": {},
   "outputs": [
    {
     "name": "stdout",
     "output_type": "stream",
     "text": [
      "A pet has been born!\n"
     ]
    }
   ],
   "source": [
    "class Pet(object):\n",
    "    def __init__(self):\n",
    "        print(\"A pet has been born!\")\n",
    "        self.name = \"Silvester\"\n",
    "    \n",
    "    def make_noise(self):\n",
    "        print(\"Woof\")\n",
    "        \n",
    "goofy = Pet()"
   ]
  },
  {
   "cell_type": "code",
   "execution_count": 15,
   "metadata": {},
   "outputs": [
    {
     "data": {
      "text/plain": [
       "'Silvester'"
      ]
     },
     "execution_count": 15,
     "metadata": {},
     "output_type": "execute_result"
    }
   ],
   "source": [
    "goofy.name"
   ]
  },
  {
   "cell_type": "code",
   "execution_count": 38,
   "metadata": {
    "collapsed": true
   },
   "outputs": [
    {
     "data": {
      "text/plain": [
       "['__class__',\n",
       " '__delattr__',\n",
       " '__dict__',\n",
       " '__dir__',\n",
       " '__doc__',\n",
       " '__eq__',\n",
       " '__format__',\n",
       " '__ge__',\n",
       " '__getattribute__',\n",
       " '__gt__',\n",
       " '__hash__',\n",
       " '__init__',\n",
       " '__init_subclass__',\n",
       " '__le__',\n",
       " '__lt__',\n",
       " '__module__',\n",
       " '__ne__',\n",
       " '__new__',\n",
       " '__reduce__',\n",
       " '__reduce_ex__',\n",
       " '__repr__',\n",
       " '__setattr__',\n",
       " '__sizeof__',\n",
       " '__str__',\n",
       " '__subclasshook__',\n",
       " '__weakref__',\n",
       " 'bark',\n",
       " 'name']"
      ]
     },
     "execution_count": 38,
     "metadata": {},
     "output_type": "execute_result"
    }
   ],
   "source": [
    "dir(fluffy)"
   ]
  },
  {
   "cell_type": "code",
   "execution_count": 39,
   "metadata": {
    "collapsed": true
   },
   "outputs": [
    {
     "data": {
      "text/plain": [
       "['__class__',\n",
       " '__delattr__',\n",
       " '__dict__',\n",
       " '__dir__',\n",
       " '__doc__',\n",
       " '__eq__',\n",
       " '__format__',\n",
       " '__ge__',\n",
       " '__getattribute__',\n",
       " '__gt__',\n",
       " '__hash__',\n",
       " '__init__',\n",
       " '__init_subclass__',\n",
       " '__le__',\n",
       " '__lt__',\n",
       " '__module__',\n",
       " '__ne__',\n",
       " '__new__',\n",
       " '__reduce__',\n",
       " '__reduce_ex__',\n",
       " '__repr__',\n",
       " '__setattr__',\n",
       " '__sizeof__',\n",
       " '__str__',\n",
       " '__subclasshook__',\n",
       " '__weakref__',\n",
       " 'bark']"
      ]
     },
     "execution_count": 39,
     "metadata": {},
     "output_type": "execute_result"
    }
   ],
   "source": [
    "dir(tweety)"
   ]
  },
  {
   "cell_type": "markdown",
   "metadata": {},
   "source": [
    "Que pasa si queremos abstraer sobre todo los posibles nombres de mascota? Es decir, qué pasa si quiero hacer mascotas con nombres individuales?"
   ]
  },
  {
   "cell_type": "code",
   "execution_count": 40,
   "metadata": {
    "collapsed": true
   },
   "outputs": [],
   "source": [
    "class Pet(object):\n",
    "    def __init__(self):\n",
    "        print(\"A pet has been born!\")\n",
    "        self.name = \"Fluffy\"\n",
    "    \n",
    "    def bark(self):\n",
    "        print(\"Woof\")"
   ]
  },
  {
   "cell_type": "code",
   "execution_count": 41,
   "metadata": {},
   "outputs": [
    {
     "name": "stdout",
     "output_type": "stream",
     "text": [
      "A pet has been born!\n"
     ]
    }
   ],
   "source": [
    "fluffy = Pet() "
   ]
  },
  {
   "cell_type": "code",
   "execution_count": 42,
   "metadata": {},
   "outputs": [
    {
     "data": {
      "text/plain": [
       "'Fluffy'"
      ]
     },
     "execution_count": 42,
     "metadata": {},
     "output_type": "execute_result"
    }
   ],
   "source": [
    "fluffy.name"
   ]
  },
  {
   "cell_type": "code",
   "execution_count": 43,
   "metadata": {},
   "outputs": [
    {
     "name": "stdout",
     "output_type": "stream",
     "text": [
      "A pet has been born!\n"
     ]
    }
   ],
   "source": [
    "tweety = Pet() "
   ]
  },
  {
   "cell_type": "code",
   "execution_count": 44,
   "metadata": {},
   "outputs": [
    {
     "data": {
      "text/plain": [
       "'Fluffy'"
      ]
     },
     "execution_count": 44,
     "metadata": {},
     "output_type": "execute_result"
    }
   ],
   "source": [
    "tweety.name"
   ]
  },
  {
   "cell_type": "markdown",
   "metadata": {},
   "source": [
    "...que tenemos que usar argumentos que le pasamos a `__init__`"
   ]
  },
  {
   "cell_type": "code",
   "execution_count": 17,
   "metadata": {},
   "outputs": [
    {
     "name": "stdout",
     "output_type": "stream",
     "text": [
      "A pet has been born!\n"
     ]
    }
   ],
   "source": [
    "class Pet(object):\n",
    "    def __init__(self, name):\n",
    "        print(\"A pet has been born!\")\n",
    "        self.name = name\n",
    "    \n",
    "    def make_noise(self):\n",
    "        print(\"Woof\")\n",
    "        \n",
    "goofy = Pet(\"Goofy\")"
   ]
  },
  {
   "cell_type": "code",
   "execution_count": 18,
   "metadata": {},
   "outputs": [
    {
     "data": {
      "text/plain": [
       "'Goofy'"
      ]
     },
     "execution_count": 18,
     "metadata": {},
     "output_type": "execute_result"
    }
   ],
   "source": [
    "goofy.name"
   ]
  },
  {
   "cell_type": "code",
   "execution_count": 19,
   "metadata": {},
   "outputs": [
    {
     "name": "stdout",
     "output_type": "stream",
     "text": [
      "A pet has been born!\n"
     ]
    }
   ],
   "source": [
    "simba = Pet(\"Simba\")"
   ]
  },
  {
   "cell_type": "markdown",
   "metadata": {},
   "source": [
    "#### Ejercicio\n",
    "\n",
    "Escribe una clase que represente una cuenta corriente. Para empezar vamos a hacerla simple: solo tendra los atributos `holder` y `balance`."
   ]
  },
  {
   "cell_type": "code",
   "execution_count": 20,
   "metadata": {
    "collapsed": true
   },
   "outputs": [],
   "source": [
    "class Account(object):\n",
    "    def __init__(self, holder, balance):\n",
    "        self.holder = holder\n",
    "        self.balance = balance"
   ]
  },
  {
   "cell_type": "code",
   "execution_count": 25,
   "metadata": {},
   "outputs": [
    {
     "data": {
      "text/plain": [
       "'Carlos'"
      ]
     },
     "execution_count": 25,
     "metadata": {},
     "output_type": "execute_result"
    }
   ],
   "source": [
    "cuenta_de_carlos = Account(\"Carlos\", 100)\n",
    "cuenta_de_carlos.holder"
   ]
  },
  {
   "cell_type": "markdown",
   "metadata": {},
   "source": [
    "En ningún momento nos hemos preocupado de garantizar que `holder` o `balance` tengan valores válidos:"
   ]
  },
  {
   "cell_type": "code",
   "execution_count": 26,
   "metadata": {
    "collapsed": true
   },
   "outputs": [],
   "source": [
    "class Account(object):\n",
    "    \n",
    "    def __init__(self, holder, balance):\n",
    "        self.holder = holder\n",
    "        self.balance = balance\n",
    "        \n",
    "cuenta_de_carlos = Account(100, \"Carlos\")\n",
    "        "
   ]
  },
  {
   "cell_type": "code",
   "execution_count": 27,
   "metadata": {},
   "outputs": [
    {
     "data": {
      "text/plain": [
       "'Carlos'"
      ]
     },
     "execution_count": 27,
     "metadata": {},
     "output_type": "execute_result"
    }
   ],
   "source": [
    "cuenta_de_carlos.balance"
   ]
  },
  {
   "cell_type": "markdown",
   "metadata": {},
   "source": [
    "Un atributo es una variable como otra cualquiera.\n",
    "\n",
    "Python no va a imponerle un tipo. Si queremos forzar que tenga un tipo concreto, tendremos que utilizar excepciones:"
   ]
  },
  {
   "cell_type": "code",
   "execution_count": 28,
   "metadata": {},
   "outputs": [
    {
     "ename": "TypeError",
     "evalue": "El balance tiene que ser un entero",
     "output_type": "error",
     "traceback": [
      "\u001b[1;31m---------------------------------------------------------------------------\u001b[0m",
      "\u001b[1;31mTypeError\u001b[0m                                 Traceback (most recent call last)",
      "\u001b[1;32m<ipython-input-28-f88db3c40764>\u001b[0m in \u001b[0;36m<module>\u001b[1;34m()\u001b[0m\n\u001b[0;32m      8\u001b[0m         \u001b[0mself\u001b[0m\u001b[1;33m.\u001b[0m\u001b[0mbalance\u001b[0m \u001b[1;33m=\u001b[0m \u001b[0mbalance\u001b[0m\u001b[1;33m\u001b[0m\u001b[0m\n\u001b[0;32m      9\u001b[0m \u001b[1;33m\u001b[0m\u001b[0m\n\u001b[1;32m---> 10\u001b[1;33m \u001b[0mcuenta_de_carlos\u001b[0m \u001b[1;33m=\u001b[0m \u001b[0mAccount\u001b[0m\u001b[1;33m(\u001b[0m\u001b[1;36m100\u001b[0m\u001b[1;33m,\u001b[0m \u001b[1;34m\"Carlos\"\u001b[0m\u001b[1;33m)\u001b[0m\u001b[1;33m\u001b[0m\u001b[0m\n\u001b[0m",
      "\u001b[1;32m<ipython-input-28-f88db3c40764>\u001b[0m in \u001b[0;36m__init__\u001b[1;34m(self, holder, balance)\u001b[0m\n\u001b[0;32m      3\u001b[0m     \u001b[1;32mdef\u001b[0m \u001b[0m__init__\u001b[0m\u001b[1;33m(\u001b[0m\u001b[0mself\u001b[0m\u001b[1;33m,\u001b[0m \u001b[0mholder\u001b[0m\u001b[1;33m,\u001b[0m \u001b[0mbalance\u001b[0m\u001b[1;33m)\u001b[0m\u001b[1;33m:\u001b[0m\u001b[1;33m\u001b[0m\u001b[0m\n\u001b[0;32m      4\u001b[0m         \u001b[1;32mif\u001b[0m \u001b[0mtype\u001b[0m\u001b[1;33m(\u001b[0m\u001b[0mbalance\u001b[0m\u001b[1;33m)\u001b[0m \u001b[1;33m!=\u001b[0m \u001b[0mint\u001b[0m\u001b[1;33m:\u001b[0m\u001b[1;33m\u001b[0m\u001b[0m\n\u001b[1;32m----> 5\u001b[1;33m             \u001b[1;32mraise\u001b[0m \u001b[0mTypeError\u001b[0m\u001b[1;33m(\u001b[0m\u001b[1;34m\"El balance tiene que ser un entero\"\u001b[0m\u001b[1;33m)\u001b[0m\u001b[1;33m\u001b[0m\u001b[0m\n\u001b[0m\u001b[0;32m      6\u001b[0m \u001b[1;33m\u001b[0m\u001b[0m\n\u001b[0;32m      7\u001b[0m         \u001b[0mself\u001b[0m\u001b[1;33m.\u001b[0m\u001b[0mholder\u001b[0m \u001b[1;33m=\u001b[0m \u001b[0mholder\u001b[0m\u001b[1;33m\u001b[0m\u001b[0m\n",
      "\u001b[1;31mTypeError\u001b[0m: El balance tiene que ser un entero"
     ]
    }
   ],
   "source": [
    "class Account(object):\n",
    "    \n",
    "    def __init__(self, holder, balance):\n",
    "        if type(balance) != int:\n",
    "            raise TypeError(\"El balance tiene que ser un entero\")\n",
    "            \n",
    "        self.holder = holder\n",
    "        self.balance = balance\n",
    "        \n",
    "cuenta_de_carlos = Account(100, \"Carlos\")"
   ]
  },
  {
   "cell_type": "markdown",
   "metadata": {},
   "source": [
    "## Métodos\n",
    "\n",
    "Como hemos dicho, son funciones ligadas a la instancia: nos permiten personalizar el comportamiento de cada instancia de la clase:"
   ]
  },
  {
   "cell_type": "code",
   "execution_count": 29,
   "metadata": {},
   "outputs": [
    {
     "name": "stdout",
     "output_type": "stream",
     "text": [
      "Woof\n"
     ]
    }
   ],
   "source": [
    "tweety.make_noise()"
   ]
  },
  {
   "cell_type": "code",
   "execution_count": 30,
   "metadata": {},
   "outputs": [
    {
     "name": "stdout",
     "output_type": "stream",
     "text": [
      "Woof\n"
     ]
    }
   ],
   "source": [
    "lassie.make_noise()"
   ]
  },
  {
   "cell_type": "code",
   "execution_count": 31,
   "metadata": {
    "collapsed": true
   },
   "outputs": [],
   "source": [
    "class Pet(object):\n",
    "    def __init__(self, name, species):\n",
    "        self.name = name\n",
    "        self.species = species\n",
    "        \n",
    "    def greet(self):\n",
    "        print(\"Hi! I'm %s the %s\" % (self.name, self.species))\n",
    "        \n",
    "tweety = Pet(\"Tweety\", \"Canary\")\n",
    "fluffy = Pet(\"Fluffy\", \"lamb\")"
   ]
  },
  {
   "cell_type": "code",
   "execution_count": 32,
   "metadata": {},
   "outputs": [
    {
     "name": "stdout",
     "output_type": "stream",
     "text": [
      "Hi! I'm Tweety the Canary\n",
      "Hi! I'm Fluffy the lamb\n"
     ]
    }
   ],
   "source": [
    "tweety.greet()\n",
    "fluffy.greet()"
   ]
  },
  {
   "cell_type": "markdown",
   "metadata": {},
   "source": [
    "### `__repr__`\n",
    "\n",
    "Es el otro método mágico que usaremos hoy. Nos permite especificar como queremos que se represente una instancia de nuestra clase cuando tenga que presentarse como string:"
   ]
  },
  {
   "cell_type": "code",
   "execution_count": 33,
   "metadata": {},
   "outputs": [
    {
     "data": {
      "text/plain": [
       "'<__main__.Account object at 0x00000126FDBB07B8>'"
      ]
     },
     "execution_count": 33,
     "metadata": {},
     "output_type": "execute_result"
    }
   ],
   "source": [
    "str(cuenta_de_carlos)"
   ]
  },
  {
   "cell_type": "code",
   "execution_count": 34,
   "metadata": {},
   "outputs": [
    {
     "data": {
      "text/plain": [
       "array([ 2,  6,  3, 10])"
      ]
     },
     "execution_count": 34,
     "metadata": {},
     "output_type": "execute_result"
    }
   ],
   "source": [
    "import numpy as np\n",
    "\n",
    "xs = np.array([2,6,3,10])\n",
    "xs"
   ]
  },
  {
   "cell_type": "markdown",
   "metadata": {},
   "source": [
    "Account no tiene un `__repr__` todavia:"
   ]
  },
  {
   "cell_type": "markdown",
   "metadata": {},
   "source": [
    "#### Ejercicio\n",
    "\n",
    "Continuamos con la clase `Account`: vamos a añadirle un `__repr__` que sea comodo para inspeccionar el estado de las cuentas. "
   ]
  },
  {
   "cell_type": "code",
   "execution_count": 43,
   "metadata": {},
   "outputs": [
    {
     "name": "stdout",
     "output_type": "stream",
     "text": [
      "El titular de la cuenta es Carlos y su balance es 100\n"
     ]
    }
   ],
   "source": [
    "class Account(object):\n",
    "    \n",
    "    def __init__(self, holder, balance):\n",
    "        if type(balance) != int:\n",
    "            raise TypeError(\"El balance tiene que ser un entero\")\n",
    "            \n",
    "        self.holder = holder\n",
    "        self.balance = balance\n",
    "        \n",
    "    def __repr__(self):\n",
    "        \n",
    "        str_representation = \"El titular de la cuenta es %s y su balance es %d\" % (self.holder, self.balance)\n",
    "        \n",
    "        return str_representation\n",
    "        \n",
    "cuenta_de_carlos = Account(\"Carlos\", 100)\n",
    "print(cuenta_de_carlos)"
   ]
  },
  {
   "cell_type": "code",
   "execution_count": 44,
   "metadata": {
    "collapsed": true
   },
   "outputs": [],
   "source": [
    "otra_cuenta = Account(\"Someone\", 0)"
   ]
  },
  {
   "cell_type": "code",
   "execution_count": 46,
   "metadata": {},
   "outputs": [
    {
     "name": "stdout",
     "output_type": "stream",
     "text": [
      "Cuenta A: El titular de la cuenta es Carlos y su balance es 100 \n",
      "Cuenta B: El titular de la cuenta es Someone y su balance es 0\n"
     ]
    }
   ],
   "source": [
    "print(\"Cuenta A: %s \\nCuenta B: %s\" % (cuenta_de_carlos, otra_cuenta))"
   ]
  },
  {
   "cell_type": "markdown",
   "metadata": {},
   "source": [
    "#### Ejercicio\n",
    "\n",
    "Continuamos con la clase `Account`: vamos a extenderla con los metodos `deposit()` y `withdraw()`. La retirada tendra que negarse a entregar dinero si el balance quedaria negativo tras la retirada. Deberá, también, devolver ese dinero. Qué técnica de las que hemos estudiado esta semana puede ser apropiada aqui?"
   ]
  },
  {
   "cell_type": "code",
   "execution_count": 106,
   "metadata": {
    "collapsed": true
   },
   "outputs": [],
   "source": [
    "class Account(object):\n",
    "    \n",
    "    def __init__(self, holder, balance):\n",
    "        if type(balance) != int:\n",
    "            raise TypeError(\"El balance tiene que ser un entero\")\n",
    "            \n",
    "        self.holder = holder\n",
    "        self.balance = balance\n",
    "        \n",
    "        \n",
    "    def __repr__(self):\n",
    "        \n",
    "        str_representation = \"El titular de la cuenta es %s y su balance es %d.\" % (self.holder, self.balance)\n",
    "        \n",
    "        return str_representation\n",
    "    \n",
    "    \n",
    "    def deposit(self, amount):\n",
    "        \n",
    "        if amount < 0:\n",
    "            raise ValueError(\"El depósito tiene que tener un importe positivo\")\n",
    "            \n",
    "        self.balance += amount\n",
    "        \n",
    "        return \"Has ingresado %d y el el nuevo balance es %d\" % (amount, self.balance)\n",
    "     \n",
    "        \n",
    "    def withdraw(self, amount):\n",
    "        \n",
    "        if amount < 0:\n",
    "            raise ValueError(\"La retirada de dinero tiene que tener un importe positivo\")\n",
    "        \n",
    "        if amount > self.balance:\n",
    "            raise ValueError(\"No hay suficiente dinero\") \n",
    "        \n",
    "        self.balance -= amount\n",
    "            \n",
    "        return \"Has retirado %d y el balance es %d\" % (amount, self.balance)\n",
    "        "
   ]
  },
  {
   "cell_type": "code",
   "execution_count": 108,
   "metadata": {},
   "outputs": [
    {
     "name": "stdout",
     "output_type": "stream",
     "text": [
      "El titular de la cuenta es Carlos y su balance es 100.\n",
      "El titular de la cuenta es Carlos y su balance es 200.\n",
      "El titular de la cuenta es Carlos y su balance es 0.\n"
     ]
    }
   ],
   "source": [
    "cuenta_de_carlos = Account(\"Carlos\", 100)\n",
    "print(cuenta_de_carlos)\n",
    "cuenta_de_carlos.deposit(100)\n",
    "print(cuenta_de_carlos)\n",
    "cuenta_de_carlos.withdraw(200)\n",
    "print(cuenta_de_carlos)"
   ]
  },
  {
   "cell_type": "markdown",
   "metadata": {},
   "source": [
    "#### Ejercicio\n",
    "\n",
    "Vamos a escribir la clase `Person`. Le vamos a dar los atributos `name`, `family_name`, y `date_of_birth`. Para la fecha de nacimiento, vamos a utilizar el modulo [`datetime`](https://docs.python.org/2/library/datetime.html) para construir verdaderos objetos fecha a partir de una string que nos proporcionará el usuario de la clase."
   ]
  },
  {
   "cell_type": "markdown",
   "metadata": {},
   "source": [
    "Prototipamos la función:"
   ]
  },
  {
   "cell_type": "code",
   "execution_count": 3,
   "metadata": {
    "collapsed": true
   },
   "outputs": [],
   "source": [
    "from datetime import date\n",
    "\n",
    "class Person(object):\n",
    "    \n",
    "    def __init__(self, name, family_name, date_of_birth):\n",
    "        \n",
    "        self.name = name\n",
    "        self.family_name = family_name\n",
    "        \n",
    "        try:\n",
    "            year = int(date_of_birth[:4])\n",
    "            month = int(date_of_birth[5:7])\n",
    "            day = int(date_of_birth[8:10])\n",
    "            \n",
    "            self.date_of_birth = date(year, month, day)\n",
    "        except:\n",
    "            self.date_of_birth = None\n",
    "        \n",
    "        \n",
    "best_teacher_in_the_world = Person(\"Dani\", \"Mateos\", \"1984-05-23\")"
   ]
  },
  {
   "cell_type": "code",
   "execution_count": 13,
   "metadata": {},
   "outputs": [
    {
     "data": {
      "text/plain": [
       "<__main__.Person at 0x2b18b6b17f0>"
      ]
     },
     "execution_count": 13,
     "metadata": {},
     "output_type": "execute_result"
    }
   ],
   "source": [
    "best_teacher_in_the_world"
   ]
  },
  {
   "cell_type": "code",
   "execution_count": 111,
   "metadata": {},
   "outputs": [
    {
     "data": {
      "text/plain": [
       "'Mateos'"
      ]
     },
     "execution_count": 111,
     "metadata": {},
     "output_type": "execute_result"
    }
   ],
   "source": [
    "best_teacher_in_the_world.family_name"
   ]
  },
  {
   "cell_type": "code",
   "execution_count": 112,
   "metadata": {},
   "outputs": [
    {
     "data": {
      "text/plain": [
       "datetime.date(1984, 5, 23)"
      ]
     },
     "execution_count": 112,
     "metadata": {},
     "output_type": "execute_result"
    }
   ],
   "source": [
    "best_teacher_in_the_world.date_of_birth"
   ]
  },
  {
   "cell_type": "markdown",
   "metadata": {
    "collapsed": true
   },
   "source": [
    "#### Ejercicio\n",
    "\n",
    "Vamos a modificar las clases para que interoperen entre si.\n",
    "\n",
    "Modificaremos `Account` para que el titular sea una `Person`. Vamos a utilizar esta `Person` para varias cosas: cuando el titular haga una retirada o un deposito, le daremos las gracias con su nombre. Al hacer retiradas, vamos a comprobar que sea mayor de edad. Si no lo es, nos negamos a darle pasta.\n",
    "\n",
    "Modificaremos `Person` para que tenga una `wallet` en la que guardar el efectivo. Nuestra persona ganará su sueldo en efectivo, y hará sus compras en efectivo. De vez en cuando, querrá ingresar o sacar dinero de su cuenta en el banco.\n",
    "\n",
    "\n",
    "El objetivo aqui es hacer dos clases que funcionen juntas e interoperen de una manera intuitiva: para eso, les pasamos referencias de la una a la otra para que puedan llamar a sus metodos respectivos.\n",
    "\n",
    "En resumen: Aqui quiero que implementeis los metodos `create_account`, `earn`, `spend`, `withdraw_cash` y `save` en Persona. `earn` y `spend` modifican la cartera de la persona, porque vivimos en 1960 y no tenemos tarjeta de crédito, mientras que `withdraw_cash` y `save` modifican tanto su cartera como el balance de su cuenta. \n",
    "\n",
    "Pensad tambien en el metodo `withdraw` de cuenta: no le falta algo tal como lo tenemos? Cuando hacemos `withdraw` dinero de nuestra cuenta en el mundo real, no nos *devuelve* algo el cajero? ;P"
   ]
  },
  {
   "cell_type": "code",
   "execution_count": 140,
   "metadata": {},
   "outputs": [],
   "source": [
    "from datetime import date\n",
    "\n",
    "class Person(object):\n",
    "    \n",
    "    def __init__(self, name, family_name, date_of_birth):\n",
    "        \n",
    "        self.name = name\n",
    "        self.family_name = family_name\n",
    "        self.account = None\n",
    "        self.wallet = 0\n",
    "        \n",
    "        try:\n",
    "            year = int(date_of_birth[:4])\n",
    "            month = int(date_of_birth[5:7])\n",
    "            day = int(date_of_birth[8:10])\n",
    "            \n",
    "            self.date_of_birth = date(year, month, day)\n",
    "        except:\n",
    "            self.date_of_birth = None\n",
    "         \n",
    "        self.age = 2018 - self.date_of_birth.year\n",
    "        \n",
    "            \n",
    "    def __repr__(self):\n",
    "        return \"%s %s, born %s\" % (self.name, self.family_name, self.date_of_birth)\n",
    "    \n",
    "    \n",
    "    def get_account(self, initial_balance):\n",
    "        if self.wallet < initial_balance:\n",
    "            raise ValueError(\"%s no tiene un chavo; le quedan %d euros\" % (self.name, self.wallet))\n",
    "            \n",
    "        self.wallet -= initial_balance\n",
    "        self.account = Account(self, initial_balance)\n",
    "    \n",
    "    \n",
    "    def deposit(self, amount):\n",
    "        if self.wallet < amount:\n",
    "            raise ValueError(\"%s no tiene un chavo; le quedan %d euros\" % (self.name, self.wallet))\n",
    "            \n",
    "        self.wallet -= amount\n",
    "        self.account.deposit(amount)\n",
    "        \n",
    "        \n",
    "    def withdraw(self, amount):\n",
    "        \n",
    "        self.account.withdraw(amount)\n",
    "        self.wallet += amount\n",
    "        \n",
    "    \n",
    "    def earn(self, amount):\n",
    "        self.wallet += amount\n",
    "    \n",
    "    \n",
    "    def spend(self, amount):\n",
    "        if amount > self.wallet:\n",
    "            raise ValueError (\"Ohhhhhh no me queda un pavo\")\n",
    "        self.wallet -= amount        \n",
    "\n",
    "        \n",
    "        \n",
    "class Account(object):\n",
    "    \n",
    "    def __init__(self, holder, balance):\n",
    "        if type(balance) != int:\n",
    "            raise TypeError(\"El balance tiene que ser un entero\")\n",
    "        \n",
    "        if type(holder) != Person:\n",
    "            raise TypeError(\"El holder %s tiene que ser una persona\" % (holder))        \n",
    "        \n",
    "        self.holder = holder\n",
    "        self.balance = balance\n",
    "        \n",
    "        \n",
    "    def __repr__(self):\n",
    "        \n",
    "        str_representation = \"El titular de la cuenta es %s y su balance es %d.\" % (self.holder, self.balance)\n",
    "        \n",
    "        return str_representation\n",
    "    \n",
    "    \n",
    "    def deposit(self, amount):\n",
    "        \n",
    "        if amount < 0:\n",
    "            raise ValueError(\"El depósito tiene que tener un importe positivo\")\n",
    "            \n",
    "        self.balance += amount\n",
    "        \n",
    "        return \"Gracias %s. Has ingresado %d y el el nuevo balance es %d\" % (self.holder.name, amount, self.balance)\n",
    "     \n",
    "        \n",
    "    def withdraw(self, amount):\n",
    "        \n",
    "        if amount < 0:\n",
    "            raise ValueError(\"La retirada de dinero tiene que tener un importe positivo\")\n",
    "        \n",
    "        if amount > self.balance:\n",
    "            print(\"Vete a peinar %s\" % (self.holder.family_name))\n",
    "            raise ValueError(\"No puedes retirar tanto dinero. No hay suficiente dinero (%d)\" % (self.balance))\n",
    "            \n",
    "        if self.holder.age < 18:\n",
    "            raise ValueError(\"Eres menor de edad. No puedes sacar dinero\")\n",
    "        \n",
    "        self.balance -= amount\n",
    "            \n",
    "        return \"Gracias %s. Has retirado %d y el balance es %d\" % (self.holder.name, amount, self.balance)\n",
    "        "
   ]
  },
  {
   "cell_type": "code",
   "execution_count": 141,
   "metadata": {},
   "outputs": [],
   "source": [
    "dani = Person(\"Dani\", \"Mateos\", \"2001-05-23\")\n",
    "carlos = Person(\"Carlos\", \"Ferrer-Bonsoms\", \"1988-10-14\")"
   ]
  },
  {
   "cell_type": "code",
   "execution_count": 142,
   "metadata": {},
   "outputs": [],
   "source": [
    "dani.earn(1200)\n",
    "carlos.earn(1200)\n",
    "dani.get_account(100)\n",
    "carlos.get_account(200)"
   ]
  },
  {
   "cell_type": "code",
   "execution_count": 143,
   "metadata": {},
   "outputs": [
    {
     "name": "stdout",
     "output_type": "stream",
     "text": [
      "1100\n",
      "1000\n"
     ]
    }
   ],
   "source": [
    "print(dani.wallet)\n",
    "print(carlos.wallet)"
   ]
  },
  {
   "cell_type": "code",
   "execution_count": 149,
   "metadata": {},
   "outputs": [
    {
     "ename": "ValueError",
     "evalue": "Eres menor de edad. No puedes sacar dinero",
     "output_type": "error",
     "traceback": [
      "\u001b[1;31m---------------------------------------------------------------------------\u001b[0m",
      "\u001b[1;31mValueError\u001b[0m                                Traceback (most recent call last)",
      "\u001b[1;32m<ipython-input-149-e0fbafc43fb1>\u001b[0m in \u001b[0;36m<module>\u001b[1;34m()\u001b[0m\n\u001b[1;32m----> 1\u001b[1;33m \u001b[0mdani\u001b[0m\u001b[1;33m.\u001b[0m\u001b[0mwithdraw\u001b[0m\u001b[1;33m(\u001b[0m\u001b[1;36m50\u001b[0m\u001b[1;33m)\u001b[0m\u001b[1;33m\u001b[0m\u001b[0m\n\u001b[0m\u001b[0;32m      2\u001b[0m \u001b[0mdani\u001b[0m\u001b[1;33m.\u001b[0m\u001b[0mwallet\u001b[0m\u001b[1;33m\u001b[0m\u001b[0m\n",
      "\u001b[1;32m<ipython-input-140-f8b121b5fc4e>\u001b[0m in \u001b[0;36mwithdraw\u001b[1;34m(self, amount)\u001b[0m\n\u001b[0;32m     44\u001b[0m     \u001b[1;32mdef\u001b[0m \u001b[0mwithdraw\u001b[0m\u001b[1;33m(\u001b[0m\u001b[0mself\u001b[0m\u001b[1;33m,\u001b[0m \u001b[0mamount\u001b[0m\u001b[1;33m)\u001b[0m\u001b[1;33m:\u001b[0m\u001b[1;33m\u001b[0m\u001b[0m\n\u001b[0;32m     45\u001b[0m \u001b[1;33m\u001b[0m\u001b[0m\n\u001b[1;32m---> 46\u001b[1;33m         \u001b[0mself\u001b[0m\u001b[1;33m.\u001b[0m\u001b[0maccount\u001b[0m\u001b[1;33m.\u001b[0m\u001b[0mwithdraw\u001b[0m\u001b[1;33m(\u001b[0m\u001b[0mamount\u001b[0m\u001b[1;33m)\u001b[0m\u001b[1;33m\u001b[0m\u001b[0m\n\u001b[0m\u001b[0;32m     47\u001b[0m         \u001b[0mself\u001b[0m\u001b[1;33m.\u001b[0m\u001b[0mwallet\u001b[0m \u001b[1;33m+=\u001b[0m \u001b[0mamount\u001b[0m\u001b[1;33m\u001b[0m\u001b[0m\n\u001b[0;32m     48\u001b[0m \u001b[1;33m\u001b[0m\u001b[0m\n",
      "\u001b[1;32m<ipython-input-140-f8b121b5fc4e>\u001b[0m in \u001b[0;36mwithdraw\u001b[1;34m(self, amount)\u001b[0m\n\u001b[0;32m     99\u001b[0m \u001b[1;33m\u001b[0m\u001b[0m\n\u001b[0;32m    100\u001b[0m         \u001b[1;32mif\u001b[0m \u001b[0mself\u001b[0m\u001b[1;33m.\u001b[0m\u001b[0mholder\u001b[0m\u001b[1;33m.\u001b[0m\u001b[0mage\u001b[0m \u001b[1;33m<\u001b[0m \u001b[1;36m18\u001b[0m\u001b[1;33m:\u001b[0m\u001b[1;33m\u001b[0m\u001b[0m\n\u001b[1;32m--> 101\u001b[1;33m             \u001b[1;32mraise\u001b[0m \u001b[0mValueError\u001b[0m\u001b[1;33m(\u001b[0m\u001b[1;34m\"Eres menor de edad. No puedes sacar dinero\"\u001b[0m\u001b[1;33m)\u001b[0m\u001b[1;33m\u001b[0m\u001b[0m\n\u001b[0m\u001b[0;32m    102\u001b[0m \u001b[1;33m\u001b[0m\u001b[0m\n\u001b[0;32m    103\u001b[0m         \u001b[0mself\u001b[0m\u001b[1;33m.\u001b[0m\u001b[0mbalance\u001b[0m \u001b[1;33m-=\u001b[0m \u001b[0mamount\u001b[0m\u001b[1;33m\u001b[0m\u001b[0m\n",
      "\u001b[1;31mValueError\u001b[0m: Eres menor de edad. No puedes sacar dinero"
     ]
    }
   ],
   "source": [
    "dani.withdraw(50)\n",
    "dani.wallet"
   ]
  },
  {
   "cell_type": "code",
   "execution_count": null,
   "metadata": {
    "collapsed": true
   },
   "outputs": [],
   "source": []
  },
  {
   "cell_type": "code",
   "execution_count": 156,
   "metadata": {
    "collapsed": true
   },
   "outputs": [],
   "source": [
    "class Employee(Person):\n",
    "    \n",
    "    def __init__(self, name, family_name, date_of_birth, employee_id):\n",
    "        \n",
    "        super().__init__(name, family_name, date_of_birth)\n",
    "        self.employee_id = employee_id\n",
    "    "
   ]
  },
  {
   "cell_type": "code",
   "execution_count": 157,
   "metadata": {},
   "outputs": [],
   "source": [
    "homer = Employee(\"Hommer\", \"Simpson\", \"1968-03-04\", 1234567)"
   ]
  },
  {
   "cell_type": "code",
   "execution_count": null,
   "metadata": {
    "collapsed": true
   },
   "outputs": [],
   "source": [
    "homer."
   ]
  },
  {
   "cell_type": "code",
   "execution_count": null,
   "metadata": {
    "collapsed": true
   },
   "outputs": [],
   "source": []
  },
  {
   "cell_type": "markdown",
   "metadata": {},
   "source": [
    "Podemos hacer que distintas maneras de crear los objetos funcionen."
   ]
  },
  {
   "cell_type": "markdown",
   "metadata": {},
   "source": [
    "## Métodos y atributos de clase\n",
    "\n",
    "Son atributos que estan ligados a una clase: existe una unica copia para todas las instancias de esa clase.\n",
    "\n",
    "Mucho cuidado! ¿Qué pasa si varias instancias modifican el atributo a la vez?"
   ]
  },
  {
   "cell_type": "code",
   "execution_count": 132,
   "metadata": {
    "collapsed": true
   },
   "outputs": [],
   "source": [
    "class Person(object):\n",
    "    \n",
    "    def __init__(self, name, family_name, date_of_birth):\n",
    "        self.name = name\n",
    "        self.family_name = family_name\n",
    "        self.date_of_birth = self.parse_date(date_of_birth)\n",
    "        \n",
    "    @staticmethod    \n",
    "    def parse_date(date_of_birth):\n",
    "        \n",
    "        date_pieces = [int(piece) for piece in date_of_birth.split(\"-\")]\n",
    "        parsed_date = date(date_pieces[0], date_pieces[1], date_pieces[2])       \n",
    "        \n",
    "        return parsed_date"
   ]
  },
  {
   "cell_type": "code",
   "execution_count": 133,
   "metadata": {},
   "outputs": [
    {
     "data": {
      "text/plain": [
       "datetime.date(1984, 5, 23)"
      ]
     },
     "execution_count": 133,
     "metadata": {},
     "output_type": "execute_result"
    }
   ],
   "source": [
    "Person.parse_date(test_dob)"
   ]
  },
  {
   "cell_type": "code",
   "execution_count": 141,
   "metadata": {
    "collapsed": true
   },
   "outputs": [],
   "source": [
    "class Pet(object):\n",
    "    POSSIBLE_PETS = [\"dog\", \"cat\", \"goldfish\"]\n",
    "    \n",
    "    def __init__(self, name, species):\n",
    "        if species not in Pet.POSSIBLE_PETS:\n",
    "            raise ValueError(\"a %s is not a suitable pet\" % species)\n",
    "        else:\n",
    "            self.name = name\n",
    "            self.species = species\n",
    "    \n",
    "    def __repr__(self):\n",
    "        return \"%s the %s\" % (self.name, self.species)\n",
    "                              \n",
    "one_pet = Pet(\"Pluto\", \"dog\")\n",
    "another_pet = Pet(\"Nemo\", \"goldfish\")"
   ]
  },
  {
   "cell_type": "code",
   "execution_count": 143,
   "metadata": {},
   "outputs": [
    {
     "data": {
      "text/plain": [
       "Pluto the dog"
      ]
     },
     "execution_count": 143,
     "metadata": {},
     "output_type": "execute_result"
    }
   ],
   "source": [
    "one_pet"
   ]
  },
  {
   "cell_type": "code",
   "execution_count": 144,
   "metadata": {},
   "outputs": [
    {
     "ename": "ValueError",
     "evalue": "a human is not a suitable pet",
     "output_type": "error",
     "traceback": [
      "\u001b[0;31m---------------------------------------------------------------------------\u001b[0m",
      "\u001b[0;31mValueError\u001b[0m                                Traceback (most recent call last)",
      "\u001b[0;32m<ipython-input-144-acdd5f693ff1>\u001b[0m in \u001b[0;36m<module>\u001b[0;34m()\u001b[0m\n\u001b[0;32m----> 1\u001b[0;31m \u001b[0mpet_of_poland\u001b[0m \u001b[0;34m=\u001b[0m \u001b[0mPet\u001b[0m\u001b[0;34m(\u001b[0m\u001b[0;34m\"Segismundo\"\u001b[0m\u001b[0;34m,\u001b[0m \u001b[0;34m\"human\"\u001b[0m\u001b[0;34m)\u001b[0m\u001b[0;34m\u001b[0m\u001b[0m\n\u001b[0m",
      "\u001b[0;32m<ipython-input-141-c76b1eb90548>\u001b[0m in \u001b[0;36m__init__\u001b[0;34m(self, name, species)\u001b[0m\n\u001b[1;32m      4\u001b[0m     \u001b[0;32mdef\u001b[0m \u001b[0m__init__\u001b[0m\u001b[0;34m(\u001b[0m\u001b[0mself\u001b[0m\u001b[0;34m,\u001b[0m \u001b[0mname\u001b[0m\u001b[0;34m,\u001b[0m \u001b[0mspecies\u001b[0m\u001b[0;34m)\u001b[0m\u001b[0;34m:\u001b[0m\u001b[0;34m\u001b[0m\u001b[0m\n\u001b[1;32m      5\u001b[0m         \u001b[0;32mif\u001b[0m \u001b[0mspecies\u001b[0m \u001b[0;32mnot\u001b[0m \u001b[0;32min\u001b[0m \u001b[0mPet\u001b[0m\u001b[0;34m.\u001b[0m\u001b[0mPOSSIBLE_PETS\u001b[0m\u001b[0;34m:\u001b[0m\u001b[0;34m\u001b[0m\u001b[0m\n\u001b[0;32m----> 6\u001b[0;31m             \u001b[0;32mraise\u001b[0m \u001b[0mValueError\u001b[0m\u001b[0;34m(\u001b[0m\u001b[0;34m\"a %s is not a suitable pet\"\u001b[0m \u001b[0;34m%\u001b[0m \u001b[0mspecies\u001b[0m\u001b[0;34m)\u001b[0m\u001b[0;34m\u001b[0m\u001b[0m\n\u001b[0m\u001b[1;32m      7\u001b[0m         \u001b[0;32melse\u001b[0m\u001b[0;34m:\u001b[0m\u001b[0;34m\u001b[0m\u001b[0m\n\u001b[1;32m      8\u001b[0m             \u001b[0mself\u001b[0m\u001b[0;34m.\u001b[0m\u001b[0mname\u001b[0m \u001b[0;34m=\u001b[0m \u001b[0mname\u001b[0m\u001b[0;34m\u001b[0m\u001b[0m\n",
      "\u001b[0;31mValueError\u001b[0m: a human is not a suitable pet"
     ]
    }
   ],
   "source": [
    "pet_of_poland = Pet(\"Segismundo\", \"human\")"
   ]
  },
  {
   "cell_type": "code",
   "execution_count": 147,
   "metadata": {
    "collapsed": true
   },
   "outputs": [],
   "source": [
    "another_pet.POSSIBLE_PETS += ['lion']"
   ]
  },
  {
   "cell_type": "code",
   "execution_count": 148,
   "metadata": {},
   "outputs": [
    {
     "data": {
      "text/plain": [
       "['dog', 'cat', 'goldfish', 'lion']"
      ]
     },
     "execution_count": 148,
     "metadata": {},
     "output_type": "execute_result"
    }
   ],
   "source": [
    "another_pet.POSSIBLE_PETS"
   ]
  },
  {
   "cell_type": "code",
   "execution_count": 149,
   "metadata": {},
   "outputs": [
    {
     "data": {
      "text/plain": [
       "['dog', 'cat', 'goldfish', 'lion']"
      ]
     },
     "execution_count": 149,
     "metadata": {},
     "output_type": "execute_result"
    }
   ],
   "source": [
    "one_pet.POSSIBLE_PETS"
   ]
  },
  {
   "cell_type": "markdown",
   "metadata": {},
   "source": [
    "#### Ejercicio\n",
    "\n",
    "Vamos a escribir la clase `Person`. Le vamos a dar los atributos `title`, `name`, `family_name`, y `date_of_birth`. El titulo solo va a ser posible escogerlo de entre un numero limitado de opciones. Para la fecha de nacimiento, vamos a utilizar el modulo [`datetime`](https://docs.python.org/2/library/datetime.html) para construir verdaderos objetos fecha y vamos a escribir un metodo estatico que parsee la fecha que le pasamos como string.\n",
    "\n",
    "Los metodos \"estaticos\" son metodos de la clase que no estan ligados a una instancia. Por tanto, no reciben el parametro `self` y se llaman como `Clase.metodo()` en vez de `instancia.metodo()`."
   ]
  },
  {
   "cell_type": "markdown",
   "metadata": {},
   "source": [
    "Los atributos de clase se suelen manejor como si fueran constantes, no modificándolos nunca. Para reflejar esto, se suelen llamar con nombres de variable en mayusculas."
   ]
  },
  {
   "cell_type": "code",
   "execution_count": 158,
   "metadata": {
    "collapsed": true
   },
   "outputs": [],
   "source": [
    "class Person(object):\n",
    "    ALLOWABLE_TITLES = [\"Dr\", \"Mr\", \"Mrs\"]\n",
    "    \n",
    "    def __init__(self, title, name, family_name, date_of_birth):\n",
    "        if title not in Person.ALLOWABLE_TITLES:\n",
    "            raise ValueError(\"%s is not an allowable title\" % title)\n",
    "        \n",
    "        self.title = title\n",
    "        self.name = name\n",
    "        self.family_name = family_name\n",
    "        self.date_of_birth = self.parse_date(date_of_birth)\n",
    "        \n",
    "    @staticmethod    \n",
    "    def parse_date(date_of_birth):\n",
    "        \n",
    "        date_pieces = [int(piece) for piece in date_of_birth.split(\"-\")]\n",
    "        parsed_date = date(date_pieces[0], date_pieces[1], date_pieces[2])       \n",
    "        \n",
    "        return parsed_date\n",
    "    \n",
    "teacher = Person(\"Dr\", \"Daniel\", \"Mateos\", \"1984-05-23\")"
   ]
  },
  {
   "cell_type": "markdown",
   "metadata": {},
   "source": [
    "#### Ejercicio\n",
    "\n",
    "Vamos a modificar las clases para que interoperen entre si.\n",
    "\n",
    "Modificaremos `Account` para que el titular sea una `Person`. Vamos a utilizar esta `Person` para varias cosas: cuando el titular haga una retirada o un deposito, le daremos las gracias con su nombre. Al hacer retiradas, vamos a comprobar que sea mayor de edad. Si no lo es, debera aportar una autorizacion de su tutor legal.\n",
    "\n",
    "Modificaremos `Person` para que tenga una `wallet` en la que guardar el efectivo. Nuestra persona ganará su sueldo en efectivo, y hará sus compras en efectivo. De vez en cuando, querrá ingresar o sacar dinero de su cuenta en el banco.\n",
    "\n",
    "\n",
    "El objetivo aqui es hacer dos clases que funcionen juntas e interoperen de una manera intuitiva: para eso, les pasamos referencias de la una a la otra para que puedan llamar a sus metodos respectivos.\n",
    "\n",
    "En resumen: Aqui quiero que implementeis los metodos `create_account`, `earn`, `spend`, `withdraw_cash` y `save` en Persona. `earn` y `spend` modifican la cartera de la persona, porque vivimos en 1960 y no tenemos tarjeta de crédito, mientras que `withdraw_cash` y `save` modifican tanto su cartera como el balance de su cuenta. \n",
    "\n",
    "Pensad tambien en el metodo `withdraw` de cuenta: no le falta algo tal como lo tenemos? Cuando hacemos `withdraw` dinero de nuestra cuenta en el mundo real, no nos *devuelve* algo el cajero? ;P"
   ]
  },
  {
   "cell_type": "markdown",
   "metadata": {},
   "source": [
    "1) Chequear que el holder sea una persona y saludarle al hacer deposit o withdraw"
   ]
  },
  {
   "cell_type": "code",
   "execution_count": 210,
   "metadata": {
    "collapsed": true
   },
   "outputs": [],
   "source": [
    "class Account(object):\n",
    "\n",
    "    def __init__(self, holder, balance):\n",
    "        try:\n",
    "            self.balance = float(balance)\n",
    "        except ValueError as e:\n",
    "            raise ValueError(\"An account balance must be numeric\")\n",
    "        \n",
    "        if type(holder) != Person:\n",
    "            raise TypeError(\"Holder %s of type %s is not of type Person\" % (holder, type(holder)))\n",
    "        else:\n",
    "            self.holder = holder\n",
    "        \n",
    "    def __repr__(self):\n",
    "        representation = \"Account property of %s with balance %f\" % (self.holder, self.balance)\n",
    "        \n",
    "        return representation\n",
    "    \n",
    "    def deposit(self, amount):\n",
    "        print(\"Muchas gracias, %s %s\" % (self.holder.title, self.holder.name))\n",
    "        self.balance += amount\n",
    "        \n",
    "    def withdraw(self, amount):\n",
    "        if amount > self.balance:\n",
    "            raise ValueError(\"No enough balance in %s\" % self)\n",
    "        else:\n",
    "            self.balance -= amount\n",
    "            print(\"Muchas gracias, %s %s\" % (self.holder.title, self.holder.name))\n",
    "\n",
    "            return amount\n",
    "        \n",
    "class Person(object):\n",
    "    ALLOWABLE_TITLES = [\"Dr\", \"Mr\", \"Mrs\"]\n",
    "    \n",
    "    def __init__(self, title, name, family_name, date_of_birth):\n",
    "        if title not in Person.ALLOWABLE_TITLES:\n",
    "            raise ValueError(\"%s is not an allowable title\" % title)\n",
    "        \n",
    "        self.title = title\n",
    "        self.name = name\n",
    "        self.family_name = family_name\n",
    "        self.date_of_birth = self.parse_date(date_of_birth)\n",
    "        \n",
    "    @staticmethod    \n",
    "    def parse_date(date_of_birth):\n",
    "        \n",
    "        date_pieces = [int(piece) for piece in date_of_birth.split(\"-\")]\n",
    "        parsed_date = date(date_pieces[0], date_pieces[1], date_pieces[2])       \n",
    "        \n",
    "        return parsed_date\n",
    "    "
   ]
  },
  {
   "cell_type": "code",
   "execution_count": 183,
   "metadata": {},
   "outputs": [
    {
     "name": "stdout",
     "output_type": "stream",
     "text": [
      "Muchas gracias, ['Dr', 'Mr', 'Mrs'] Dani\n"
     ]
    }
   ],
   "source": [
    "danimateos= Person(\"Dr\",\"Dani\", \"Mateos\", \"1984-05-23\")\n",
    "danis_account = Account(danimateos, 100)\n",
    "danis_account.deposit(200)"
   ]
  },
  {
   "cell_type": "markdown",
   "metadata": {},
   "source": [
    "2) Al hacer retiradas, vamos a comprobar que sea mayor de edad. Necesitaremos una manera de acceder a la edad de nuestra `Person` y de comprobar que cumple los requisitos."
   ]
  },
  {
   "cell_type": "code",
   "execution_count": 188,
   "metadata": {},
   "outputs": [
    {
     "data": {
      "text/plain": [
       "datetime.date(1984, 5, 23)"
      ]
     },
     "execution_count": 188,
     "metadata": {},
     "output_type": "execute_result"
    }
   ],
   "source": [
    "danimateos.date_of_birth"
   ]
  },
  {
   "cell_type": "markdown",
   "metadata": {},
   "source": [
    "Una diferencia de fechas está representada en el módulo `datetime` por `timedelta`."
   ]
  },
  {
   "cell_type": "code",
   "execution_count": 200,
   "metadata": {},
   "outputs": [
    {
     "data": {
      "text/plain": [
       "datetime.timedelta(12180)"
      ]
     },
     "execution_count": 200,
     "metadata": {},
     "output_type": "execute_result"
    }
   ],
   "source": [
    "date.today() - danimateos.date_of_birth\n",
    "\n"
   ]
  },
  {
   "cell_type": "code",
   "execution_count": 209,
   "metadata": {},
   "outputs": [
    {
     "data": {
      "text/plain": [
       "True"
      ]
     },
     "execution_count": 209,
     "metadata": {},
     "output_type": "execute_result"
    }
   ],
   "source": [
    "date(1970,1,1) - date(1901, 1, 1) > timedelta(days=18 * 365.2425)"
   ]
  },
  {
   "cell_type": "code",
   "execution_count": 207,
   "metadata": {},
   "outputs": [
    {
     "data": {
      "text/plain": [
       "datetime.timedelta(6574, 31536)"
      ]
     },
     "execution_count": 207,
     "metadata": {},
     "output_type": "execute_result"
    }
   ],
   "source": [
    "from datetime import timedelta\n",
    "\n",
    "timedelta(days=18 * 365.2425)"
   ]
  },
  {
   "cell_type": "markdown",
   "metadata": {},
   "source": [
    "La edad es una característica que va cambiando. Por ello, la meteremos en un método y la calcularemos cuando nos la pidan a partir de la fecha de nacimiento. \n",
    "\n",
    "Comprobaremos la edad en el método `withdraw`, pero la calcularemos en `Person`."
   ]
  },
  {
   "cell_type": "code",
   "execution_count": 219,
   "metadata": {
    "collapsed": true
   },
   "outputs": [],
   "source": [
    "class Account(object):\n",
    "\n",
    "    def __init__(self, holder, balance):\n",
    "        try:\n",
    "            self.balance = float(balance)\n",
    "        except ValueError as e:\n",
    "            raise ValueError(\"An account balance must be numeric\")\n",
    "        \n",
    "        if type(holder) != Person:\n",
    "            raise TypeError(\"Holder %s of type %s is not of type Person\" % (holder, type(holder)))\n",
    "        else:\n",
    "            self.holder = holder\n",
    "        \n",
    "    def __repr__(self):\n",
    "        representation = \"Account property of %s with balance %f\" % (self.holder, self.balance)\n",
    "        \n",
    "        return representation\n",
    "    \n",
    "    def deposit(self, amount):\n",
    "        print(\"Muchas gracias, %s %s\" % (self.holder.title, self.holder.name))\n",
    "        self.balance += amount\n",
    "        \n",
    "    def withdraw(self, amount):\n",
    "        \n",
    "        if self.holder.age() < timedelta(365.2425 * 18):\n",
    "            raise ValueError(\"Holder %s is not an adult\" % self.holder)\n",
    "        \n",
    "        if amount > self.balance:\n",
    "            raise ValueError(\"No enough balance in %s\" % self)\n",
    "        \n",
    "        self.balance -= amount\n",
    "        print(\"Muchas gracias, %s %s\" % (self.holder.title, self.holder.name))\n",
    "\n",
    "        return amount\n",
    "        \n",
    "class Person(object):\n",
    "    ALLOWABLE_TITLES = [\"Dr\", \"Mr\", \"Mrs\"]\n",
    "    \n",
    "    def __init__(self, title, name, family_name, date_of_birth):\n",
    "        if title not in Person.ALLOWABLE_TITLES:\n",
    "            raise ValueError(\"%s is not an allowable title\" % title)\n",
    "        \n",
    "        self.title = title\n",
    "        self.name = name\n",
    "        self.family_name = family_name\n",
    "        self.date_of_birth = self.parse_date(date_of_birth)\n",
    "        \n",
    "    @staticmethod    \n",
    "    def parse_date(date_of_birth):\n",
    "        \n",
    "        date_pieces = [int(piece) for piece in date_of_birth.split(\"-\")]\n",
    "        parsed_date = date(date_pieces[0], date_pieces[1], date_pieces[2])       \n",
    "        \n",
    "        return parsed_date\n",
    "    \n",
    "    def age(self):\n",
    "        return date.today() - self.date_of_birth\n",
    "        \n",
    "    def __repr__(self):\n",
    "        return \"%s %s %s\" % (self.title, self.name, self.family_name)"
   ]
  },
  {
   "cell_type": "code",
   "execution_count": 220,
   "metadata": {},
   "outputs": [
    {
     "ename": "ValueError",
     "evalue": "Holder Dr Dani Mateos is not an adult",
     "output_type": "error",
     "traceback": [
      "\u001b[0;31m---------------------------------------------------------------------------\u001b[0m",
      "\u001b[0;31mValueError\u001b[0m                                Traceback (most recent call last)",
      "\u001b[0;32m<ipython-input-220-e0e6704967b7>\u001b[0m in \u001b[0;36m<module>\u001b[0;34m()\u001b[0m\n\u001b[1;32m      1\u001b[0m \u001b[0mdanimateos\u001b[0m\u001b[0;34m=\u001b[0m \u001b[0mPerson\u001b[0m\u001b[0;34m(\u001b[0m\u001b[0;34m\"Dr\"\u001b[0m\u001b[0;34m,\u001b[0m\u001b[0;34m\"Dani\"\u001b[0m\u001b[0;34m,\u001b[0m \u001b[0;34m\"Mateos\"\u001b[0m\u001b[0;34m,\u001b[0m \u001b[0;34m\"2004-05-23\"\u001b[0m\u001b[0;34m)\u001b[0m\u001b[0;34m\u001b[0m\u001b[0m\n\u001b[1;32m      2\u001b[0m \u001b[0mdanimateos_account\u001b[0m \u001b[0;34m=\u001b[0m \u001b[0mAccount\u001b[0m\u001b[0;34m(\u001b[0m\u001b[0mdanimateos\u001b[0m\u001b[0;34m,\u001b[0m \u001b[0;36m5000\u001b[0m\u001b[0;34m)\u001b[0m\u001b[0;34m\u001b[0m\u001b[0m\n\u001b[0;32m----> 3\u001b[0;31m \u001b[0mdanimateos_account\u001b[0m\u001b[0;34m.\u001b[0m\u001b[0mwithdraw\u001b[0m\u001b[0;34m(\u001b[0m\u001b[0;36m100\u001b[0m\u001b[0;34m)\u001b[0m\u001b[0;34m\u001b[0m\u001b[0m\n\u001b[0m",
      "\u001b[0;32m<ipython-input-219-821df80d8031>\u001b[0m in \u001b[0;36mwithdraw\u001b[0;34m(self, amount)\u001b[0m\n\u001b[1;32m     24\u001b[0m \u001b[0;34m\u001b[0m\u001b[0m\n\u001b[1;32m     25\u001b[0m         \u001b[0;32mif\u001b[0m \u001b[0mself\u001b[0m\u001b[0;34m.\u001b[0m\u001b[0mholder\u001b[0m\u001b[0;34m.\u001b[0m\u001b[0mage\u001b[0m\u001b[0;34m(\u001b[0m\u001b[0;34m)\u001b[0m \u001b[0;34m<\u001b[0m \u001b[0mtimedelta\u001b[0m\u001b[0;34m(\u001b[0m\u001b[0;36m365.2425\u001b[0m \u001b[0;34m*\u001b[0m \u001b[0;36m18\u001b[0m\u001b[0;34m)\u001b[0m\u001b[0;34m:\u001b[0m\u001b[0;34m\u001b[0m\u001b[0m\n\u001b[0;32m---> 26\u001b[0;31m             \u001b[0;32mraise\u001b[0m \u001b[0mValueError\u001b[0m\u001b[0;34m(\u001b[0m\u001b[0;34m\"Holder %s is not an adult\"\u001b[0m \u001b[0;34m%\u001b[0m \u001b[0mself\u001b[0m\u001b[0;34m.\u001b[0m\u001b[0mholder\u001b[0m\u001b[0;34m)\u001b[0m\u001b[0;34m\u001b[0m\u001b[0m\n\u001b[0m\u001b[1;32m     27\u001b[0m \u001b[0;34m\u001b[0m\u001b[0m\n\u001b[1;32m     28\u001b[0m         \u001b[0;32mif\u001b[0m \u001b[0mamount\u001b[0m \u001b[0;34m>\u001b[0m \u001b[0mself\u001b[0m\u001b[0;34m.\u001b[0m\u001b[0mbalance\u001b[0m\u001b[0;34m:\u001b[0m\u001b[0;34m\u001b[0m\u001b[0m\n",
      "\u001b[0;31mValueError\u001b[0m: Holder Dr Dani Mateos is not an adult"
     ]
    }
   ],
   "source": [
    "danimateos= Person(\"Dr\",\"Dani\", \"Mateos\", \"2004-05-23\")\n",
    "danimateos_account = Account(danimateos, 5000)\n",
    "danimateos_account.withdraw(100)\n"
   ]
  },
  {
   "cell_type": "markdown",
   "metadata": {
    "collapsed": true
   },
   "source": [
    "3) Modificaremos Person para que tenga una wallet en la que guardar el efectivo. Nuestra persona ganará su sueldo en efectivo, y hará sus compras en efectivo. "
   ]
  },
  {
   "cell_type": "code",
   "execution_count": 238,
   "metadata": {
    "collapsed": true
   },
   "outputs": [],
   "source": [
    "class Account(object):\n",
    "\n",
    "    def __init__(self, holder, balance):\n",
    "        try:\n",
    "            self.balance = float(balance)\n",
    "        except ValueError as e:\n",
    "            raise ValueError(\"An account balance must be numeric\")\n",
    "        \n",
    "        if type(holder) != Person:\n",
    "            raise TypeError(\"Holder %s of type %s is not of type Person\" % (holder, type(holder)))\n",
    "        else:\n",
    "            self.holder = holder\n",
    "        \n",
    "    def __repr__(self):\n",
    "        representation = \"Account property of %s with balance %f\" % (self.holder, self.balance)\n",
    "        \n",
    "        return representation\n",
    "    \n",
    "    def deposit(self, amount):\n",
    "        print(\"Muchas gracias, %s %s\" % (self.holder.title, self.holder.name))\n",
    "        self.balance += amount\n",
    "        \n",
    "    def withdraw(self, amount):\n",
    "        \n",
    "        if self.holder.age() < timedelta(365.2425 * 18):\n",
    "            raise ValueError(\"Holder %s is not an adult\" % self.holder)\n",
    "        \n",
    "        if amount > self.balance:\n",
    "            raise ValueError(\"No enough balance in %s\" % self)\n",
    "        \n",
    "        self.balance -= amount\n",
    "        print(\"Muchas gracias, %s %s\" % (self.holder.title, self.holder.name))\n",
    "\n",
    "        return amount\n",
    "        \n",
    "class Person(object):\n",
    "    ALLOWABLE_TITLES = [\"Dr\", \"Mr\", \"Mrs\"]\n",
    "    \n",
    "    def __init__(self, title, name, family_name, date_of_birth, wallet=0):\n",
    "        if title not in Person.ALLOWABLE_TITLES:\n",
    "            raise ValueError(\"%s is not an allowable title\" % title)\n",
    "        \n",
    "        self.title = title\n",
    "        self.name = name\n",
    "        self.family_name = family_name\n",
    "        self.date_of_birth = self.parse_date(date_of_birth)\n",
    "        self.wallet = wallet\n",
    "        \n",
    "    @staticmethod    \n",
    "    def parse_date(date_of_birth):\n",
    "        \n",
    "        date_pieces = [int(piece) for piece in date_of_birth.split(\"-\")]\n",
    "        parsed_date = date(date_pieces[0], date_pieces[1], date_pieces[2])       \n",
    "        \n",
    "        return parsed_date\n",
    "    \n",
    "    def age(self):\n",
    "        return date.today() - self.date_of_birth\n",
    "        \n",
    "    def __repr__(self):\n",
    "        return \"%s %s %s\" % (self.title, self.name, self.family_name)\n",
    "    \n",
    "    def earn(self, amount):\n",
    "        self.wallet += amount\n",
    "        \n",
    "    def spend(self, amount):\n",
    "        if amount > self.wallet:\n",
    "            raise ValueError(\"No enough cash in my wallet\")\n",
    "        \n",
    "        self.wallet -= amount"
   ]
  },
  {
   "cell_type": "code",
   "execution_count": 246,
   "metadata": {
    "collapsed": true
   },
   "outputs": [],
   "source": [
    "danimateos= Person(\"Dr\",\"Dani\", \"Mateos\", \"2004-05-23\")"
   ]
  },
  {
   "cell_type": "code",
   "execution_count": 240,
   "metadata": {
    "collapsed": true
   },
   "outputs": [],
   "source": [
    "gilito = Person(\"Mr\", \"Tio\", \"Gilito\", \"1965-01-01\", 5e106)"
   ]
  },
  {
   "cell_type": "code",
   "execution_count": 241,
   "metadata": {},
   "outputs": [
    {
     "data": {
      "text/plain": [
       "5e+106"
      ]
     },
     "execution_count": 241,
     "metadata": {},
     "output_type": "execute_result"
    }
   ],
   "source": [
    "gilito.wallet"
   ]
  },
  {
   "cell_type": "code",
   "execution_count": 242,
   "metadata": {},
   "outputs": [
    {
     "name": "stdout",
     "output_type": "stream",
     "text": [
      "150\n",
      "0\n"
     ]
    }
   ],
   "source": [
    "danimateos.earn(150)\n",
    "print(danimateos.wallet)\n",
    "danimateos.spend(150)\n",
    "print(danimateos.wallet)"
   ]
  },
  {
   "cell_type": "code",
   "execution_count": 244,
   "metadata": {},
   "outputs": [
    {
     "name": "stdout",
     "output_type": "stream",
     "text": [
      "1500\n"
     ]
    }
   ],
   "source": [
    "danimateos.earn(150)\n",
    "danimateos.earn(150)\n",
    "danimateos.earn(150)\n",
    "danimateos.earn(150)\n",
    "danimateos.earn(150)\n",
    "print(danimateos.wallet)"
   ]
  },
  {
   "cell_type": "markdown",
   "metadata": {},
   "source": [
    "4) De vez en cuando, querrá ingresar o sacar dinero de su cuenta en el banco.\n",
    "\n",
    "Para acceder a su cuenta, Person debe tener una referencia a ella. Ya que account necesita una referencia a su `holder`, tenemos referencias cruzadas. No podemos crearlas, por tanto, en el `__init__` de ambas clases: una tiene que ser creada antes que la otra. ¿Cuál? \n",
    "\n",
    "Pensad: ¿Qué tiene más sentido, una persona sin cuenta en el banco o una cuenta sin titular?"
   ]
  },
  {
   "cell_type": "code",
   "execution_count": 253,
   "metadata": {
    "collapsed": true
   },
   "outputs": [],
   "source": [
    "class Account(object):\n",
    "\n",
    "    def __init__(self, holder, balance):\n",
    "        try:\n",
    "            self.balance = float(balance)\n",
    "        except ValueError as e:\n",
    "            raise ValueError(\"An account balance must be numeric\")\n",
    "        \n",
    "        if type(holder) != Person:\n",
    "            raise TypeError(\"Holder %s of type %s is not of type Person\" % (holder, type(holder)))\n",
    "        else:\n",
    "            self.holder = holder\n",
    "        \n",
    "    def __repr__(self):\n",
    "        representation = \"Account property of %s with balance %f\" % (self.holder, self.balance)\n",
    "        \n",
    "        return representation\n",
    "    \n",
    "    def deposit(self, amount):\n",
    "        print(\"Muchas gracias, %s %s\" % (self.holder.title, self.holder.name))\n",
    "        self.balance += amount\n",
    "        \n",
    "    def withdraw(self, amount):\n",
    "        \n",
    "        if self.holder.age() < timedelta(365.2425 * 18):\n",
    "            raise ValueError(\"Holder %s is not an adult\" % self.holder)\n",
    "        \n",
    "        if amount > self.balance:\n",
    "            raise ValueError(\"No enough balance in %s\" % self)\n",
    "        \n",
    "        self.balance -= amount\n",
    "        print(\"Muchas gracias, %s %s\" % (self.holder.title, self.holder.name))\n",
    "\n",
    "        return amount\n",
    "        \n",
    "class Person(object):\n",
    "    ALLOWABLE_TITLES = [\"Dr\", \"Mr\", \"Mrs\"]\n",
    "    \n",
    "    def __init__(self, title, name, family_name, date_of_birth, wallet=0):\n",
    "        if title not in Person.ALLOWABLE_TITLES:\n",
    "            raise ValueError(\"%s is not an allowable title\" % title)\n",
    "        \n",
    "        self.title = title\n",
    "        self.name = name\n",
    "        self.family_name = family_name\n",
    "        self.date_of_birth = self.parse_date(date_of_birth)\n",
    "        self.wallet = wallet\n",
    "        # As a general rule of style, create all atributes for a class in its __init__,\n",
    "        # even if we have no way to assign them a meaningful value.\n",
    "        self.account = None\n",
    "        \n",
    "    @staticmethod    \n",
    "    def parse_date(date_of_birth):\n",
    "        \n",
    "        date_pieces = [int(piece) for piece in date_of_birth.split(\"-\")]\n",
    "        parsed_date = date(date_pieces[0], date_pieces[1], date_pieces[2])       \n",
    "        \n",
    "        return parsed_date\n",
    "    \n",
    "    def age(self):\n",
    "        return date.today() - self.date_of_birth\n",
    "        \n",
    "    def __repr__(self):\n",
    "        return \"%s %s %s\" % (self.title, self.name, self.family_name)\n",
    "    \n",
    "    def earn(self, amount):\n",
    "        self.wallet += amount\n",
    "        \n",
    "    def spend(self, amount):\n",
    "        if amount > self.wallet:\n",
    "            raise ValueError(\"No enough cash in my wallet\")\n",
    "        \n",
    "        self.wallet -= amount\n",
    "    \n",
    "    # At some point in their life, our Person will get an account\n",
    "    def create_account(self):\n",
    "        self.account = Account(self, 0)"
   ]
  },
  {
   "cell_type": "code",
   "execution_count": 254,
   "metadata": {},
   "outputs": [
    {
     "name": "stdout",
     "output_type": "stream",
     "text": [
      "None\n",
      "Account property of Dr Dani Mateos with balance 0.000000\n"
     ]
    }
   ],
   "source": [
    "danimateos= Person(\"Dr\",\"Dani\", \"Mateos\", \"2004-05-23\")\n",
    "print(danimateos.account)\n",
    "danimateos.create_account()\n",
    "print(danimateos.account)\n"
   ]
  },
  {
   "cell_type": "code",
   "execution_count": 252,
   "metadata": {},
   "outputs": [
    {
     "data": {
      "text/plain": [
       "datetime.timedelta(4875)"
      ]
     },
     "execution_count": 252,
     "metadata": {},
     "output_type": "execute_result"
    }
   ],
   "source": [
    "danimateos.account.holder.age()"
   ]
  },
  {
   "cell_type": "markdown",
   "metadata": {},
   "source": [
    "4) De vez en cuando, querrá ingresar o sacar dinero de su cuenta en el banco.\n",
    "\n",
    "Por fin estamos listos para implementar los métodos que transfieren dinero de la cuenta a la cartera y viceversa:"
   ]
  },
  {
   "cell_type": "code",
   "execution_count": 258,
   "metadata": {
    "collapsed": true
   },
   "outputs": [],
   "source": [
    "class Account(object):\n",
    "\n",
    "    def __init__(self, holder, balance):\n",
    "        try:\n",
    "            self.balance = float(balance)\n",
    "        except ValueError as e:\n",
    "            raise ValueError(\"An account balance must be numeric\")\n",
    "        \n",
    "        if type(holder) != Person:\n",
    "            raise TypeError(\"Holder %s of type %s is not of type Person\" % (holder, type(holder)))\n",
    "        else:\n",
    "            self.holder = holder\n",
    "        \n",
    "    def __repr__(self):\n",
    "        representation = \"Account property of %s with balance %f\" % (self.holder, self.balance)\n",
    "        \n",
    "        return representation\n",
    "    \n",
    "    def deposit(self, amount):\n",
    "        print(\"Muchas gracias, %s %s\" % (self.holder.title, self.holder.name))\n",
    "        self.balance += amount\n",
    "        \n",
    "    def withdraw(self, amount):\n",
    "        \n",
    "        if self.holder.age() < timedelta(365.2425 * 18):\n",
    "            raise ValueError(\"Holder %s is not an adult\" % self.holder)\n",
    "        \n",
    "        if amount > self.balance:\n",
    "            raise ValueError(\"No enough balance in %s\" % self)\n",
    "        \n",
    "        self.balance -= amount\n",
    "        print(\"Muchas gracias, %s %s\" % (self.holder.title, self.holder.name))\n",
    "\n",
    "        return amount\n",
    "        \n",
    "class Person(object):\n",
    "    ALLOWABLE_TITLES = [\"Dr\", \"Mr\", \"Mrs\"]\n",
    "    \n",
    "    def __init__(self, title, name, family_name, date_of_birth, wallet=0):\n",
    "        if title not in Person.ALLOWABLE_TITLES:\n",
    "            raise ValueError(\"%s is not an allowable title\" % title)\n",
    "        \n",
    "        self.title = title\n",
    "        self.name = name\n",
    "        self.family_name = family_name\n",
    "        self.date_of_birth = self.parse_date(date_of_birth)\n",
    "        self.wallet = wallet\n",
    "        self.account = None\n",
    "        \n",
    "    @staticmethod    \n",
    "    def parse_date(date_of_birth):\n",
    "        \n",
    "        date_pieces = [int(piece) for piece in date_of_birth.split(\"-\")]\n",
    "        parsed_date = date(date_pieces[0], date_pieces[1], date_pieces[2])       \n",
    "        \n",
    "        return parsed_date\n",
    "    \n",
    "    def age(self):\n",
    "        return date.today() - self.date_of_birth\n",
    "        \n",
    "    def __repr__(self):\n",
    "        return \"%s %s %s\" % (self.title, self.name, self.family_name)\n",
    "    \n",
    "    def earn(self, amount):\n",
    "        self.wallet += amount\n",
    "        \n",
    "    def spend(self, amount):\n",
    "        if amount > self.wallet:\n",
    "            raise ValueError(\"No enough cash in my wallet\")\n",
    "        \n",
    "        self.wallet -= amount\n",
    "        \n",
    "    def create_account(self):\n",
    "        self.account = Account(self, 0)\n",
    "        \n",
    "    def save(self, amount):\n",
    "        if amount > self.wallet:\n",
    "            raise ValueError(\"No enough cash in my wallet\")\n",
    "        \n",
    "        self.wallet -= amount\n",
    "        self.account.deposit(amount)\n",
    "    \n",
    "    def withdraw_cash(self, amount):\n",
    "        self.wallet += self.account.withdraw(amount)\n",
    "        "
   ]
  },
  {
   "cell_type": "markdown",
   "metadata": {},
   "source": [
    "Y podemos jugar con el diseño que hemos creado:"
   ]
  },
  {
   "cell_type": "code",
   "execution_count": 268,
   "metadata": {},
   "outputs": [
    {
     "name": "stdout",
     "output_type": "stream",
     "text": [
      "None 0\n",
      "Account property of Dr Dani Mateos with balance 0.000000 0\n",
      "Account property of Dr Dani Mateos with balance 0.000000 750\n",
      "Muchas gracias, Dr Dani\n",
      "Account property of Dr Dani Mateos with balance 600.000000 150\n",
      "Account property of Dr Dani Mateos with balance 600.000000 0\n",
      "Mierda estoy pelado\n",
      "Muchas gracias, Dr Dani\n",
      "Account property of Dr Dani Mateos with balance 300.000000 150\n"
     ]
    }
   ],
   "source": [
    "danimateos= Person(\"Dr\",\"Dani\", \"Mateos\", \"1984-05-23\")\n",
    "print(danimateos.account, danimateos.wallet)\n",
    "danimateos.create_account()\n",
    "print(danimateos.account, danimateos.wallet)\n",
    "danimateos.earn(150)\n",
    "danimateos.earn(150)\n",
    "danimateos.earn(150)\n",
    "danimateos.earn(150)\n",
    "danimateos.earn(150)\n",
    "print(danimateos.account, danimateos.wallet)\n",
    "danimateos.save(600)\n",
    "print(danimateos.account, danimateos.wallet)\n",
    "danimateos.spend(150)\n",
    "print(danimateos.account, danimateos.wallet)\n",
    "try:\n",
    "    danimateos.spend(150)\n",
    "except:\n",
    "    print(\"Mierda estoy pelado\")\n",
    "    danimateos.withdraw_cash(300)\n",
    "    danimateos.spend(150)\n",
    "print(danimateos.account, danimateos.wallet)"
   ]
  },
  {
   "cell_type": "markdown",
   "metadata": {},
   "source": [
    "# Para llevar: resumen del tema\n",
    "\n",
    "- La programación orientada a objetos se basa en clases y objetos (instancias).\n",
    "\n",
    "- Las clases nos permiten construir instancias, son como recetas.\n",
    "\n",
    "- La idea de la POO es tener agrupados datos y comportamientos.\n",
    "\n",
    "- Una instancia tiene tipo (clase), métodos y atributos. "
   ]
  }
 ],
 "metadata": {
  "kernelspec": {
   "display_name": "Python 3",
   "language": "python",
   "name": "python3"
  },
  "language_info": {
   "codemirror_mode": {
    "name": "ipython",
    "version": 3
   },
   "file_extension": ".py",
   "mimetype": "text/x-python",
   "name": "python",
   "nbconvert_exporter": "python",
   "pygments_lexer": "ipython3",
   "version": "3.6.3"
  }
 },
 "nbformat": 4,
 "nbformat_minor": 1
}
