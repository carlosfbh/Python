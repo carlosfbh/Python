{
 "cells": [
  {
   "cell_type": "markdown",
   "metadata": {
    "slideshow": {
     "slide_type": "slide"
    }
   },
   "source": [
    "# Tomar decisiones en nuestros programas\n",
    "\n",
    "<img src=\"https://www.python.org/static/img/python-logo.png\" alt=\"yogen\" style=\"width: 200px; float: right;\"/>\n",
    "<br>\n",
    "<br>\n",
    "<br>\n",
    "<a href = \"http://yogen.io\"><img src=\"http://yogen.io/assets/logo.svg\" alt=\"yogen\" style=\"width: 200px; float: right;\"/></a>\n"
   ]
  },
  {
   "cell_type": "markdown",
   "metadata": {
    "slideshow": {
     "slide_type": "slide"
    }
   },
   "source": [
    "# Objetivo de este tema\n",
    "\n",
    "-   Conocer las variables de tipo lógico más en profundidad\n",
    "\n",
    "-   Usarlas para tomar decisiones dentro de nuestros programas"
   ]
  },
  {
   "cell_type": "markdown",
   "metadata": {
    "slideshow": {
     "slide_type": "slide"
    }
   },
   "source": [
    "# Operadores lógicos "
   ]
  },
  {
   "cell_type": "markdown",
   "metadata": {
    "slideshow": {
     "slide_type": "slide"
    }
   },
   "source": [
    "## Operadores relacionales\n",
    "\n",
    "Sirven para comparar variables, y devuelven un resultado de tipo *lógico*\n",
    "\n",
    "|       Operador      | Símbolo | Ejemplo|\n",
    "|  -------------------|---------|--------|\n",
    "|       Menor que     |   $<$   |  $3<2$ |\n",
    "|       Mayor que     |   $>$   |  $3>2$ |\n",
    "|   Menor o igual que |  $<=$   | $3<=2$ |\n",
    "|   Mayor o igual que |  $>=$   | $3>=2$ | \n",
    "|       Es igual      |  $==$   | $3==2$ |\n",
    "|     Es diferente    |  $!=$   | $3!=2$ |"
   ]
  },
  {
   "cell_type": "markdown",
   "metadata": {
    "slideshow": {
     "slide_type": "fragment"
    }
   },
   "source": [
    "#### Ejemplo"
   ]
  },
  {
   "cell_type": "code",
   "execution_count": null,
   "metadata": {
    "collapsed": true
   },
   "outputs": [],
   "source": []
  },
  {
   "cell_type": "markdown",
   "metadata": {
    "slideshow": {
     "slide_type": "slide"
    }
   },
   "source": [
    "## Operadores lógicos no relacionales\n",
    "\n",
    "Combinan valores lógicos para dar lugar\n",
    "a otro valor lógico.\n",
    "\n",
    "\n",
    "|   Operador | Símbolo |   Equivalente    | Operación|\n",
    "|  ----------|---------|------------------|-----------|\n",
    "|      Y     |    &    | and |  Y lógico|\n",
    "|      O     |     &#124;    | or  |  O lógico|\n",
    "|      No    |         | not |  Negación|\n"
   ]
  },
  {
   "cell_type": "markdown",
   "metadata": {
    "slideshow": {
     "slide_type": "slide"
    }
   },
   "source": [
    "## Operador Y lógico\n",
    "\n",
    "Tabla de la verdad\n",
    "\n",
    "|         a      |       b        |     a & b   |\n",
    "|----------------|----------------|-------------|\n",
    "|       Falso    |       Falso    |     Falso   |\n",
    "|       Falso    |     Verdadero  |     Falso   |\n",
    "|     Verdadero  |       Falso    |     Falso   |\n",
    "|     Verdadero  |     Verdadero  |   Verdadero |"
   ]
  },
  {
   "cell_type": "markdown",
   "metadata": {
    "slideshow": {
     "slide_type": "fragment"
    }
   },
   "source": [
    "#### Ejemplo"
   ]
  },
  {
   "cell_type": "code",
   "execution_count": null,
   "metadata": {
    "collapsed": true
   },
   "outputs": [],
   "source": []
  },
  {
   "cell_type": "markdown",
   "metadata": {
    "slideshow": {
     "slide_type": "slide"
    }
   },
   "source": [
    "## Operador O lógico\n",
    "\n",
    "Tabla de la verdad\n",
    "\n",
    "|         a      |       b        |  a  &#124; b   |\n",
    "|----------------|----------------|-------------|\n",
    "|       Falso    |       Falso    |     Falso   |\n",
    "|       Falso    |     Verdadero  |   Verdadero |\n",
    "|     Verdadero  |       Falso    |   Verdadero |\n",
    "|     Verdadero  |     Verdadero  |   Verdadero |"
   ]
  },
  {
   "cell_type": "markdown",
   "metadata": {
    "slideshow": {
     "slide_type": "fragment"
    }
   },
   "source": [
    "#### Ejemplo"
   ]
  },
  {
   "cell_type": "code",
   "execution_count": null,
   "metadata": {
    "collapsed": true
   },
   "outputs": [],
   "source": []
  },
  {
   "cell_type": "markdown",
   "metadata": {
    "slideshow": {
     "slide_type": "slide"
    }
   },
   "source": [
    "## Negación lógica\n",
    "\n",
    "Tabla de la verdad\n",
    "\n",
    "|   a |  not a|\n",
    "|----------------|--------------------|\n",
    "|       Falso     |       Verdadero|\n",
    "|     Verdadero   |         Falso|"
   ]
  },
  {
   "cell_type": "markdown",
   "metadata": {
    "slideshow": {
     "slide_type": "fragment"
    }
   },
   "source": [
    "#### Ejemplo"
   ]
  },
  {
   "cell_type": "code",
   "execution_count": 1,
   "metadata": {},
   "outputs": [
    {
     "data": {
      "text/plain": [
       "True"
      ]
     },
     "execution_count": 1,
     "metadata": {},
     "output_type": "execute_result"
    }
   ],
   "source": [
    "a = False\n",
    "not a"
   ]
  },
  {
   "cell_type": "markdown",
   "metadata": {},
   "source": [
    "Orden de evaluación"
   ]
  },
  {
   "cell_type": "markdown",
   "metadata": {
    "slideshow": {
     "slide_type": "slide"
    }
   },
   "source": [
    "## Evaluación perezosa\n",
    "\n",
    "En muchas ocasiones, los\n",
    "operadores `and` y `or` no necesitan usar todos\n",
    "los argumentos para obtener el resultado. Por ejemplo:\n",
    "\n",
    "-   `False and b`\n",
    "\n",
    "    -   ¿A qué evalúa esta expresión? ¿Depende del valor de b?\n",
    "\n",
    "-   `True or b`\n",
    "\n",
    "    -   ¿A qué evalúa esta expresión? ¿Depende del valor de b?"
   ]
  },
  {
   "cell_type": "markdown",
   "metadata": {
    "slideshow": {
     "slide_type": "slide"
    }
   },
   "source": [
    "## Operadores perezosos\n",
    "\n",
    "Ahorran operaciones y no tienen ninguna diferencia semántica con sus versiones no perezosas. Los operadores que usan el símbolo no son perezosos.\n",
    "\n",
    "-   Operador Y perezoso `and`\n",
    "\n",
    "-   Operador O perezoso `or`"
   ]
  },
  {
   "cell_type": "markdown",
   "metadata": {
    "slideshow": {
     "slide_type": "fragment"
    }
   },
   "source": [
    "#### Ejemplo"
   ]
  },
  {
   "cell_type": "code",
   "execution_count": 2,
   "metadata": {
    "collapsed": true
   },
   "outputs": [],
   "source": [
    "a = 4\n",
    "b = 5"
   ]
  },
  {
   "cell_type": "code",
   "execution_count": 3,
   "metadata": {},
   "outputs": [
    {
     "data": {
      "text/plain": [
       "False"
      ]
     },
     "execution_count": 3,
     "metadata": {},
     "output_type": "execute_result"
    }
   ],
   "source": [
    "a>b"
   ]
  },
  {
   "cell_type": "code",
   "execution_count": 4,
   "metadata": {},
   "outputs": [
    {
     "data": {
      "text/plain": [
       "False"
      ]
     },
     "execution_count": 4,
     "metadata": {},
     "output_type": "execute_result"
    }
   ],
   "source": [
    "cond1 = True\n",
    "cond2 = False\n",
    "cond1&cond2"
   ]
  },
  {
   "cell_type": "code",
   "execution_count": 6,
   "metadata": {},
   "outputs": [
    {
     "data": {
      "text/plain": [
       "False"
      ]
     },
     "execution_count": 6,
     "metadata": {},
     "output_type": "execute_result"
    }
   ],
   "source": [
    "a>5 & b<4 & a>6"
   ]
  },
  {
   "cell_type": "code",
   "execution_count": 8,
   "metadata": {},
   "outputs": [
    {
     "data": {
      "text/plain": [
       "False"
      ]
     },
     "execution_count": 8,
     "metadata": {},
     "output_type": "execute_result"
    }
   ],
   "source": [
    "#Para que la evaluación sea perezosa se utiliza and\n",
    "a>5 and b<4 and a>6"
   ]
  },
  {
   "cell_type": "code",
   "execution_count": 9,
   "metadata": {},
   "outputs": [
    {
     "data": {
      "text/plain": [
       "False"
      ]
     },
     "execution_count": 9,
     "metadata": {},
     "output_type": "execute_result"
    }
   ],
   "source": [
    "a>5 and (b<4 or a>6)"
   ]
  },
  {
   "cell_type": "markdown",
   "metadata": {
    "slideshow": {
     "slide_type": "slide"
    }
   },
   "source": [
    "# Instrucción if \n",
    "\n",
    "La instrucción if nos permite construir bifurcaciones de ejecución.\n",
    "\n",
    "Esto significa que es la herramienta básica que necesitamos para que nuestros programas se adapten a las circunstacias."
   ]
  },
  {
   "cell_type": "markdown",
   "metadata": {
    "slideshow": {
     "slide_type": "slide"
    }
   },
   "source": [
    "## ¿Cómo hacemos que el programa tome la decisión de si acierta o no?\n",
    "\n",
    "Nuestro programa decide \n",
    "\n",
    "La estructura general es\n",
    "\n",
    "```python\n",
    "if condicion:\n",
    "    # Codigo a ejecutar si la condicion es verdadera\n",
    "else:\n",
    "    # Codigo a ejecutar si la condicion es falsa (opcional)\n",
    "```"
   ]
  },
  {
   "cell_type": "code",
   "execution_count": null,
   "metadata": {
    "collapsed": true
   },
   "outputs": [],
   "source": []
  },
  {
   "cell_type": "markdown",
   "metadata": {
    "slideshow": {
     "slide_type": "slide"
    }
   },
   "source": [
    "## Bloques de código\n",
    "\n",
    "Dentro de la instrucción if, tenemos que comenzar un bloque\n",
    "de código. Los bloques de código:\n",
    "\n",
    "-   El símbolo de dos puntos indica el comienzo de un bloque\n",
    "\n",
    "-   Tienen que incrementar el nivel de indentación\n",
    "\n",
    "-   El nivel de indentación es siempre el mismo en un bloque\n",
    "\n",
    "-   No hay end, ni llaves que delimiten, etc.\n",
    "\n",
    "-   Por convención, se usan 4 espacios"
   ]
  },
  {
   "cell_type": "markdown",
   "metadata": {
    "slideshow": {
     "slide_type": "slide"
    }
   },
   "source": [
    "## Bloques de código\n",
    "\n",
    "En Python, los bloques de código no se delimitan por  llaves ({}), como en muchos otros lenguajes de programación, sino que forman un bloque todas las instrucciones que están al mismo nivel de indentación.\n",
    "\n",
    "```python\n",
    "if condicion: \n",
    "    # Bloque 1\n",
    "    # Sigo en bloque 1\n",
    "else: \n",
    "    # Bloque 2 (opcional)\n",
    "```"
   ]
  },
  {
   "cell_type": "code",
   "execution_count": null,
   "metadata": {
    "collapsed": true
   },
   "outputs": [],
   "source": []
  },
  {
   "cell_type": "markdown",
   "metadata": {
    "slideshow": {
     "slide_type": "slide"
    }
   },
   "source": [
    "## Adivina un número \n",
    "\n",
    "Vamos a preguntar un número del 1 al 10\n",
    "al usuario, y compararlo con un número aleatorio\n",
    "\n",
    "-   Si el usuario acierta, mostramos un mensaje diciendo que ha ganado.\n",
    "\n",
    "-   Si no acierta, muestra un mensaje de ánimo."
   ]
  },
  {
   "cell_type": "code",
   "execution_count": 86,
   "metadata": {},
   "outputs": [
    {
     "data": {
      "text/plain": [
       "8"
      ]
     },
     "execution_count": 86,
     "metadata": {},
     "output_type": "execute_result"
    }
   ],
   "source": [
    "#Para crear números aleatorios\n",
    "#Importamos libreria\n",
    "from random import random\n",
    "random()\n",
    "#Si queremos que nos dé un número aleatorio del 1 al 10\n",
    "int(10*random())"
   ]
  },
  {
   "cell_type": "code",
   "execution_count": 133,
   "metadata": {},
   "outputs": [
    {
     "name": "stdout",
     "output_type": "stream",
     "text": [
      "Adivina un número del 1 al 10: 9\n",
      "Te has pasado\n",
      "Adivina un número del 1 al 10: 5\n",
      "Te has quedado corto\n",
      "Adivina un número del 1 al 10: 6\n",
      "Enhorabuena! Has acertado! Has necesitado 3 intentos\n"
     ]
    }
   ],
   "source": [
    "num_aleatorio = int(10*random())\n",
    "\n",
    "while num_aleatorio == 0:\n",
    "    num_aleatorio = int(10*random())\n",
    "\n",
    "numero = int(input(\"Adivina un número del 1 al 10: \"))\n",
    "intentos = 1\n",
    "\n",
    "while numero != num_aleatorio:\n",
    "    if numero > num_aleatorio:\n",
    "        print(\"Te has pasado\")\n",
    "    else:\n",
    "        print(\"Te has quedado corto\")\n",
    "    numero = int(input(\"Adivina un número del 1 al 10: \"))\n",
    "    intentos = intentos + 1\n",
    "    \n",
    "print(\"Enhorabuena! Has acertado! Has necesitado %d intentos\" % (intentos))"
   ]
  },
  {
   "cell_type": "markdown",
   "metadata": {
    "slideshow": {
     "slide_type": "slide"
    }
   },
   "source": [
    "### Ejercicio\n",
    "Escribir un programa que pida el año de nacimiento al usuario\n",
    "\n",
    "El programa mostrará un mensaje diciendo si el año de nacimiento del usuario fue bisiesto"
   ]
  },
  {
   "cell_type": "markdown",
   "metadata": {},
   "source": [
    "Definición de año bisiesto:\n",
    "Es divisible entre 4 excepto si lo es también por 100\n",
    "En este caso, sólo es bisiesto si es divisible por 400"
   ]
  },
  {
   "cell_type": "code",
   "execution_count": 106,
   "metadata": {},
   "outputs": [
    {
     "name": "stdout",
     "output_type": "stream",
     "text": [
      "1900\n",
      "1901\n",
      "1902\n",
      "1903\n",
      "1904\n",
      "1905\n",
      "1906\n",
      "1907\n",
      "1908\n",
      "1909\n"
     ]
    }
   ],
   "source": [
    "años = list(range(1900,1910))\n",
    "\n",
    "for año in años:\n",
    "    print(año)"
   ]
  },
  {
   "cell_type": "code",
   "execution_count": 119,
   "metadata": {},
   "outputs": [
    {
     "name": "stdout",
     "output_type": "stream",
     "text": [
      "El año 1894 no es bisiesto\n",
      "El año 1895 no es bisiesto\n",
      "El año 1896 es bisiesto\n",
      "El año 1897 no es bisiesto\n",
      "El año 1898 no es bisiesto\n",
      "El año 1899 no es bisiesto\n",
      "El año 1900 no es bisiesto\n"
     ]
    }
   ],
   "source": [
    "años = list(range(1894,1901))\n",
    "\n",
    "for año in años:\n",
    "\n",
    "    if año%4 == 0:\n",
    "        if año%100 == 0 and not año%400 == 0:\n",
    "            print(\"El año %d no es bisiesto\" %(año))\n",
    "        else:\n",
    "            print(\"El año %d es bisiesto\" %(año))       \n",
    "    else:\n",
    "        print(\"El año %d no es bisiesto\" %(año))"
   ]
  },
  {
   "cell_type": "code",
   "execution_count": 52,
   "metadata": {},
   "outputs": [
    {
     "name": "stdout",
     "output_type": "stream",
     "text": [
      "Introduce el año: 1896\n",
      "No es bisiesto\n"
     ]
    }
   ],
   "source": [
    "año = int(input(\"Introduce el año: \"))\n",
    "\n",
    "divisible_by_4 = año % 4 == 0\n",
    "divisible_by_100 = año % 100 == 0\n",
    "divisible_by_400 = año % 400 == 0\n",
    "\n",
    "if divisible_by_4 and  (divisible_by_4 and divisible_by_100 and divisible_by_400):\n",
    "    print(\"Es bisiesto\")\n",
    "else:\n",
    "    print(\"No es bisiesto\")\n",
    "\n"
   ]
  },
  {
   "cell_type": "markdown",
   "metadata": {
    "slideshow": {
     "slide_type": "slide"
    }
   },
   "source": [
    "## Código del ejemplo"
   ]
  },
  {
   "cell_type": "code",
   "execution_count": null,
   "metadata": {
    "collapsed": true
   },
   "outputs": [],
   "source": []
  },
  {
   "cell_type": "markdown",
   "metadata": {
    "slideshow": {
     "slide_type": "slide"
    }
   },
   "source": [
    "<blockquote class=\"twitter-tweet\" data-lang=\"en\"><p lang=\"en\" dir=\"ltr\">There are two hard things in computer science: cache invalidation, naming things, and off-by-one errors.</p>&mdash; Jeff Atwood (@codinghorror) <a href=\"https://twitter.com/codinghorror/status/506010907021828096\">August 31, 2014</a></blockquote>\n",
    "<script async src=\"//platform.twitter.com/widgets.js\" charset=\"utf-8\"></script>"
   ]
  },
  {
   "cell_type": "markdown",
   "metadata": {
    "slideshow": {
     "slide_type": "slide"
    }
   },
   "source": [
    "## Ejemplo\n",
    "\n",
    "¿Qué valores tendrán x e y después de ejecutar este código?"
   ]
  },
  {
   "cell_type": "code",
   "execution_count": null,
   "metadata": {
    "collapsed": true
   },
   "outputs": [],
   "source": []
  },
  {
   "cell_type": "markdown",
   "metadata": {
    "slideshow": {
     "slide_type": "fragment"
    }
   },
   "source": [
    "#### Opciones:\n",
    "\n",
    "a)  x es 3, y es 4\n",
    "\n",
    "b)  x es 6, y es 8\n",
    "\n",
    "c)  x es 6, y es 4\n",
    "\n",
    "d)  x es 3, y es 8"
   ]
  },
  {
   "cell_type": "code",
   "execution_count": null,
   "metadata": {
    "collapsed": true
   },
   "outputs": [],
   "source": []
  },
  {
   "cell_type": "markdown",
   "metadata": {
    "slideshow": {
     "slide_type": "fragment"
    }
   },
   "source": [
    "**La respuesta correcta es la c)**"
   ]
  },
  {
   "cell_type": "markdown",
   "metadata": {},
   "source": [
    "#### Ejercicio\n",
    "\n",
    "Escribe un programa que testee si un número está a 100 o menos unidades de distancia de 1000 o de 2000.\n",
    "\n",
    "_Entrada de muestra_:\n",
    "```python\n",
    "990\n",
    "```\n",
    "\n",
    "_Salida de muestra_: \n",
    "```python\n",
    "True\n",
    "```"
   ]
  },
  {
   "cell_type": "code",
   "execution_count": 143,
   "metadata": {},
   "outputs": [
    {
     "name": "stdout",
     "output_type": "stream",
     "text": [
      "Introduce un número: 1950\n",
      "True\n"
     ]
    }
   ],
   "source": [
    "numero = int(input(\"Introduce un número: \"))\n",
    "if abs(numero - 1000) <= 100 or abs(numero - 2000) <= 100 :\n",
    "    print(True)\n",
    "else:\n",
    "    print(False)"
   ]
  },
  {
   "cell_type": "markdown",
   "metadata": {
    "slideshow": {
     "slide_type": "slide"
    }
   },
   "source": [
    "## Instrucciones if anidadas\n",
    "\n",
    "Dentro del cuerpo de la instrucción if podemos poner cualquier cosa, incluida otra instrucción if"
   ]
  },
  {
   "cell_type": "markdown",
   "metadata": {
    "slideshow": {
     "slide_type": "fragment"
    }
   },
   "source": [
    "#### Adivina un número\n",
    "\n",
    "Vamos a preguntar un número del 1 al 10 al usuario, y compararlo con un número aleatorio\n",
    "\n",
    "-   Si el usuario acierta, mostramos un mensaje diciendo que ha ganado.\n",
    "\n",
    "-   Si no acierta, le decimos si el número secreto es mayor o menor que\n",
    "    el número que ha introducido."
   ]
  },
  {
   "cell_type": "markdown",
   "metadata": {
    "slideshow": {
     "slide_type": "slide"
    }
   },
   "source": [
    "## Ejemplo con if anidados"
   ]
  },
  {
   "cell_type": "code",
   "execution_count": null,
   "metadata": {
    "collapsed": true
   },
   "outputs": [],
   "source": []
  },
  {
   "cell_type": "markdown",
   "metadata": {
    "slideshow": {
     "slide_type": "slide"
    }
   },
   "source": [
    "## Ejemplo con varios if anidados \n",
    "\n",
    "\n",
    "-   Escribir un programa que pida el año de nacimiento al usuario\n",
    "\n",
    "-   El programa mostrará un mensaje diciendo si el año de nacimiento del\n",
    "    usuario fue bisiesto"
   ]
  },
  {
   "cell_type": "markdown",
   "metadata": {
    "slideshow": {
     "slide_type": "slide"
    }
   },
   "source": [
    "## Pasos para definir nuestro programa"
   ]
  },
  {
   "cell_type": "markdown",
   "metadata": {
    "slideshow": {
     "slide_type": "fragment"
    }
   },
   "source": [
    "-  Definir las entradas al programa\n",
    "\n",
    "    -   El año de nacimiento"
   ]
  },
  {
   "cell_type": "markdown",
   "metadata": {
    "slideshow": {
     "slide_type": "fragment"
    }
   },
   "source": [
    "-  Definir las salidas del programa\n",
    "\n",
    "    -   Mensaje diciendo si el año es bisiesto"
   ]
  },
  {
   "cell_type": "markdown",
   "metadata": {
    "slideshow": {
     "slide_type": "fragment"
    }
   },
   "source": [
    "-  Algoritmo: método para transformar las entradas en las salidas\n",
    "\n",
    "    -   ¿Cómo podemos saber si un año es bisiesto?"
   ]
  },
  {
   "cell_type": "markdown",
   "metadata": {
    "slideshow": {
     "slide_type": "slide"
    }
   },
   "source": [
    "## ¿Cómo averiguar si un año es bisiesto?\n",
    "\n",
    "Definición de año bisiesto La regla es complicada. Un año\n",
    "es bisiesto si:\n",
    "\n",
    "-   Es divisible entre 4\n",
    "\n",
    "    -   Excepto si lo es también por 100\n",
    "\n",
    "        -   En este caso, solo es bisiesto si es divisible por 400\n",
    "\n",
    "Más detalles: <http://es.wikipedia.org/wiki/A%C3%B1o_bisiesto>"
   ]
  },
  {
   "cell_type": "markdown",
   "metadata": {
    "slideshow": {
     "slide_type": "slide"
    }
   },
   "source": [
    "## Divisibilidad\n",
    "\n",
    "¿Cómo calculo si un número es divisible entre otro? El\n",
    "operador % devuelve el resto de la división entera, y se\n",
    "puede usar para averiguar si un número divide al otro."
   ]
  },
  {
   "cell_type": "code",
   "execution_count": null,
   "metadata": {
    "collapsed": true
   },
   "outputs": [],
   "source": []
  },
  {
   "cell_type": "markdown",
   "metadata": {
    "slideshow": {
     "slide_type": "fragment"
    }
   },
   "source": [
    "#### En nuestro algoritmo"
   ]
  },
  {
   "cell_type": "code",
   "execution_count": null,
   "metadata": {
    "collapsed": true
   },
   "outputs": [],
   "source": []
  },
  {
   "cell_type": "markdown",
   "metadata": {
    "slideshow": {
     "slide_type": "slide"
    }
   },
   "source": [
    "### Primera aproximación"
   ]
  },
  {
   "cell_type": "code",
   "execution_count": null,
   "metadata": {
    "collapsed": true
   },
   "outputs": [],
   "source": []
  },
  {
   "cell_type": "markdown",
   "metadata": {
    "slideshow": {
     "slide_type": "slide"
    }
   },
   "source": [
    "## Comentarios sobre esta solución"
   ]
  },
  {
   "cell_type": "markdown",
   "metadata": {
    "slideshow": {
     "slide_type": "fragment"
    }
   },
   "source": [
    "### Ventajas:\n",
    "\n",
    "-   Funciona, resuelve el problema"
   ]
  },
  {
   "cell_type": "markdown",
   "metadata": {
    "slideshow": {
     "slide_type": "fragment"
    }
   },
   "source": [
    "### Inconvenientes:\n",
    "\n",
    "-   Demasiados anidamientos, difícil de entender, y por tanto\n",
    "    de modificar.\n",
    "\n",
    "-   Por tanto, es fácil cometer fallos al programarlo o modificarlo.\n",
    "\n",
    "-   Rompe la estructura entrada-algoritmo-salida\n",
    "\n",
    "    -   Esto es un síntoma de que la solución es mejorable"
   ]
  },
  {
   "cell_type": "markdown",
   "metadata": {
    "slideshow": {
     "slide_type": "slide"
    }
   },
   "source": [
    "## Pregunta\n",
    "\n",
    "-   ¿Cómo se puede mejorar?\n",
    "\n",
    "-   ¿Se puede transformar para que cumpla la estructura\n",
    "    entrada-algoritmo-salida?"
   ]
  },
  {
   "cell_type": "markdown",
   "metadata": {
    "slideshow": {
     "slide_type": "slide"
    }
   },
   "source": [
    "## Solución alternativa usando variables *bandera*"
   ]
  },
  {
   "cell_type": "code",
   "execution_count": null,
   "metadata": {
    "collapsed": true
   },
   "outputs": [],
   "source": []
  },
  {
   "cell_type": "markdown",
   "metadata": {
    "slideshow": {
     "slide_type": "slide"
    }
   },
   "source": [
    "## Ejercicio\n",
    "\n",
    "Cambia el programa anterior para que inicialmente la variable bandera `es_bisiesto` valga `True`, y se cambie a `False` según cumpla las\n",
    "condiciones necesarias.\n",
    "\n",
    "Será necesario cambiar las condiciones y las instrucciones \n",
    "if. La entrada y la salida no cambian."
   ]
  },
  {
   "cell_type": "markdown",
   "metadata": {
    "slideshow": {
     "slide_type": "slide"
    }
   },
   "source": [
    "### Solución\n",
    "\n",
    "con otro valor por defecto para `es_bisiesto`"
   ]
  },
  {
   "cell_type": "code",
   "execution_count": null,
   "metadata": {
    "collapsed": true
   },
   "outputs": [],
   "source": []
  },
  {
   "cell_type": "markdown",
   "metadata": {
    "slideshow": {
     "slide_type": "slide"
    }
   },
   "source": [
    "# La cláusula `elif` \n",
    "\n",
    "Además de else tenemos la cláusula `elif`\n",
    "\n",
    "-   Permite especificar varias condiciones sin necesidad de anidar las\n",
    "    instrucciones if\n",
    "\n",
    "-   Solo se ejecuta una de las cláusulas `if`, `elif` o \n",
    "    `else` (la primera que tenga la condición verdadera)\n",
    "\n",
    "-   Puede haber varias cláusulas `elif`\n",
    "\n",
    "-   La cláusula `else` es opcional\n",
    "\n",
    "-   Mejora mucho la legibilidad del código con varias condiciones\n",
    "    complejas"
   ]
  },
  {
   "cell_type": "markdown",
   "metadata": {
    "slideshow": {
     "slide_type": "slide"
    }
   },
   "source": [
    "## Uso de `elif`"
   ]
  },
  {
   "cell_type": "markdown",
   "metadata": {
    "collapsed": true,
    "slideshow": {
     "slide_type": "fragment"
    }
   },
   "source": [
    "```python\n",
    "if expresion_booleana_1:\n",
    "    # Codigo\n",
    "elif expresion_booleana_2:\n",
    "    # Codigo\n",
    "elif expresion_booleana_3:\n",
    "    # Codigo\n",
    "    #...\n",
    "else:\n",
    "    # Codigo    \n",
    "    \n",
    "```"
   ]
  },
  {
   "cell_type": "code",
   "execution_count": null,
   "metadata": {
    "collapsed": true
   },
   "outputs": [],
   "source": []
  },
  {
   "cell_type": "markdown",
   "metadata": {
    "slideshow": {
     "slide_type": "slide"
    }
   },
   "source": [
    "### Ejemplo\n",
    "\n",
    "¿Cuáles serán los valores de x e y después de ejecutar este código?"
   ]
  },
  {
   "cell_type": "code",
   "execution_count": null,
   "metadata": {
    "collapsed": true
   },
   "outputs": [],
   "source": []
  },
  {
   "cell_type": "markdown",
   "metadata": {
    "slideshow": {
     "slide_type": "fragment"
    }
   },
   "source": [
    "a)  x = 3, y = 4\n",
    "\n",
    "b)  x = 4, y = 3\n",
    "\n",
    "c)  x = 4, y = 4"
   ]
  },
  {
   "cell_type": "markdown",
   "metadata": {
    "slideshow": {
     "slide_type": "slide"
    }
   },
   "source": [
    "### Otro ejemplo\n",
    "\n",
    "Tenemos tres variables a, b y c que representan los lados de un triángulo.\n",
    "\n",
    "Verdadero o falso: El código muestra YES si el triángulo es rectángulo, y NO si no\n",
    "        lo es."
   ]
  },
  {
   "cell_type": "code",
   "execution_count": null,
   "metadata": {
    "collapsed": true
   },
   "outputs": [],
   "source": []
  },
  {
   "cell_type": "markdown",
   "metadata": {
    "slideshow": {
     "slide_type": "slide"
    }
   },
   "source": [
    "## Si has pensado que es verdadero..."
   ]
  },
  {
   "cell_type": "markdown",
   "metadata": {
    "slideshow": {
     "slide_type": "fragment"
    }
   },
   "source": [
    "### Contra-ejemplo\n",
    "\n",
    "Escribe NO, pero el triángulo es rectángulo."
   ]
  },
  {
   "cell_type": "code",
   "execution_count": null,
   "metadata": {
    "collapsed": true
   },
   "outputs": [],
   "source": []
  },
  {
   "cell_type": "markdown",
   "metadata": {
    "slideshow": {
     "slide_type": "slide"
    }
   },
   "source": [
    "## ¿Dónde está el problema?\n",
    "\n",
    "La condición no es correcta, ¿cómo podemos corregirla?"
   ]
  },
  {
   "cell_type": "markdown",
   "metadata": {
    "slideshow": {
     "slide_type": "fragment"
    }
   },
   "source": [
    "Necesitamos determinar cuál es la hipotenusa."
   ]
  },
  {
   "cell_type": "code",
   "execution_count": null,
   "metadata": {
    "collapsed": true
   },
   "outputs": [],
   "source": []
  },
  {
   "cell_type": "markdown",
   "metadata": {},
   "source": [
    "Daos cuenta de que en esta solución hemos separado el problema en dos partes, o subproblemas: \n",
    "\n",
    "- Encontrar cuál de los tres lados es la (posible) hipotenusa.\n",
    "\n",
    "- Decidir si es rectángulo o no."
   ]
  },
  {
   "cell_type": "markdown",
   "metadata": {
    "slideshow": {
     "slide_type": "slide"
    }
   },
   "source": [
    "## Precauciones al usar if\n",
    "\n",
    "Ilustra siempre todos los casos posibles en el problema.\n",
    "\n",
    "Refina paso a paso el programa para comprobar que no olvidas ningún caso.\n",
    "\n",
    "Si hay muchas condiciones y son complejas:\n",
    "\n",
    "- Considera el uso de variables *bandera*. Puede ser\n",
    "  más difícil de escribir al principio, pero el código será más\n",
    "  sencillo, claro y se entenderá mejor.\n",
    "\n",
    "- Intenta usar elif para evitar muchos niveles\n",
    "  de anidamiento."
   ]
  },
  {
   "cell_type": "markdown",
   "metadata": {
    "slideshow": {
     "slide_type": "slide"
    }
   },
   "source": [
    "## Para llevar: resumen del tema\n",
    "\n",
    "El caso más típico de bifurcación es un simplemente un  if. Se usa cuando no hay que hacer nada si la expresión es falsa, que es el caso más habitual.\n",
    "\n",
    "```python\n",
    "if expresion_booleana:\n",
    "    # Codigo\n",
    "```"
   ]
  },
  {
   "cell_type": "markdown",
   "metadata": {
    "slideshow": {
     "slide_type": "slide"
    }
   },
   "source": [
    "## Resumen del tema\n",
    "\n",
    "-   Los operadores relacionales trabajan con variables no booleanas, y devuelven\n",
    "    valores lógicos.\n",
    "\n",
    "-   Los operadores lógicos trabajan con operadores lógicos, y devuelven\n",
    "    valores lógicos.\n",
    "\n",
    "    -   and or not\n",
    "\n",
    "-   Con la instrucción if tomamos una decisión y bifurcamos\n",
    "    un programa.\n",
    "\n",
    "-   Tiene una cláusula else opcional.\n",
    "\n",
    "-   Podemos anidar los if para formar condiciones\n",
    "    más complejas."
   ]
  },
  {
   "cell_type": "markdown",
   "metadata": {
    "slideshow": {
     "slide_type": "slide"
    }
   },
   "source": [
    "## Resumen del tema\n",
    "\n",
    "-   Si hay demasiado anidamiento, podemos intentar usar varios \n",
    "    elif para simplificar el código y hacerlo más plano.\n",
    "\n",
    "-   El uso de variables bandera también puede ayudar a escribir código\n",
    "    más sencillo de leer.\n",
    "\n",
    "-   Para diseñar programas, es mejor seguir una metodología de diseño\n",
    "    *top-down*, dividir el programa en trozos más pequeños,\n",
    "    e ir resolviendo cada trozo por separado.\n",
    "\n",
    "-   Luego vamos refinando paso a paso cada una de las partes, hasta que\n",
    "    tengamos terminado el programa.\n",
    "\n",
    "-   Si seguimos este método, y respetamos la estructura\n",
    "    entrada-algoritmo-salida, nuestro código será mucho más sencillo de\n",
    "    leer y contendrá menos fallos.\n",
    "\n",
    "    -   Aunque a veces es complicado encajar una solución en la\n",
    "        estructura entrada-algoritmo-salida."
   ]
  },
  {
   "cell_type": "markdown",
   "metadata": {
    "collapsed": true
   },
   "source": [
    "# Ejercicios para fijar"
   ]
  },
  {
   "cell_type": "markdown",
   "metadata": {},
   "source": [
    "#### Ejercicio\n",
    "\n",
    "Escribe un programa que muestre la diferencia entre un número n y 42. Si n es mayor de 42, muestra en cambio el doble de la diferencia absoluta.\n",
    "\n",
    "_Entrada de muestra_:\n",
    "```python\n",
    "80\n",
    "```\n",
    "\n",
    "_Salida de muestra_: \n",
    "```python\n",
    "76\n",
    "```"
   ]
  },
  {
   "cell_type": "code",
   "execution_count": 148,
   "metadata": {},
   "outputs": [
    {
     "name": "stdout",
     "output_type": "stream",
     "text": [
      "Introduce un número: 84\n",
      "84\n"
     ]
    }
   ],
   "source": [
    "numero = int(input(\"Introduce un número: \"))\n",
    "\n",
    "if numero <= 42:\n",
    "    diferencia = 42 - numero\n",
    "else:\n",
    "    diferencia = 2 * (numero - 42)\n",
    "\n",
    "print(diferencia)"
   ]
  },
  {
   "cell_type": "markdown",
   "metadata": {},
   "source": [
    "#### Ejercicio\n",
    "\n",
    "FizzBuzz: Toma un número del usuario. Si el número es divisible por 3, escribe por pantalla \"Fizz\". Si es divisible por 5, escribe \"Buzz\". A no ser que sea divisible por ambos, en cuyo caso escribe \"FizzBuzz\". En caso de que no sea divisible por ninguno, escribe el número.\n",
    "\n",
    "_Entrada de muestra_:\n",
    "```python\n",
    "5\n",
    "```\n",
    "\n",
    "_Salida de muestra_: \n",
    "```python\n",
    "Buzz\n",
    "```\n",
    "\n",
    "\n",
    "_Entrada de muestra_:\n",
    "```python\n",
    "75\n",
    "```\n",
    "\n",
    "_Salida de muestra_: \n",
    "```python\n",
    "FizzBuzz\n",
    "```\n",
    "\n",
    "\n",
    "_Entrada de muestra_:\n",
    "```python\n",
    "7\n",
    "```\n",
    "\n",
    "_Salida de muestra_: \n",
    "```python\n",
    "7\n",
    "```"
   ]
  },
  {
   "cell_type": "code",
   "execution_count": 13,
   "metadata": {},
   "outputs": [
    {
     "name": "stdout",
     "output_type": "stream",
     "text": [
      "Introduce un número: 75\n",
      "FizzBuzz\n"
     ]
    }
   ],
   "source": [
    "numero = int(input(\"Introduce un número: \"))\n",
    "\n",
    "divisible_by_three = numero % 3 == 0\n",
    "divisible_by_five = numero % 5 == 0\n",
    "\n",
    "if divisible_by_three and divisible_by_five:\n",
    "    message = \"FizzBuzz\"\n",
    "elif divisible_by_three:\n",
    "    message = \"Fizz\"\n",
    "elif divisible_by_five:\n",
    "    message = \"Buzz\"\n",
    "else:\n",
    "    message = numero\n",
    "\n",
    "print(message)"
   ]
  },
  {
   "cell_type": "code",
   "execution_count": 17,
   "metadata": {},
   "outputs": [
    {
     "name": "stdout",
     "output_type": "stream",
     "text": [
      "Introduce un número: 17\n",
      "17\n"
     ]
    }
   ],
   "source": [
    "numero = int(input(\"Introduce un número: \"))\n",
    "message = \"\"\n",
    "\n",
    "if numero % 3 == 0:\n",
    "    message = message + \"Fizz\"\n",
    "\n",
    "if numero % 5 == 0:\n",
    "    message = message + \"Buzz\"\n",
    "    \n",
    "if len(message) == 0:\n",
    "    message = message + str(numero)\n",
    "    \n",
    "print(message)"
   ]
  },
  {
   "cell_type": "markdown",
   "metadata": {},
   "source": [
    "#### Ejercicio\n",
    "\n",
    "Escribe un programa que muestre por pantalla `True` si los dos enteros dados son iguales, o si su suma o diferencia es 5.\n",
    "\n",
    "```python\n",
    "3\n",
    "2\n",
    "```\n",
    "\n",
    "_Salida de muestra_: \n",
    "```python\n",
    "True\n",
    "```"
   ]
  },
  {
   "cell_type": "code",
   "execution_count": 28,
   "metadata": {},
   "outputs": [
    {
     "name": "stdout",
     "output_type": "stream",
     "text": [
      "Introduce el primer número: 1\n",
      "Introduce el segundo número: 2\n",
      "False\n"
     ]
    }
   ],
   "source": [
    "num1 = int(input(\"Introduce el primer número: \"))\n",
    "num2 = int(input(\"Introduce el segundo número: \"))\n",
    "\n",
    "equal = num1 == num2\n",
    "sum_5 = num1 + num2 == 5\n",
    "diff_5 = abs(num1 - num2) == 5\n",
    "\n",
    "print(equal or sum_5 or diff_5)"
   ]
  },
  {
   "cell_type": "code",
   "execution_count": 157,
   "metadata": {},
   "outputs": [
    {
     "name": "stdout",
     "output_type": "stream",
     "text": [
      "Introduce el primer número: 3\n",
      "Introduce el segundo número: 2\n",
      "True\n"
     ]
    }
   ],
   "source": [
    "num1 = int(input(\"Introduce el primer número: \"))\n",
    "num2 = int(input(\"Introduce el segundo número: \"))\n",
    "\n",
    "if num1 == num2 or num1+num2 == 5 or abs(num1-num2) == 5 :\n",
    "    mensaje = True\n",
    "else:\n",
    "    mensaje = False\n",
    "\n",
    "print(mensaje)"
   ]
  },
  {
   "cell_type": "markdown",
   "metadata": {},
   "source": [
    "#### Ejercicio\n",
    "\n",
    "Escribe un programa que compruebe si una string es un entero o no y describa el resultado por pantalla.\n",
    "\n",
    "| _Entrada de muestra_: | _Salida de muestra_ |\n",
    "|-----------------------|---------------------|\n",
    "|        100            | 100 es un entero    |\n",
    "|       Python          | Python no es un entero |\n",
    "|        2.3            | 2.3 no es un entero |\n"
   ]
  },
  {
   "cell_type": "code",
   "execution_count": 165,
   "metadata": {},
   "outputs": [
    {
     "name": "stdout",
     "output_type": "stream",
     "text": [
      "Introduce texto, números o ambas cosas: 2.3\n",
      "2.3 no es un entero\n"
     ]
    }
   ],
   "source": [
    "entrada = input(\"Introduce texto, números o ambas cosas: \")\n",
    "\n",
    "if entrada.isdigit():\n",
    "    mensaje = \"%s es un entero\" % (entrada)\n",
    "else:\n",
    "    mensaje = \"%s no es un entero\" % (entrada)\n",
    "    \n",
    "print(mensaje)"
   ]
  },
  {
   "cell_type": "markdown",
   "metadata": {},
   "source": [
    "#### Ejercicio\n",
    "\n",
    "Escribe un programa que sume dos números tomados del usuario si ambos son enteros. Los tomaremos como una lista separada por espacios. Si no son enteros, debería escribir por pantalla un mensaje al usuario.\n",
    "\n",
    "_Entrada de muestra_:\n",
    "```python\n",
    "2.3 1\n",
    "```\n",
    "\n",
    "_Salida de muestra_: \n",
    "```python\n",
    "Los números 2.3 y 1 no son enteros.\n",
    "```"
   ]
  },
  {
   "cell_type": "code",
   "execution_count": 169,
   "metadata": {},
   "outputs": [
    {
     "name": "stdout",
     "output_type": "stream",
     "text": [
      "Introduce dos números separados por un espacio: 2.3 1\n",
      "Los números 2.3 y 1 no son enteros\n"
     ]
    }
   ],
   "source": [
    "entrada = input(\"Introduce dos números separados por un espacio: \")\n",
    "num1 = entrada.split(\" \")[0]\n",
    "num2 = entrada.split(\" \")[1]\n",
    "\n",
    "if num1.isdigit() and num2.isdigit():\n",
    "    mensaje = \"La suma de los números %s y %s es %d\" % (num1, num2, int(num1) + int(num2))\n",
    "else:\n",
    "    mensaje = \"Los números %s y %s no son enteros\" % (num1, num2)\n",
    "\n",
    "print(mensaje)\n",
    "    "
   ]
  },
  {
   "cell_type": "markdown",
   "metadata": {},
   "source": [
    "#### Ejercicio\n",
    "\n",
    "Escribe un programa que transforme de grados Fahrenheit a Celsius y viceversa.\n",
    "\n",
    "| _Entrada de muestra_: | _Salida de muestra_ |\n",
    "|-----------------------|---------------------|\n",
    "|       100 F           |       37.8 ºC       |\n",
    "|       100 C           |        212 ºF       |\n",
    "|         0 C           |         32 ºF       |\n"
   ]
  },
  {
   "cell_type": "code",
   "execution_count": 55,
   "metadata": {},
   "outputs": [
    {
     "name": "stdout",
     "output_type": "stream",
     "text": [
      "Introduce los grados a transformar: 200 G\n",
      "Escala desconocida\n"
     ]
    }
   ],
   "source": [
    "entrada = input(\"Introduce los grados a transformar: \")\n",
    "grados = float(entrada.split(\" \")[0])\n",
    "unidad = entrada.split(\" \")[1]\n",
    "\n",
    "if unidad == \"F\":\n",
    "    grados = (grados - 32) * 5/9\n",
    "    salida = \"%s equivale a %.1f ºC\" % (entrada, grados)\n",
    "elif unidad == \"C\":\n",
    "    grados = (grados * 9/5) + 32\n",
    "    salida = \"%s equivale a %.1f ºF\" % (entrada, grados)\n",
    "else:\n",
    "    salida = \"Escala desconocida\"\n",
    "    \n",
    "print(salida)"
   ]
  },
  {
   "cell_type": "markdown",
   "metadata": {},
   "source": [
    "#### Ejercicio\n",
    "\n",
    "Escribe un programa que tome del usuario los lados de un triángulo en forma de lista separada por espacios, y muestre por pantalla si el triángulo es válido o no.\n",
    "\n",
    "\n",
    "| _Entrada de muestra_: | _Salida de muestra_ |\n",
    "|-----------------------|---------------------|\n",
    "|       2 1 1           |   No válido         |\n",
    "|      2.1 1 2.1        |   Válido            |\n",
    "|       3 4 5           |   Válido            |\n",
    "\n"
   ]
  },
  {
   "cell_type": "code",
   "execution_count": 179,
   "metadata": {},
   "outputs": [
    {
     "name": "stdout",
     "output_type": "stream",
     "text": [
      "Introduce los lados de un triángulo separado por espacios: 3 5 4\n",
      "Válido\n"
     ]
    }
   ],
   "source": [
    "entrada = input(\"Introduce los lados de un triángulo separado por espacios: \")\n",
    "\n",
    "lado1 = float(entrada.split(\" \")[0])\n",
    "lado2 = float(entrada.split(\" \")[1])\n",
    "lado3 = float(entrada.split(\" \")[2])\n",
    "\n",
    "if (lado1+lado2) > lado3 and (lado1+lado3) > lado2 and (lado2+lado3) > lado1:\n",
    "    mensaje = \"Válido\"\n",
    "else:\n",
    "    mensaje = \"No válido\"\n",
    "    \n",
    "print(mensaje)"
   ]
  },
  {
   "cell_type": "markdown",
   "metadata": {},
   "source": [
    "#### Ejercicio\n",
    "\n",
    "Escribe un programa que tome del usuario los lados de un triángulo en forma de lista separada por espacios, y muestre por pantalla si el triángulo es equilátero, isósceles o escaleno.\n",
    "\n",
    "| _Entrada de muestra_: | _Salida de muestra_ |\n",
    "|-----------------------|---------------------|\n",
    "|       2 2 2           |   Equilátero        |\n",
    "|      2.1 1 2.1        |   Isósceles         |\n",
    "|       3 4 5           |   Escaleno          |\n"
   ]
  },
  {
   "cell_type": "code",
   "execution_count": 243,
   "metadata": {},
   "outputs": [
    {
     "name": "stdout",
     "output_type": "stream",
     "text": [
      "Introduce los 3 lados de un triángulo separado por espacios: 3 4 5\n",
      "Triángulo rectángulo escaleno\n"
     ]
    }
   ],
   "source": [
    "entrada = input(\"Introduce los 3 lados de un triángulo separado por espacios: \")\n",
    "\n",
    "lado1 = float(entrada.split(\" \")[0])\n",
    "lado2 = float(entrada.split(\" \")[1])\n",
    "lado3 = float(entrada.split(\" \")[2])\n",
    "lados = [lado1, lado2, lado3]\n",
    "hipotenusa = max(lados)\n",
    "cateto1 = min(lados)\n",
    "lados.remove(hipotenusa)\n",
    "lados.remove(cateto1)\n",
    "cateto2 = lados[0]\n",
    "\n",
    "if (lado1+lado2) > lado3 and (lado1+lado3) > lado2 and (lado2+lado3) > lado1:\n",
    "    \n",
    "    if lado1 == lado2 == lado3 :\n",
    "        mensaje = \"Triángulo equilatero\"\n",
    "        \n",
    "    elif (lado1 == lado2) or (lado1 == lado3) or (lado2 == lado3):\n",
    "        if hipotenusa**2 == cateto1**2 + cateto2**2:\n",
    "            mensaje = \"Triángulo rectángulo isósceles\"\n",
    "        else:\n",
    "            mensaje = \"Triángulo isósceles\"\n",
    "            \n",
    "    else:\n",
    "        if hipotenusa**2 == cateto1**2 + cateto2**2:\n",
    "            mensaje = \"Triángulo rectángulo escaleno\"\n",
    "        else:\n",
    "            mensaje = \"Triángulo escaleno\"\n",
    "            \n",
    "else:\n",
    "    mensaje = \"Triángulo no válido\"\n",
    "    \n",
    "print(mensaje)"
   ]
  },
  {
   "cell_type": "markdown",
   "metadata": {},
   "source": [
    "#### Ejercicio\n",
    "\n",
    "Incorpora, al código del ejercicio anterior, la capacidad de detectar si el triángulo es rectángulo."
   ]
  },
  {
   "cell_type": "code",
   "execution_count": null,
   "metadata": {
    "collapsed": true
   },
   "outputs": [],
   "source": []
  },
  {
   "cell_type": "markdown",
   "metadata": {},
   "source": [
    "#### Ejercicio\n",
    "\n",
    "Escribe el programa `Banquero`. `Banquero` le pedirá al usuario su nombre, edad, ingresos anuales, importe y plazo para una hipoteca y decidirá si concedérsela o no. El criterio será que la suma de los ingresos hasta el vencimiento sea al menos 5 veces superior a la hipoteca más interés asumiendo un interés del 3%. En ningún caso la concederá si la edad del usuario al vencimiento sería superior a 70 años.\n",
    "\n",
    "_Entrada de muestra_:\n",
    "```python\n",
    "Martínez\n",
    "25\n",
    "25000\n",
    "150000\n",
    "30\n",
    "```\n",
    "\n",
    "_Salida de muestra_: \n",
    "```python\n",
    "Enhorabuena, señor/a Martínez, su hipoteca ha sido concedida.\n",
    "```"
   ]
  },
  {
   "cell_type": "code",
   "execution_count": 1,
   "metadata": {},
   "outputs": [
    {
     "name": "stdout",
     "output_type": "stream",
     "text": [
      "Cuál es su nombre? Martínez\n",
      "Cuántos años tiene? 25\n",
      "Indique su sueldo anual: 25000\n",
      "Indique el importe de su hipoteca: 150000\n",
      "Indique el plazo de la hipoteca: 30\n",
      "364089.37067844934\n",
      "Lo siento Martínez, su hipoteca no puede ser concedida\n"
     ]
    }
   ],
   "source": [
    "# Datos de entrada\n",
    "nombre = input(\"Cuál es su nombre? \")\n",
    "edad = int(input(\"Cuántos años tiene? \"))\n",
    "sueldo = int(input(\"Indique su sueldo anual: \"))\n",
    "hipoteca = int(input(\"Indique el importe de su hipoteca: \"))\n",
    "plazo = int(input(\"Indique el plazo de la hipoteca: \"))\n",
    "\n",
    "interes = 0.03\n",
    "hipoteca_mas_interes = hipoteca * (1 + interes) ** plazo\n",
    "print(hipoteca_mas_interes)\n",
    "\n",
    "\n",
    "# Algoritmo\n",
    "if (edad + plazo <= 70) and (sueldo * plazo >= 5 * hipoteca_mas_interes):\n",
    "    mensaje = \"Enhorabuena %s, su hipoteca ha sido concedida\" % (nombre)\n",
    "    \n",
    "else:\n",
    "    mensaje = \"Lo siento %s, su hipoteca no puede ser concedida\" % (nombre)\n",
    "\n",
    "# Salida\n",
    "print(mensaje)\n"
   ]
  }
 ],
 "metadata": {
  "anaconda-cloud": {},
  "celltoolbar": "Slideshow",
  "kernelspec": {
   "display_name": "Python 3",
   "language": "python",
   "name": "python3"
  },
  "language_info": {
   "codemirror_mode": {
    "name": "ipython",
    "version": 3
   },
   "file_extension": ".py",
   "mimetype": "text/x-python",
   "name": "python",
   "nbconvert_exporter": "python",
   "pygments_lexer": "ipython3",
   "version": "3.6.3"
  },
  "livereveal": {
   "scroll": true,
   "start_slideshow_at": "selected"
  }
 },
 "nbformat": 4,
 "nbformat_minor": 2
}
