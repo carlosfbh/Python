{
 "cells": [
  {
   "cell_type": "code",
   "execution_count": 1,
   "metadata": {
    "collapsed": true
   },
   "outputs": [],
   "source": [
    "def checkio(game_result):\n",
    "\n",
    "    rows = game_result\n",
    "    columns = [game_result[0][0] + game_result[1][0] + game_result[2][0], game_result[0][1] + game_result[1][1] + game_result[2][1], game_result[0][2] + game_result[1][2] + game_result[2][2]]\n",
    "    diagonal = [game_result[0][0] + game_result[1][1] + game_result[2][2], game_result[0][2] + game_result[1][1] + game_result[2][0]]\n",
    "\n",
    "    result = \"D\"\n",
    "\n",
    "    for i in range(0, len(rows)):\n",
    "\n",
    "        if len(set(rows[i])) == 1:\n",
    "\n",
    "            if \"X\" in rows[i]:\n",
    "                result = \"X\"\n",
    "\n",
    "            elif \"O\" in rows[i]:\n",
    "                result = \"O\" \n",
    "\n",
    "    for i in range(0, len(columns)):\n",
    "\n",
    "        if len(set(columns[i])) == 1:\n",
    "\n",
    "            if \"X\" in columns[i]:\n",
    "                result = \"X\"\n",
    "\n",
    "            elif \"O\" in columns[i]:\n",
    "                result = \"O\" \n",
    "\n",
    "    for i in range(0, len(diagonal)):\n",
    "\n",
    "        if len(set(diagonal[i])) == 1:\n",
    "\n",
    "            if \"X\" in diagonal[i]:\n",
    "                result = \"X\"\n",
    "\n",
    "            elif \"O\" in diagonal[i]:\n",
    "                result = \"O\" \n",
    "\n",
    "    return result"
   ]
  },
  {
   "cell_type": "code",
   "execution_count": 2,
   "metadata": {},
   "outputs": [
    {
     "data": {
      "text/plain": [
       "'X'"
      ]
     },
     "execution_count": 2,
     "metadata": {},
     "output_type": "execute_result"
    }
   ],
   "source": [
    "checkio([\n",
    "    \"X.O\",\n",
    "    \"XX.\",\n",
    "    \"XOO\"])"
   ]
  },
  {
   "cell_type": "code",
   "execution_count": 3,
   "metadata": {},
   "outputs": [
    {
     "data": {
      "text/plain": [
       "'O'"
      ]
     },
     "execution_count": 3,
     "metadata": {},
     "output_type": "execute_result"
    }
   ],
   "source": [
    "checkio([\n",
    "    \"OO.\",\n",
    "    \"XOX\",\n",
    "    \"XOX\"])"
   ]
  },
  {
   "cell_type": "code",
   "execution_count": 4,
   "metadata": {},
   "outputs": [
    {
     "data": {
      "text/plain": [
       "'D'"
      ]
     },
     "execution_count": 4,
     "metadata": {},
     "output_type": "execute_result"
    }
   ],
   "source": [
    "checkio([\n",
    "    \"OOX\",\n",
    "    \"XXO\",\n",
    "    \"OXX\"])"
   ]
  },
  {
   "cell_type": "code",
   "execution_count": 5,
   "metadata": {},
   "outputs": [
    {
     "data": {
      "text/plain": [
       "'X'"
      ]
     },
     "execution_count": 5,
     "metadata": {},
     "output_type": "execute_result"
    }
   ],
   "source": [
    "checkio([\n",
    "    \"O.X\",\n",
    "    \"XX.\",\n",
    "    \"XOO\"])"
   ]
  }
 ],
 "metadata": {
  "kernelspec": {
   "display_name": "Python 3",
   "language": "python",
   "name": "python3"
  },
  "language_info": {
   "codemirror_mode": {
    "name": "ipython",
    "version": 3
   },
   "file_extension": ".py",
   "mimetype": "text/x-python",
   "name": "python",
   "nbconvert_exporter": "python",
   "pygments_lexer": "ipython3",
   "version": "3.6.3"
  }
 },
 "nbformat": 4,
 "nbformat_minor": 2
}
