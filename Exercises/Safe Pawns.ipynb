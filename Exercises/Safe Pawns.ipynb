{
 "cells": [
  {
   "cell_type": "code",
   "execution_count": 60,
   "metadata": {},
   "outputs": [],
   "source": [
    "def safe_pawns(pawns):\n",
    "    \n",
    "    rows = \"87654321\"\n",
    "    columns = \"abcdefgh\"\n",
    "    safe_pawn = 0\n",
    "\n",
    "    for row, i in enumerate(rows):\n",
    "        for column, j in enumerate(columns):\n",
    "            if(j+i) in pawns:\n",
    "                \n",
    "                if i == \"1\":\n",
    "                    continue\n",
    "\n",
    "                elif j == \"a\":\n",
    "                    if (columns[column+1] + rows[row+1]) in pawns:\n",
    "                        safe_pawn += 1\n",
    "\n",
    "                elif j == \"h\":\n",
    "                    if (columns[column-1] + rows[row+1]) in pawns:\n",
    "                        safe_pawn += 1\n",
    "\n",
    "                else:\n",
    "                    if (columns[column+1] + rows[row+1]) in pawns or (columns[column-1] + rows[row+1]) in pawns:\n",
    "                        safe_pawn += 1\n",
    "\n",
    "    return safe_pawn  "
   ]
  },
  {
   "cell_type": "code",
   "execution_count": 61,
   "metadata": {},
   "outputs": [
    {
     "data": {
      "text/plain": [
       "6"
      ]
     },
     "execution_count": 61,
     "metadata": {},
     "output_type": "execute_result"
    }
   ],
   "source": [
    "safe_pawns({\"b4\", \"d4\", \"f4\", \"c3\", \"e3\", \"g5\", \"d2\"})"
   ]
  },
  {
   "cell_type": "code",
   "execution_count": 62,
   "metadata": {},
   "outputs": [
    {
     "data": {
      "text/plain": [
       "1"
      ]
     },
     "execution_count": 62,
     "metadata": {},
     "output_type": "execute_result"
    }
   ],
   "source": [
    "safe_pawns({\"b4\", \"c4\", \"d4\", \"e4\", \"f4\", \"g4\", \"e5\"})"
   ]
  },
  {
   "cell_type": "code",
   "execution_count": 63,
   "metadata": {},
   "outputs": [
    {
     "data": {
      "text/plain": [
       "7"
      ]
     },
     "execution_count": 63,
     "metadata": {},
     "output_type": "execute_result"
    }
   ],
   "source": [
    "safe_pawns([\"a1\",\"b2\",\"c3\",\"d4\",\"e5\",\"f6\",\"g7\",\"h8\"])"
   ]
  }
 ],
 "metadata": {
  "kernelspec": {
   "display_name": "Python 3",
   "language": "python",
   "name": "python3"
  }
 },
 "nbformat": 4,
 "nbformat_minor": 2
}
