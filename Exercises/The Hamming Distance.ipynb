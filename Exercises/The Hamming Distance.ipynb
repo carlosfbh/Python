{
 "cells": [
  {
   "cell_type": "code",
   "execution_count": 73,
   "metadata": {},
   "outputs": [],
   "source": [
    "def checkio(n, m):\n",
    "    \n",
    "    n_bin = \"\"\n",
    "    m_bin = \"\"\n",
    "    result = 0\n",
    "    \n",
    "    while n > 1:\n",
    "        n_bin = n_bin + str(n % 2)\n",
    "        n = int(n / 2)\n",
    "    \n",
    "    while m > 1:\n",
    "        m_bin = m_bin + str(m % 2)\n",
    "        m = int(m / 2)\n",
    "        \n",
    "    n_bin = \"1\" + n_bin[::-1]\n",
    "    m_bin = \"1\" + m_bin[::-1]\n",
    "    \n",
    "    if len(n_bin) < len(m_bin):\n",
    "        diff = len(m_bin) - len(n_bin)\n",
    "        for i in range(0, diff):\n",
    "            n_bin = \"0\" + n_bin\n",
    "            \n",
    "    elif len(n_bin) > len(m_bin):\n",
    "        diff = len(n_bin) - len(m_bin)\n",
    "        for i in range(0, diff):\n",
    "            m_bin = \"0\" + m_bin\n",
    "            \n",
    "    for i in range(0, len(n_bin)):\n",
    "        if n_bin[i] != m_bin[i]:\n",
    "            result = result + 1\n",
    "        \n",
    "    return result"
   ]
  },
  {
   "cell_type": "code",
   "execution_count": 74,
   "metadata": {},
   "outputs": [
    {
     "data": {
      "text/plain": [
       "3"
      ]
     },
     "execution_count": 74,
     "metadata": {},
     "output_type": "execute_result"
    }
   ],
   "source": [
    "checkio(117, 17)"
   ]
  },
  {
   "cell_type": "code",
   "execution_count": 75,
   "metadata": {},
   "outputs": [
    {
     "data": {
      "text/plain": [
       "5"
      ]
     },
     "execution_count": 75,
     "metadata": {},
     "output_type": "execute_result"
    }
   ],
   "source": [
    "checkio(16, 15)"
   ]
  },
  {
   "cell_type": "code",
   "execution_count": 76,
   "metadata": {},
   "outputs": [
    {
     "data": {
      "text/plain": [
       "2"
      ]
     },
     "execution_count": 76,
     "metadata": {},
     "output_type": "execute_result"
    }
   ],
   "source": [
    "checkio(1, 2)"
   ]
  }
 ],
 "metadata": {
  "kernelspec": {
   "display_name": "Python 3",
   "language": "python",
   "name": "python3"
  },
  "language_info": {
   "codemirror_mode": {
    "name": "ipython",
    "version": 3
   },
   "file_extension": ".py",
   "mimetype": "text/x-python",
   "name": "python",
   "nbconvert_exporter": "python",
   "pygments_lexer": "ipython3",
   "version": "3.6.3"
  }
 },
 "nbformat": 4,
 "nbformat_minor": 2
}
