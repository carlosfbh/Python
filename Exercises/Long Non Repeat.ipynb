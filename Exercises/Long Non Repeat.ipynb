{
 "cells": [
  {
   "cell_type": "code",
   "execution_count": 154,
   "metadata": {
    "collapsed": true
   },
   "outputs": [],
   "source": [
    "def non_repeat(line):\n",
    "    \"\"\"\n",
    "        the longest substring without repeating chars\n",
    "    \"\"\"\n",
    "    \n",
    "    #Creo variables iniciales\n",
    "    #La primera para crear palabras con letras únicas\n",
    "    #La segunda es una lista con todas las palabras únicas\n",
    "    #La tercer es la que va a coger la primera palabra única más grande de la lista\n",
    "    \n",
    "    unique_word = \"\"\n",
    "    list_unique_word = []\n",
    "    result = \"\"\n",
    "    \n",
    "    #Este if es para la excepción de que la palabra del input tenga de 0 a 2 letras\n",
    "    \n",
    "    if len(line) <= 1:\n",
    "        return line\n",
    "    \n",
    "    #Esto es para el resto de casos.\n",
    "    #Hago dos bucles para que cada letra se construya su propia palabra de letras únicas\n",
    "    \n",
    "    for index, letter in enumerate(line):\n",
    "        \n",
    "        for i in range(0, len(line)-index):\n",
    "            \n",
    "            #En el caso de que la letra ya exista en la palabra de letras únicas se para el bucle y se pasa a la siguiente letra\n",
    "            if line[index + i] in unique_word:\n",
    "                break\n",
    "            \n",
    "            #Si las letras van siendo únicas entonces voy construyendo mi palabra de letras únicas\n",
    "            unique_word += line[index + i]\n",
    "        \n",
    "        #Con el resultado final para cada palabra, meto su palabra de letras únicas en la lista y reinicio.\n",
    "        list_unique_word.append(unique_word)\n",
    "        unique_word = \"\"\n",
    "    \n",
    "    #Este bucle es para buscar la palabra única más grande de la lista (y la primera de ellas)\n",
    "    for unique_words in list_unique_word:\n",
    "        if len(unique_words) > len(result):\n",
    "            result = unique_words\n",
    "        \n",
    "    return result"
   ]
  },
  {
   "cell_type": "code",
   "execution_count": 155,
   "metadata": {},
   "outputs": [
    {
     "data": {
      "text/plain": [
       "'a'"
      ]
     },
     "execution_count": 155,
     "metadata": {},
     "output_type": "execute_result"
    }
   ],
   "source": [
    "non_repeat('aaaaa')"
   ]
  },
  {
   "cell_type": "code",
   "execution_count": 156,
   "metadata": {},
   "outputs": [
    {
     "data": {
      "text/plain": [
       "'abdjw'"
      ]
     },
     "execution_count": 156,
     "metadata": {},
     "output_type": "execute_result"
    }
   ],
   "source": [
    "non_repeat('abdjwawk')"
   ]
  },
  {
   "cell_type": "code",
   "execution_count": 157,
   "metadata": {},
   "outputs": [
    {
     "data": {
      "text/plain": [
       "'bcadef'"
      ]
     },
     "execution_count": 157,
     "metadata": {},
     "output_type": "execute_result"
    }
   ],
   "source": [
    "non_repeat('abcadefbcffab')"
   ]
  },
  {
   "cell_type": "code",
   "execution_count": 158,
   "metadata": {},
   "outputs": [
    {
     "data": {
      "text/plain": [
       "'wqa'"
      ]
     },
     "execution_count": 158,
     "metadata": {},
     "output_type": "execute_result"
    }
   ],
   "source": [
    "non_repeat(\"wqa\")"
   ]
  },
  {
   "cell_type": "code",
   "execution_count": 159,
   "metadata": {},
   "outputs": [
    {
     "data": {
      "text/plain": [
       "'w'"
      ]
     },
     "execution_count": 159,
     "metadata": {},
     "output_type": "execute_result"
    }
   ],
   "source": [
    "non_repeat(\"w\")"
   ]
  },
  {
   "cell_type": "code",
   "execution_count": 160,
   "metadata": {},
   "outputs": [
    {
     "data": {
      "text/plain": [
       "'wq'"
      ]
     },
     "execution_count": 160,
     "metadata": {},
     "output_type": "execute_result"
    }
   ],
   "source": [
    "non_repeat(\"wq\")"
   ]
  },
  {
   "cell_type": "code",
   "execution_count": null,
   "metadata": {
    "collapsed": true
   },
   "outputs": [],
   "source": []
  }
 ],
 "metadata": {
  "kernelspec": {
   "display_name": "Python 3",
   "language": "python",
   "name": "python3"
  },
  "language_info": {
   "codemirror_mode": {
    "name": "ipython",
    "version": 3
   },
   "file_extension": ".py",
   "mimetype": "text/x-python",
   "name": "python",
   "nbconvert_exporter": "python",
   "pygments_lexer": "ipython3",
   "version": "3.6.3"
  }
 },
 "nbformat": 4,
 "nbformat_minor": 2
}
