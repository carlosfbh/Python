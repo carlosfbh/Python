{
 "cells": [
  {
   "cell_type": "code",
   "execution_count": 152,
   "metadata": {},
   "outputs": [],
   "source": [
    "vowels = \"AEIOUY\"\n",
    "consonants = \"BCDFGHJKLMNPQRSTVWXZ\"\n",
    "\n",
    "def checkio(text):\n",
    "    \n",
    "    #Trato la variable de entrada para transformarla en una lista en la que cada elemento es la palabra en sí.\n",
    "    #Elimino todos los signos de puntuación. Pongo todas las letras en minúscula.\n",
    "    #Inicio variables contador.\n",
    "    \n",
    "    text = \" \".join(text.split(\",\"))\n",
    "    text = \" \".join(text.split(\".\"))\n",
    "    text = \" \".join(text.split(\"?\"))\n",
    "    text = \" \".join(text.split(\"!\"))\n",
    "    text = text.lower()\n",
    "    text_list = text.split(\" \")\n",
    "    contador = 0\n",
    "    result = 0\n",
    "    \n",
    "    #Recorro cada palabra de mi nueva lista y cada letra de la palabra.\n",
    "    \n",
    "    for word in text_list:\n",
    "        \n",
    "        for index, letter in enumerate(word):\n",
    "            \n",
    "            #Con este if voy a comparar la letra con la siguiente.\n",
    "            if index + 1 < len(word):\n",
    "                #print(word, letter, word[index+1], contador)\n",
    "                \n",
    "                if letter in vowels.lower() and word[index+1] in consonants.lower():\n",
    "                    contador += 1\n",
    "                    \n",
    "                elif letter in consonants.lower() and word[index+1] in vowels.lower():\n",
    "                    contador += 1\n",
    "                #print(contador, len(word)-1)\n",
    "                \n",
    "                if contador == len(word)-1:\n",
    "                    result +=1\n",
    "            \n",
    "            #En el caso de que sea la última letra de la palabra no compara con la siguiente ya que no hay y daría un error.\n",
    "            #Por eso en ese caso pongo continue para que vaya a la siguiente palabra\n",
    "            else:\n",
    "                continue\n",
    "        \n",
    "        #Cuando se termina de recorrer toda la palabra el contador vuelve a cero para empezar con la siguiente.\n",
    "        contador = 0\n",
    "\n",
    "    return result"
   ]
  },
  {
   "cell_type": "code",
   "execution_count": 147,
   "metadata": {},
   "outputs": [
    {
     "data": {
      "text/plain": [
       "3"
      ]
     },
     "execution_count": 147,
     "metadata": {},
     "output_type": "execute_result"
    }
   ],
   "source": [
    "checkio(\"My name is ...\")"
   ]
  },
  {
   "cell_type": "code",
   "execution_count": 148,
   "metadata": {},
   "outputs": [
    {
     "data": {
      "text/plain": [
       "0"
      ]
     },
     "execution_count": 148,
     "metadata": {},
     "output_type": "execute_result"
    }
   ],
   "source": [
    "checkio(\"Hello world\")"
   ]
  },
  {
   "cell_type": "code",
   "execution_count": 149,
   "metadata": {},
   "outputs": [
    {
     "data": {
      "text/plain": [
       "1"
      ]
     },
     "execution_count": 149,
     "metadata": {},
     "output_type": "execute_result"
    }
   ],
   "source": [
    "checkio(\"A quantity of striped words.\")"
   ]
  },
  {
   "cell_type": "code",
   "execution_count": 150,
   "metadata": {},
   "outputs": [
    {
     "data": {
      "text/plain": [
       "3"
      ]
     },
     "execution_count": 150,
     "metadata": {},
     "output_type": "execute_result"
    }
   ],
   "source": [
    "checkio(\"Dog,cat,mouse,bird.Human.\")"
   ]
  },
  {
   "cell_type": "code",
   "execution_count": 151,
   "metadata": {},
   "outputs": [
    {
     "data": {
      "text/plain": [
       "8"
      ]
     },
     "execution_count": 151,
     "metadata": {},
     "output_type": "execute_result"
    }
   ],
   "source": [
    "checkio(\"To take a trivial example, which of us ever undertakes laborious physical exercise, except to obtain some advantage from it?\")"
   ]
  },
  {
   "cell_type": "code",
   "execution_count": null,
   "metadata": {
    "collapsed": true
   },
   "outputs": [],
   "source": []
  }
 ],
 "metadata": {
  "kernelspec": {
   "display_name": "Python 3",
   "language": "python",
   "name": "python3"
  },
  "language_info": {
   "codemirror_mode": {
    "name": "ipython",
    "version": 3
   },
   "file_extension": ".py",
   "mimetype": "text/x-python",
   "name": "python",
   "nbconvert_exporter": "python",
   "pygments_lexer": "ipython3",
   "version": "3.6.3"
  }
 },
 "nbformat": 4,
 "nbformat_minor": 2
}
