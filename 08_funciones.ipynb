{
 "cells": [
  {
   "cell_type": "markdown",
   "metadata": {
    "collapsed": true,
    "slideshow": {
     "slide_type": "slide"
    }
   },
   "source": [
    "# Funciones\n",
    "\n",
    "<img src=\"https://www.python.org/static/img/python-logo.png\" alt=\"yogen\" style=\"width: 200px; float: right;\"/>\n",
    "<br>\n",
    "<br>\n",
    "<br>\n",
    "<a href = \"http://yogen.io\"><img src=\"http://yogen.io/assets/logo.svg\" alt=\"yogen\" style=\"width: 200px; float: right;\"/></a>"
   ]
  },
  {
   "cell_type": "markdown",
   "metadata": {
    "slideshow": {
     "slide_type": "slide"
    }
   },
   "source": [
    "# Objetivos\n",
    "\n",
    "Crear nuestras propias funciones, para que funcionen igual que las de Python\n",
    "\n",
    "Conocer cómo funcionan las variables locales\n",
    "\n",
    "¿Qué ocurre con las variables que están dentro de una función?\n",
    "\n",
    "Entender que las variables locales no interfieren con las variables fuera del contexto de la función.\n",
    "\n",
    "Entender que el contexto general no está disponible dentro de una función."
   ]
  },
  {
   "cell_type": "markdown",
   "metadata": {
    "slideshow": {
     "slide_type": "slide"
    }
   },
   "source": [
    "# Introducción a las funciones \n",
    "\n",
    "\n",
    "### Funciones en Python\n",
    "\n",
    "Hemos visto varias funciones en sesiones\n",
    "anteriores.\n",
    "\n",
    "Por ejemplo, `print` o `input` son funciones **internas** de Python"
   ]
  },
  {
   "cell_type": "markdown",
   "metadata": {
    "slideshow": {
     "slide_type": "slide"
    }
   },
   "source": [
    "## Partes de una función \n",
    "\n",
    "Veamos un ejemplo:"
   ]
  },
  {
   "cell_type": "code",
   "execution_count": 1,
   "metadata": {
    "collapsed": true
   },
   "outputs": [],
   "source": [
    "import math\n",
    "\n",
    "h = math.sqrt(9)"
   ]
  },
  {
   "cell_type": "markdown",
   "metadata": {
    "slideshow": {
     "slide_type": "fragment"
    }
   },
   "source": [
    "Esta llamada a una función interna de Python consta de:\n",
    "\n",
    "Argumento de salida $\\rightarrow$ h\n",
    "\n",
    "Nombre de la función $\\rightarrow$ sqrt\n",
    "\n",
    "Argumento de entrada $\\rightarrow$ 9"
   ]
  },
  {
   "cell_type": "markdown",
   "metadata": {
    "slideshow": {
     "slide_type": "slide"
    }
   },
   "source": [
    "## Nuestras propias funciones\n",
    "\n",
    "### Funciones como cajas negras\n",
    "\n",
    "Las funciones internas son para nosotros cajas negras.\n",
    "\n",
    "- Solo conocemos el nombre, argumentos de entrada y de salida.\n",
    "\n",
    "- No sabemos cómo están hechas por dentro."
   ]
  },
  {
   "cell_type": "markdown",
   "metadata": {
    "slideshow": {
     "slide_type": "fragment"
    }
   },
   "source": [
    "Vamos a crear también funciones para usarlas como cajas negras.\n",
    "\n",
    "- Nosotros, u otros programadores."
   ]
  },
  {
   "cell_type": "markdown",
   "metadata": {
    "slideshow": {
     "slide_type": "slide"
    }
   },
   "source": [
    "## ¿Por qué querríamos crear funciones?\n",
    "\n",
    "- Oculta detalles innecesarios de programación y cálculo\n",
    "\n",
    "- Facilita el diseño *top-down*\n",
    "\n",
    "- Facilita entender un programa\n",
    "\n",
    "    - Más fácil de modificar por otras personas.\n",
    "\n",
    "    - O por nosotros mismos en el futuro."
   ]
  },
  {
   "cell_type": "markdown",
   "metadata": {
    "slideshow": {
     "slide_type": "slide"
    }
   },
   "source": [
    "## Nuestra primera función\n",
    "\n",
    "Recuperemos un programa anterior"
   ]
  },
  {
   "cell_type": "code",
   "execution_count": 2,
   "metadata": {},
   "outputs": [
    {
     "name": "stdout",
     "output_type": "stream",
     "text": [
      "Tras el paso 0 la aproximación es 1.882353\n",
      "Tras el paso 1 la aproximación es 3.082153\n",
      "Tras el paso 2 la aproximación es 3.867850\n",
      "Tras el paso 3 la aproximación es 3.997744\n",
      "Tras el paso 4 la aproximación es 3.999999\n",
      "3.999999363307162\n"
     ]
    }
   ],
   "source": [
    "#Input\n",
    "A = 16\n",
    "\n",
    "#Processing\n",
    "n_steps = 5\n",
    "W = 1\n",
    "L = A / W\n",
    "\n",
    "for n in range(n_steps):\n",
    "    \n",
    "    W = (W + L) / 2\n",
    "    L = A / W\n",
    "    print(\"Tras el paso %d la aproximación es %f\" % (n, L))\n",
    "    \n",
    "#Output\n",
    "print(L)"
   ]
  },
  {
   "cell_type": "markdown",
   "metadata": {
    "slideshow": {
     "slide_type": "fragment"
    }
   },
   "source": [
    "Pregunta ¿Cómo lo transformamos en una función?"
   ]
  },
  {
   "cell_type": "markdown",
   "metadata": {
    "slideshow": {
     "slide_type": "slide"
    }
   },
   "source": [
    "## Cómo escribir nuestras funciones\n",
    "\n",
    "Las funciones *son* programas, pero un tipo especial de programas.\n",
    "\n",
    "Como todos los programas, tienen:\n",
    "\n",
    "1.  Entrada de datos\n",
    "\n",
    "2.  Algoritmo\n",
    "\n",
    "3.  Salida de datos"
   ]
  },
  {
   "cell_type": "markdown",
   "metadata": {
    "slideshow": {
     "slide_type": "slide"
    }
   },
   "source": [
    "## Cómo escribir nuestras funciones\n",
    "\n",
    "Dos diferencias fundamentales entre programas y\n",
    "funciones:\n",
    "\n",
    "- Entrada de datos\n",
    "\n",
    "- Salida de datos"
   ]
  },
  {
   "cell_type": "markdown",
   "metadata": {
    "slideshow": {
     "slide_type": "slide"
    }
   },
   "source": [
    "## Transformación a una función (1/2)"
   ]
  },
  {
   "cell_type": "code",
   "execution_count": 3,
   "metadata": {},
   "outputs": [
    {
     "name": "stdout",
     "output_type": "stream",
     "text": [
      "Tras el paso 0 la aproximacion es 1.882353\n",
      "Tras el paso 1 la aproximacion es 3.082153\n",
      "Tras el paso 2 la aproximacion es 3.867850\n",
      "Tras el paso 3 la aproximacion es 3.997744\n",
      "Tras el paso 4 la aproximacion es 3.999999\n",
      "3.999999363307162\n"
     ]
    }
   ],
   "source": [
    "# Input\n",
    "A = 16\n",
    "\n",
    "# Processing\n",
    "n_steps = 5\n",
    "W = 1\n",
    "L = A / W\n",
    "\n",
    "for n in range(n_steps):\n",
    "    \n",
    "    W = (W + L) / 2\n",
    "    L = A / W\n",
    "    print('Tras el paso %d la aproximacion es %f' % (n, L))\n",
    "\n",
    "# Output\n",
    "print(L)"
   ]
  },
  {
   "cell_type": "markdown",
   "metadata": {
    "slideshow": {
     "slide_type": "slide"
    }
   },
   "source": [
    "## Transformación a una función (2/2)"
   ]
  },
  {
   "cell_type": "code",
   "execution_count": 4,
   "metadata": {
    "collapsed": true
   },
   "outputs": [],
   "source": [
    "def my_sqrt(A):\n",
    "\n",
    "    # Processing\n",
    "    n_steps = 5\n",
    "    W = 1\n",
    "    L = A / W\n",
    "\n",
    "    for n in range(n_steps):\n",
    "\n",
    "        W = (W + L) / 2\n",
    "        L = A / W\n",
    "        print('Tras el paso %d la aproximacion es %f' % (n, L))\n",
    "\n",
    "    # Output\n",
    "    print(L)"
   ]
  },
  {
   "cell_type": "code",
   "execution_count": 5,
   "metadata": {},
   "outputs": [
    {
     "name": "stdout",
     "output_type": "stream",
     "text": [
      "Tras el paso 0 la aproximacion es 1.882353\n",
      "Tras el paso 1 la aproximacion es 3.082153\n",
      "Tras el paso 2 la aproximacion es 3.867850\n",
      "Tras el paso 3 la aproximacion es 3.997744\n",
      "Tras el paso 4 la aproximacion es 3.999999\n",
      "3.999999363307162\n"
     ]
    }
   ],
   "source": [
    "my_sqrt(16)"
   ]
  },
  {
   "cell_type": "code",
   "execution_count": 6,
   "metadata": {},
   "outputs": [
    {
     "name": "stdout",
     "output_type": "stream",
     "text": [
      "Tras el paso 0 la aproximacion es 1.800000\n",
      "Tras el paso 1 la aproximacion es 2.647059\n",
      "Tras el paso 2 la aproximacion es 2.976654\n",
      "Tras el paso 3 la aproximacion es 2.999908\n",
      "Tras el paso 4 la aproximacion es 3.000000\n",
      "2.999999998603016\n"
     ]
    }
   ],
   "source": [
    "my_sqrt(9)"
   ]
  },
  {
   "cell_type": "code",
   "execution_count": 7,
   "metadata": {
    "collapsed": true
   },
   "outputs": [],
   "source": [
    "def my_sqrt_with_output(A):\n",
    "\n",
    "    # Processing\n",
    "    n_steps = 5\n",
    "    W = 1\n",
    "    L = A / W\n",
    "\n",
    "    for n in range(n_steps):\n",
    "\n",
    "        W = (W + L) / 2\n",
    "        L = A / W\n",
    "        print('Tras el paso %d la aproximacion es %f' % (n, L))\n",
    "\n",
    "    # Output\n",
    "    return L"
   ]
  },
  {
   "cell_type": "code",
   "execution_count": 8,
   "metadata": {},
   "outputs": [
    {
     "name": "stdout",
     "output_type": "stream",
     "text": [
      "Tras el paso 0 la aproximacion es 1.800000\n",
      "Tras el paso 1 la aproximacion es 2.647059\n",
      "Tras el paso 2 la aproximacion es 2.976654\n",
      "Tras el paso 3 la aproximacion es 2.999908\n",
      "Tras el paso 4 la aproximacion es 3.000000\n"
     ]
    },
    {
     "data": {
      "text/plain": [
       "2.999999998603016"
      ]
     },
     "execution_count": 8,
     "metadata": {},
     "output_type": "execute_result"
    }
   ],
   "source": [
    "my_sqrt_with_output(9)"
   ]
  },
  {
   "cell_type": "code",
   "execution_count": 9,
   "metadata": {},
   "outputs": [
    {
     "name": "stdout",
     "output_type": "stream",
     "text": [
      "Tras el paso 0 la aproximacion es 1.800000\n",
      "Tras el paso 1 la aproximacion es 2.647059\n",
      "Tras el paso 2 la aproximacion es 2.976654\n",
      "Tras el paso 3 la aproximacion es 2.999908\n",
      "Tras el paso 4 la aproximacion es 3.000000\n",
      "2.999999998603016\n",
      "Tras el paso 0 la aproximacion es 1.800000\n",
      "Tras el paso 1 la aproximacion es 2.647059\n",
      "Tras el paso 2 la aproximacion es 2.976654\n",
      "Tras el paso 3 la aproximacion es 2.999908\n",
      "Tras el paso 4 la aproximacion es 3.000000\n"
     ]
    }
   ],
   "source": [
    "h = my_sqrt(9)\n",
    "h2 = my_sqrt_with_output(9)"
   ]
  },
  {
   "cell_type": "code",
   "execution_count": 10,
   "metadata": {},
   "outputs": [
    {
     "name": "stdout",
     "output_type": "stream",
     "text": [
      "None 2.999999998603016\n"
     ]
    }
   ],
   "source": [
    "print(h, h2)"
   ]
  },
  {
   "cell_type": "code",
   "execution_count": 11,
   "metadata": {},
   "outputs": [
    {
     "name": "stdout",
     "output_type": "stream",
     "text": [
      "Tras el paso 0 la aproximacion es 1.923077\n",
      "Tras el paso 1 la aproximacion es 3.350515\n",
      "Tras el paso 2 la aproximacion es 4.624468\n",
      "Tras el paso 3 la aproximacion es 4.984799\n",
      "Tras el paso 4 la aproximacion es 4.999977\n",
      "4.999976821853497\n",
      "Tras el paso 0 la aproximacion es 1.882353\n",
      "Tras el paso 1 la aproximacion es 3.082153\n",
      "Tras el paso 2 la aproximacion es 3.867850\n",
      "Tras el paso 3 la aproximacion es 3.997744\n",
      "Tras el paso 4 la aproximacion es 3.999999\n",
      "3.999999363307162\n"
     ]
    },
    {
     "ename": "TypeError",
     "evalue": "unsupported operand type(s) for -: 'NoneType' and 'NoneType'",
     "output_type": "error",
     "traceback": [
      "\u001b[1;31m---------------------------------------------------------------------------\u001b[0m",
      "\u001b[1;31mTypeError\u001b[0m                                 Traceback (most recent call last)",
      "\u001b[1;32m<ipython-input-11-689df92fbc06>\u001b[0m in \u001b[0;36m<module>\u001b[1;34m()\u001b[0m\n\u001b[0;32m      3\u001b[0m \u001b[1;31m# them with None when evaluating.\u001b[0m\u001b[1;33m\u001b[0m\u001b[1;33m\u001b[0m\u001b[0m\n\u001b[0;32m      4\u001b[0m \u001b[1;33m\u001b[0m\u001b[0m\n\u001b[1;32m----> 5\u001b[1;33m \u001b[0mmy_sqrt\u001b[0m\u001b[1;33m(\u001b[0m\u001b[1;36m25\u001b[0m\u001b[1;33m)\u001b[0m \u001b[1;33m-\u001b[0m \u001b[0mmy_sqrt\u001b[0m\u001b[1;33m(\u001b[0m\u001b[1;36m16\u001b[0m\u001b[1;33m)\u001b[0m\u001b[1;33m\u001b[0m\u001b[0m\n\u001b[0m",
      "\u001b[1;31mTypeError\u001b[0m: unsupported operand type(s) for -: 'NoneType' and 'NoneType'"
     ]
    }
   ],
   "source": [
    "# This fails because this version does not have a return statement.\n",
    "# Therefore, the interpreter executes the functions but then substitutes\n",
    "# them with None when evaluating.\n",
    "\n",
    "my_sqrt(25) - my_sqrt(16)"
   ]
  },
  {
   "cell_type": "code",
   "execution_count": 12,
   "metadata": {},
   "outputs": [
    {
     "name": "stdout",
     "output_type": "stream",
     "text": [
      "Tras el paso 0 la aproximacion es 1.923077\n",
      "Tras el paso 1 la aproximacion es 3.350515\n",
      "Tras el paso 2 la aproximacion es 4.624468\n",
      "Tras el paso 3 la aproximacion es 4.984799\n",
      "Tras el paso 4 la aproximacion es 4.999977\n",
      "Tras el paso 0 la aproximacion es 1.882353\n",
      "Tras el paso 1 la aproximacion es 3.082153\n",
      "Tras el paso 2 la aproximacion es 3.867850\n",
      "Tras el paso 3 la aproximacion es 3.997744\n",
      "Tras el paso 4 la aproximacion es 3.999999\n"
     ]
    },
    {
     "data": {
      "text/plain": [
       "0.9999774585463346"
      ]
     },
     "execution_count": 12,
     "metadata": {},
     "output_type": "execute_result"
    }
   ],
   "source": [
    "my_sqrt_with_output(25) - my_sqrt_with_output(16)"
   ]
  },
  {
   "cell_type": "code",
   "execution_count": 13,
   "metadata": {},
   "outputs": [
    {
     "name": "stdout",
     "output_type": "stream",
     "text": [
      "Tras el paso 0 la aproximacion es 1.777778\n",
      "Tras el paso 1 la aproximacion es 2.548673\n",
      "Tras el paso 2 la aproximacion es 2.813156\n",
      "Tras el paso 3 la aproximacion es 2.828386\n",
      "Tras el paso 4 la aproximacion es 2.828427\n"
     ]
    },
    {
     "data": {
      "text/plain": [
       "0.8284271244425159"
      ]
     },
     "execution_count": 13,
     "metadata": {},
     "output_type": "execute_result"
    }
   ],
   "source": [
    "L = 2\n",
    "\n",
    "my_sqrt_with_output(8) - L "
   ]
  },
  {
   "cell_type": "markdown",
   "metadata": {},
   "source": [
    "### ¿Para qué queremos las funciones?\n",
    "\n",
    "Nos permiten ocultar, _encapsular_, la complejidad. \n",
    "\n",
    "También nos permiten evitar reescribir código.\n",
    "\n",
    "Si necesitamos calcular la altura de un rectángulo, por ejemplo, sólo queremos escribir el código para calcular la altura. No tenemos por qué incluir el código para calcular la raiz cuadrada tanto en este programa como en otro que, por ejemplo, calcule el radio de un círculo a partir de su área."
   ]
  },
  {
   "cell_type": "code",
   "execution_count": null,
   "metadata": {
    "collapsed": true
   },
   "outputs": [],
   "source": []
  },
  {
   "cell_type": "markdown",
   "metadata": {
    "slideshow": {
     "slide_type": "slide"
    }
   },
   "source": [
    "## Partes de una función\n",
    "\n",
    "Las funciones tienen siempre:\n",
    "\n",
    "- Nombre: `my_sqrt` en el caso anterior\n",
    "\n",
    "Pueden tener, pero no es imprescindible:"
   ]
  },
  {
   "cell_type": "markdown",
   "metadata": {
    "slideshow": {
     "slide_type": "fragment"
    }
   },
   "source": [
    "- Argumentos de entrada: `A` en el caso anterior\n",
    "\n",
    "- Valor de retorno (salida): `s` en el caso anterior"
   ]
  },
  {
   "cell_type": "markdown",
   "metadata": {
    "slideshow": {
     "slide_type": "slide"
    }
   },
   "source": [
    "# Variables locales \n",
    "\n",
    "\n",
    "### Variables dentro de funciones\n",
    "\n",
    "Al usar una función, ninguna de las variables que están dentro de la función parecen existir en la memoria.\n",
    "\n",
    "Sin embargo, la función crea variables para obtener el resultado.\n",
    "\n",
    "¿Dónde están esas variables?"
   ]
  },
  {
   "cell_type": "markdown",
   "metadata": {
    "slideshow": {
     "slide_type": "slide"
    }
   },
   "source": [
    "## Ejemplo\n",
    "\n",
    "Vamos a ejecutar un programa paso a paso para ver cómo cambian las variables dentro y fuera de una función."
   ]
  },
  {
   "cell_type": "markdown",
   "metadata": {
    "slideshow": {
     "slide_type": "slide"
    }
   },
   "source": [
    "## Ejemplo\n",
    "\n",
    "`programa.py`:\n",
    "\n",
    "```python\n",
    "    a = 1\n",
    "    b = f(2)\n",
    "    c = 3\n",
    "```\n",
    "\n",
    "\n",
    "`f.py`:\n",
    "\n",
    "```python\n",
    "    def f(x):\n",
    "        z = 2*x\n",
    "        y = z + 1\n",
    "        return y\n",
    "```\n",
    "\n",
    "| Memoria principal | Variables locales |\n",
    "|-------------------|-------------------|\n",
    "|                   |                   |\n",
    "\n"
   ]
  },
  {
   "cell_type": "markdown",
   "metadata": {
    "slideshow": {
     "slide_type": "slide"
    }
   },
   "source": [
    "## Ejemplo\n",
    "\n",
    "`programa.py`:\n",
    "\n",
    "```python\n",
    "    a = 1\n",
    "->  b = f(2)\n",
    "    c = 3\n",
    "```\n",
    "\n",
    "\n",
    "`f.py`:\n",
    "\n",
    "```python\n",
    "    def f(x):\n",
    "        z = 2*x\n",
    "        y = z + 1\n",
    "        return y\n",
    "```\n",
    "\n",
    "| Memoria principal | Variables locales |\n",
    "|-------------------|-------------------|\n",
    "|     `a = 1`       |                   |\n",
    "\n"
   ]
  },
  {
   "cell_type": "markdown",
   "metadata": {
    "slideshow": {
     "slide_type": "slide"
    }
   },
   "source": [
    "## Ejemplo\n",
    "\n",
    "`programa.py`:\n",
    "\n",
    "```python\n",
    "    a = 1\n",
    "->  b = f(2)\n",
    "    c = 3\n",
    "```\n",
    "\n",
    "\n",
    "`f.py`:\n",
    "\n",
    "```python\n",
    "    def f(x):\n",
    "->      z = 2*x\n",
    "        y = z + 1\n",
    "        return y\n",
    "```\n",
    "\n",
    "| Memoria principal | Variables locales |\n",
    "|-------------------|-------------------|\n",
    "|     `a = 1`       |      `x = 2`      |\n",
    "\n",
    "El control ha pasado a la función. El programa principal se\n",
    "queda en espera hasta que la función termina."
   ]
  },
  {
   "cell_type": "markdown",
   "metadata": {
    "slideshow": {
     "slide_type": "slide"
    }
   },
   "source": [
    "## Ejemplo\n",
    "\n",
    "`programa.py`:\n",
    "\n",
    "```python\n",
    "    a = 1\n",
    "->  b = f(2)\n",
    "    c = 3\n",
    "```\n",
    "\n",
    "\n",
    "`f.py`:\n",
    "\n",
    "```python\n",
    "    def f(x):\n",
    "        z = 2*x\n",
    "->      y = z + 1\n",
    "        return y\n",
    "```\n",
    "\n",
    "| Memoria principal | Variables locales |\n",
    "|-------------------|-------------------|\n",
    "|     `a = 1`       |      `x = 2`      |\n",
    "|                   |      `z = 4`      |\n",
    "\n",
    "El control ha pasado a la función. El programa principal se\n",
    "queda en espera hasta que la función termina."
   ]
  },
  {
   "cell_type": "markdown",
   "metadata": {
    "slideshow": {
     "slide_type": "slide"
    }
   },
   "source": [
    "## Ejemplo\n",
    "\n",
    "`programa.py`:\n",
    "\n",
    "```python\n",
    "    a = 1\n",
    "->  b = f(2)\n",
    "    c = 3\n",
    "```\n",
    "\n",
    "\n",
    "`f.py`:\n",
    "\n",
    "```python\n",
    "    def f(x):\n",
    "        z = 2*x\n",
    "        y = z + 1\n",
    "->      return y\n",
    "```\n",
    "\n",
    "| Memoria principal | Variables locales |\n",
    "|-------------------|-------------------|\n",
    "|     `a = 1`       |      `x = 2`      |\n",
    "|                   |      `z = 4`      |\n",
    "|                   |      `y = 5`      |\n",
    "\n",
    "El control ha pasado a la función. El programa principal se\n",
    "queda en espera hasta que la función termina."
   ]
  },
  {
   "cell_type": "markdown",
   "metadata": {
    "slideshow": {
     "slide_type": "slide"
    }
   },
   "source": [
    "## Ejemplo\n",
    "\n",
    "`programa.py`:\n",
    "\n",
    "```python\n",
    "    a = 1\n",
    "    b = f(2)\n",
    "->  c = 3\n",
    "```\n",
    "\n",
    "\n",
    "`f.py`:\n",
    "\n",
    "```python\n",
    "    def f(x):\n",
    "        z = 2*x\n",
    "        y = z + 1\n",
    "        return y\n",
    "```\n",
    "\n",
    "| Memoria principal | Variables locales |\n",
    "|-------------------|-------------------|\n",
    "|     `a = 1`       |                   |\n",
    "|     `b = 5`       |                   |\n",
    "\n",
    "Como la función ha terminado, se pasa el argumento de salida a la\n",
    "variable b y desaparecen todas las variables locales."
   ]
  },
  {
   "cell_type": "markdown",
   "metadata": {
    "slideshow": {
     "slide_type": "slide"
    }
   },
   "source": [
    "## Ejemplo\n",
    "\n",
    "`programa.py`:\n",
    "\n",
    "```python\n",
    "    a = 1\n",
    "    b = f(2)\n",
    "    c = 3\n",
    "->\n",
    "```\n",
    "\n",
    "\n",
    "`f.py`:\n",
    "\n",
    "```python\n",
    "    def f(x):\n",
    "        z = 2*x\n",
    "        y = z + 1\n",
    "        return y\n",
    "```\n",
    "\n",
    "| Memoria principal | Variables locales |\n",
    "|-------------------|-------------------|\n",
    "|     `a = 1`       |                   |\n",
    "|     `b = 5`       |                   |\n",
    "|     `c = 3`       |                   |"
   ]
  },
  {
   "cell_type": "markdown",
   "metadata": {
    "slideshow": {
     "slide_type": "slide"
    }
   },
   "source": [
    "## Qué pasa si las variables tienen nombres iguales?"
   ]
  },
  {
   "cell_type": "markdown",
   "metadata": {
    "slideshow": {
     "slide_type": "slide"
    }
   },
   "source": [
    "## Ejemplo\n",
    "\n",
    "`programa.py`:\n",
    "\n",
    "```python\n",
    "    z = 1\n",
    "    x = f(2)\n",
    "    y = 3\n",
    "```\n",
    "\n",
    "\n",
    "`f.py`:\n",
    "\n",
    "```python\n",
    "    def f(x):\n",
    "        z = 2*x\n",
    "        y = z + 1\n",
    "        return y\n",
    "```\n",
    "\n",
    "| Memoria principal | Variables locales |\n",
    "|-------------------|-------------------|\n",
    "|                   |                   |\n",
    "\n"
   ]
  },
  {
   "cell_type": "markdown",
   "metadata": {
    "slideshow": {
     "slide_type": "slide"
    }
   },
   "source": [
    "## Ejemplo\n",
    "\n",
    "`programa.py`:\n",
    "\n",
    "```python\n",
    "    z = 1\n",
    "->  x = f(2)\n",
    "    y = 3\n",
    "```\n",
    "\n",
    "\n",
    "`f.py`:\n",
    "\n",
    "```python\n",
    "    def f(x):\n",
    "        z = 2*x\n",
    "        y = z + 1\n",
    "        return y\n",
    "```\n",
    "\n",
    "| Memoria principal | Variables locales |\n",
    "|-------------------|-------------------|\n",
    "|     `z = 1`       |                   |\n",
    "\n"
   ]
  },
  {
   "cell_type": "markdown",
   "metadata": {
    "slideshow": {
     "slide_type": "slide"
    }
   },
   "source": [
    "## Ejemplo\n",
    "\n",
    "`programa.py`:\n",
    "\n",
    "```python\n",
    "    z = 1\n",
    "->  x = f(2)\n",
    "    y = 3\n",
    "```\n",
    "\n",
    "\n",
    "`f.py`:\n",
    "\n",
    "```python\n",
    "    def f(x):\n",
    "->      z = 2*x\n",
    "        y = z + 1\n",
    "        return y\n",
    "```\n",
    "\n",
    "| Memoria principal | Variables locales |\n",
    "|-------------------|-------------------|\n",
    "|     `z = 1`       |      `x = 2`      |\n",
    "\n",
    "El control ha pasado a la función. El programa principal se\n",
    "queda en espera hasta que la función termina."
   ]
  },
  {
   "cell_type": "markdown",
   "metadata": {
    "slideshow": {
     "slide_type": "slide"
    }
   },
   "source": [
    "## Ejemplo\n",
    "\n",
    "`programa.py`:\n",
    "\n",
    "```python\n",
    "    z = 1\n",
    "->  x = f(2)\n",
    "    y = 3\n",
    "```\n",
    "\n",
    "\n",
    "`f.py`:\n",
    "\n",
    "```python\n",
    "    def f(x):\n",
    "        z = 2*x\n",
    "->      y = z + 1\n",
    "        return y\n",
    "```\n",
    "\n",
    "| Memoria principal | Variables locales |\n",
    "|-------------------|-------------------|\n",
    "|     `z = 1`       |      `x = 2`      |\n",
    "|                   |      `z = 4`      |\n",
    "\n",
    "Tenemos dos variables de nombre z, pero en diferentes contextos (_scopes_). Por eso no hay confusión posible."
   ]
  },
  {
   "cell_type": "markdown",
   "metadata": {
    "slideshow": {
     "slide_type": "slide"
    }
   },
   "source": [
    "## Ejemplo\n",
    "\n",
    "`programa.py`:\n",
    "\n",
    "```python\n",
    "    z = 1\n",
    "->  x = f(2)\n",
    "    y = 3\n",
    "```\n",
    "\n",
    "\n",
    "`f.py`:\n",
    "\n",
    "```python\n",
    "    def f(x):\n",
    "        z = 2*x\n",
    "        y = z + 1\n",
    "->      return y\n",
    "```\n",
    "\n",
    "| Memoria principal | Variables locales |\n",
    "|-------------------|-------------------|\n",
    "|     `z = 1`       |      `x = 2`      |\n",
    "|                   |      `z = 4`      |\n",
    "|                   |      `y = 5`      |\n",
    "\n",
    "El control ha pasado a la función. El programa principal se\n",
    "queda en espera hasta que la función termina."
   ]
  },
  {
   "cell_type": "markdown",
   "metadata": {
    "slideshow": {
     "slide_type": "slide"
    }
   },
   "source": [
    "## Ejemplo\n",
    "\n",
    "`programa.py`:\n",
    "\n",
    "```python\n",
    "    z = 1\n",
    "    x = f(2)\n",
    "->  y = 3\n",
    "```\n",
    "\n",
    "\n",
    "`f.py`:\n",
    "\n",
    "```python\n",
    "    def f(x):\n",
    "        z = 2*x\n",
    "        y = z + 1\n",
    "        return y\n",
    "```\n",
    "\n",
    "| Memoria principal | Variables locales |\n",
    "|-------------------|-------------------|\n",
    "|     `z = 1`       |                   |\n",
    "|     `x = 5`       |                   |\n",
    "\n",
    "Como la función ha terminado, se pasa el argumento de salida a la\n",
    "variable b y desaparecen todas las variables locales."
   ]
  },
  {
   "cell_type": "markdown",
   "metadata": {
    "slideshow": {
     "slide_type": "slide"
    }
   },
   "source": [
    "## Ejemplo\n",
    "\n",
    "`programa.py`:\n",
    "\n",
    "```python\n",
    "    z = 1\n",
    "    x = f(2)\n",
    "    y = 3\n",
    "->\n",
    "```\n",
    "\n",
    "\n",
    "`f.py`:\n",
    "\n",
    "```python\n",
    "    def f(x):\n",
    "        z = 2*x\n",
    "        y = z + 1\n",
    "        return y\n",
    "```\n",
    "\n",
    "| Memoria principal | Variables locales |\n",
    "|-------------------|-------------------|\n",
    "|     `z = 1`       |                   |\n",
    "|     `x = 5`       |                   |\n",
    "|     `y = 3`       |                   |"
   ]
  },
  {
   "cell_type": "code",
   "execution_count": 14,
   "metadata": {},
   "outputs": [
    {
     "name": "stdout",
     "output_type": "stream",
     "text": [
      "7\n",
      "9\n",
      "7\n"
     ]
    }
   ],
   "source": [
    "a = 2\n",
    "b = 3\n",
    "\n",
    "def sum2(a):\n",
    "    \n",
    "    return b + 4\n",
    "\n",
    "print(sum2(5))\n",
    "\n",
    "def sum2(b):\n",
    "    \n",
    "    return b + 4\n",
    "\n",
    "print(sum2(5))\n",
    "print(b + 4)"
   ]
  },
  {
   "cell_type": "markdown",
   "metadata": {
    "slideshow": {
     "slide_type": "slide"
    }
   },
   "source": [
    "## Argumentos en la función\n",
    "\n",
    "Función `my_sqrt`"
   ]
  },
  {
   "cell_type": "code",
   "execution_count": null,
   "metadata": {
    "collapsed": true
   },
   "outputs": [],
   "source": []
  },
  {
   "cell_type": "markdown",
   "metadata": {
    "slideshow": {
     "slide_type": "slide"
    }
   },
   "source": [
    "## Mejorar la función\n",
    "\n",
    "Nuestra función no es muy buena para valores de `A` muy grandes, y desperdicia tiempo de ejecución para valores pequeños.\n",
    "\n",
    "Vamos a hacer que el usuario elija también el número de pasos.\n",
    "\n",
    "Será necesario siempre indicar dos argumentos al usar nuestra función.\n",
    "\n",
    "- Si solo indicamos uno, se producirá un error."
   ]
  },
  {
   "cell_type": "markdown",
   "metadata": {
    "slideshow": {
     "slide_type": "slide"
    }
   },
   "source": [
    "### Dos argumentos de entrada\n",
    "\n",
    "Función `my_sqrt`:"
   ]
  },
  {
   "cell_type": "code",
   "execution_count": 15,
   "metadata": {
    "collapsed": true
   },
   "outputs": [],
   "source": [
    "def my_sqrt_with_output(A, n_steps):\n",
    "\n",
    "    # Processing\n",
    "    W = 1\n",
    "    L = A / W\n",
    "\n",
    "    for n in range(n_steps):\n",
    "\n",
    "        W = (W + L) / 2\n",
    "        L = A / W\n",
    "        print('Tras el paso %d la aproximacion es %f' % (n, L))\n",
    "\n",
    "    # Output\n",
    "    return L"
   ]
  },
  {
   "cell_type": "code",
   "execution_count": 16,
   "metadata": {},
   "outputs": [
    {
     "name": "stdout",
     "output_type": "stream",
     "text": [
      "Tras el paso 0 la aproximacion es 1.800000\n",
      "Tras el paso 1 la aproximacion es 2.647059\n",
      "Tras el paso 2 la aproximacion es 2.976654\n",
      "Tras el paso 3 la aproximacion es 2.999908\n",
      "Tras el paso 4 la aproximacion es 3.000000\n",
      "Tras el paso 5 la aproximacion es 3.000000\n",
      "Tras el paso 6 la aproximacion es 3.000000\n",
      "Tras el paso 7 la aproximacion es 3.000000\n",
      "Tras el paso 8 la aproximacion es 3.000000\n",
      "Tras el paso 9 la aproximacion es 3.000000\n"
     ]
    },
    {
     "data": {
      "text/plain": [
       "3.0"
      ]
     },
     "execution_count": 16,
     "metadata": {},
     "output_type": "execute_result"
    }
   ],
   "source": [
    "my_sqrt_with_output(9, 10)"
   ]
  },
  {
   "cell_type": "markdown",
   "metadata": {
    "slideshow": {
     "slide_type": "slide"
    }
   },
   "source": [
    "## Argumentos opcionales\n",
    "\n",
    "Podemos hacer una función más cómoda de usar\n",
    "\n",
    "El número de pasos es un detalle interno (_de implementación_) que el usuario debería poder ignorar, aunque le demos la posibilidad de controlarlo si quiere.\n",
    "\n",
    "¿Cómo transformamos un argumento de entrada en opcional?"
   ]
  },
  {
   "cell_type": "markdown",
   "metadata": {
    "slideshow": {
     "slide_type": "fragment"
    }
   },
   "source": [
    "**Valores por defecto** Si asignamos un valor por defecto a un argumento, ese argumento será siempre opcional. A estos argumentos se les llama _keyword arguments_."
   ]
  },
  {
   "cell_type": "markdown",
   "metadata": {
    "slideshow": {
     "slide_type": "slide"
    }
   },
   "source": [
    "## El argumento `n_pasos`, opcional"
   ]
  },
  {
   "cell_type": "code",
   "execution_count": 17,
   "metadata": {
    "collapsed": true
   },
   "outputs": [],
   "source": [
    "def my_sqrt_with_output(A, n_steps=10):\n",
    "\n",
    "    # Processing\n",
    "    W = 1\n",
    "    L = A / W\n",
    "\n",
    "    for n in range(n_steps):\n",
    "\n",
    "        W = (W + L) / 2\n",
    "        L = A / W\n",
    "        print('Tras el paso %d la aproximacion es %f' % (n, L))\n",
    "\n",
    "    # Output\n",
    "    return L"
   ]
  },
  {
   "cell_type": "code",
   "execution_count": 18,
   "metadata": {},
   "outputs": [
    {
     "name": "stdout",
     "output_type": "stream",
     "text": [
      "Tras el paso 0 la aproximacion es 1.800000\n",
      "Tras el paso 1 la aproximacion es 2.647059\n",
      "Tras el paso 2 la aproximacion es 2.976654\n",
      "Tras el paso 3 la aproximacion es 2.999908\n",
      "Tras el paso 4 la aproximacion es 3.000000\n",
      "Tras el paso 5 la aproximacion es 3.000000\n",
      "Tras el paso 6 la aproximacion es 3.000000\n",
      "Tras el paso 7 la aproximacion es 3.000000\n",
      "Tras el paso 8 la aproximacion es 3.000000\n",
      "Tras el paso 9 la aproximacion es 3.000000\n"
     ]
    },
    {
     "data": {
      "text/plain": [
       "3.0"
      ]
     },
     "execution_count": 18,
     "metadata": {},
     "output_type": "execute_result"
    }
   ],
   "source": [
    "my_sqrt_with_output(9)"
   ]
  },
  {
   "cell_type": "code",
   "execution_count": 19,
   "metadata": {},
   "outputs": [
    {
     "name": "stdout",
     "output_type": "stream",
     "text": [
      "Tras el paso 0 la aproximacion es 1.800000\n",
      "Tras el paso 1 la aproximacion es 2.647059\n",
      "Tras el paso 2 la aproximacion es 2.976654\n",
      "Tras el paso 3 la aproximacion es 2.999908\n"
     ]
    },
    {
     "data": {
      "text/plain": [
       "2.9999084486625875"
      ]
     },
     "execution_count": 19,
     "metadata": {},
     "output_type": "execute_result"
    }
   ],
   "source": [
    "my_sqrt_with_output(9, 4)"
   ]
  },
  {
   "cell_type": "markdown",
   "metadata": {
    "slideshow": {
     "slide_type": "slide"
    }
   },
   "source": [
    "## Varios argumentos opcionales\n",
    "\n",
    "¿Qué ocurre cuando tenemos varios argumentos opcionales?\n",
    "\n",
    "```python\n",
    "       def f(x, y=0, z=-1):\n",
    "        ....\n",
    "```\n",
    "\n",
    "¿Tenemos que indicar forzosamente todos los\n",
    "argumentos opcionales?"
   ]
  },
  {
   "cell_type": "markdown",
   "metadata": {
    "slideshow": {
     "slide_type": "fragment"
    }
   },
   "source": [
    "**No, también podemos pasar argumentos por nombre, no solo por\n",
    "posición**\n",
    "\n",
    "       f(3, z=1)  # No indicamos y, por lo que tendremos y=0\n",
    "       f(3, y=6)  # No indicamos z, por lo que tendremos z=-1\n",
    "       f(3, 5)    # Cu'anto vale z en este caso?\n",
    "     "
   ]
  },
  {
   "cell_type": "code",
   "execution_count": 20,
   "metadata": {
    "collapsed": true
   },
   "outputs": [],
   "source": [
    "def my_sqrt_with_output(A, n_steps=10, message='Holi'):\n",
    "\n",
    "    # Processing\n",
    "    print(message)\n",
    "    W = 1\n",
    "    L = A / W\n",
    "\n",
    "    for n in range(n_steps):\n",
    "\n",
    "        W = (W + L) / 2\n",
    "        L = A / W\n",
    "        print('Tras el paso %d la aproximacion es %f' % (n, L))\n",
    "\n",
    "    # Output\n",
    "    return L"
   ]
  },
  {
   "cell_type": "code",
   "execution_count": 21,
   "metadata": {},
   "outputs": [
    {
     "name": "stdout",
     "output_type": "stream",
     "text": [
      "Holi\n",
      "Tras el paso 0 la aproximacion es 1.800000\n",
      "Tras el paso 1 la aproximacion es 2.647059\n",
      "Tras el paso 2 la aproximacion es 2.976654\n",
      "Tras el paso 3 la aproximacion es 2.999908\n",
      "Tras el paso 4 la aproximacion es 3.000000\n",
      "Tras el paso 5 la aproximacion es 3.000000\n",
      "Tras el paso 6 la aproximacion es 3.000000\n",
      "Tras el paso 7 la aproximacion es 3.000000\n",
      "Tras el paso 8 la aproximacion es 3.000000\n",
      "Tras el paso 9 la aproximacion es 3.000000\n"
     ]
    },
    {
     "data": {
      "text/plain": [
       "3.0"
      ]
     },
     "execution_count": 21,
     "metadata": {},
     "output_type": "execute_result"
    }
   ],
   "source": [
    "my_sqrt_with_output(9)"
   ]
  },
  {
   "cell_type": "code",
   "execution_count": 22,
   "metadata": {},
   "outputs": [
    {
     "name": "stdout",
     "output_type": "stream",
     "text": [
      "Holi\n",
      "Tras el paso 0 la aproximacion es 1.800000\n",
      "Tras el paso 1 la aproximacion es 2.647059\n",
      "Tras el paso 2 la aproximacion es 2.976654\n",
      "Tras el paso 3 la aproximacion es 2.999908\n"
     ]
    },
    {
     "data": {
      "text/plain": [
       "2.9999084486625875"
      ]
     },
     "execution_count": 22,
     "metadata": {},
     "output_type": "execute_result"
    }
   ],
   "source": [
    "my_sqrt_with_output(9, 4)"
   ]
  },
  {
   "cell_type": "code",
   "execution_count": 23,
   "metadata": {},
   "outputs": [
    {
     "name": "stdout",
     "output_type": "stream",
     "text": [
      "tocoto\n",
      "Tras el paso 0 la aproximacion es 1.800000\n",
      "Tras el paso 1 la aproximacion es 2.647059\n",
      "Tras el paso 2 la aproximacion es 2.976654\n",
      "Tras el paso 3 la aproximacion es 2.999908\n"
     ]
    },
    {
     "data": {
      "text/plain": [
       "2.9999084486625875"
      ]
     },
     "execution_count": 23,
     "metadata": {},
     "output_type": "execute_result"
    }
   ],
   "source": [
    "my_sqrt_with_output(9, 4, 'tocoto')"
   ]
  },
  {
   "cell_type": "code",
   "execution_count": 24,
   "metadata": {},
   "outputs": [
    {
     "name": "stdout",
     "output_type": "stream",
     "text": [
      "Claro que si, guapi\n",
      "Tras el paso 0 la aproximacion es 1.800000\n",
      "Tras el paso 1 la aproximacion es 2.647059\n",
      "Tras el paso 2 la aproximacion es 2.976654\n",
      "Tras el paso 3 la aproximacion es 2.999908\n",
      "Tras el paso 4 la aproximacion es 3.000000\n",
      "Tras el paso 5 la aproximacion es 3.000000\n",
      "Tras el paso 6 la aproximacion es 3.000000\n",
      "Tras el paso 7 la aproximacion es 3.000000\n",
      "Tras el paso 8 la aproximacion es 3.000000\n",
      "Tras el paso 9 la aproximacion es 3.000000\n"
     ]
    },
    {
     "data": {
      "text/plain": [
       "3.0"
      ]
     },
     "execution_count": 24,
     "metadata": {},
     "output_type": "execute_result"
    }
   ],
   "source": [
    "my_sqrt_with_output(9, message='Claro que si, guapi')"
   ]
  },
  {
   "cell_type": "markdown",
   "metadata": {
    "slideshow": {
     "slide_type": "slide"
    }
   },
   "source": [
    "## Valores de retorno\n",
    "\n",
    "¿Podemos hacer que la función devuelva más de un\n",
    "argumento?"
   ]
  },
  {
   "cell_type": "markdown",
   "metadata": {
    "slideshow": {
     "slide_type": "fragment"
    }
   },
   "source": [
    "Al igual que con los argumentos\n",
    "de entrada, podemos tener tantos argumentos de salida como queramos."
   ]
  },
  {
   "cell_type": "markdown",
   "metadata": {
    "slideshow": {
     "slide_type": "slide"
    }
   },
   "source": [
    "## Comparar la salida con el valor correcto"
   ]
  },
  {
   "cell_type": "code",
   "execution_count": 25,
   "metadata": {
    "collapsed": true
   },
   "outputs": [],
   "source": [
    "def my_sqrt_with_output(A, n_steps=4, message='Holi'):\n",
    "\n",
    "    # Processing\n",
    "    print(message)\n",
    "    W = 1\n",
    "    L = A / W\n",
    "\n",
    "    for n in range(n_steps):\n",
    "\n",
    "        W = (W + L) / 2\n",
    "        L = A / W\n",
    "        print('Tras el paso %d la aproximacion es %f' % (n, L))\n",
    "\n",
    "    # Output\n",
    "    error = abs(W-L)\n",
    "    \n",
    "    return L, error"
   ]
  },
  {
   "cell_type": "code",
   "execution_count": 26,
   "metadata": {},
   "outputs": [
    {
     "name": "stdout",
     "output_type": "stream",
     "text": [
      "Holi\n",
      "Tras el paso 0 la aproximacion es 1.800000\n",
      "Tras el paso 1 la aproximacion es 2.647059\n",
      "Tras el paso 2 la aproximacion es 2.976654\n",
      "Tras el paso 3 la aproximacion es 2.999908\n"
     ]
    },
    {
     "data": {
      "text/plain": [
       "(2.9999084486625875, 0.00018310546879263256)"
      ]
     },
     "execution_count": 26,
     "metadata": {},
     "output_type": "execute_result"
    }
   ],
   "source": [
    "my_sqrt_with_output(9)"
   ]
  },
  {
   "cell_type": "code",
   "execution_count": 27,
   "metadata": {},
   "outputs": [
    {
     "name": "stdout",
     "output_type": "stream",
     "text": [
      "Holi\n",
      "Tras el paso 0 la aproximacion es 1.800000\n",
      "Tras el paso 1 la aproximacion es 2.647059\n",
      "Tras el paso 2 la aproximacion es 2.976654\n",
      "Tras el paso 3 la aproximacion es 2.999908\n"
     ]
    }
   ],
   "source": [
    "output = my_sqrt_with_output(9)"
   ]
  },
  {
   "cell_type": "code",
   "execution_count": 28,
   "metadata": {},
   "outputs": [
    {
     "data": {
      "text/plain": [
       "tuple"
      ]
     },
     "execution_count": 28,
     "metadata": {},
     "output_type": "execute_result"
    }
   ],
   "source": [
    "type(output)"
   ]
  },
  {
   "cell_type": "code",
   "execution_count": 29,
   "metadata": {
    "collapsed": true
   },
   "outputs": [],
   "source": [
    "result = output[0]\n",
    "error = output[1]"
   ]
  },
  {
   "cell_type": "code",
   "execution_count": 32,
   "metadata": {},
   "outputs": [
    {
     "data": {
      "text/plain": [
       "0.00018310546879263256"
      ]
     },
     "execution_count": 32,
     "metadata": {},
     "output_type": "execute_result"
    }
   ],
   "source": [
    "error"
   ]
  },
  {
   "cell_type": "markdown",
   "metadata": {},
   "source": [
    "#### Ejercicio\n",
    "\n",
    "Escribe una función que tome dos valores y devuelva la diferencia del cuadrado del mayor menos el cuadrado del menor.\n"
   ]
  },
  {
   "cell_type": "code",
   "execution_count": 33,
   "metadata": {},
   "outputs": [
    {
     "data": {
      "text/plain": [
       "0"
      ]
     },
     "execution_count": 33,
     "metadata": {},
     "output_type": "execute_result"
    }
   ],
   "source": [
    "def diff_of_squares(a, b):\n",
    "    if a > b:\n",
    "        higher = a\n",
    "        lower = b\n",
    "    else:\n",
    "        higher = b\n",
    "        lower = a\n",
    "        \n",
    "    diff = higher ** 2 - lower ** 2\n",
    "    \n",
    "    return diff\n",
    "    \n",
    "diff_of_squares(2, 2)"
   ]
  },
  {
   "cell_type": "code",
   "execution_count": 34,
   "metadata": {},
   "outputs": [
    {
     "data": {
      "text/plain": [
       "-2700"
      ]
     },
     "execution_count": 34,
     "metadata": {},
     "output_type": "execute_result"
    }
   ],
   "source": [
    "def diff_of_squares(a, b):\n",
    "    result = max(a, b) ** 2 - min(a, b) ** 2\n",
    "    \n",
    "    return result\n",
    "\n",
    "diff_of_squares(-2, -52)   "
   ]
  },
  {
   "cell_type": "code",
   "execution_count": 35,
   "metadata": {},
   "outputs": [
    {
     "name": "stdout",
     "output_type": "stream",
     "text": [
      "45\n",
      "0\n",
      "3\n",
      "21\n"
     ]
    }
   ],
   "source": [
    "def wrong_diff_of_squares(a, b):\n",
    "\n",
    "    return abs(a ** 2 - b ** 2)\n",
    "    \n",
    "print(wrong_diff_of_squares(2,7))\n",
    "print(wrong_diff_of_squares(2,2))\n",
    "print(wrong_diff_of_squares(2,-1))\n",
    "print(wrong_diff_of_squares(2,-5))def wrong_diff_of_squares(a, b):"
   ]
  },
  {
   "cell_type": "markdown",
   "metadata": {},
   "source": [
    "#### Ejercicio:\n",
    "\n",
    "Escribe una función que devuelva la media de una sequencia. Pruébala con la siguiente lista:\n",
    "\n",
    "```python \n",
    "my_seq = [4, 1, 7, 23, 11, 24, 20, 15, 6]\n",
    "```"
   ]
  },
  {
   "cell_type": "code",
   "execution_count": 38,
   "metadata": {
    "collapsed": true
   },
   "outputs": [],
   "source": [
    "def media(sequence):\n",
    "    return sum(sequence) / len(sequence)"
   ]
  },
  {
   "cell_type": "code",
   "execution_count": 39,
   "metadata": {},
   "outputs": [
    {
     "data": {
      "text/plain": [
       "12.333333333333334"
      ]
     },
     "execution_count": 39,
     "metadata": {},
     "output_type": "execute_result"
    }
   ],
   "source": [
    "my_seq = [4, 1, 7, 23, 11, 24, 20, 15, 6]\n",
    "\n",
    "media(my_seq)"
   ]
  },
  {
   "cell_type": "code",
   "execution_count": 40,
   "metadata": {},
   "outputs": [
    {
     "data": {
      "text/plain": [
       "12.333333333333334"
      ]
     },
     "execution_count": 40,
     "metadata": {},
     "output_type": "execute_result"
    }
   ],
   "source": [
    "def media_wloop(sequence):\n",
    "\n",
    "    summation = 0\n",
    "    length = 0\n",
    "    \n",
    "    for element in sequence:\n",
    "        summation = summation + element\n",
    "        length = length + 1\n",
    "        \n",
    "    return summation / length\n",
    "\n",
    "media_wloop(my_seq)"
   ]
  },
  {
   "cell_type": "markdown",
   "metadata": {},
   "source": [
    "#### Ejercicio\n",
    "\n",
    "Escribe una función que calcule la varianza de una sequencia. Pruébala con la siguiente lista:\n",
    "\n",
    "```python \n",
    "my_seq = [4, 1, 7, 23, 11, 24, 20, 15, 6, 89, 22]\n",
    "```\n",
    "\n",
    "Reutiliza la función que has escrito en el ejercicio anterior."
   ]
  },
  {
   "cell_type": "code",
   "execution_count": 41,
   "metadata": {},
   "outputs": [
    {
     "data": {
      "text/plain": [
       "534.3305785123965"
      ]
     },
     "execution_count": 41,
     "metadata": {},
     "output_type": "execute_result"
    }
   ],
   "source": [
    "import statistics as st\n",
    "\n",
    "my_seq = [4, 1, 7, 23, 11, 24, 20, 15, 6, 89, 22]\n",
    "st.variance(my_seq) * (len(my_seq) - 1) / len(my_seq)"
   ]
  },
  {
   "cell_type": "code",
   "execution_count": 42,
   "metadata": {},
   "outputs": [
    {
     "name": "stdout",
     "output_type": "stream",
     "text": [
      "4\n",
      "1\n",
      "7\n",
      "23\n",
      "11\n",
      "24\n",
      "20\n",
      "15\n",
      "6\n",
      "89\n",
      "22\n"
     ]
    },
    {
     "data": {
      "text/plain": [
       "534.3305785123966"
      ]
     },
     "execution_count": 42,
     "metadata": {},
     "output_type": "execute_result"
    }
   ],
   "source": [
    "def variance(sequence):\n",
    "    n = len(sequence)\n",
    "    \n",
    "    sum_sq_diff = 0\n",
    "    \n",
    "    for element in sequence:\n",
    "        print(element)\n",
    "        sq_diff = (element - media(sequence)) ** 2\n",
    "        \n",
    "        sum_sq_diff = sum_sq_diff + sq_diff\n",
    "    \n",
    "    result = sum_sq_diff / n\n",
    "    \n",
    "    return result\n",
    "\n",
    "variance(my_seq)"
   ]
  },
  {
   "cell_type": "markdown",
   "metadata": {
    "slideshow": {
     "slide_type": "slide"
    }
   },
   "source": [
    "## Varios valores de retorno\n",
    "\n",
    "En realidad, estamos devolviendo una tupla\n",
    "\n",
    "La función siempre nos devolverá los dos valores\n",
    "\n",
    "Podemos _desempaquetar_ (_unpack_) esos valores directamente"
   ]
  },
  {
   "cell_type": "code",
   "execution_count": 43,
   "metadata": {},
   "outputs": [
    {
     "name": "stdout",
     "output_type": "stream",
     "text": [
      "Holi\n",
      "Tras el paso 0 la aproximacion es 1.882353\n",
      "Tras el paso 1 la aproximacion es 3.082153\n",
      "Tras el paso 2 la aproximacion es 3.867850\n",
      "Tras el paso 3 la aproximacion es 3.997744\n"
     ]
    },
    {
     "data": {
      "text/plain": [
       "(3.997743748587357, 0.004513776211165332)"
      ]
     },
     "execution_count": 43,
     "metadata": {},
     "output_type": "execute_result"
    }
   ],
   "source": [
    "my_sqrt_with_output(16)"
   ]
  },
  {
   "cell_type": "code",
   "execution_count": 44,
   "metadata": {},
   "outputs": [
    {
     "name": "stdout",
     "output_type": "stream",
     "text": [
      "Holi\n",
      "Tras el paso 0 la aproximacion es 1.882353\n",
      "Tras el paso 1 la aproximacion es 3.082153\n",
      "Tras el paso 2 la aproximacion es 3.867850\n",
      "Tras el paso 3 la aproximacion es 3.997744\n"
     ]
    }
   ],
   "source": [
    "res, err = my_sqrt_with_output(16)"
   ]
  },
  {
   "cell_type": "code",
   "execution_count": 45,
   "metadata": {},
   "outputs": [
    {
     "data": {
      "text/plain": [
       "3.997743748587357"
      ]
     },
     "execution_count": 45,
     "metadata": {},
     "output_type": "execute_result"
    }
   ],
   "source": [
    "res"
   ]
  },
  {
   "cell_type": "code",
   "execution_count": 46,
   "metadata": {},
   "outputs": [
    {
     "data": {
      "text/plain": [
       "0.00018310546879263256"
      ]
     },
     "execution_count": 46,
     "metadata": {},
     "output_type": "execute_result"
    }
   ],
   "source": [
    "error"
   ]
  },
  {
   "cell_type": "code",
   "execution_count": null,
   "metadata": {
    "collapsed": true
   },
   "outputs": [],
   "source": []
  },
  {
   "cell_type": "code",
   "execution_count": null,
   "metadata": {
    "collapsed": true
   },
   "outputs": [],
   "source": []
  },
  {
   "cell_type": "code",
   "execution_count": null,
   "metadata": {
    "collapsed": true
   },
   "outputs": [],
   "source": []
  },
  {
   "cell_type": "markdown",
   "metadata": {
    "slideshow": {
     "slide_type": "slide"
    }
   },
   "source": [
    "# Funciones anónimas (funciones $\\lambda$) \n",
    "\n",
    "Podemos crear funciones en la línea de comandos, o en el código, y\n",
    "    asignar la función a una variable, o pasarla como un argumento\n",
    "\n",
    "El nombre de la variable actúa de *alias* de la función\n",
    "\n",
    "Pueden tener varios argumentos de entrada y de salida"
   ]
  },
  {
   "cell_type": "code",
   "execution_count": null,
   "metadata": {
    "collapsed": true
   },
   "outputs": [],
   "source": []
  },
  {
   "cell_type": "markdown",
   "metadata": {},
   "source": [
    "La única diferencia entre estas dos definiciones de la función es que en la segunda le estamos dando un nombre."
   ]
  },
  {
   "cell_type": "markdown",
   "metadata": {
    "slideshow": {
     "slide_type": "slide"
    }
   },
   "source": [
    "## Uso de funciones anónimas\n",
    "\n",
    "No son muy habituales al programar en Python.\n",
    "\n",
    "Pero cuando uséis Spark, veréis que las funciones anónimas ahorran escribir mucho código\n",
    "\n",
    "Spark se basa en programación *funcional*, tiene muchas funciones que esperan otra función como argumento: _funciones de orden superior_"
   ]
  },
  {
   "cell_type": "markdown",
   "metadata": {
    "slideshow": {
     "slide_type": "slide"
    }
   },
   "source": [
    "# Pasar una función como argumento de otra función \n",
    "\n",
    "## Funciones como argumento de funciones\n",
    "\n",
    "Situación muy habitual en Spark, en programación funcional y en métodos numéricos\n",
    "\n",
    "Por ejemplo, una función (informática) que implementa un método de optimización de funciones (matemáticas)\n",
    "\n",
    "```python\n",
    "x0 = optimize_my_function(f)\n",
    "```"
   ]
  },
  {
   "cell_type": "markdown",
   "metadata": {
    "slideshow": {
     "slide_type": "slide"
    }
   },
   "source": [
    "## Veamos un ejemplo más sencillo\n",
    "\n",
    "- Vamos a hacer una función (informática) que calcula el cuadrado\n",
    "  de otra función (matemática)\n",
    "\n",
    "La función `square_f`:"
   ]
  },
  {
   "cell_type": "code",
   "execution_count": null,
   "metadata": {
    "collapsed": true
   },
   "outputs": [],
   "source": []
  },
  {
   "cell_type": "markdown",
   "metadata": {
    "slideshow": {
     "slide_type": "slide"
    }
   },
   "source": [
    "## Cómo pasar la función"
   ]
  },
  {
   "cell_type": "markdown",
   "metadata": {},
   "source": [
    "Pasamos `sin` como argumento de `square_f`:"
   ]
  },
  {
   "cell_type": "code",
   "execution_count": null,
   "metadata": {
    "collapsed": true
   },
   "outputs": [],
   "source": []
  },
  {
   "cell_type": "markdown",
   "metadata": {
    "slideshow": {
     "slide_type": "slide"
    }
   },
   "source": [
    "## Funciones de orden superior"
   ]
  },
  {
   "cell_type": "markdown",
   "metadata": {},
   "source": [
    "Funciones que consumen otras funciones. \n",
    "\n",
    "El principal ejemplo es `map`.\n",
    "\n",
    "![map](https://cosminpupaza.files.wordpress.com/2015/10/map.png?w=505)"
   ]
  },
  {
   "cell_type": "code",
   "execution_count": null,
   "metadata": {
    "collapsed": true
   },
   "outputs": [],
   "source": []
  },
  {
   "cell_type": "markdown",
   "metadata": {},
   "source": [
    "Otro de los tres grandes pilares es filter, que toma una función que evalúa cada elemento, uno a uno, a un booleano. Según ese booleano, nos quedaremos o no con el elemento correspondiente:\n",
    "\n",
    "![Filter](https://cosminpupaza.files.wordpress.com/2015/11/filter.png?w=405)"
   ]
  },
  {
   "cell_type": "code",
   "execution_count": null,
   "metadata": {
    "collapsed": true
   },
   "outputs": [],
   "source": []
  },
  {
   "cell_type": "markdown",
   "metadata": {},
   "source": [
    "Por último, tenemos `reduce`, que toma elementos dos a dos y los combina con la función f.\n",
    "\n",
    "\n",
    "![Reduce](https://cosminpupaza.files.wordpress.com/2015/11/reduce.png?w=500)"
   ]
  },
  {
   "cell_type": "code",
   "execution_count": null,
   "metadata": {
    "collapsed": true
   },
   "outputs": [],
   "source": []
  },
  {
   "cell_type": "markdown",
   "metadata": {},
   "source": [
    "La sintaxis de las funciones de orden superior es bastante burda en Python, más que en otros lenguajes. \n",
    "\n",
    "Sin embargo, disponemos de una construcción muy elegante para componer maps: las list comprehensions. Se escriben de la siguiente manera:"
   ]
  },
  {
   "cell_type": "code",
   "execution_count": null,
   "metadata": {
    "collapsed": true
   },
   "outputs": [],
   "source": []
  },
  {
   "cell_type": "markdown",
   "metadata": {
    "slideshow": {
     "slide_type": "slide"
    }
   },
   "source": [
    "# Terminar funciones de manera abrupta \n",
    "\n",
    "En ocasiones es útil terminar una función antes de llegar al final del código.\n",
    "\n",
    "Para terminar una función antes de tiempo podemos usar return en cualquier lugar de la función.\n",
    "  \n",
    "- Una función puede tener tantos return como queramos\n",
    "\n",
    "- Pero conviene no abusar: recuerda el patrón\n",
    "  entrada-algoritmo-salida\n",
    "\n",
    "Una función nunca ejecutará más de un return. En cuanto llegue a uno, devuelve un valor y su ejecución termina."
   ]
  },
  {
   "cell_type": "markdown",
   "metadata": {
    "slideshow": {
     "slide_type": "fragment"
    }
   },
   "source": [
    "```python\n",
    "def my_sqrt(A):    \n",
    "    if A < 0:\n",
    "        return -1\n",
    "    ...\n",
    "    # Resto del codigo de la funcion\n",
    "```"
   ]
  },
  {
   "cell_type": "code",
   "execution_count": null,
   "metadata": {
    "collapsed": true
   },
   "outputs": [],
   "source": []
  },
  {
   "cell_type": "markdown",
   "metadata": {
    "slideshow": {
     "slide_type": "slide"
    }
   },
   "source": [
    "# Cómo documentar funciones \n",
    "\n",
    "### Ayuda acerca de las funciones\n",
    "\n",
    "El comando help nos muestra la ayuda de\n",
    "las funciones internas."
   ]
  },
  {
   "cell_type": "code",
   "execution_count": null,
   "metadata": {
    "collapsed": true
   },
   "outputs": [],
   "source": []
  },
  {
   "cell_type": "markdown",
   "metadata": {
    "slideshow": {
     "slide_type": "fragment"
    }
   },
   "source": [
    "Podemos aprovechar el comando help para mostrar información a nuestros usuarios.\n",
    "\n",
    "Para escribir la ayuda, usamos [*docstrings*](https://www.python.org/dev/peps/pep-0257/)"
   ]
  },
  {
   "cell_type": "markdown",
   "metadata": {
    "slideshow": {
     "slide_type": "slide"
    }
   },
   "source": [
    "## Ejemplo de documentación"
   ]
  },
  {
   "cell_type": "code",
   "execution_count": null,
   "metadata": {
    "collapsed": true
   },
   "outputs": [],
   "source": []
  },
  {
   "cell_type": "markdown",
   "metadata": {
    "slideshow": {
     "slide_type": "slide"
    }
   },
   "source": [
    "## Consejos: cómo documentar funciones\n",
    "\n",
    "La primera línea explica qué hace la función.\n",
    "\n",
    "Después de una línea en blanco, ponemos en una lista cada uno de\n",
    "    los argumentos.\n",
    "\n",
    "Si alguno es opcional, hay que informar al usuario.\n",
    "\n",
    "Es también buena idea explicar qué ocurre si no especificamos un\n",
    "    argumento opcional de entrada."
   ]
  },
  {
   "cell_type": "markdown",
   "metadata": {
    "slideshow": {
     "slide_type": "slide"
    }
   },
   "source": [
    "# Funciones recursivas \n",
    "\n",
    "Una **función recursiva** es una función que se llama a sí misma\n",
    "\n",
    "Se pueden usar para implementar definiciones recursivas de algoritmos.\n",
    "\n",
    "Por ejemplo, la función factorial se define de manera recursiva: $x! = x\\cdot(x-1)!$"
   ]
  },
  {
   "cell_type": "markdown",
   "metadata": {
    "slideshow": {
     "slide_type": "slide"
    }
   },
   "source": [
    "## Pasos en una implementación recursiva\n",
    "\n",
    "Encontrar una definición que use la misma función dentro de la definición\n",
    "\n",
    "Comprobar que en cada nuevo paso, se reduce la cantidad de operaciones que hay que realizar\n",
    "\n",
    "- Por ejemplo, en el factorial, en cada paso usamos $x-1$ en vez de $x$\n",
    "\n",
    "Es necesario definir un **caso base** totalmente definido, y que no requiera de la función en su definición\n",
    "\n",
    "- En el caso del factorial, el caso base es $0! = 1$"
   ]
  },
  {
   "cell_type": "markdown",
   "metadata": {
    "slideshow": {
     "slide_type": "slide"
    }
   },
   "source": [
    "## Ejemplo: implementación del factorial\n",
    "\n",
    "### Implementación recursiva"
   ]
  },
  {
   "cell_type": "code",
   "execution_count": null,
   "metadata": {
    "collapsed": true
   },
   "outputs": [],
   "source": []
  },
  {
   "cell_type": "markdown",
   "metadata": {
    "slideshow": {
     "slide_type": "fragment"
    }
   },
   "source": [
    "### Implementación con bucle"
   ]
  },
  {
   "cell_type": "code",
   "execution_count": null,
   "metadata": {
    "collapsed": true
   },
   "outputs": [],
   "source": []
  },
  {
   "cell_type": "markdown",
   "metadata": {
    "slideshow": {
     "slide_type": "slide"
    }
   },
   "source": [
    "## Ejemplo: secuencia de Fibonacci\n",
    "\n",
    "Vamos a hacer una implementación recursiva"
   ]
  },
  {
   "cell_type": "code",
   "execution_count": null,
   "metadata": {
    "collapsed": true
   },
   "outputs": [],
   "source": []
  },
  {
   "cell_type": "markdown",
   "metadata": {},
   "source": [
    "Este primer intento tiene un problema: nunca deja de hacer recursion porque le falta un *caso base*"
   ]
  },
  {
   "cell_type": "code",
   "execution_count": null,
   "metadata": {
    "collapsed": true
   },
   "outputs": [],
   "source": []
  },
  {
   "cell_type": "markdown",
   "metadata": {
    "slideshow": {
     "slide_type": "slide"
    }
   },
   "source": [
    "## Ejemplo: secuencia de Fibonacci\n",
    "\n",
    "Implementación con bucle"
   ]
  },
  {
   "cell_type": "code",
   "execution_count": null,
   "metadata": {
    "collapsed": true
   },
   "outputs": [],
   "source": []
  },
  {
   "cell_type": "markdown",
   "metadata": {},
   "source": [
    "#### Ejercicio\n",
    "\n",
    "Escribe una funcion que calcule el numero de elementos que componen un triangulo como el que forman los bolos de bolera, de n filas."
   ]
  },
  {
   "cell_type": "code",
   "execution_count": null,
   "metadata": {
    "collapsed": true
   },
   "outputs": [],
   "source": []
  },
  {
   "cell_type": "markdown",
   "metadata": {
    "slideshow": {
     "slide_type": "slide"
    }
   },
   "source": [
    "## Funciones recursivas en la práctica\n",
    "\n",
    "En ordenadores modernos, las implementaciones recursivas suelen ser más lentas y requieren más memoria.\n",
    "\n",
    "En ocasiones, un algoritmo puede ser más fácil de escribir de manera recursiva (por ejemplo, para dibujar fractales)"
   ]
  },
  {
   "cell_type": "markdown",
   "metadata": {
    "slideshow": {
     "slide_type": "slide"
    }
   },
   "source": [
    "## Ejemplo: dibujar el triángulo de Sierpinski\n",
    "\n",
    "Vamos a generar este fractal\n",
    "\n",
    "<center>![image](figs/sierpinski.png)<center>"
   ]
  },
  {
   "cell_type": "markdown",
   "metadata": {
    "slideshow": {
     "slide_type": "slide"
    }
   },
   "source": [
    "### Pasos en la generación del fractal\n",
    "\n",
    "Pasos en el algoritmo recursivo\n",
    "\n",
    "Al generar un triángulo púrpura surgen tres nuevos triángulos, de los que es necesario ocuparse\n",
    "\n",
    "Cuando el triángulo es pequeño, lo pintamos de amarillo y paramos"
   ]
  },
  {
   "cell_type": "markdown",
   "metadata": {
    "slideshow": {
     "slide_type": "slide"
    }
   },
   "source": [
    "<center>![image](figs/p1.png)</center>"
   ]
  },
  {
   "cell_type": "markdown",
   "metadata": {
    "slideshow": {
     "slide_type": "slide"
    }
   },
   "source": [
    "<center>![image](figs/p2.png)</center>"
   ]
  },
  {
   "cell_type": "markdown",
   "metadata": {
    "slideshow": {
     "slide_type": "slide"
    }
   },
   "source": [
    "<center>![image](figs/p3.png)</center>"
   ]
  },
  {
   "cell_type": "markdown",
   "metadata": {
    "slideshow": {
     "slide_type": "slide"
    }
   },
   "source": [
    "<center>![image](figs/p4.png)</center>"
   ]
  },
  {
   "cell_type": "markdown",
   "metadata": {
    "slideshow": {
     "slide_type": "slide"
    }
   },
   "source": [
    "### Implementación"
   ]
  },
  {
   "cell_type": "code",
   "execution_count": 20,
   "metadata": {
    "slideshow": {
     "slide_type": "fragment"
    }
   },
   "outputs": [
    {
     "name": "stdout",
     "output_type": "stream",
     "text": [
      "Populating the interactive namespace from numpy and matplotlib\n"
     ]
    },
    {
     "name": "stderr",
     "output_type": "stream",
     "text": [
      "/home/dani/anaconda3/envs/introprog/lib/python3.6/site-packages/IPython/core/magics/pylab.py:160: UserWarning: pylab import has clobbered these variables: ['pi', 'sqrt']\n",
      "`%matplotlib` prevents importing * from pylab and numpy\n",
      "  \"\\n`%matplotlib` prevents importing * from pylab and numpy\"\n"
     ]
    }
   ],
   "source": [
    "%pylab inline\n",
    "from matplotlib.pyplot import fill\n",
    "\n",
    "def sierp(x, y, level=1):\n",
    "    \n",
    "    # Caso base recursion:\n",
    "    if level == 5:\n",
    "        fill(x,y,'y') # Triangulo pequenho\n",
    "        return \n",
    "\n",
    "    # Triangulo grande negro\n",
    "    plt.plot(x + [x[0]], y+[y[0]], c='k') \n",
    "    \n",
    "    # Puntos medios\n",
    "    a = np.array([x[0]+x[1], x[1]+x[2], x[0]+x[2]]) \n",
    "    a = a/2.0\n",
    "    b = np.array([y[0]+y[1], y[1]+y[2], y[0]+y[2]])\n",
    "    b = b/2.0\n",
    "    fill(a,b,'m') # Triangulo morado une puntos medios\n",
    "    \n",
    "    # Nos ocupamos de los tres triangulos creados\n",
    "    sierp([x[0],a[0],a[2]],[y[0],b[0],b[2]],level+1) \n",
    "    sierp([x[1],a[1],a[0]],[y[1],b[1],b[0]],level+1)\n",
    "    sierp([x[2],a[2],a[1]],[y[2],b[2],b[1]],level+1)"
   ]
  },
  {
   "cell_type": "code",
   "execution_count": 21,
   "metadata": {
    "slideshow": {
     "slide_type": "slide"
    }
   },
   "outputs": [
    {
     "data": {
      "image/png": "[encoded data removed]",
      "text/plain": [
       "<matplotlib.figure.Figure at 0x7f4cc830ccc0>"
      ]
     },
     "metadata": {},
     "output_type": "display_data"
    }
   ],
   "source": [
    "sierp([0,1,2],[0,1,0])"
   ]
  },
  {
   "cell_type": "markdown",
   "metadata": {
    "slideshow": {
     "slide_type": "slide"
    }
   },
   "source": [
    "# Para llevar: resumen del tema\n",
    "\n",
    "Podemos crear funciones igual que las funciones internas.\n",
    "\n",
    "Las funciones tienen:\n",
    "\n",
    "-    Argumentos de entrada.\n",
    "\n",
    "-    Nombre.\n",
    "\n",
    "-    Argumentos de salida.\n",
    "\n",
    "Si creamos funciones, nuestros programas serán reutilizables, más\n",
    "    sencillos de diseñar y escribir, y más sencillos de modificar.\n",
    "\n",
    "Hay que tener en cuenta ciertas precauciones para crear\n",
    "    correctamente nuestras funciones."
   ]
  },
  {
   "cell_type": "markdown",
   "metadata": {
    "slideshow": {
     "slide_type": "slide"
    }
   },
   "source": [
    "## Para llevar: resumen del tema\n",
    "\n",
    "Las variables creadas dentro de funciones se denominan variables locales.\n",
    "\n",
    "Solo son accesibles desde dentro de la función.\n",
    "\n",
    "- No interfieren con las variables del espacio de trabajo.\n",
    "\n",
    "Cuando la función termina su ejecución, las variables locales se eliminan de la memoria."
   ]
  },
  {
   "cell_type": "markdown",
   "metadata": {
    "slideshow": {
     "slide_type": "slide"
    }
   },
   "source": [
    "## Para llevar: resumen del tema\n",
    "\n",
    "### Alcance (_scope_) de las variables locales:\n",
    "\n",
    "Las variables globales están disponibles dentro de la función, **pero no al revés**.\n",
    "\n",
    "Por tanto, las variables dentro de la función no interfieren con las del espacio de trabajo."
   ]
  },
  {
   "cell_type": "markdown",
   "metadata": {
    "slideshow": {
     "slide_type": "slide"
    }
   },
   "source": [
    "## Para llevar: resumen del tema\n",
    "\n",
    "### Funciones anónimas\n",
    "\n",
    "Se crean usando `lambda`\n",
    "\n",
    "Solo una línea de código\n",
    "\n",
    "Sirven para crear funciones sencillas de una manera rápida"
   ]
  },
  {
   "cell_type": "markdown",
   "metadata": {
    "slideshow": {
     "slide_type": "slide"
    }
   },
   "source": [
    "## Para llevar: resumen del tema\n",
    "\n",
    "### Pasar funciones como argumento de otras funciones\n",
    "\n",
    "Lo podemos hacer usando funciones anónimas\n",
    "\n",
    "O simplemente pasando el nombre de la función\n",
    "\n",
    "- Sin poner los paréntesis\n",
    "\n",
    "- Con paréntesis, llamamos (*ejecutamos*) la\n",
    "  función\n",
    "\n",
    "- Sin paréntesis, simplemente referenciamos la función"
   ]
  },
  {
   "cell_type": "markdown",
   "metadata": {
    "slideshow": {
     "slide_type": "slide"
    }
   },
   "source": [
    "## Para llevar: resumen del tema\n",
    "\n",
    "Funciones recursivas\n",
    "\n",
    "Una función recursiva se llama a sí misma\n",
    "\n",
    "- Muchos métodos pueden implementarse de manera recursiva\n",
    "\n",
    "En ordenadores modernos, las implementaciones recursivas suelen ser más lentas y requieren más memoria\n",
    "\n",
    "Pero es más sencillo resolver algunos problemas de manera recursiva"
   ]
  },
  {
   "cell_type": "markdown",
   "metadata": {
    "slideshow": {
     "slide_type": "slide"
    }
   },
   "source": [
    "## Pregunta"
   ]
  },
  {
   "cell_type": "markdown",
   "metadata": {
    "slideshow": {
     "slide_type": "fragment"
    }
   },
   "source": [
    "f.py"
   ]
  },
  {
   "cell_type": "code",
   "execution_count": 22,
   "metadata": {
    "collapsed": true,
    "slideshow": {
     "slide_type": "fragment"
    }
   },
   "outputs": [],
   "source": [
    "def f(x):\n",
    "    x = x + 1\n",
    "    y = x + 1\n",
    "    return y"
   ]
  },
  {
   "cell_type": "markdown",
   "metadata": {
    "slideshow": {
     "slide_type": "fragment"
    }
   },
   "source": [
    "programa.py"
   ]
  },
  {
   "cell_type": "code",
   "execution_count": 23,
   "metadata": {
    "collapsed": true,
    "slideshow": {
     "slide_type": "fragment"
    }
   },
   "outputs": [],
   "source": [
    "x =  1\n",
    "x = f(x + 1)\n",
    "y = x + 1"
   ]
  },
  {
   "cell_type": "markdown",
   "metadata": {
    "slideshow": {
     "slide_type": "fragment"
    }
   },
   "source": [
    "¿Cuál es el valor de `y` en el espacio de trabajo al terminar el programa?\n",
    "\n",
    "1   2   3   4   5"
   ]
  },
  {
   "cell_type": "markdown",
   "metadata": {
    "slideshow": {
     "slide_type": "fragment"
    }
   },
   "source": [
    "La respuesta correcta es 5"
   ]
  },
  {
   "cell_type": "markdown",
   "metadata": {},
   "source": [
    "#### Ejercicio\n",
    "\n",
    "Escribe una función que tome un número y devuelva un booleano indicando si el número es primo o no."
   ]
  },
  {
   "cell_type": "code",
   "execution_count": null,
   "metadata": {
    "collapsed": true
   },
   "outputs": [],
   "source": []
  },
  {
   "cell_type": "markdown",
   "metadata": {},
   "source": [
    "#### Ejercicio\n",
    "\n",
    "Escribid un programa que tome una lista de numeros no necesariamente ordenada, y calcule el cuadrado de la diferencia del mayor y el menor.\n",
    "\n",
    "Recordad, siempre top-down: dividimos el problema en partes y atacamos cada parte"
   ]
  },
  {
   "cell_type": "code",
   "execution_count": null,
   "metadata": {
    "collapsed": true
   },
   "outputs": [],
   "source": []
  },
  {
   "cell_type": "markdown",
   "metadata": {},
   "source": [
    "#### Ejercicio\n",
    "\n",
    "Escribe una función que tome como entradas una función f y una secuencia xs y devuelva una secuencia compuesta por el resultado de aplicar la función f a cada elemento de xs"
   ]
  },
  {
   "cell_type": "code",
   "execution_count": null,
   "metadata": {
    "collapsed": true
   },
   "outputs": [],
   "source": []
  },
  {
   "cell_type": "markdown",
   "metadata": {
    "collapsed": true
   },
   "source": [
    "Enhorabuena! Acabas de escribir `map()`"
   ]
  }
 ],
 "metadata": {
  "anaconda-cloud": {},
  "celltoolbar": "Slideshow",
  "kernelspec": {
   "display_name": "Python 3",
   "language": "python",
   "name": "python3"
  },
  "language_info": {
   "codemirror_mode": {
    "name": "ipython",
    "version": 3
   },
   "file_extension": ".py",
   "mimetype": "text/x-python",
   "name": "python",
   "nbconvert_exporter": "python",
   "pygments_lexer": "ipython3",
   "version": "3.6.3"
  },
  "livereveal": {
   "scroll": true,
   "start_slideshow_at": "selected"
  }
 },
 "nbformat": 4,
 "nbformat_minor": 2
}
