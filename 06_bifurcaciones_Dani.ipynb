{
 "cells": [
  {
   "cell_type": "markdown",
   "metadata": {
    "slideshow": {
     "slide_type": "slide"
    }
   },
   "source": [
    "# Tomar decisiones en nuestros programas\n",
    "\n",
    "<img src=\"https://www.python.org/static/img/python-logo.png\" alt=\"yogen\" style=\"width: 200px; float: right;\"/>\n",
    "<br>\n",
    "<br>\n",
    "<br>\n",
    "<a href = \"http://yogen.io\"><img src=\"http://yogen.io/assets/logo.svg\" alt=\"yogen\" style=\"width: 200px; float: right;\"/></a>\n"
   ]
  },
  {
   "cell_type": "markdown",
   "metadata": {
    "slideshow": {
     "slide_type": "slide"
    }
   },
   "source": [
    "# Objetivo de este tema\n",
    "\n",
    "-   Conocer las variables de tipo lógico más en profundidad\n",
    "\n",
    "-   Usarlas para tomar decisiones dentro de nuestros programas"
   ]
  },
  {
   "cell_type": "markdown",
   "metadata": {
    "slideshow": {
     "slide_type": "slide"
    }
   },
   "source": [
    "# Operadores lógicos "
   ]
  },
  {
   "cell_type": "markdown",
   "metadata": {
    "slideshow": {
     "slide_type": "slide"
    }
   },
   "source": [
    "## Operadores relacionales\n",
    "\n",
    "Sirven para comparar variables, y devuelven un resultado de tipo *lógico*\n",
    "\n",
    "|       Operador      | Símbolo | Ejemplo|\n",
    "|  -------------------|---------|--------|\n",
    "|       Menor que     |   $<$   |  $3<2$ |\n",
    "|       Mayor que     |   $>$   |  $3>2$ |\n",
    "|   Menor o igual que |  $<=$   | $3<=2$ |\n",
    "|   Mayor o igual que |  $>=$   | $3>=2$ | \n",
    "|       Es igual      |  $==$   | $3==2$ |\n",
    "|     Es diferente    |  $!=$   | $3!=2$ |"
   ]
  },
  {
   "cell_type": "markdown",
   "metadata": {
    "slideshow": {
     "slide_type": "fragment"
    }
   },
   "source": [
    "#### Ejemplo"
   ]
  },
  {
   "cell_type": "code",
   "execution_count": 1,
   "metadata": {},
   "outputs": [
    {
     "name": "stdout",
     "output_type": "stream",
     "text": [
      "False\n",
      "True\n",
      "False\n",
      "True\n"
     ]
    }
   ],
   "source": [
    "print(3 < 2)\n",
    "print(3 > 2)\n",
    "print(3 == 2)\n",
    "print(3 != 2)"
   ]
  },
  {
   "cell_type": "markdown",
   "metadata": {
    "slideshow": {
     "slide_type": "slide"
    }
   },
   "source": [
    "## Operadores lógicos no relacionales\n",
    "\n",
    "Combinan valores lógicos para dar lugar\n",
    "a otro valor lógico.\n",
    "\n",
    "\n",
    "|   Operador | Símbolo |   Equivalente    | Operación|\n",
    "|  ----------|---------|------------------|-----------|\n",
    "|      Y     |    &    | and |  Y lógico|\n",
    "|      O     |     &#124;    | or  |  O lógico|\n",
    "|      No    |         | not |  Negación|\n"
   ]
  },
  {
   "cell_type": "markdown",
   "metadata": {
    "slideshow": {
     "slide_type": "slide"
    }
   },
   "source": [
    "## Operador Y lógico\n",
    "\n",
    "Tabla de la verdad\n",
    "\n",
    "|         a      |       b        |     a & b   |\n",
    "|----------------|----------------|-------------|\n",
    "|       Falso    |       Falso    |     Falso   |\n",
    "|       Falso    |     Verdadero  |     Falso   |\n",
    "|     Verdadero  |       Falso    |     Falso   |\n",
    "|     Verdadero  |     Verdadero  |   Verdadero |"
   ]
  },
  {
   "cell_type": "markdown",
   "metadata": {
    "slideshow": {
     "slide_type": "fragment"
    }
   },
   "source": [
    "#### Ejemplo"
   ]
  },
  {
   "cell_type": "code",
   "execution_count": 2,
   "metadata": {},
   "outputs": [
    {
     "data": {
      "text/plain": [
       "False"
      ]
     },
     "execution_count": 2,
     "metadata": {},
     "output_type": "execute_result"
    }
   ],
   "source": [
    "its_weekday = False\n",
    "i_have_a_job = True\n",
    "\n",
    "do_i_have_to_work = its_weekday and i_have_a_job \n",
    "do_i_have_to_work"
   ]
  },
  {
   "cell_type": "markdown",
   "metadata": {
    "slideshow": {
     "slide_type": "slide"
    }
   },
   "source": [
    "## Operador O lógico\n",
    "\n",
    "Tabla de la verdad\n",
    "\n",
    "|         a      |       b        |  a  &#124; b   |\n",
    "|----------------|----------------|-------------|\n",
    "|       Falso    |       Falso    |     Falso   |\n",
    "|       Falso    |     Verdadero  |   Verdadero |\n",
    "|     Verdadero  |       Falso    |   Verdadero |\n",
    "|     Verdadero  |     Verdadero  |   Verdadero |"
   ]
  },
  {
   "cell_type": "markdown",
   "metadata": {
    "slideshow": {
     "slide_type": "fragment"
    }
   },
   "source": [
    "#### Ejemplo"
   ]
  },
  {
   "cell_type": "code",
   "execution_count": 3,
   "metadata": {},
   "outputs": [
    {
     "data": {
      "text/plain": [
       "True"
      ]
     },
     "execution_count": 3,
     "metadata": {},
     "output_type": "execute_result"
    }
   ],
   "source": [
    "do_i_need_to_go_outside = False\n",
    "do_i_smell_badly = True\n",
    "\n",
    "do_i_have_to_shower = do_i_need_to_go_outside or do_i_smell_badly\n",
    "do_i_have_to_shower"
   ]
  },
  {
   "cell_type": "markdown",
   "metadata": {
    "slideshow": {
     "slide_type": "slide"
    }
   },
   "source": [
    "## Negación lógica\n",
    "\n",
    "Tabla de la verdad\n",
    "\n",
    "|   a |  not a|\n",
    "|----------------|--------------------|\n",
    "|       Falso     |       Verdadero|\n",
    "|     Verdadero   |         Falso|"
   ]
  },
  {
   "cell_type": "markdown",
   "metadata": {
    "slideshow": {
     "slide_type": "fragment"
    }
   },
   "source": [
    "#### Ejemplo"
   ]
  },
  {
   "cell_type": "code",
   "execution_count": 4,
   "metadata": {},
   "outputs": [
    {
     "data": {
      "text/plain": [
       "False"
      ]
     },
     "execution_count": 4,
     "metadata": {},
     "output_type": "execute_result"
    }
   ],
   "source": [
    "not 100 > 1"
   ]
  },
  {
   "cell_type": "markdown",
   "metadata": {},
   "source": [
    "Orden de evaluación"
   ]
  },
  {
   "cell_type": "markdown",
   "metadata": {
    "slideshow": {
     "slide_type": "slide"
    }
   },
   "source": [
    "## Evaluación perezosa\n",
    "\n",
    "En muchas ocasiones, los\n",
    "operadores `and` y `or` no necesitan usar todos\n",
    "los argumentos para obtener el resultado. Por ejemplo:\n",
    "\n",
    "-   `False and b`\n",
    "\n",
    "    -   ¿A qué evalúa esta expresión? ¿Depende del valor de b?\n",
    "\n",
    "-   `True or b`\n",
    "\n",
    "    -   ¿A qué evalúa esta expresión? ¿Depende del valor de b?"
   ]
  },
  {
   "cell_type": "markdown",
   "metadata": {
    "slideshow": {
     "slide_type": "slide"
    }
   },
   "source": [
    "## Operadores perezosos\n",
    "\n",
    "Ahorran operaciones y no tienen ninguna diferencia semántica con sus versiones no perezosas. Los operadores que usan el símbolo no son perezosos.\n",
    "\n",
    "-   Operador Y perezoso `and`\n",
    "\n",
    "-   Operador O perezoso `or`"
   ]
  },
  {
   "cell_type": "markdown",
   "metadata": {
    "slideshow": {
     "slide_type": "fragment"
    }
   },
   "source": [
    "#### Ejemplo"
   ]
  },
  {
   "cell_type": "code",
   "execution_count": null,
   "metadata": {
    "collapsed": true
   },
   "outputs": [],
   "source": []
  },
  {
   "cell_type": "markdown",
   "metadata": {
    "slideshow": {
     "slide_type": "slide"
    }
   },
   "source": [
    "# Instrucción if \n",
    "\n",
    "La instrucción if nos permite construir bifurcaciones de ejecución.\n",
    "\n",
    "Esto significa que es la herramienta básica que necesitamos para que nuestros programas se adapten a las circunstacias."
   ]
  },
  {
   "cell_type": "markdown",
   "metadata": {
    "slideshow": {
     "slide_type": "slide"
    }
   },
   "source": [
    "## ¿Cómo hacemos que el programa tome la decisión de si acierta o no?\n",
    "\n",
    "Nuestro programa decide \n",
    "\n",
    "La estructura general es\n",
    "\n",
    "```python\n",
    "if condicion:\n",
    "    # Codigo a ejecutar si la condicion es verdadera\n",
    "else:\n",
    "    # Codigo a ejecutar si la condicion es falsa (opcional)\n",
    "```"
   ]
  },
  {
   "cell_type": "code",
   "execution_count": 5,
   "metadata": {},
   "outputs": [
    {
     "name": "stdout",
     "output_type": "stream",
     "text": [
      "Netflix day\n"
     ]
    }
   ],
   "source": [
    "do_i_need_to_go_outside = False\n",
    "do_i_smell_badly = False\n",
    "\n",
    "do_i_have_to_shower = do_i_need_to_go_outside or do_i_smell_badly\n",
    "\n",
    "if do_i_have_to_shower:\n",
    "    print(\"Take pajamas off\")\n",
    "else:\n",
    "    print(\"Netflix day\")"
   ]
  },
  {
   "cell_type": "markdown",
   "metadata": {
    "slideshow": {
     "slide_type": "slide"
    }
   },
   "source": [
    "## Bloques de código\n",
    "\n",
    "Dentro de la instrucción if, tenemos que comenzar un bloque\n",
    "de código. Los bloques de código:\n",
    "\n",
    "-   El símbolo de dos puntos indica el comienzo de un bloque\n",
    "\n",
    "-   Tienen que incrementar el nivel de indentación\n",
    "\n",
    "-   El nivel de indentación es siempre el mismo en un bloque\n",
    "\n",
    "-   No hay end, ni llaves que delimiten, etc.\n",
    "\n",
    "-   Por convención, se usan 4 espacios"
   ]
  },
  {
   "cell_type": "markdown",
   "metadata": {
    "slideshow": {
     "slide_type": "slide"
    }
   },
   "source": [
    "## Bloques de código\n",
    "\n",
    "En Python, los bloques de código no se delimitan por  llaves ({}), como en muchos otros lenguajes de programación, sino que forman un bloque todas las instrucciones que están al mismo nivel de indentación.\n",
    "\n",
    "```python\n",
    "if condicion: \n",
    "    # Bloque 1\n",
    "    # Sigo en bloque 1\n",
    "else: \n",
    "    # Bloque 2 (opcional)\n",
    "```"
   ]
  },
  {
   "cell_type": "code",
   "execution_count": 6,
   "metadata": {},
   "outputs": [
    {
     "name": "stdout",
     "output_type": "stream",
     "text": [
      "Awwwwwww\n",
      "Take pajamas off\n",
      "Go to bed\n"
     ]
    }
   ],
   "source": [
    "do_i_need_to_go_outside = True\n",
    "do_i_smell_badly = False\n",
    "\n",
    "do_i_have_to_shower = do_i_need_to_go_outside or do_i_smell_badly\n",
    "\n",
    "if do_i_have_to_shower:\n",
    "    print(\"Awwwwwww\")\n",
    "    print(\"Take pajamas off\")\n",
    "else:\n",
    "    print(\"Yipeeeee\")\n",
    "    print(\"Netflix day\")\n",
    "    \n",
    "print(\"Go to bed\")"
   ]
  },
  {
   "cell_type": "markdown",
   "metadata": {
    "slideshow": {
     "slide_type": "slide"
    }
   },
   "source": [
    "## Adivina un número \n",
    "\n",
    "Vamos a preguntar un número del 1 al 10\n",
    "al usuario, y compararlo con un número aleatorio\n",
    "\n",
    "-   Si el usuario acierta, mostramos un mensaje diciendo que ha ganado.\n",
    "\n",
    "-   Si no acierta, muestra un mensaje de ánimo."
   ]
  },
  {
   "cell_type": "markdown",
   "metadata": {
    "slideshow": {
     "slide_type": "slide"
    }
   },
   "source": [
    "## Código del ejemplo"
   ]
  },
  {
   "cell_type": "code",
   "execution_count": 7,
   "metadata": {},
   "outputs": [
    {
     "name": "stdout",
     "output_type": "stream",
     "text": [
      "Help on built-in function random:\n",
      "\n",
      "random(...) method of random.Random instance\n",
      "    random() -> x in the interval [0, 1).\n",
      "\n"
     ]
    }
   ],
   "source": [
    "from random import random\n",
    "help(random)"
   ]
  },
  {
   "cell_type": "code",
   "execution_count": 8,
   "metadata": {},
   "outputs": [
    {
     "name": "stdout",
     "output_type": "stream",
     "text": [
      "Introduzca un número del 1 al 107\n",
      "Ohhhhhh\n"
     ]
    }
   ],
   "source": [
    "from random import random\n",
    "\n",
    "# Input\n",
    "user_guess = int(input(\"Introduzca un número del 1 al 10\"))\n",
    "\n",
    "# Algorithm\n",
    "number_to_guess = int(random() * 10) + 1\n",
    "guessed = user_guess == number_to_guess\n",
    "\n",
    "if guessed:\n",
    "    message = (\"Bieeeen\")\n",
    "else:\n",
    "    message = (\"Ohhhhhh\")\n",
    "\n",
    "# Output\n",
    "print(message)"
   ]
  },
  {
   "cell_type": "markdown",
   "metadata": {
    "slideshow": {
     "slide_type": "slide"
    }
   },
   "source": [
    "<blockquote class=\"twitter-tweet\" data-lang=\"en\"><p lang=\"en\" dir=\"ltr\">There are two hard things in computer science: cache invalidation, naming things, and off-by-one errors.</p>&mdash; Jeff Atwood (@codinghorror) <a href=\"https://twitter.com/codinghorror/status/506010907021828096\">August 31, 2014</a></blockquote>\n",
    "<script async src=\"//platform.twitter.com/widgets.js\" charset=\"utf-8\"></script>"
   ]
  },
  {
   "cell_type": "markdown",
   "metadata": {
    "slideshow": {
     "slide_type": "slide"
    }
   },
   "source": [
    "## Ejemplo\n",
    "\n",
    "¿Qué valores tendrán x e y después de ejecutar este código?"
   ]
  },
  {
   "cell_type": "code",
   "execution_count": 9,
   "metadata": {
    "collapsed": true,
    "slideshow": {
     "slide_type": "fragment"
    }
   },
   "outputs": [],
   "source": [
    "x = 6 \n",
    "y = 8\n",
    "if x < y:\n",
    "    y = y/2\n",
    "else:\n",
    "    x = x/2"
   ]
  },
  {
   "cell_type": "markdown",
   "metadata": {
    "slideshow": {
     "slide_type": "fragment"
    }
   },
   "source": [
    "#### Opciones:\n",
    "\n",
    "a)  x es 3, y es 4\n",
    "\n",
    "b)  x es 6, y es 8\n",
    "\n",
    "c)  x es 6, y es 4\n",
    "\n",
    "d)  x es 3, y es 8"
   ]
  },
  {
   "cell_type": "code",
   "execution_count": 10,
   "metadata": {
    "slideshow": {
     "slide_type": "slide"
    }
   },
   "outputs": [
    {
     "name": "stdout",
     "output_type": "stream",
     "text": [
      "6 4.0\n"
     ]
    }
   ],
   "source": [
    "print(x,y)"
   ]
  },
  {
   "cell_type": "markdown",
   "metadata": {
    "slideshow": {
     "slide_type": "fragment"
    }
   },
   "source": [
    "**La respuesta correcta es la c)**"
   ]
  },
  {
   "cell_type": "markdown",
   "metadata": {},
   "source": [
    "#### Ejercicio\n",
    "\n",
    "Escribe un programa que testee si un número está a 100 o menos unidades de distancia de 1000 o de 2000.\n",
    "\n",
    "_Entrada de muestra_:\n",
    "```python\n",
    "990\n",
    "```\n",
    "\n",
    "_Salida de muestra_: \n",
    "```python\n",
    "True\n",
    "```"
   ]
  },
  {
   "cell_type": "code",
   "execution_count": 11,
   "metadata": {},
   "outputs": [
    {
     "name": "stdout",
     "output_type": "stream",
     "text": [
      "Por favor escriba un número3\n",
      "Te has equivocado\n"
     ]
    }
   ],
   "source": [
    "# Input\n",
    "user_input = int(input(\"Por favor escriba un número\"))\n",
    "\n",
    "# Processing\n",
    "near_1000 = user_input >= 900 and user_input <= 1100\n",
    "near_2000 = user_input >= 1900 and user_input <= 2100\n",
    "\n",
    "if near_1000 or near_2000:\n",
    "    message = \"Justo!\"\n",
    "else:\n",
    "    message = \"Te has equivocado\"\n",
    "\n",
    "# Output\n",
    "print(message)"
   ]
  },
  {
   "cell_type": "code",
   "execution_count": 12,
   "metadata": {},
   "outputs": [
    {
     "name": "stdout",
     "output_type": "stream",
     "text": [
      "Por favor escriba un número1200\n",
      "Te has equivocado\n"
     ]
    }
   ],
   "source": [
    "# Input\n",
    "user_input = int(input(\"Por favor escriba un número\"))\n",
    "\n",
    "# Processing\n",
    "precision = 100\n",
    "near_1000 = abs(user_input - 1000) <= precision\n",
    "near_2000 = abs(user_input - 2000) <= precision\n",
    "\n",
    "if near_1000 or near_2000:\n",
    "    message = \"Justo!\"\n",
    "else:\n",
    "    message = \"Te has equivocado\"\n",
    "\n",
    "# Output\n",
    "print(message)"
   ]
  },
  {
   "cell_type": "code",
   "execution_count": 13,
   "metadata": {},
   "outputs": [
    {
     "data": {
      "text/plain": [
       "True"
      ]
     },
     "execution_count": 13,
     "metadata": {},
     "output_type": "execute_result"
    }
   ],
   "source": [
    "user_input = 1050\n",
    "near_1000 = 900 <= user_input <= 1100\n",
    "near_1000"
   ]
  },
  {
   "cell_type": "markdown",
   "metadata": {
    "slideshow": {
     "slide_type": "slide"
    }
   },
   "source": [
    "## Instrucciones if anidadas\n",
    "\n",
    "Dentro del cuerpo de la instrucción if podemos poner cualquier cosa, incluida otra instrucción if"
   ]
  },
  {
   "cell_type": "markdown",
   "metadata": {
    "slideshow": {
     "slide_type": "fragment"
    }
   },
   "source": [
    "#### Adivina un número\n",
    "\n",
    "Vamos a preguntar un número del 1 al 10 al usuario, y compararlo con un número aleatorio\n",
    "\n",
    "-   Si el usuario acierta, mostramos un mensaje diciendo que ha ganado.\n",
    "\n",
    "-   Si no acierta, le decimos si el número secreto es mayor o menor que\n",
    "    el número que ha introducido."
   ]
  },
  {
   "cell_type": "markdown",
   "metadata": {
    "slideshow": {
     "slide_type": "slide"
    }
   },
   "source": [
    "## Ejemplo con if anidados"
   ]
  },
  {
   "cell_type": "code",
   "execution_count": 14,
   "metadata": {},
   "outputs": [
    {
     "name": "stdout",
     "output_type": "stream",
     "text": [
      "Introduzca un número del 1 al 104\n",
      "Te has pasado\n"
     ]
    }
   ],
   "source": [
    "from random import random\n",
    "\n",
    "# Input\n",
    "user_guess = int(input(\"Introduzca un número del 1 al 10\"))\n",
    "\n",
    "# Algorithm\n",
    "number_to_guess = int(random() * 10) + 1\n",
    "guessed = user_guess == number_to_guess\n",
    "\n",
    "if guessed:\n",
    "    message = (\"Bieeeen\")\n",
    "else:\n",
    "    if user_guess > number_to_guess:\n",
    "        message = \"Te has pasado\"\n",
    "    else:\n",
    "        message = \"Te has quedado corto\"\n",
    "\n",
    "# Output\n",
    "print(message)"
   ]
  },
  {
   "cell_type": "markdown",
   "metadata": {
    "slideshow": {
     "slide_type": "slide"
    }
   },
   "source": [
    "## Ejemplo con varios if anidados \n",
    "\n",
    "\n",
    "-   Escribir un programa que pida el año de nacimiento al usuario\n",
    "\n",
    "-   El programa mostrará un mensaje diciendo si el año de nacimiento del\n",
    "    usuario fue bisiesto"
   ]
  },
  {
   "cell_type": "markdown",
   "metadata": {
    "slideshow": {
     "slide_type": "slide"
    }
   },
   "source": [
    "## Pasos para definir nuestro programa"
   ]
  },
  {
   "cell_type": "markdown",
   "metadata": {
    "slideshow": {
     "slide_type": "fragment"
    }
   },
   "source": [
    "-  Definir las entradas al programa\n",
    "\n",
    "    -   El año de nacimiento"
   ]
  },
  {
   "cell_type": "markdown",
   "metadata": {
    "slideshow": {
     "slide_type": "fragment"
    }
   },
   "source": [
    "-  Definir las salidas del programa\n",
    "\n",
    "    -   Mensaje diciendo si el año es bisiesto"
   ]
  },
  {
   "cell_type": "markdown",
   "metadata": {
    "slideshow": {
     "slide_type": "fragment"
    }
   },
   "source": [
    "-  Algoritmo: método para transformar las entradas en las salidas\n",
    "\n",
    "    -   ¿Cómo podemos saber si un año es bisiesto?"
   ]
  },
  {
   "cell_type": "markdown",
   "metadata": {
    "slideshow": {
     "slide_type": "slide"
    }
   },
   "source": [
    "## ¿Cómo averiguar si un año es bisiesto?\n",
    "\n",
    "Definición de año bisiesto La regla es complicada. Un año\n",
    "es bisiesto si:\n",
    "\n",
    "-   Es divisible entre 4\n",
    "\n",
    "    -   Excepto si lo es también por 100\n",
    "\n",
    "        -   En este caso, solo es bisiesto si es divisible por 400\n",
    "\n",
    "Más detalles: <http://es.wikipedia.org/wiki/A%C3%B1o_bisiesto>"
   ]
  },
  {
   "cell_type": "markdown",
   "metadata": {
    "slideshow": {
     "slide_type": "slide"
    }
   },
   "source": [
    "## Divisibilidad\n",
    "\n",
    "¿Cómo calculo si un número es divisible entre otro? El\n",
    "operador % devuelve el resto de la división entera, y se\n",
    "puede usar para averiguar si un número divide al otro."
   ]
  },
  {
   "cell_type": "code",
   "execution_count": 15,
   "metadata": {},
   "outputs": [
    {
     "data": {
      "text/plain": [
       "True"
      ]
     },
     "execution_count": 15,
     "metadata": {},
     "output_type": "execute_result"
    }
   ],
   "source": [
    "num = 72\n",
    "divisible_by_4 = num % 4 == 0\n",
    "divisible_by_4"
   ]
  },
  {
   "cell_type": "markdown",
   "metadata": {
    "slideshow": {
     "slide_type": "fragment"
    }
   },
   "source": [
    "#### En nuestro algoritmo"
   ]
  },
  {
   "cell_type": "code",
   "execution_count": 16,
   "metadata": {},
   "outputs": [
    {
     "name": "stdout",
     "output_type": "stream",
     "text": [
      "so far so good\n"
     ]
    }
   ],
   "source": [
    "year = 1984\n",
    "if year % 4 == 0:\n",
    "    print(\"so far so good\")"
   ]
  },
  {
   "cell_type": "markdown",
   "metadata": {
    "slideshow": {
     "slide_type": "slide"
    }
   },
   "source": [
    "### Primera aproximación"
   ]
  },
  {
   "cell_type": "code",
   "execution_count": 17,
   "metadata": {},
   "outputs": [
    {
     "name": "stdout",
     "output_type": "stream",
     "text": [
      "No fue bisiesto\n"
     ]
    }
   ],
   "source": [
    "# Input \n",
    "year = 1979\n",
    "\n",
    "# Algorithm\n",
    "\n",
    "if year % 4 == 0:\n",
    "    if year % 100 == 0:\n",
    "        if year % 400 == 0:\n",
    "            message = \"Fue bisiesto\"\n",
    "        else:\n",
    "            message = \"No fue bisiesto\"\n",
    "    else:\n",
    "        message = \"Fue bisiesto\"\n",
    "else:\n",
    "    message = \"No fue bisiesto\"\n",
    "    \n",
    "# Output\n",
    "print(message)"
   ]
  },
  {
   "cell_type": "markdown",
   "metadata": {
    "slideshow": {
     "slide_type": "slide"
    }
   },
   "source": [
    "## Comentarios sobre esta solución"
   ]
  },
  {
   "cell_type": "markdown",
   "metadata": {
    "slideshow": {
     "slide_type": "fragment"
    }
   },
   "source": [
    "### Ventajas:\n",
    "\n",
    "-   Funciona, resuelve el problema"
   ]
  },
  {
   "cell_type": "markdown",
   "metadata": {
    "slideshow": {
     "slide_type": "fragment"
    }
   },
   "source": [
    "### Inconvenientes:\n",
    "\n",
    "-   Demasiados anidamientos, difícil de entender, y por tanto\n",
    "    de modificar.\n",
    "\n",
    "-   Por tanto, es fácil cometer fallos al programarlo o modificarlo.\n",
    "\n",
    "-   Rompe la estructura entrada-algoritmo-salida\n",
    "\n",
    "    -   Esto es un síntoma de que la solución es mejorable"
   ]
  },
  {
   "cell_type": "markdown",
   "metadata": {
    "slideshow": {
     "slide_type": "slide"
    }
   },
   "source": [
    "## Pregunta\n",
    "\n",
    "-   ¿Cómo se puede mejorar?\n",
    "\n",
    "-   ¿Se puede transformar para que cumpla la estructura\n",
    "    entrada-algoritmo-salida?"
   ]
  },
  {
   "cell_type": "markdown",
   "metadata": {
    "slideshow": {
     "slide_type": "slide"
    }
   },
   "source": [
    "## Solución alternativa usando variables *bandera*"
   ]
  },
  {
   "cell_type": "code",
   "execution_count": 18,
   "metadata": {},
   "outputs": [
    {
     "name": "stdout",
     "output_type": "stream",
     "text": [
      "True\n"
     ]
    }
   ],
   "source": [
    "# Input \n",
    "year = 1984\n",
    "\n",
    "# Algorithm\n",
    "divisible_by_4 = year % 4 == 0\n",
    "divisible_by_400 = year % 400 == 0\n",
    "divisible_by_100 = year % 100 == 0\n",
    "\n",
    "\n",
    "if divisible_by_4:\n",
    "    if divisible_by_100 and not divisible_by_400:\n",
    "        es_bisiesto = False\n",
    "    else:\n",
    "        es_bisiesto = True\n",
    "else:\n",
    "    es_bisiesto = False\n",
    "\n",
    "# Output\n",
    "print(es_bisiesto)"
   ]
  },
  {
   "cell_type": "markdown",
   "metadata": {
    "slideshow": {
     "slide_type": "slide"
    }
   },
   "source": [
    "## Ejercicio\n",
    "\n",
    "Cambia el programa anterior para que inicialmente la variable bandera `es_bisiesto` valga `True`, y se cambie a `False` según cumpla las\n",
    "condiciones necesarias.\n",
    "\n",
    "Será necesario cambiar las condiciones y las instrucciones \n",
    "if. La entrada y la salida no cambian."
   ]
  },
  {
   "cell_type": "markdown",
   "metadata": {
    "slideshow": {
     "slide_type": "slide"
    }
   },
   "source": [
    "### Solución\n",
    "\n",
    "con otro valor por defecto para `es_bisiesto`"
   ]
  },
  {
   "cell_type": "code",
   "execution_count": 19,
   "metadata": {},
   "outputs": [
    {
     "name": "stdout",
     "output_type": "stream",
     "text": [
      "False\n"
     ]
    }
   ],
   "source": [
    "# Input \n",
    "year = 2100\n",
    "\n",
    "# Algorithm\n",
    "divisible_by_4 = year % 4 == 0\n",
    "divisible_by_400 = year % 400 == 0\n",
    "divisible_by_100 = year % 100 == 0\n",
    "\n",
    "es_bisiesto = True\n",
    "\n",
    "if not divisible_by_4 or divisible_by_100 and not divisible_by_400:\n",
    "    es_bisiesto = False\n",
    "\n",
    "# Output\n",
    "print(es_bisiesto)"
   ]
  },
  {
   "cell_type": "markdown",
   "metadata": {
    "slideshow": {
     "slide_type": "slide"
    }
   },
   "source": [
    "# La cláusula `elif` \n",
    "\n",
    "Además de else tenemos la cláusula `elif`\n",
    "\n",
    "-   Permite especificar varias condiciones sin necesidad de anidar las\n",
    "    instrucciones if\n",
    "\n",
    "-   Solo se ejecuta una de las cláusulas `if`, `elif` o \n",
    "    `else` (la primera que tenga la condición verdadera)\n",
    "\n",
    "-   Puede haber varias cláusulas `elif`\n",
    "\n",
    "-   La cláusula `else` es opcional\n",
    "\n",
    "-   Mejora mucho la legibilidad del código con varias condiciones\n",
    "    complejas"
   ]
  },
  {
   "cell_type": "markdown",
   "metadata": {
    "slideshow": {
     "slide_type": "slide"
    }
   },
   "source": [
    "## Uso de `elif`"
   ]
  },
  {
   "cell_type": "markdown",
   "metadata": {
    "collapsed": true,
    "slideshow": {
     "slide_type": "fragment"
    }
   },
   "source": [
    "```python\n",
    "if expresion_booleana_1:\n",
    "    # Codigo\n",
    "elif expresion_booleana_2:\n",
    "    # Codigo\n",
    "elif expresion_booleana_3:\n",
    "    # Codigo\n",
    "    #...\n",
    "else:\n",
    "    # Codigo    \n",
    "    \n",
    "```"
   ]
  },
  {
   "cell_type": "code",
   "execution_count": null,
   "metadata": {
    "collapsed": true
   },
   "outputs": [],
   "source": []
  },
  {
   "cell_type": "markdown",
   "metadata": {
    "slideshow": {
     "slide_type": "slide"
    }
   },
   "source": [
    "### Ejemplo\n",
    "\n",
    "¿Cuáles serán los valores de x e y después de ejecutar este código?\n",
    "\n",
    "```python\n",
    "x = 3\n",
    "y = 4\n",
    "if x < y:\n",
    "    x = y\n",
    "    y = x\n",
    "else:\n",
    "    x = 3 \n",
    "    y = 4\n",
    "```"
   ]
  },
  {
   "cell_type": "markdown",
   "metadata": {
    "slideshow": {
     "slide_type": "fragment"
    }
   },
   "source": [
    "a)  x = 3, y = 4\n",
    "\n",
    "b)  x = 4, y = 3\n",
    "\n",
    "c)  x = 4, y = 4"
   ]
  },
  {
   "cell_type": "markdown",
   "metadata": {
    "slideshow": {
     "slide_type": "slide"
    }
   },
   "source": [
    "### Otro ejemplo\n",
    "\n",
    "Tenemos tres variables a, b y c que representan los lados de un triángulo.\n",
    "\n",
    "Verdadero o falso: El código muestra YES si el triángulo es rectángulo, y NO si no\n",
    "        lo es."
   ]
  },
  {
   "cell_type": "code",
   "execution_count": null,
   "metadata": {
    "collapsed": true
   },
   "outputs": [],
   "source": []
  },
  {
   "cell_type": "markdown",
   "metadata": {
    "slideshow": {
     "slide_type": "slide"
    }
   },
   "source": [
    "## Si has pensado que es verdadero..."
   ]
  },
  {
   "cell_type": "markdown",
   "metadata": {
    "slideshow": {
     "slide_type": "fragment"
    }
   },
   "source": [
    "### Contra-ejemplo\n",
    "\n",
    "Escribe NO, pero el triángulo es rectángulo."
   ]
  },
  {
   "cell_type": "code",
   "execution_count": null,
   "metadata": {
    "collapsed": true
   },
   "outputs": [],
   "source": []
  },
  {
   "cell_type": "markdown",
   "metadata": {
    "slideshow": {
     "slide_type": "slide"
    }
   },
   "source": [
    "## ¿Dónde está el problema?\n",
    "\n",
    "La condición no es correcta, ¿cómo podemos corregirla?"
   ]
  },
  {
   "cell_type": "markdown",
   "metadata": {
    "slideshow": {
     "slide_type": "fragment"
    }
   },
   "source": [
    "Necesitamos determinar cuál es la hipotenusa."
   ]
  },
  {
   "cell_type": "code",
   "execution_count": null,
   "metadata": {
    "collapsed": true
   },
   "outputs": [],
   "source": []
  },
  {
   "cell_type": "markdown",
   "metadata": {},
   "source": [
    "Daos cuenta de que en esta solución hemos separado el problema en dos partes, o subproblemas: \n",
    "\n",
    "- Encontrar cuál de los tres lados es la (posible) hipotenusa.\n",
    "\n",
    "- Decidir si es rectángulo o no."
   ]
  },
  {
   "cell_type": "markdown",
   "metadata": {
    "slideshow": {
     "slide_type": "slide"
    }
   },
   "source": [
    "## Precauciones al usar if\n",
    "\n",
    "Ilustra siempre todos los casos posibles en el problema.\n",
    "\n",
    "Refina paso a paso el programa para comprobar que no olvidas ningún caso.\n",
    "\n",
    "Si hay muchas condiciones y son complejas:\n",
    "\n",
    "- Considera el uso de variables *bandera*. Puede ser\n",
    "  más difícil de escribir al principio, pero el código será más\n",
    "  sencillo, claro y se entenderá mejor.\n",
    "\n",
    "- Intenta usar elif para evitar muchos niveles\n",
    "  de anidamiento."
   ]
  },
  {
   "cell_type": "markdown",
   "metadata": {
    "slideshow": {
     "slide_type": "slide"
    }
   },
   "source": [
    "## Para llevar: resumen del tema\n",
    "\n",
    "El caso más típico de bifurcación es un simplemente un  if. Se usa cuando no hay que hacer nada si la expresión es falsa, que es el caso más habitual.\n",
    "\n",
    "```python\n",
    "if expresion_booleana:\n",
    "    # Codigo\n",
    "```"
   ]
  },
  {
   "cell_type": "markdown",
   "metadata": {
    "slideshow": {
     "slide_type": "slide"
    }
   },
   "source": [
    "## Resumen del tema\n",
    "\n",
    "-   Los operadores relacionales trabajan con variables no booleanas, y devuelven\n",
    "    valores lógicos.\n",
    "\n",
    "-   Los operadores lógicos trabajan con operadores lógicos, y devuelven\n",
    "    valores lógicos.\n",
    "\n",
    "    -   and or not\n",
    "\n",
    "-   Con la instrucción if tomamos una decisión y bifurcamos\n",
    "    un programa.\n",
    "\n",
    "-   Tiene una cláusula else opcional.\n",
    "\n",
    "-   Podemos anidar los if para formar condiciones\n",
    "    más complejas."
   ]
  },
  {
   "cell_type": "markdown",
   "metadata": {
    "slideshow": {
     "slide_type": "slide"
    }
   },
   "source": [
    "## Resumen del tema\n",
    "\n",
    "-   Si hay demasiado anidamiento, podemos intentar usar varios \n",
    "    elif para simplificar el código y hacerlo más plano.\n",
    "\n",
    "-   El uso de variables bandera también puede ayudar a escribir código\n",
    "    más sencillo de leer.\n",
    "\n",
    "-   Para diseñar programas, es mejor seguir una metodología de diseño\n",
    "    *top-down*, dividir el programa en trozos más pequeños,\n",
    "    e ir resolviendo cada trozo por separado.\n",
    "\n",
    "-   Luego vamos refinando paso a paso cada una de las partes, hasta que\n",
    "    tengamos terminado el programa.\n",
    "\n",
    "-   Si seguimos este método, y respetamos la estructura\n",
    "    entrada-algoritmo-salida, nuestro código será mucho más sencillo de\n",
    "    leer y contendrá menos fallos.\n",
    "\n",
    "    -   Aunque a veces es complicado encajar una solución en la\n",
    "        estructura entrada-algoritmo-salida."
   ]
  },
  {
   "cell_type": "markdown",
   "metadata": {
    "collapsed": true
   },
   "source": [
    "# Ejercicios para fijar"
   ]
  },
  {
   "cell_type": "markdown",
   "metadata": {},
   "source": [
    "#### Ejercicio\n",
    "\n",
    "Escribe un programa que muestre la diferencia entre un número n y 42. Si n es mayor de 42, muestra en cambio el doble de la diferencia absoluta.\n",
    "\n",
    "_Entrada de muestra_:\n",
    "```python\n",
    "80\n",
    "```\n",
    "\n",
    "_Salida de muestra_: \n",
    "```python\n",
    "76\n",
    "```"
   ]
  },
  {
   "cell_type": "code",
   "execution_count": null,
   "metadata": {
    "collapsed": true
   },
   "outputs": [],
   "source": []
  },
  {
   "cell_type": "markdown",
   "metadata": {},
   "source": [
    "#### Ejercicio\n",
    "\n",
    "FizzBuzz: Toma un número del usuario. Si el número es divisible por 3, escribe por pantalla \"Fizz\". Si es divisible por 5, escribe \"Buzz\". A no ser que sea divisible por ambos, en cuyo caso escribe \"FizzBuzz\". En caso de que no sea divisible por ninguno, escribe el número.\n",
    "\n",
    "_Entrada de muestra_:\n",
    "```python\n",
    "5\n",
    "```\n",
    "\n",
    "_Salida de muestra_: \n",
    "```python\n",
    "Buzz\n",
    "```\n",
    "\n",
    "\n",
    "_Entrada de muestra_:\n",
    "```python\n",
    "75\n",
    "```\n",
    "\n",
    "_Salida de muestra_: \n",
    "```python\n",
    "FizzBuzz\n",
    "```\n",
    "\n",
    "\n",
    "_Entrada de muestra_:\n",
    "```python\n",
    "7\n",
    "```\n",
    "\n",
    "_Salida de muestra_: \n",
    "```python\n",
    "7\n",
    "```"
   ]
  },
  {
   "cell_type": "code",
   "execution_count": 21,
   "metadata": {},
   "outputs": [
    {
     "name": "stdout",
     "output_type": "stream",
     "text": [
      "Dame un numero, por favor14\n",
      "14\n"
     ]
    }
   ],
   "source": [
    "number = int(input('Dame un numero, por favor'))\n",
    "\n",
    "if number % 3 == 0 and number % 5 == 0:\n",
    "    print('FizzBuzz')\n",
    "elif number % 3 == 0:\n",
    "    print('Fizz')\n",
    "elif number % 5 == 0:\n",
    "    print('Buzz')\n",
    "else:\n",
    "    print(number)\n",
    "    \n",
    "    "
   ]
  },
  {
   "cell_type": "code",
   "execution_count": 22,
   "metadata": {},
   "outputs": [
    {
     "name": "stdout",
     "output_type": "stream",
     "text": [
      "Dame un numero, por favor15\n",
      "FizzBuzz\n"
     ]
    }
   ],
   "source": [
    "number = int(input('Dame un numero, por favor'))\n",
    "\n",
    "message = ''\n",
    "\n",
    "if number % 3 == 0:\n",
    "    message = message + 'Fizz'\n",
    "    \n",
    "if number % 5 == 0:\n",
    "    message = message + 'Buzz'\n",
    "    \n",
    "if len(message) == 0:\n",
    "    message = message + str(number)\n",
    "    \n",
    "print(message)"
   ]
  },
  {
   "cell_type": "markdown",
   "metadata": {},
   "source": [
    "#### Ejercicio\n",
    "\n",
    "Escribe un programa que muestre por pantalla `True` si los dos enteros dados son iguales, o si su suma o diferencia es 5.\n",
    "\n",
    "```python\n",
    "3\n",
    "2\n",
    "```\n",
    "\n",
    "_Salida de muestra_: \n",
    "```python\n",
    "True\n",
    "```"
   ]
  },
  {
   "cell_type": "code",
   "execution_count": 23,
   "metadata": {},
   "outputs": [
    {
     "name": "stdout",
     "output_type": "stream",
     "text": [
      "Escribe un numero por favor2\n",
      "Escribe otro numero por favor3\n",
      "True\n"
     ]
    }
   ],
   "source": [
    "first_number = int(input('Escribe un numero por favor'))\n",
    "second_number = int(input('Escribe otro numero por favor'))\n",
    "\n",
    "equal = first_number == second_number\n",
    "sum_5 = first_number + second_number == 5\n",
    "diff_5 = abs(first_number - second_number) == 5\n",
    "\n",
    "\n",
    "print(equal or sum_5 or diff_5)"
   ]
  },
  {
   "cell_type": "markdown",
   "metadata": {},
   "source": [
    "También:"
   ]
  },
  {
   "cell_type": "code",
   "execution_count": 24,
   "metadata": {},
   "outputs": [
    {
     "data": {
      "text/plain": [
       "True"
      ]
     },
     "execution_count": 24,
     "metadata": {},
     "output_type": "execute_result"
    }
   ],
   "source": [
    "first_number == second_number or first_number + second_number == 5 or abs(first_number - second_number) == 5 "
   ]
  },
  {
   "cell_type": "markdown",
   "metadata": {},
   "source": [
    "#### Ejercicio\n",
    "\n",
    "Escribe un programa que compruebe si una string es un entero o no y describa el resultado por pantalla.\n",
    "\n",
    "| _Entrada de muestra_: | _Salida de muestra_ |\n",
    "|-----------------------|---------------------|\n",
    "|        100            | 100 es un entero    |\n",
    "|       Python          | Python no es un entero |\n",
    "|        2.3            | 2.3 no es un entero |\n"
   ]
  },
  {
   "cell_type": "code",
   "execution_count": null,
   "metadata": {
    "collapsed": true
   },
   "outputs": [],
   "source": []
  },
  {
   "cell_type": "markdown",
   "metadata": {},
   "source": [
    "#### Ejercicio\n",
    "\n",
    "Escribe un programa que sume dos números tomados del usuario si ambos son enteros. Los tomaremos como una lista separada por espacios. Si no son enteros, debería escribir por pantalla un mensaje al usuario.\n",
    "\n",
    "_Entrada de muestra_:\n",
    "```python\n",
    "2.3 1\n",
    "```\n",
    "\n",
    "_Salida de muestra_: \n",
    "```python\n",
    "Los números 2.3 y 1 no son enteros.\n",
    "```"
   ]
  },
  {
   "cell_type": "code",
   "execution_count": null,
   "metadata": {
    "collapsed": true
   },
   "outputs": [],
   "source": []
  },
  {
   "cell_type": "markdown",
   "metadata": {},
   "source": [
    "#### Ejercicio\n",
    "\n",
    "Escribe un programa que transforme de grados Fahrenheit a Celsius y viceversa.\n",
    "\n",
    "| _Entrada de muestra_: | _Salida de muestra_ |\n",
    "|-----------------------|---------------------|\n",
    "|       100 F           |         37.8 ºC       |\n",
    "|       100 C           |        212.0 ºF       |\n",
    "|         0 C           |         32.0 ºF       |\n",
    "|      20.2 C           |         68.4 ºF       |\n",
    "\n",
    "Recordad:\n",
    "\n",
    "°F to °C\tDeduct 32, then multiply by 5, then divide by 9\n",
    "\n",
    "°C to °F\tMultiply by 9, then divide by 5, then add 32"
   ]
  },
  {
   "cell_type": "code",
   "execution_count": 25,
   "metadata": {},
   "outputs": [
    {
     "name": "stdout",
     "output_type": "stream",
     "text": [
      "Temperatura?212 F\n",
      "100.0 ºC\n"
     ]
    }
   ],
   "source": [
    "input_temp = input('Temperatura?')\n",
    "\n",
    "scale = input_temp[-1]\n",
    "input_degrees = float(input_temp[:-1])\n",
    "\n",
    "if scale == 'F':\n",
    "    output_degrees = (input_degrees - 32) * 5/9\n",
    "    output = '%.1f ºC' % output_degrees\n",
    "elif scale == 'C':\n",
    "    output_degrees = input_degrees * 9/5 + 32\n",
    "    output = '%.1f ºF' % output_degrees\n",
    "else: \n",
    "    output = 'Escala desconocida'\n",
    "    \n",
    "print(output)     \n",
    "    "
   ]
  },
  {
   "cell_type": "markdown",
   "metadata": {},
   "source": [
    "#### Ejercicio\n",
    "\n",
    "Escribe un programa que tome del usuario los lados de un triángulo en forma de lista separada por espacios, y muestre por pantalla si el triángulo es válido o no.\n",
    "\n",
    "\n",
    "| _Entrada de muestra_: | _Salida de muestra_ |\n",
    "|-----------------------|---------------------|\n",
    "|       2 1 1           |   No válido         |\n",
    "|      2.1 1 2.1        |   Válido            |\n",
    "|       3 4 5           |   Válido            |\n",
    "\n"
   ]
  },
  {
   "cell_type": "code",
   "execution_count": null,
   "metadata": {
    "collapsed": true
   },
   "outputs": [],
   "source": []
  },
  {
   "cell_type": "markdown",
   "metadata": {},
   "source": [
    "#### Ejercicio\n",
    "\n",
    "Escribe un programa que tome del usuario los lados de un triángulo en forma de lista separada por espacios, y muestre por pantalla si el triángulo es equilátero, isósceles o escaleno.\n",
    "\n",
    "| _Entrada de muestra_: | _Salida de muestra_ |\n",
    "|-----------------------|---------------------|\n",
    "|       2 2 2           |   Equilátero        |\n",
    "|      2.1 1 2.1        |   Isósceles         |\n",
    "|       3 4 5           |   Escaleno          |\n"
   ]
  },
  {
   "cell_type": "code",
   "execution_count": null,
   "metadata": {
    "collapsed": true
   },
   "outputs": [],
   "source": []
  },
  {
   "cell_type": "markdown",
   "metadata": {},
   "source": [
    "#### Ejercicio\n",
    "\n",
    "Incorpora, al código del ejercicio anterior, la capacidad de detectar si el triángulo es rectángulo."
   ]
  },
  {
   "cell_type": "code",
   "execution_count": null,
   "metadata": {
    "collapsed": true
   },
   "outputs": [],
   "source": []
  },
  {
   "cell_type": "markdown",
   "metadata": {},
   "source": [
    "#### Ejercicio\n",
    "\n",
    "Escribe el programa `Banquero`. `Banquero` le pedirá al usuario su nombre, edad, ingresos anuales, importe y plazo para una hipoteca y decidirá si concedérsela o no. El criterio será que la suma de los ingresos hasta el vencimiento sea al menos 5 veces superior a la hipoteca más interés asumiendo un interés del 3%. En ningún caso la concederá si la edad del usuario al vencimiento sería superior a 70 años.\n",
    "\n",
    "_Entrada de muestra_:\n",
    "```python\n",
    "Martínez\n",
    "25\n",
    "25000\n",
    "150000\n",
    "30\n",
    "```\n",
    "\n",
    "_Salida de muestra_: \n",
    "```python\n",
    "Enhorabuena, señor/a Martínez, su hipoteca ha sido concedida.\n",
    "```"
   ]
  },
  {
   "cell_type": "code",
   "execution_count": 26,
   "metadata": {},
   "outputs": [
    {
     "name": "stdout",
     "output_type": "stream",
     "text": [
      "Nombre, por favorDaniel\n",
      "Edad, por favor33\n",
      "A ver chaval, tu cuanto ganas?120000\n",
      "Y dices que quieres cuanto????200000\n",
      "Y seras libre en...?10\n",
      "268783.27586882445\n",
      "Estás flipando chaval. Tú tienes estudios, piltrafilla?\n"
     ]
    }
   ],
   "source": [
    "name = input(\"Nombre, por favor\")\n",
    "age = int(input(\"Edad, por favor\"))\n",
    "income = int(input(\"A ver chaval, tu cuanto ganas?\"))\n",
    "amount = int(input(\"Y dices que quieres cuanto????\"))\n",
    "maturity = int(input(\"Y seras libre en...?\"))\n",
    "\n",
    "interest = 0.03\n",
    "\n",
    "principal_plus_interest = amount * (1 + interest) ** maturity\n",
    "print(principal_plus_interest)\n",
    "rejected = (age + maturity > 70 \n",
    "            or 5 * principal_plus_interest > income * maturity)\n",
    "\n",
    "if rejected:\n",
    "    print(\"Estás flipando chaval. Tú tienes estudios, piltrafilla?\")\n",
    "else:\n",
    "    print(\"Por supuesto, señor %s, cómo no!\" % name)\n",
    "\n"
   ]
  }
 ],
 "metadata": {
  "anaconda-cloud": {},
  "celltoolbar": "Slideshow",
  "kernelspec": {
   "display_name": "Python 3",
   "language": "python",
   "name": "python3"
  },
  "language_info": {
   "codemirror_mode": {
    "name": "ipython",
    "version": 3
   },
   "file_extension": ".py",
   "mimetype": "text/x-python",
   "name": "python",
   "nbconvert_exporter": "python",
   "pygments_lexer": "ipython3",
   "version": "3.6.3"
  },
  "livereveal": {
   "scroll": true,
   "start_slideshow_at": "selected"
  }
 },
 "nbformat": 4,
 "nbformat_minor": 2
}
