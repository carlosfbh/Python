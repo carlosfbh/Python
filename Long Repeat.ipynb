{
 "cells": [
  {
   "cell_type": "code",
   "execution_count": 1,
   "metadata": {
    "collapsed": true
   },
   "outputs": [],
   "source": [
    "def long_repeat(line):\n",
    "    \n",
    "    \"\"\"\n",
    "    Here you should find the length of the longest substring that consists of the same letter. \n",
    "    For example, line \"aaabbcaaaa\" contains four substrings with the same letters \"aaa\", \"bb\",\"c\" and \"aaaa\". \n",
    "    The last substring is the longest one which makes it an answer.\n",
    "    \n",
    "    Example:\n",
    "    long_repeat('sdsffffse') == 4\n",
    "    long_repeat('ddvvrwwwrggg') == 3\n",
    "    \"\"\"\n",
    "    \n",
    "    contador = 0\n",
    "    lista = []\n",
    "    \n",
    "    if len(line) == 0:\n",
    "        return 0\n",
    "    \n",
    "    else:\n",
    "    \n",
    "        for index, letter in enumerate(line):\n",
    "            contador = 0\n",
    "            for i in range(0, len(line)-index):\n",
    "\n",
    "                if letter == line[index + i]:\n",
    "                    contador += 1\n",
    "                    lista.append(contador)\n",
    "\n",
    "                else:\n",
    "                    contador = 0\n",
    "                    break\n",
    "\n",
    "    return max(lista)"
   ]
  },
  {
   "cell_type": "code",
   "execution_count": 2,
   "metadata": {},
   "outputs": [
    {
     "data": {
      "text/plain": [
       "2"
      ]
     },
     "execution_count": 2,
     "metadata": {},
     "output_type": "execute_result"
    }
   ],
   "source": [
    "long_repeat(\"aa\")"
   ]
  },
  {
   "cell_type": "code",
   "execution_count": 3,
   "metadata": {},
   "outputs": [
    {
     "data": {
      "text/plain": [
       "1"
      ]
     },
     "execution_count": 3,
     "metadata": {},
     "output_type": "execute_result"
    }
   ],
   "source": [
    "long_repeat(\"abababa\")"
   ]
  },
  {
   "cell_type": "code",
   "execution_count": 4,
   "metadata": {},
   "outputs": [
    {
     "data": {
      "text/plain": [
       "2"
      ]
     },
     "execution_count": 4,
     "metadata": {},
     "output_type": "execute_result"
    }
   ],
   "source": [
    "long_repeat(\"abababaab\")"
   ]
  },
  {
   "cell_type": "code",
   "execution_count": 5,
   "metadata": {},
   "outputs": [
    {
     "data": {
      "text/plain": [
       "0"
      ]
     },
     "execution_count": 5,
     "metadata": {},
     "output_type": "execute_result"
    }
   ],
   "source": [
    "long_repeat(\"\")"
   ]
  },
  {
   "cell_type": "code",
   "execution_count": 6,
   "metadata": {},
   "outputs": [
    {
     "data": {
      "text/plain": [
       "3"
      ]
     },
     "execution_count": 6,
     "metadata": {},
     "output_type": "execute_result"
    }
   ],
   "source": [
    "long_repeat(\"ddvvrwwwrggg\")"
   ]
  }
 ],
 "metadata": {
  "kernelspec": {
   "display_name": "Python 3",
   "language": "python",
   "name": "python3"
  },
  "language_info": {
   "codemirror_mode": {
    "name": "ipython",
    "version": 3
   },
   "file_extension": ".py",
   "mimetype": "text/x-python",
   "name": "python",
   "nbconvert_exporter": "python",
   "pygments_lexer": "ipython3",
   "version": "3.6.3"
  }
 },
 "nbformat": 4,
 "nbformat_minor": 2
}
