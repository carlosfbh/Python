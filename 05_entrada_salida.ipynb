{
 "cells": [
  {
   "cell_type": "markdown",
   "metadata": {
    "slideshow": {
     "slide_type": "slide"
    }
   },
   "source": [
    "# Entrada / salida básica con Python\n",
    "\n",
    "<img src=\"https://www.python.org/static/img/python-logo.png\" alt=\"yogen\" style=\"width: 200px; float: right;\"/>\n",
    "<br>\n",
    "<br>\n",
    "<br>\n",
    "<a href = \"http://yogen.io\"><img src=\"http://yogen.io/assets/logo.svg\" alt=\"yogen\" style=\"width: 200px; float: right;\"/></a>"
   ]
  },
  {
   "cell_type": "markdown",
   "metadata": {
    "slideshow": {
     "slide_type": "slide"
    }
   },
   "source": [
    "# Objetivos\n",
    "\n",
    "-   Aprender a mostrar mensajes al usuario\n",
    "\n",
    "-   Aprender a pedir información al usuario\n",
    "\n",
    "-   Leer y escribir ficheros de datos\n",
    "\n",
    "-   Una mini-intro a ficheros de datos y *data science*\n",
    "\n",
    "-   Repaso de estrategias para escribir programas"
   ]
  },
  {
   "cell_type": "markdown",
   "metadata": {
    "slideshow": {
     "slide_type": "slide"
    }
   },
   "source": [
    "# Mostrar mensajes en la pantalla "
   ]
  },
  {
   "cell_type": "markdown",
   "metadata": {
    "slideshow": {
     "slide_type": "fragment"
    }
   },
   "source": [
    "## Comunicación con el usuario"
   ]
  },
  {
   "cell_type": "markdown",
   "metadata": {
    "slideshow": {
     "slide_type": "fragment"
    }
   },
   "source": [
    "-   Mostrar mensajes de texto al usuario\n",
    "\n",
    "-   Pedir números y texto al usuario"
   ]
  },
  {
   "cell_type": "markdown",
   "metadata": {
    "slideshow": {
     "slide_type": "slide"
    }
   },
   "source": [
    "## Mostrar mensajes al usuario\n",
    "\n",
    "-   `print` "
   ]
  },
  {
   "cell_type": "markdown",
   "metadata": {
    "slideshow": {
     "slide_type": "fragment"
    }
   },
   "source": [
    "El comando print permite mostrar mensajes de texto, con valores de variables, y aplicando un formato a la salida\n",
    "\n",
    "-   Por ejemplo, número de decimales a mostrar"
   ]
  },
  {
   "cell_type": "markdown",
   "metadata": {
    "slideshow": {
     "slide_type": "slide"
    }
   },
   "source": [
    "## Ejemplos"
   ]
  },
  {
   "cell_type": "code",
   "execution_count": 2,
   "metadata": {},
   "outputs": [
    {
     "name": "stdout",
     "output_type": "stream",
     "text": [
      "1\n",
      "10.0\n",
      "[1, 2] asdf\n"
     ]
    }
   ],
   "source": [
    "print(1)\n",
    "print(10.)\n",
    "print([1,2],'asdf')"
   ]
  },
  {
   "cell_type": "markdown",
   "metadata": {
    "slideshow": {
     "slide_type": "fragment"
    }
   },
   "source": [
    "¿Por qué usar el comando print para mostrar el contenido de variables, si ya se muestran en el *notebook*?\n",
    "\n",
    "Porque el que se muestren en el *notebook* es específico de IPython. Si queremos que se muestren corra donde corra nuestro programa deberemos usar `print`"
   ]
  },
  {
   "cell_type": "markdown",
   "metadata": {
    "slideshow": {
     "slide_type": "slide"
    }
   },
   "source": [
    "## Mostrar mensajes con formato\n",
    "\n",
    "Construir cadenas un poco complejas a base de concatenación se vuelve fatigoso muy rápido. Para esto está el formateo de strings.\n",
    "\n",
    "Podemos insertar múltiples valores desde variables o desde literales.\n",
    "\n",
    "Con print podemos combinar números y texto en el mismo mensaje, pero requiere *indicadores de formato*.\n",
    "\n",
    "Este [minilenguaje de formateo](http://www.cprogramming.com/tutorial/printf-format-strings.html) es común a muchos lenguajes de programación.\n"
   ]
  },
  {
   "cell_type": "code",
   "execution_count": 3,
   "metadata": {},
   "outputs": [
    {
     "name": "stdout",
     "output_type": "stream",
     "text": [
      "He detectado 0 virus\n"
     ]
    }
   ],
   "source": [
    "n_virus = 0\n",
    "\n",
    "message = 'He detectado ' + str(n_virus) + ' virus'\n",
    "\n",
    "print(message)"
   ]
  },
  {
   "cell_type": "code",
   "execution_count": 10,
   "metadata": {},
   "outputs": [
    {
     "name": "stdout",
     "output_type": "stream",
     "text": [
      "He detectado 0 virus en las carpetas ['saddas', 'asfsadf'] del usuario Roque\n"
     ]
    }
   ],
   "source": [
    "n_virus = 0\n",
    "folders = ['saddas' , 'asfsadf']\n",
    "user = 'Roque'\n",
    "\n",
    "message = 'He detectado %d virus en las carpetas %s del usuario %s' % (n_virus, folders, user)\n",
    "\n",
    "print(message)"
   ]
  },
  {
   "cell_type": "markdown",
   "metadata": {
    "slideshow": {
     "slide_type": "slide"
    }
   },
   "source": [
    "## Indicadores de formato\n",
    "\n",
    "| Formato |      Descripción       |\n",
    "| --------|------------------------|\n",
    "| %d      | Números sin decimales  |\n",
    "| %f      | Números con decimales  |\n",
    "| %s      | Texto                  |"
   ]
  },
  {
   "cell_type": "markdown",
   "metadata": {
    "slideshow": {
     "slide_type": "slide"
    }
   },
   "source": [
    "## Ejemplos\n",
    "\n",
    "Diferencias entre %d y %f"
   ]
  },
  {
   "cell_type": "code",
   "execution_count": 16,
   "metadata": {},
   "outputs": [
    {
     "name": "stdout",
     "output_type": "stream",
     "text": [
      "Como float: 5.000000 como entero: 5\n"
     ]
    }
   ],
   "source": [
    "var1 = 5\n",
    "\n",
    "print('Como float: %f como entero: %d' % (var1, var1))"
   ]
  },
  {
   "cell_type": "markdown",
   "metadata": {
    "slideshow": {
     "slide_type": "slide"
    }
   },
   "source": [
    "## Uso con texto\n",
    "\n",
    "Podemos introducir varias variables en la string, dándolas como una tupla."
   ]
  },
  {
   "cell_type": "markdown",
   "metadata": {
    "slideshow": {
     "slide_type": "fragment"
    }
   },
   "source": [
    "#### Ejercicio\n",
    "\n",
    "Dada unas variables\n",
    "```python\n",
    "name = \"Daniel\"\n",
    "students = 21\n",
    "```\n",
    "Saca por pantalla un saludo al estimado profesor de parte de sus 14 estudiantes, usando formateo de strings."
   ]
  },
  {
   "cell_type": "code",
   "execution_count": 14,
   "metadata": {},
   "outputs": [
    {
     "name": "stdout",
     "output_type": "stream",
     "text": [
      "Buenas tardes estimado Daniel de parte de tus 21 estudiantes\n"
     ]
    }
   ],
   "source": [
    "name = 'Daniel'\n",
    "students = 21\n",
    "print('Buenas tardes estimado %s de parte de tus %d estudiantes' % (name, students))"
   ]
  },
  {
   "cell_type": "markdown",
   "metadata": {
    "slideshow": {
     "slide_type": "slide"
    }
   },
   "source": [
    "### Ejemplo\n",
    "\n",
    "Vamos a hacer un [_mad libs_](https://en.wikipedia.org/wiki/Mad_Libs)"
   ]
  },
  {
   "cell_type": "code",
   "execution_count": null,
   "metadata": {
    "collapsed": true
   },
   "outputs": [],
   "source": []
  },
  {
   "cell_type": "markdown",
   "metadata": {
    "slideshow": {
     "slide_type": "slide"
    }
   },
   "source": [
    "## Números decimales\n",
    "\n",
    "### Decimales en cadenas de texto \n",
    "\n",
    "`%n.m f`\n",
    "\n",
    "-   n es el número mínimo de columnas utilizadas en la\n",
    "    escritura\n",
    "\n",
    "-   m es el número de decimales"
   ]
  },
  {
   "cell_type": "markdown",
   "metadata": {
    "slideshow": {
     "slide_type": "slide"
    }
   },
   "source": [
    "### Ejemplos"
   ]
  },
  {
   "cell_type": "code",
   "execution_count": 23,
   "metadata": {},
   "outputs": [
    {
     "data": {
      "text/plain": [
       "'hello,    1.30000'"
      ]
     },
     "execution_count": 23,
     "metadata": {},
     "output_type": "execute_result"
    }
   ],
   "source": [
    "'hello, %10.5f' % 1.3"
   ]
  },
  {
   "cell_type": "code",
   "execution_count": 24,
   "metadata": {},
   "outputs": [
    {
     "data": {
      "text/plain": [
       "'hello,  120.30000'"
      ]
     },
     "execution_count": 24,
     "metadata": {},
     "output_type": "execute_result"
    }
   ],
   "source": [
    "'hello, %10.5f' % 120.3"
   ]
  },
  {
   "cell_type": "code",
   "execution_count": 32,
   "metadata": {},
   "outputs": [
    {
     "name": "stdout",
     "output_type": "stream",
     "text": [
      "3.141592653589793\n",
      "Número pi: 3.142\n"
     ]
    }
   ],
   "source": [
    "import math\n",
    "print(math.pi)\n",
    "print('Número pi: %.3f' % math.pi)"
   ]
  },
  {
   "cell_type": "markdown",
   "metadata": {},
   "source": [
    "#### Ejercicio\n",
    "\n",
    "Construye una expresión print que, dadas las variables\n",
    "\n",
    "```python\n",
    "progress = 45.3\n",
    "total = 120\n",
    "```\n",
    "\n",
    "Exprese el progreso de una descarga por pantalla.\n",
    "\n",
    "Queremos que, si mostramos el mensaje múltiples veces, los números queden alineados aunque tengan un número disinto de cifras."
   ]
  },
  {
   "cell_type": "code",
   "execution_count": 92,
   "metadata": {},
   "outputs": [
    {
     "name": "stdout",
     "output_type": "stream",
     "text": [
      "Progreso:      55.00 de 120\n"
     ]
    }
   ],
   "source": [
    "progress = 55\n",
    "total = 120\n",
    "\n",
    "print('Progreso: %10.2f de %d' % (progress, total))"
   ]
  },
  {
   "cell_type": "markdown",
   "metadata": {},
   "source": [
    "Nos estamos repitiendo mucho. Mucho mejor abstraer los componentes comunes a variables para reutilizarlos"
   ]
  },
  {
   "cell_type": "code",
   "execution_count": null,
   "metadata": {
    "collapsed": true
   },
   "outputs": [],
   "source": []
  },
  {
   "cell_type": "markdown",
   "metadata": {
    "slideshow": {
     "slide_type": "slide"
    }
   },
   "source": [
    "## Números enteros\n",
    "\n",
    "Enteros en cadaneas de texto %n.m d\n",
    "\n",
    "-   n es el número mínimo de columnas utilizadas en la\n",
    "    escritura\n",
    "\n",
    "-   m es el número de dígitos"
   ]
  },
  {
   "cell_type": "markdown",
   "metadata": {
    "slideshow": {
     "slide_type": "fragment"
    }
   },
   "source": [
    "#### Ejemplos"
   ]
  },
  {
   "cell_type": "code",
   "execution_count": 99,
   "metadata": {},
   "outputs": [
    {
     "name": "stdout",
     "output_type": "stream",
     "text": [
      "12/10/2017\n"
     ]
    }
   ],
   "source": [
    "dia = 12\n",
    "mes = 10\n",
    "print('%2.2d/%2.2d/2017' % (dia, mes))"
   ]
  },
  {
   "cell_type": "markdown",
   "metadata": {
    "slideshow": {
     "slide_type": "slide"
    }
   },
   "source": [
    "# Pedir datos al usuario "
   ]
  },
  {
   "cell_type": "markdown",
   "metadata": {
    "slideshow": {
     "slide_type": "fragment"
    }
   },
   "source": [
    "Muchos programas pueden necesitar preguntar datos al usuario. Para ello usamos el comando:\n",
    "\n",
    "-   `input`"
   ]
  },
  {
   "cell_type": "markdown",
   "metadata": {
    "slideshow": {
     "slide_type": "fragment"
    }
   },
   "source": [
    "#### Ejemplo: Pedir un número"
   ]
  },
  {
   "cell_type": "code",
   "execution_count": 101,
   "metadata": {},
   "outputs": [
    {
     "name": "stdout",
     "output_type": "stream",
     "text": [
      "Dime tu nombre: Carlos\n",
      "Carlos\n"
     ]
    }
   ],
   "source": [
    "nombre = input('Dime tu nombre: ')\n",
    "print(nombre)"
   ]
  },
  {
   "cell_type": "markdown",
   "metadata": {
    "slideshow": {
     "slide_type": "slide"
    }
   },
   "source": [
    "## `input` siempre devuelve una string\n",
    "\n",
    "Si necesitamos otro tipo de dato, tendremos que modificarlo nosotros. \n",
    "\n",
    "La interacción con el usuario es un punto en el que típicamente se producen errores."
   ]
  },
  {
   "cell_type": "code",
   "execution_count": 102,
   "metadata": {},
   "outputs": [
    {
     "data": {
      "text/plain": [
       "str"
      ]
     },
     "execution_count": 102,
     "metadata": {},
     "output_type": "execute_result"
    }
   ],
   "source": [
    "type(nombre)"
   ]
  },
  {
   "cell_type": "code",
   "execution_count": 104,
   "metadata": {},
   "outputs": [
    {
     "name": "stdout",
     "output_type": "stream",
     "text": [
      "Dame un número: 4\n"
     ]
    }
   ],
   "source": [
    "entrada = input('Dame un número: ')"
   ]
  },
  {
   "cell_type": "code",
   "execution_count": 109,
   "metadata": {},
   "outputs": [
    {
     "data": {
      "text/plain": [
       "8"
      ]
     },
     "execution_count": 109,
     "metadata": {},
     "output_type": "execute_result"
    }
   ],
   "source": [
    "numero = int(entrada) + 4\n",
    "numero"
   ]
  },
  {
   "cell_type": "code",
   "execution_count": 2,
   "metadata": {},
   "outputs": [
    {
     "name": "stdout",
     "output_type": "stream",
     "text": [
      "Dame un número: 4\n",
      "El número 4 multiplicado por 4 es 16.00\n"
     ]
    }
   ],
   "source": [
    "#Pedir un número y que devuelva ese número multiplicado por 4\n",
    "\n",
    "entrada_1 = input(\"Dame un número: \")\n",
    "print(\"El número %s multiplicado por 4 es %.2f\" % (entrada_1, float(numero_1) * 4))"
   ]
  },
  {
   "cell_type": "markdown",
   "metadata": {},
   "source": [
    "No podemos dar por sentado que el usuario hará lo que le pedimos:"
   ]
  },
  {
   "cell_type": "code",
   "execution_count": null,
   "metadata": {
    "collapsed": true
   },
   "outputs": [],
   "source": []
  },
  {
   "cell_type": "markdown",
   "metadata": {
    "slideshow": {
     "slide_type": "slide"
    }
   },
   "source": [
    "# Pedir datos al usuario \n",
    "\n",
    "Muchos programas pueden necesitar preguntar datos al usuario. Para ello usamos el comando:\n",
    "\n",
    "-   `input`\n",
    "\n",
    "#### Ejemplo: Pedir texto"
   ]
  },
  {
   "cell_type": "code",
   "execution_count": null,
   "metadata": {
    "collapsed": true
   },
   "outputs": [],
   "source": []
  },
  {
   "cell_type": "markdown",
   "metadata": {
    "slideshow": {
     "slide_type": "slide"
    }
   },
   "source": [
    "# Ficheros de datos "
   ]
  },
  {
   "cell_type": "markdown",
   "metadata": {
    "slideshow": {
     "slide_type": "slide"
    }
   },
   "source": [
    "## Leer datos de un fichero\n",
    "\n",
    "Normalmente, en *data science* leeremos los datos desde ficheros, no se los pediremos al usuario.\n",
    "\n",
    "-   En realidad, usaremos bibliotecas específicas para leer y escribir\n",
    "    datos, como por ejemplo **`pandas`**"
   ]
  },
  {
   "cell_type": "markdown",
   "metadata": {
    "slideshow": {
     "slide_type": "slide"
    }
   },
   "source": [
    "## Abrir y cerrar ficheros\n",
    "Es necesario abrir un fichero usando un **modo de apertura** para poder trabajar con un fichero."
   ]
  },
  {
   "cell_type": "markdown",
   "metadata": {},
   "source": [
    "Necesitamos tener el archivo `fichero.csv` en el directorio donde estamos: el _current working directory_. \n",
    "\n",
    "Para saber cuál es podemos usar la función `os.getcwd()`"
   ]
  },
  {
   "cell_type": "code",
   "execution_count": 4,
   "metadata": {
    "collapsed": true
   },
   "outputs": [],
   "source": [
    "fichero = open(\"C:\\\\Users\\\\carlo\\\\Desktop\\\\Máster\\\\Curso Programación Python\\\\fichero.csv\")"
   ]
  },
  {
   "cell_type": "code",
   "execution_count": 6,
   "metadata": {},
   "outputs": [
    {
     "data": {
      "text/plain": [
       "'C:\\\\Users\\\\carlo\\\\Desktop\\\\Máster\\\\Curso Programación Python'"
      ]
     },
     "execution_count": 6,
     "metadata": {},
     "output_type": "execute_result"
    }
   ],
   "source": [
    "#Para saber el directorio de trabajo\n",
    "import os\n",
    "os.getcwd()"
   ]
  },
  {
   "cell_type": "code",
   "execution_count": 12,
   "metadata": {
    "collapsed": true
   },
   "outputs": [],
   "source": [
    "fichero = open(\"fichero.csv\")"
   ]
  },
  {
   "cell_type": "code",
   "execution_count": 13,
   "metadata": {},
   "outputs": [
    {
     "data": {
      "text/plain": [
       "_io.TextIOWrapper"
      ]
     },
     "execution_count": 13,
     "metadata": {},
     "output_type": "execute_result"
    }
   ],
   "source": [
    "type(fichero)"
   ]
  },
  {
   "cell_type": "code",
   "execution_count": 14,
   "metadata": {},
   "outputs": [
    {
     "data": {
      "text/plain": [
       "False"
      ]
     },
     "execution_count": 14,
     "metadata": {},
     "output_type": "execute_result"
    }
   ],
   "source": [
    "fichero.closed"
   ]
  },
  {
   "cell_type": "markdown",
   "metadata": {
    "slideshow": {
     "slide_type": "slide"
    }
   },
   "source": [
    "## Leer ficheros\n",
    "\n",
    "Tenemos varias instrucciones que podemos usar para leer ficheros:\n",
    "\n",
    "-   `read` para leer el contenido entero del fichero\n",
    "\n",
    "-   `readline` para leer el fichero línea a línea\n",
    "\n",
    "-   `readlines` para leer todas las líneas en una lista\n",
    "\n",
    "    -   Esta función es iterable, es decir, no necesitamos cargar el\n",
    "        fichero en memoria entero si usamos readlines"
   ]
  },
  {
   "cell_type": "markdown",
   "metadata": {
    "slideshow": {
     "slide_type": "fragment"
    }
   },
   "source": [
    "-   Veamos un ejemplo con un fichero de datos"
   ]
  },
  {
   "cell_type": "code",
   "execution_count": 24,
   "metadata": {},
   "outputs": [
    {
     "data": {
      "text/plain": [
       "'id,type,article,price\\n'"
      ]
     },
     "execution_count": 24,
     "metadata": {},
     "output_type": "execute_result"
    }
   ],
   "source": [
    "fichero.readline()"
   ]
  },
  {
   "cell_type": "markdown",
   "metadata": {},
   "source": [
    "`readline()` nos devuelve una única línea, con su salto de línea al final."
   ]
  },
  {
   "cell_type": "code",
   "execution_count": 25,
   "metadata": {},
   "outputs": [
    {
     "data": {
      "text/plain": [
       "'001,garden,SawMaster,200.0\\n'"
      ]
     },
     "execution_count": 25,
     "metadata": {},
     "output_type": "execute_result"
    }
   ],
   "source": [
    "fichero.readline()"
   ]
  },
  {
   "cell_type": "markdown",
   "metadata": {},
   "source": [
    "Si lo volvemos a llamar, nos devuelve la siguiente línea."
   ]
  },
  {
   "cell_type": "code",
   "execution_count": 26,
   "metadata": {},
   "outputs": [
    {
     "data": {
      "text/plain": [
       "'002,kitchen,CutPlus,99.95\\n'"
      ]
     },
     "execution_count": 26,
     "metadata": {},
     "output_type": "execute_result"
    }
   ],
   "source": [
    "fichero.readline()"
   ]
  },
  {
   "cell_type": "markdown",
   "metadata": {},
   "source": [
    "Con `seek()` podemos recolocar el \"cursor\", la posición actual, dentro del archivo."
   ]
  },
  {
   "cell_type": "code",
   "execution_count": 28,
   "metadata": {},
   "outputs": [
    {
     "data": {
      "text/plain": [
       "'id,type,article,price\\n'"
      ]
     },
     "execution_count": 28,
     "metadata": {},
     "output_type": "execute_result"
    }
   ],
   "source": [
    "fichero.seek(0)\n",
    "fichero.readline()"
   ]
  },
  {
   "cell_type": "markdown",
   "metadata": {},
   "source": [
    "`readlines` nos devuelve todas las líneas en forma de listas. \n",
    "\n",
    "Si el archivo es lo suficientemente grande, podemos llenar la memoria."
   ]
  },
  {
   "cell_type": "code",
   "execution_count": 22,
   "metadata": {},
   "outputs": [
    {
     "data": {
      "text/plain": [
       "['id,type,article,price\\n',\n",
       " '001,garden,SawMaster,200.0\\n',\n",
       " '002,kitchen,CutPlus,99.95\\n',\n",
       " '003,personal_hygiene,IntiMus,19.99\\n']"
      ]
     },
     "execution_count": 22,
     "metadata": {},
     "output_type": "execute_result"
    }
   ],
   "source": [
    "fichero.seek(0)\n",
    "fichero.readlines()"
   ]
  },
  {
   "cell_type": "markdown",
   "metadata": {},
   "source": [
    "Por defecto, los archivos se abren en modo de lectura, 'r'"
   ]
  },
  {
   "cell_type": "code",
   "execution_count": null,
   "metadata": {
    "collapsed": true
   },
   "outputs": [],
   "source": []
  },
  {
   "cell_type": "markdown",
   "metadata": {},
   "source": [
    "Siempre hay que cerrar los archivos cuando hemos terminado de usarlos."
   ]
  },
  {
   "cell_type": "code",
   "execution_count": 29,
   "metadata": {},
   "outputs": [
    {
     "data": {
      "text/plain": [
       "True"
      ]
     },
     "execution_count": 29,
     "metadata": {},
     "output_type": "execute_result"
    }
   ],
   "source": [
    "#Para cerrar el fichero\n",
    "fichero.close()\n",
    "fichero.closed"
   ]
  },
  {
   "cell_type": "markdown",
   "metadata": {
    "slideshow": {
     "slide_type": "slide"
    }
   },
   "source": [
    "## Escribir ficheros\n",
    "\n",
    "Usaremos la instrucción *write*\n",
    "\n",
    "-   Acepta solo cadenas de texto\n",
    "\n",
    "-   No escribe saltos de línea por defecto, por lo que tenemos que\n",
    "    añadir saltos de línea al final de cada línea de texto\n",
    "    \n",
    "-   Tenemos que abrir el archivo en modo 'w', de escritura"
   ]
  },
  {
   "cell_type": "code",
   "execution_count": 48,
   "metadata": {
    "collapsed": true
   },
   "outputs": [],
   "source": [
    "#Hay que poner \"w\" para indicarle que es un fichero que voy a escribir\n",
    "nuevo_fichero = open(\"mi_nuevo_archivo.txt\", \"w\")"
   ]
  },
  {
   "cell_type": "code",
   "execution_count": 49,
   "metadata": {},
   "outputs": [
    {
     "data": {
      "text/plain": [
       "10"
      ]
     },
     "execution_count": 49,
     "metadata": {},
     "output_type": "execute_result"
    }
   ],
   "source": [
    "nuevo_fichero.write(\"Hola mundo\")"
   ]
  },
  {
   "cell_type": "code",
   "execution_count": 50,
   "metadata": {
    "collapsed": true
   },
   "outputs": [],
   "source": [
    "nuevo_fichero.close()"
   ]
  },
  {
   "cell_type": "markdown",
   "metadata": {
    "slideshow": {
     "slide_type": "slide"
    }
   },
   "source": [
    "## Cerrar ficheros\n",
    "\n",
    "Corrupción de datos\n",
    "\n",
    "-   Siempre que escribamos en un fichero, no podemos estar \n",
    "    seguros de que los datos se han guardado en el\n",
    "    disco hasta que no hemos cerrado el fichero.\n",
    "\n",
    "-   Cuando leemos, esto no es imprescindible, pero sí  **altamente\n",
    "    recomendable**\n",
    "    \n",
    "-   Podemos forzar al sistema operativo a guardarlos con `flush()`, \n",
    "    pero aún así deberemos cerrar el archivo al terminar con él."
   ]
  },
  {
   "cell_type": "code",
   "execution_count": null,
   "metadata": {
    "collapsed": true
   },
   "outputs": [],
   "source": []
  },
  {
   "cell_type": "markdown",
   "metadata": {
    "slideshow": {
     "slide_type": "slide"
    }
   },
   "source": [
    "## Cláusula with\n",
    "\n",
    "Se asegura de que el fichero quede cerrado cuando se sale del contexto de `with`"
   ]
  },
  {
   "cell_type": "code",
   "execution_count": 51,
   "metadata": {},
   "outputs": [
    {
     "name": "stdout",
     "output_type": "stream",
     "text": [
      "id,type,article,price\n",
      "001,garden,SawMaster,200.0\n",
      "002,kitchen,CutPlus,99.95\n",
      "003,personal_hygiene,IntiMus,19.99\n",
      "\n"
     ]
    }
   ],
   "source": [
    "with open(\"fichero.csv\") as input_fichero:\n",
    "    print(input_fichero.read())"
   ]
  },
  {
   "cell_type": "code",
   "execution_count": 53,
   "metadata": {},
   "outputs": [
    {
     "data": {
      "text/plain": [
       "True"
      ]
     },
     "execution_count": 53,
     "metadata": {},
     "output_type": "execute_result"
    }
   ],
   "source": [
    "fichero.closed"
   ]
  },
  {
   "cell_type": "code",
   "execution_count": 60,
   "metadata": {},
   "outputs": [
    {
     "data": {
      "text/plain": [
       "True"
      ]
     },
     "execution_count": 60,
     "metadata": {},
     "output_type": "execute_result"
    }
   ],
   "source": [
    "with open(\"mi_nuevo_archivo2.txt\", \"w\") as nuevo_fichero:\n",
    "    nuevo_fichero.write(\"Hola Mundo\")\n",
    "nuevo_fichero.closed   \n"
   ]
  },
  {
   "cell_type": "markdown",
   "metadata": {
    "slideshow": {
     "slide_type": "slide"
    }
   },
   "source": [
    "## Leer un CSV con Pandas\n",
    "\n",
    "En la práctica de *Data Science*, no usaríamos una API de tan\n",
    "bajo nivel. Existen muchas bibliotecas de análisis de datos que nos\n",
    "permiten cargar los datos en un *dataframe*"
   ]
  },
  {
   "cell_type": "code",
   "execution_count": 62,
   "metadata": {
    "collapsed": true
   },
   "outputs": [],
   "source": [
    "import pandas as pd"
   ]
  },
  {
   "cell_type": "code",
   "execution_count": 63,
   "metadata": {
    "collapsed": true
   },
   "outputs": [],
   "source": [
    "df = pd.read_csv(\"fichero.csv\")"
   ]
  },
  {
   "cell_type": "code",
   "execution_count": 64,
   "metadata": {},
   "outputs": [
    {
     "data": {
      "text/html": [
       "<div>\n",
       "<style>\n",
       "    .dataframe thead tr:only-child th {\n",
       "        text-align: right;\n",
       "    }\n",
       "\n",
       "    .dataframe thead th {\n",
       "        text-align: left;\n",
       "    }\n",
       "\n",
       "    .dataframe tbody tr th {\n",
       "        vertical-align: top;\n",
       "    }\n",
       "</style>\n",
       "<table border=\"1\" class=\"dataframe\">\n",
       "  <thead>\n",
       "    <tr style=\"text-align: right;\">\n",
       "      <th></th>\n",
       "      <th>id</th>\n",
       "      <th>type</th>\n",
       "      <th>article</th>\n",
       "      <th>price</th>\n",
       "    </tr>\n",
       "  </thead>\n",
       "  <tbody>\n",
       "    <tr>\n",
       "      <th>0</th>\n",
       "      <td>1</td>\n",
       "      <td>garden</td>\n",
       "      <td>SawMaster</td>\n",
       "      <td>200.00</td>\n",
       "    </tr>\n",
       "    <tr>\n",
       "      <th>1</th>\n",
       "      <td>2</td>\n",
       "      <td>kitchen</td>\n",
       "      <td>CutPlus</td>\n",
       "      <td>99.95</td>\n",
       "    </tr>\n",
       "    <tr>\n",
       "      <th>2</th>\n",
       "      <td>3</td>\n",
       "      <td>personal_hygiene</td>\n",
       "      <td>IntiMus</td>\n",
       "      <td>19.99</td>\n",
       "    </tr>\n",
       "  </tbody>\n",
       "</table>\n",
       "</div>"
      ],
      "text/plain": [
       "   id              type    article   price\n",
       "0   1            garden  SawMaster  200.00\n",
       "1   2           kitchen    CutPlus   99.95\n",
       "2   3  personal_hygiene    IntiMus   19.99"
      ]
     },
     "execution_count": 64,
     "metadata": {},
     "output_type": "execute_result"
    }
   ],
   "source": [
    "df.head()"
   ]
  },
  {
   "cell_type": "markdown",
   "metadata": {},
   "source": [
    "`pandas` nos hace extremadamente fácil leer datos en distintos formatos, incluso de fuentes remotas:"
   ]
  },
  {
   "cell_type": "code",
   "execution_count": null,
   "metadata": {
    "collapsed": true
   },
   "outputs": [],
   "source": []
  },
  {
   "cell_type": "markdown",
   "metadata": {},
   "source": [
    "También escribir en distintos formatos: csv, excel..."
   ]
  },
  {
   "cell_type": "code",
   "execution_count": null,
   "metadata": {
    "collapsed": true
   },
   "outputs": [],
   "source": []
  },
  {
   "cell_type": "markdown",
   "metadata": {},
   "source": [
    "\\* Para poder leer y escribir archivos excel necesitaremos instalar los módulos xlrd y xlwt, respectivamente."
   ]
  },
  {
   "cell_type": "code",
   "execution_count": null,
   "metadata": {
    "collapsed": true
   },
   "outputs": [],
   "source": []
  },
  {
   "cell_type": "markdown",
   "metadata": {
    "slideshow": {
     "slide_type": "slide"
    }
   },
   "source": [
    "# Ejemplo de programa con entrada / salida \n",
    "\n",
    "Vamos a calcular el área de un círculo"
   ]
  },
  {
   "cell_type": "markdown",
   "metadata": {
    "slideshow": {
     "slide_type": "slide"
    }
   },
   "source": [
    "## Pasos para hacer un programa\n",
    "\n",
    "1.  Definir bien el problema\n",
    "\n",
    "    -   En nuestro caso, calcular el área de un círculo\n",
    "\n",
    "\n",
    "\n",
    "2.  Identificar las entradas de datos al programa\n",
    "\n",
    "    -   El radio del círculo\n",
    "\n",
    "\n",
    "3.  Identificar las salidas de datos del programa\n",
    "\n",
    "    -   El valor del área\n",
    "\n",
    "\n",
    "4.  Decidir el algoritmo que calculará las salidas de datos a partir de\n",
    "    las entradas"
   ]
  },
  {
   "cell_type": "markdown",
   "metadata": {
    "slideshow": {
     "slide_type": "slide"
    }
   },
   "source": [
    "## Algoritmo\n",
    "\n",
    "Área de un círculo\n",
    "\n",
    "Si sabemos el radio, podemos calcular el área\n",
    "$$A= \\pi r^2$$"
   ]
  },
  {
   "cell_type": "markdown",
   "metadata": {
    "slideshow": {
     "slide_type": "fragment"
    }
   },
   "source": [
    "<center>![image](figs/area.png)</center>"
   ]
  },
  {
   "cell_type": "markdown",
   "metadata": {
    "slideshow": {
     "slide_type": "slide"
    }
   },
   "source": [
    "#### Ejercicio:\n",
    "\n",
    "Escribe el programa para calcular el área del círculo, según el patrón que venimos estableciendo:\n",
    "\n",
    "- Entrada de datos\n",
    "\n",
    "- Algoritmo\n",
    "\n",
    "- Salida de datos"
   ]
  },
  {
   "cell_type": "code",
   "execution_count": 70,
   "metadata": {},
   "outputs": [
    {
     "name": "stdout",
     "output_type": "stream",
     "text": [
      "Dime el radio del círculo: 5\n",
      "El área del círculo con radio 5.00 es: 78.54\n"
     ]
    }
   ],
   "source": [
    "import math\n",
    "\n",
    "# Input\n",
    "r = float(input(\"Dime el radio del círculo: \"))\n",
    "\n",
    "# Algorithm\n",
    "A = math.pi * r **2\n",
    "\n",
    "# Output\n",
    "print(\"El área del círculo con radio %.2f es: %.2f\" % (r, A))"
   ]
  },
  {
   "cell_type": "markdown",
   "metadata": {},
   "source": [
    "Muchas variables están definidas en módulos. Por ejemplo, `pi` está definida en el módulo `math`. Podemos traerla a nuestro entorno con `import`:"
   ]
  },
  {
   "cell_type": "code",
   "execution_count": null,
   "metadata": {
    "collapsed": true
   },
   "outputs": [],
   "source": []
  },
  {
   "cell_type": "markdown",
   "metadata": {
    "slideshow": {
     "slide_type": "slide"
    }
   },
   "source": [
    "# Para llevar\n",
    "\n",
    "### resumen del tema\n",
    "\n",
    "-   Para mostrar el valor de una variable, o un mensaje sencillo, usamos\n",
    "    la función `print`\n",
    "\n",
    "-   Si queremos mostrar mensajes complejos podemos componer mensajes con\n",
    "    formato\n",
    "\n",
    "-   Podemos mostrar:\n",
    "\n",
    "    -   %d: Números enteros\n",
    "\n",
    "    -   %f: Números decimales\n",
    "\n",
    "    -   %s: Texto"
   ]
  },
  {
   "cell_type": "markdown",
   "metadata": {
    "slideshow": {
     "slide_type": "slide"
    }
   },
   "source": [
    "## Para llevar: resumen del tema\n",
    "\n",
    "-   Podemos pedir datos al usuario con input\n",
    "\n",
    "    -   Con input, la entrada **no** se evalúa: siempre será una `str`\n",
    "\n",
    "-   Podemos abrir ficheros con open tanto para lectura como\n",
    "    escritura\n",
    "\n",
    "-   Con readline, lo podemos leer de manera iterativa sin\n",
    "    cargar el fichero en memoria\n",
    "\n",
    "-   Siempre tenemos que cerrar el fichero después de leerlo. Lo mejor es\n",
    "    usar with para no olvidarnos de cerrarlo."
   ]
  },
  {
   "cell_type": "markdown",
   "metadata": {
    "slideshow": {
     "slide_type": "slide"
    }
   },
   "source": [
    "## Para llevar: resumen del tema\n",
    "\n",
    "-   Nuestros programas deben tener siempre la estructura:\n",
    "\n",
    "    -   Entrada de datos\n",
    "\n",
    "    -   Algoritmo\n",
    "\n",
    "    -   Salida de datos\n",
    "\n",
    "-   El primer paso para programar es siempre definir bien el problema\n",
    "\n",
    "    -   Dejar claro qué hay que hacer\n",
    "\n",
    "    -   Cómo hay que hacerlo será lo que escribamos en el programa"
   ]
  },
  {
   "cell_type": "markdown",
   "metadata": {},
   "source": [
    "# Para saber más\n",
    "\n",
    "http://www.cprogramming.com/tutorial/printf-format-strings.html\n",
    "\n",
    "http://www.practicepython.org/\n",
    "\n",
    "http://codingbat.com/python"
   ]
  },
  {
   "cell_type": "markdown",
   "metadata": {},
   "source": [
    "# Ejercicios para fijar"
   ]
  },
  {
   "cell_type": "markdown",
   "metadata": {},
   "source": [
    "#### Ejercicio\n",
    "\n",
    "Escribe un programa que acepte el apellido y nombre de un usuario y los muestre por pantalla en orden inverso, con un espacio entre ellos"
   ]
  },
  {
   "cell_type": "code",
   "execution_count": 154,
   "metadata": {},
   "outputs": [
    {
     "name": "stdout",
     "output_type": "stream",
     "text": [
      "Dime tu nombre y apellido: Carlos Ferrer-Bonsoms\n",
      "Ferrer-Bonsoms Carlos\n"
     ]
    }
   ],
   "source": [
    "# Input\n",
    "nombre_apellido = input(\"Dime tu nombre y apellido: \")\n",
    "\n",
    "# Algorithm\n",
    "pos = nombre_apellido.find(\" \")\n",
    "nombre = nombre_apellido[: pos]\n",
    "apellido = nombre_apellido[pos + 1 :]\n",
    "\n",
    "# Output\n",
    "print(\"%s %s\" % (apellido, nombre))"
   ]
  },
  {
   "cell_type": "code",
   "execution_count": 159,
   "metadata": {},
   "outputs": [
    {
     "name": "stdout",
     "output_type": "stream",
     "text": [
      "Dime tu nombre y apellido: Carlos Ferrer\n",
      "Ferrer Carlos\n"
     ]
    }
   ],
   "source": [
    "nombre_apellido = input(\"Dime tu nombre y apellido: \")\n",
    "\n",
    "lista_nombre_apellido = nombre_apellido.split(\" \")\n",
    "nombre = lista_nombre_apellido[0]\n",
    "apellido = lista_nombre_apellido[1]\n",
    "\n",
    "print(\"%s %s\" % (apellido, nombre))"
   ]
  },
  {
   "cell_type": "markdown",
   "metadata": {},
   "source": [
    "#### Ejercicio\n",
    "\n",
    "Escribe un programa Python que acepte una secuencia de 4 números separados por comas y los imprima cada uno en una línea. \n",
    "\n",
    "_Pista_: en los [métodos de `str`](https://docs.python.org/3/library/stdtypes.html#string-methods) seguro que encuentras algo que te sea útil.\n",
    "\n",
    "_Entrada de muestra_: `\"1,53,3,12\"`\n",
    "\n",
    "_Salida de muestra_: \n",
    "```python\n",
    "1\n",
    "53\n",
    "3\n",
    "12\n",
    "```"
   ]
  },
  {
   "cell_type": "code",
   "execution_count": 44,
   "metadata": {},
   "outputs": [
    {
     "name": "stdout",
     "output_type": "stream",
     "text": [
      "Por favor, introduzca 4 numeros separados por comas4,3,2,7\n",
      "4\n",
      "3\n",
      "2\n",
      "7\n"
     ]
    }
   ],
   "source": [
    "# Input\n",
    "text = input(\"Por favor, introduzca 4 numeros separados por comas\")\n",
    "\n",
    "# Algorithm\n",
    "my_list = text.split(\",\")\n",
    "\n",
    "# Output\n",
    "print(my_list[0])\n",
    "print(my_list[1])\n",
    "print(my_list[2])\n",
    "print(my_list[3])"
   ]
  },
  {
   "cell_type": "code",
   "execution_count": 45,
   "metadata": {},
   "outputs": [
    {
     "name": "stdout",
     "output_type": "stream",
     "text": [
      "Por favor, introduzca 4 numeros separados por comas6,4,3,2\n",
      "6\n",
      "4\n",
      "3\n",
      "2\n",
      "\n"
     ]
    }
   ],
   "source": [
    "# Input\n",
    "text = input(\"Por favor, introduzca 4 numeros separados por comas\")\n",
    "\n",
    "# Algorithm\n",
    "my_list = text.split(\",\")\n",
    "message = \"%d\\n%d\\n%d\\n%d\\n\" % (int(my_list[0]), int(my_list[1]), int(my_list[2]), int(my_list[3]))\n",
    "\n",
    "\n",
    "# Output\n",
    "print(message)"
   ]
  },
  {
   "cell_type": "code",
   "execution_count": 46,
   "metadata": {},
   "outputs": [
    {
     "data": {
      "text/plain": [
       "[6, 4, 3, 2]"
      ]
     },
     "execution_count": 46,
     "metadata": {},
     "output_type": "execute_result"
    }
   ],
   "source": [
    "[int(a) for a in my_list]"
   ]
  },
  {
   "cell_type": "markdown",
   "metadata": {},
   "source": [
    "#### Ejercicio\n",
    "\n",
    "Escribe un programa que acepte del usuario una ruta absoluta (en formato Unix) de archivo y muestre por pantalla el nombre de archivo y la extensión, en líneas consecutivas.\n",
    "\n",
    "_Entrada de muestra_: `/home/user/course/best-class-ever.ipynb`\n",
    "\n",
    "_Salida de muestra_: \n",
    "```\n",
    "best-class-ever\n",
    ".ipynb\n",
    "```\n",
    "\n"
   ]
  },
  {
   "cell_type": "code",
   "execution_count": 153,
   "metadata": {},
   "outputs": [
    {
     "name": "stdout",
     "output_type": "stream",
     "text": [
      "best-class-ever\n",
      ".ipynb\n"
     ]
    }
   ],
   "source": [
    "mi_ruta = \"/home/user/course/best-class-ever.ipynb\"\n",
    "\n",
    "pos_ult_punto = mi_ruta.rfind(\".\")\n",
    "pos_ult_barra = mi_ruta.rfind(\"/\")\n",
    "nombre_archivo = mi_ruta[pos_ult_barra + 1 : pos_ult_punto]\n",
    "nombre_extension = mi_ruta[pos_ult_punto : ]\n",
    "\n",
    "print(\"%s\\n%s\" % (nombre_archivo, nombre_extension))"
   ]
  },
  {
   "cell_type": "markdown",
   "metadata": {},
   "source": [
    "#### Ejercicio\n",
    "\n",
    "Extiende el programa del ejercicio anterior (es decir, cópialo en una celda nueva y modifícalo) para que ahora muestre el resultado en una frase de lenguaje natural.\n",
    "\n",
    "_Entrada de muestra_: `/home/user/course/best-class-ever.ipynb`\n",
    "\n",
    "_Salida de muestra_: \n",
    "```\n",
    "El archivo \"best-class-ever\" está en el directorio \"/home/user/course/\" y tiene extensión \".ipynb\"\n",
    "\n",
    "```\n",
    "\n"
   ]
  },
  {
   "cell_type": "code",
   "execution_count": 160,
   "metadata": {
    "scrolled": true
   },
   "outputs": [
    {
     "name": "stdout",
     "output_type": "stream",
     "text": [
      "El archivo \"best-class-ever\" está en el directorio \"/home/user/course/\" y tiene extensión \".ipynb\"\n"
     ]
    }
   ],
   "source": [
    "mi_ruta = \"/home/user/course/best-class-ever.ipynb\"\n",
    "\n",
    "index_extension = mi_ruta.rfind(\".\")\n",
    "index_direccion = mi_ruta.rfind(\"/\") + 1\n",
    "nombre_directorio = mi_ruta[:index_direccion]\n",
    "nombre_archivo = mi_ruta[index_direccion:index_extension]\n",
    "nombre_extension = mi_ruta[index_extension:]\n",
    "\n",
    "print('El archivo \"%s\" está en el directorio \"%s\" y tiene extensión \"%s\"' % (nombre_archivo, nombre_directorio, nombre_extension))"
   ]
  },
  {
   "cell_type": "code",
   "execution_count": 187,
   "metadata": {},
   "outputs": [
    {
     "name": "stdout",
     "output_type": "stream",
     "text": [
      "El archivo \"best-class-ever\" está en el directorio \"/home/user/course/\" y tiene extensión \".ipynb\"\n"
     ]
    }
   ],
   "source": [
    "ruta = \"/home/user/course/best-class-ever.ipynb\"\n",
    "\n",
    "lista = ruta.split(\".\")\n",
    "extension = \".\" + lista[-1]\n",
    "archivo = lista[0].split(\"/\")[-1]\n",
    "directorio = lista[0].split(archivo)[0]\n",
    "\n",
    "print('El archivo \"%s\" está en el directorio \"%s\" y tiene extensión \"%s\"' % (archivo, directorio, extension))"
   ]
  },
  {
   "cell_type": "code",
   "execution_count": 188,
   "metadata": {},
   "outputs": [
    {
     "name": "stdout",
     "output_type": "stream",
     "text": [
      "El archivo \"best-class-ever\" está en el directorio \"/home/user/course/\" y tiene extensión \".ipynb\"\n"
     ]
    }
   ],
   "source": [
    "ruta = \"/home/user/course/best-class-ever.ipynb\"\n",
    "\n",
    "ultimo = ruta.split(\"/\")[-1]\n",
    "extension = \".\" + ultimo.split(\".\")[-1]\n",
    "archivo = ultimo.split(\".\")[0]\n",
    "directorio = ruta.split(archivo)[0]\n",
    "\n",
    "print('El archivo \"%s\" está en el directorio \"%s\" y tiene extensión \"%s\"' % (archivo, directorio, extension))\n"
   ]
  },
  {
   "cell_type": "markdown",
   "metadata": {},
   "source": [
    "#### Ejercicio\n",
    "\n",
    "Escribe un programa que acepte dos números por separado, y compruebe si están \"cerca\" para un nivel de precisión arbitrario, indicado por un tercer número.\n",
    "\n",
    "_Entrada de muestra_:\n",
    "```python\n",
    "0.0003\n",
    "0.000302\n",
    "0.000005\n",
    "```\n",
    "\n",
    "_Salida de muestra_: \n",
    "```python\n",
    "True\n",
    "```"
   ]
  },
  {
   "cell_type": "code",
   "execution_count": null,
   "metadata": {
    "collapsed": true
   },
   "outputs": [],
   "source": []
  },
  {
   "cell_type": "markdown",
   "metadata": {},
   "source": [
    "#### Ejercicio\n",
    "\n",
    "Escribe un programa para convertir una presión en kilopascales en psi, mmHg y atm. Muestra el resultado con un formato adecuado.\n",
    "\n",
    "\n",
    "_Entrada de muestra_:\n",
    "```python\n",
    "1000\n",
    "```\n",
    "\n",
    "_Salida de muestra_: \n",
    "```python\n",
    "1000 kPa equivalen a 145.04 psi, 7500.6 o 9.869 atm\n",
    "```"
   ]
  },
  {
   "cell_type": "code",
   "execution_count": 133,
   "metadata": {},
   "outputs": [
    {
     "name": "stdout",
     "output_type": "stream",
     "text": [
      "1000 kPa equivalen a 145.04 psi, 7500.60 mmHg o 9.87 atm\n"
     ]
    }
   ],
   "source": [
    "# Input\n",
    "presion_kPa = 1000\n",
    "\n",
    "# Algorithm\n",
    "presion_psi = presion_kPa * 0.145038\n",
    "presion_atm = presion_kPa * 9.86923e-03\n",
    "presion_mmHg = presion_kPa * 7.5006\n",
    "\n",
    "# Output\n",
    "print(\"%d kPa equivalen a %.2f psi, %.2f mmHg o %.2f atm\" % (presion_kPa, presion_psi, presion_mmHg, presion_atm))"
   ]
  },
  {
   "cell_type": "markdown",
   "metadata": {},
   "source": [
    "#### Ejercicio\n",
    "\n",
    "Escribe un programa que reciba un número de segundos y lo convierta en años, meses, días, horas, minutos y segundos (considera que todos los meses tienen 30 días),\n",
    "\n",
    "_Entrada de muestra_:\n",
    "```python\n",
    "50000000\n",
    "```\n",
    "\n",
    "_Salida de muestra_: \n",
    "```python\n",
    "50000000 segundos son 1 año(s), 7 mes(es), 3 día(s), 16 hora(s), 53 minuto(s) y 20 segundo(s).\n",
    "```"
   ]
  },
  {
   "cell_type": "code",
   "execution_count": 130,
   "metadata": {},
   "outputs": [
    {
     "name": "stdout",
     "output_type": "stream",
     "text": [
      "Introduzca un número de segundos: 250000\n",
      "250000 segundos equivalen a: 0 año(s), 0 mes(es), 2 día(s), 21 hora(s), 26 minuto(s) y 40 segundos\n"
     ]
    }
   ],
   "source": [
    "# Input\n",
    "num_secs = int(input(\"Introduzca un número de segundos: \"))\n",
    "\n",
    "# Algorithm\n",
    "secs_year = 365 * 24 * 60 * 60\n",
    "secs_month = 30 * 24 * 60 * 60\n",
    "secs_day = 24 * 60 * 60\n",
    "secs_hour = 60 * 60\n",
    "secs_min = 60\n",
    "\n",
    "years = int(num_secs / secs_year)\n",
    "resto = num_secs % secs_year\n",
    "\n",
    "months = int(resto / secs_month)\n",
    "resto = resto % secs_month\n",
    "\n",
    "days = int(resto / secs_day)\n",
    "resto = resto % secs_day\n",
    "\n",
    "hours = int(resto / secs_hour)\n",
    "resto = resto % secs_hour\n",
    "\n",
    "minutes = int(resto / secs_min)\n",
    "seconds = resto % secs_min\n",
    "\n",
    "# Output\n",
    "print(\"%d segundos equivalen a: %d año(s), %d mes(es), %d día(s), %d hora(s), %d minuto(s) y %d segundos\" % (num_secs, years, months, days, hours, minutes, seconds))\n"
   ]
  },
  {
   "cell_type": "code",
   "execution_count": 47,
   "metadata": {},
   "outputs": [
    {
     "name": "stdout",
     "output_type": "stream",
     "text": [
      "num segundos150000000\n",
      "150000000 segundos son 4 año(s), 9 mes(es), 6 día(s), 2 hora(s), 40 minuto(s) y 0 segundo(s).\n"
     ]
    }
   ],
   "source": [
    "# Input\n",
    "input_secs = int(input(\"num segundos\"))\n",
    "\n",
    "# Algorithm\n",
    "secs_in_year = 365 * 24 * 60 * 60\n",
    "secs_in_month = 30 * 24 * 60 * 60\n",
    "secs_in_day = 24 * 60 * 60\n",
    "secs_in_hour = 60 * 60\n",
    "secs_in_minute = 60\n",
    "\n",
    "# Compare readability:\n",
    "# m, rest = divmod(rest_secs, 2592000)\n",
    "years, rest_secs = divmod(input_secs, secs_in_year)\n",
    "months, rest_secs = divmod(rest_secs, secs_in_month)\n",
    "days, rest_secs = divmod(rest_secs, secs_in_day)\n",
    "hours, rest_secs = divmod(rest_secs, secs_in_hour)\n",
    "minutes, rest_secs = divmod(rest_secs, secs_in_minute)\n",
    "\n",
    "message = \"%d segundos son %d año(s), %d mes(es), %d día(s), %d hora(s), %d minuto(s) y %d segundo(s).\" % (input_secs, years, months, days, hours, minutes, rest_secs)\n",
    "\n",
    "# Output\n",
    "print(message)\n"
   ]
  }
 ],
 "metadata": {
  "anaconda-cloud": {},
  "celltoolbar": "Slideshow",
  "kernelspec": {
   "display_name": "Python 3",
   "language": "python",
   "name": "python3"
  },
  "language_info": {
   "codemirror_mode": {
    "name": "ipython",
    "version": 3
   },
   "file_extension": ".py",
   "mimetype": "text/x-python",
   "name": "python",
   "nbconvert_exporter": "python",
   "pygments_lexer": "ipython3",
   "version": "3.6.3"
  },
  "livereveal": {
   "scroll": true,
   "start_slideshow_at": "selected"
  }
 },
 "nbformat": 4,
 "nbformat_minor": 2
}
