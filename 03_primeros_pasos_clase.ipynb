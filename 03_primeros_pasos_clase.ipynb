{
 "cells": [
  {
   "cell_type": "markdown",
   "metadata": {
    "slideshow": {
     "slide_type": "slide"
    }
   },
   "source": [
    "# Primeros pasos en Python\n",
    "\n",
    "<img src=\"https://www.python.org/static/img/python-logo.png\" alt=\"yogen\" style=\"width: 200px; float: right;\"/>\n",
    "<br>\n",
    "<br>\n",
    "<br>\n",
    "<a href = \"http://yogen.io\"><img src=\"http://yogen.io/assets/logo.svg\" alt=\"yogen\" style=\"width: 200px; float: right;\"/></a>"
   ]
  },
  {
   "cell_type": "markdown",
   "metadata": {
    "slideshow": {
     "slide_type": "slide"
    }
   },
   "source": [
    "# Objetivo \n",
    "\n",
    "Ejecutar nuestros primeros comandos en Python"
   ]
  },
  {
   "cell_type": "markdown",
   "metadata": {
    "slideshow": {
     "slide_type": "slide"
    }
   },
   "source": [
    "# Operaciones aritméticas \n",
    "\n",
    "Es sencillo usar Python como una calculadora:"
   ]
  },
  {
   "cell_type": "markdown",
   "metadata": {
    "slideshow": {
     "slide_type": "fragment"
    }
   },
   "source": [
    "Operadores aritméticos\n",
    "\n",
    "  |Operador         | Símbolo | Ejemplo  |\n",
    "  |---------------- |---------| ---------|\n",
    "  |Suma             |    +    | 2+3      |\n",
    "  |Resta            |    -    | 5-4      |\n",
    "  |Multiplicación   |   \\*    | 6\\*5     |\n",
    "  |División         |    /    | 60/4     |\n",
    "  |Potencia         |  \\*\\*   | 4\\*\\*3   |\n",
    "\n",
    "Vamos a probar a hacer algunas operaciones en las celdas del\n",
    "*notebook*."
   ]
  },
  {
   "cell_type": "code",
   "execution_count": 7,
   "metadata": {},
   "outputs": [
    {
     "data": {
      "text/plain": [
       "9"
      ]
     },
     "execution_count": 7,
     "metadata": {},
     "output_type": "execute_result"
    }
   ],
   "source": [
    "3**2"
   ]
  },
  {
   "cell_type": "markdown",
   "metadata": {},
   "source": [
    "Hay distintas maneras de escribir un _literal_ numérico:"
   ]
  },
  {
   "cell_type": "code",
   "execution_count": 12,
   "metadata": {},
   "outputs": [
    {
     "data": {
      "text/plain": [
       "180000.0"
      ]
     },
     "execution_count": 12,
     "metadata": {},
     "output_type": "execute_result"
    }
   ],
   "source": [
    "#Otra manera de escribir números.\n",
    "1.8e5"
   ]
  },
  {
   "cell_type": "markdown",
   "metadata": {
    "slideshow": {
     "slide_type": "slide"
    }
   },
   "source": [
    "# Variables "
   ]
  },
  {
   "cell_type": "markdown",
   "metadata": {
    "slideshow": {
     "slide_type": "fragment"
    }
   },
   "source": [
    "- Todos los cálculos en Python se guardan en alguna variable. Si no\n",
    "  indicamos nada, se guarda en la variable _.\n",
    "    \n",
    "- La operación que consiste en guardar un valor en una variable es la _asignación_. Se representa por el signo ="
   ]
  },
  {
   "cell_type": "code",
   "execution_count": 13,
   "metadata": {
    "collapsed": true
   },
   "outputs": [],
   "source": [
    "a=5"
   ]
  },
  {
   "cell_type": "code",
   "execution_count": 14,
   "metadata": {},
   "outputs": [
    {
     "data": {
      "text/plain": [
       "5"
      ]
     },
     "execution_count": 14,
     "metadata": {},
     "output_type": "execute_result"
    }
   ],
   "source": [
    "a"
   ]
  },
  {
   "cell_type": "markdown",
   "metadata": {},
   "source": [
    "En una asignación, el intérprete primero evalúa lo que está a la derecha del signo = y por último guarda el resultado de esa evaluación en la variable"
   ]
  },
  {
   "cell_type": "code",
   "execution_count": 15,
   "metadata": {},
   "outputs": [
    {
     "name": "stdout",
     "output_type": "stream",
     "text": [
      "6\n"
     ]
    }
   ],
   "source": [
    "b=2*3\n",
    "print(b)"
   ]
  },
  {
   "cell_type": "code",
   "execution_count": 16,
   "metadata": {},
   "outputs": [
    {
     "name": "stdout",
     "output_type": "stream",
     "text": [
      "5 6 11\n"
     ]
    }
   ],
   "source": [
    "c=a+b\n",
    "print(a,b,c)"
   ]
  },
  {
   "cell_type": "markdown",
   "metadata": {},
   "source": [
    "Ipython, además de \\_, ofrece \\_\\_ y \\_\\_\\_. Contienen respectivamente el valor de retorno penúltimo y antepenúltimo."
   ]
  },
  {
   "cell_type": "code",
   "execution_count": 20,
   "metadata": {},
   "outputs": [
    {
     "name": "stdout",
     "output_type": "stream",
     "text": [
      "5 5 5\n"
     ]
    }
   ],
   "source": [
    "print(_,__,___)"
   ]
  },
  {
   "cell_type": "code",
   "execution_count": 21,
   "metadata": {},
   "outputs": [
    {
     "ename": "NameError",
     "evalue": "name 'my' is not defined",
     "output_type": "error",
     "traceback": [
      "\u001b[1;31m---------------------------------------------------------------------------\u001b[0m",
      "\u001b[1;31mNameError\u001b[0m                                 Traceback (most recent call last)",
      "\u001b[1;32m<ipython-input-21-b32c81461c58>\u001b[0m in \u001b[0;36m<module>\u001b[1;34m()\u001b[0m\n\u001b[1;32m----> 1\u001b[1;33m \u001b[0mmy\u001b[0m\u001b[1;33m\u001b[0m\u001b[0m\n\u001b[0m",
      "\u001b[1;31mNameError\u001b[0m: name 'my' is not defined"
     ]
    }
   ],
   "source": [
    "my"
   ]
  },
  {
   "cell_type": "markdown",
   "metadata": {
    "slideshow": {
     "slide_type": "fragment"
    }
   },
   "source": [
    "-   Las variables son parecidas a las variables en Matemáticas, pero\n",
    "    tienen además *tipo*. Es decir, una variable tiene:\n",
    "\n",
    "    -   Valor\n",
    "\n",
    "    -   Tipo de dato"
   ]
  },
  {
   "cell_type": "markdown",
   "metadata": {},
   "source": [
    "Además de las variables que definimos nosotros hay variables predefinidas, como por ejemplo `pi` en el módulo `math`"
   ]
  },
  {
   "cell_type": "code",
   "execution_count": 22,
   "metadata": {},
   "outputs": [
    {
     "data": {
      "text/plain": [
       "int"
      ]
     },
     "execution_count": 22,
     "metadata": {},
     "output_type": "execute_result"
    }
   ],
   "source": [
    "#Para ver el tipo de variable\n",
    "type(c)"
   ]
  },
  {
   "cell_type": "code",
   "execution_count": 25,
   "metadata": {},
   "outputs": [
    {
     "data": {
      "text/plain": [
       "3.141592653589793"
      ]
     },
     "execution_count": 25,
     "metadata": {},
     "output_type": "execute_result"
    }
   ],
   "source": [
    "import math\n",
    "math.pi"
   ]
  },
  {
   "cell_type": "markdown",
   "metadata": {
    "slideshow": {
     "slide_type": "fragment"
    }
   },
   "source": [
    "-   Las variables nos permiten reutilizar los resultados de operaciones\n",
    "    matemáticas, y simplifican el diseño de un programa."
   ]
  },
  {
   "cell_type": "markdown",
   "metadata": {
    "slideshow": {
     "slide_type": "slide"
    }
   },
   "source": [
    "## ¿Qué podemos guardar en una variable?\n",
    "\n",
    "Tipos de datos elementales\n",
    "\n",
    "-   Números enteros (con signo y sin signo)\n",
    "\n",
    "-   Números en coma flotante (números con decimales)\n",
    "\n",
    "-   Cadenas de texto\n",
    "\n",
    "-   Valores lógicos"
   ]
  },
  {
   "cell_type": "markdown",
   "metadata": {
    "slideshow": {
     "slide_type": "slide"
    }
   },
   "source": [
    "## ¿Qué podemos guardar en una variable?\n",
    "\n",
    "Estructuras de datos\n",
    "\n",
    "-   Listas\n",
    "\n",
    "-   Tuplas\n",
    "\n",
    "-   Diccionarios\n",
    "\n",
    "-   Otras estructuras"
   ]
  },
  {
   "cell_type": "markdown",
   "metadata": {
    "slideshow": {
     "slide_type": "slide"
    }
   },
   "source": [
    "## Ejemplo\n",
    "\n",
    "Ejemplo de números"
   ]
  },
  {
   "cell_type": "code",
   "execution_count": 31,
   "metadata": {
    "collapsed": true
   },
   "outputs": [],
   "source": [
    "my_name='Dani'"
   ]
  },
  {
   "cell_type": "code",
   "execution_count": 32,
   "metadata": {},
   "outputs": [
    {
     "data": {
      "text/plain": [
       "'Dani'"
      ]
     },
     "execution_count": 32,
     "metadata": {},
     "output_type": "execute_result"
    }
   ],
   "source": [
    "my_name"
   ]
  },
  {
   "cell_type": "markdown",
   "metadata": {
    "slideshow": {
     "slide_type": "fragment"
    }
   },
   "source": [
    "Pregunta ¿De qué tipo son las variables del código de\n",
    "arriba? ¿Se puede cambiar el contenido de una variable? ¿Y el tipo?"
   ]
  },
  {
   "cell_type": "markdown",
   "metadata": {
    "slideshow": {
     "slide_type": "slide"
    }
   },
   "source": [
    "## Ejemplos\n",
    "\n",
    "Ejemplos de texto"
   ]
  },
  {
   "cell_type": "code",
   "execution_count": null,
   "metadata": {
    "collapsed": true
   },
   "outputs": [],
   "source": []
  },
  {
   "cell_type": "markdown",
   "metadata": {
    "slideshow": {
     "slide_type": "fragment"
    }
   },
   "source": [
    "Valores lógicos"
   ]
  },
  {
   "cell_type": "code",
   "execution_count": 33,
   "metadata": {},
   "outputs": [
    {
     "data": {
      "text/plain": [
       "True"
      ]
     },
     "execution_count": 33,
     "metadata": {},
     "output_type": "execute_result"
    }
   ],
   "source": [
    "#Hay dos, True o False\n",
    "True"
   ]
  },
  {
   "cell_type": "code",
   "execution_count": 34,
   "metadata": {},
   "outputs": [
    {
     "data": {
      "text/plain": [
       "False"
      ]
     },
     "execution_count": 34,
     "metadata": {},
     "output_type": "execute_result"
    }
   ],
   "source": [
    "False"
   ]
  },
  {
   "cell_type": "code",
   "execution_count": 46,
   "metadata": {},
   "outputs": [
    {
     "data": {
      "text/plain": [
       "bool"
      ]
     },
     "execution_count": 46,
     "metadata": {},
     "output_type": "execute_result"
    }
   ],
   "source": [
    "is_it_friday=False\n",
    "is_it_friday\n",
    "type(is_it_friday)"
   ]
  },
  {
   "cell_type": "markdown",
   "metadata": {
    "slideshow": {
     "slide_type": "fragment"
    }
   },
   "source": [
    "Listas"
   ]
  },
  {
   "cell_type": "code",
   "execution_count": 45,
   "metadata": {},
   "outputs": [
    {
     "data": {
      "text/plain": [
       "[12, 4, 5]"
      ]
     },
     "execution_count": 45,
     "metadata": {},
     "output_type": "execute_result"
    }
   ],
   "source": [
    "#Las listas se denominan con Corchetes []\n",
    "\n",
    "my_first_list=[12,4,5]\n",
    "my_first_list"
   ]
  },
  {
   "cell_type": "markdown",
   "metadata": {
    "slideshow": {
     "slide_type": "slide"
    }
   },
   "source": [
    "## Ejemplos\n",
    "\n",
    "Tuplas"
   ]
  },
  {
   "cell_type": "code",
   "execution_count": 44,
   "metadata": {},
   "outputs": [
    {
     "data": {
      "text/plain": [
       "(58, 3, 'asd')"
      ]
     },
     "execution_count": 44,
     "metadata": {},
     "output_type": "execute_result"
    }
   ],
   "source": [
    "#Se denotan con paréntesis ()\n",
    "my_first_tupla=(58,3,'asd')\n",
    "my_first_tupla"
   ]
  },
  {
   "cell_type": "markdown",
   "metadata": {
    "slideshow": {
     "slide_type": "fragment"
    }
   },
   "source": [
    "Notación científica"
   ]
  },
  {
   "cell_type": "code",
   "execution_count": 43,
   "metadata": {},
   "outputs": [
    {
     "data": {
      "text/plain": [
       "6.022e-23"
      ]
     },
     "execution_count": 43,
     "metadata": {},
     "output_type": "execute_result"
    }
   ],
   "source": [
    "avogadros_number=6.022e-23\n",
    "avogadros_number"
   ]
  },
  {
   "cell_type": "markdown",
   "metadata": {
    "slideshow": {
     "slide_type": "slide"
    }
   },
   "source": [
    "### Inciso: la diferencia entre `print` y el _valor de retorno_\n",
    "\n",
    "Una de las maneras en que IPython difiere del intérprete estándar con la intención de facilitar la exploración de datos es que nos muestra la salida (_el valor de retorno_) de la última expresión de una celda. \n",
    "\n",
    "En un programa Python, esto no se mostraría; de hecho, no existe el concepto de celdas.\n",
    "\n",
    "Si queremos asegurarnos de que un valor se muestra por pantalla, o mostrar más de un valor por celda, tendremos que usar el comando `print`."
   ]
  },
  {
   "cell_type": "code",
   "execution_count": 47,
   "metadata": {},
   "outputs": [
    {
     "name": "stdout",
     "output_type": "stream",
     "text": [
      "Hello World!\n"
     ]
    }
   ],
   "source": [
    "#Con print no hay valor de retorno\n",
    "print('Hello World!')"
   ]
  },
  {
   "cell_type": "code",
   "execution_count": 48,
   "metadata": {},
   "outputs": [
    {
     "name": "stdout",
     "output_type": "stream",
     "text": [
      "Hello World!\n",
      "None\n"
     ]
    }
   ],
   "source": [
    "x=print('Hello World!')\n",
    "#La variable x no tiene ningún valor\n",
    "print(x)"
   ]
  },
  {
   "cell_type": "markdown",
   "metadata": {
    "slideshow": {
     "slide_type": "slide"
    }
   },
   "source": [
    "## Ejemplos\n",
    "\n",
    "### Listas y tuplas pueden ser heterogéneas\n",
    "\n",
    "Listas"
   ]
  },
  {
   "cell_type": "code",
   "execution_count": 49,
   "metadata": {},
   "outputs": [
    {
     "data": {
      "text/plain": [
       "[1, 3.4, 'a string', <module 'math' (built-in)>]"
      ]
     },
     "execution_count": 49,
     "metadata": {},
     "output_type": "execute_result"
    }
   ],
   "source": [
    "[1, 3.4, 'a string', math]"
   ]
  },
  {
   "cell_type": "markdown",
   "metadata": {
    "slideshow": {
     "slide_type": "fragment"
    }
   },
   "source": [
    "Tuplas"
   ]
  },
  {
   "cell_type": "code",
   "execution_count": 50,
   "metadata": {},
   "outputs": [
    {
     "data": {
      "text/plain": [
       "(4, 5, 1.2)"
      ]
     },
     "execution_count": 50,
     "metadata": {},
     "output_type": "execute_result"
    }
   ],
   "source": [
    "(4, 5, 1.2)"
   ]
  },
  {
   "cell_type": "markdown",
   "metadata": {
    "slideshow": {
     "slide_type": "fragment"
    }
   },
   "source": [
    "Pregunta ¿Se pueden hacer tuplas de listas? ¿Y listas de\n",
    "tuplas?"
   ]
  },
  {
   "cell_type": "markdown",
   "metadata": {},
   "source": [
    "#### Ejercicio:\n",
    "\n",
    "Haz una lista de 3 tuplas de 2 elementos cada una\n",
    "\n"
   ]
  },
  {
   "cell_type": "code",
   "execution_count": 51,
   "metadata": {},
   "outputs": [
    {
     "data": {
      "text/plain": [
       "[(1, 2), ('Hello', 'By'), (True, False)]"
      ]
     },
     "execution_count": 51,
     "metadata": {},
     "output_type": "execute_result"
    }
   ],
   "source": [
    "[(1,2),('Hello','By'),(True,False)]"
   ]
  },
  {
   "cell_type": "markdown",
   "metadata": {
    "slideshow": {
     "slide_type": "slide"
    }
   },
   "source": [
    "## Variables especiales\n",
    "\n",
    "Variables especiales\n",
    "\n",
    "`None` representa la nada."
   ]
  },
  {
   "cell_type": "code",
   "execution_count": 54,
   "metadata": {
    "collapsed": true
   },
   "outputs": [],
   "source": [
    "#creamos una variable con valor nulo\n",
    "my_car=None"
   ]
  },
  {
   "cell_type": "markdown",
   "metadata": {
    "slideshow": {
     "slide_type": "slide"
    }
   },
   "source": [
    "## Otros comandos para visualizar variables\n",
    "\n",
    "-   El comando type(v) te dice el tipo de una variable\n",
    "\n",
    "-   El comando help(v) te muestra la ayuda sobre la\n",
    "    variable/elemento v"
   ]
  },
  {
   "cell_type": "code",
   "execution_count": 55,
   "metadata": {},
   "outputs": [
    {
     "name": "stdout",
     "output_type": "stream",
     "text": [
      "Help on list object:\n",
      "\n",
      "class list(object)\n",
      " |  list() -> new empty list\n",
      " |  list(iterable) -> new list initialized from iterable's items\n",
      " |  \n",
      " |  Methods defined here:\n",
      " |  \n",
      " |  __add__(self, value, /)\n",
      " |      Return self+value.\n",
      " |  \n",
      " |  __contains__(self, key, /)\n",
      " |      Return key in self.\n",
      " |  \n",
      " |  __delitem__(self, key, /)\n",
      " |      Delete self[key].\n",
      " |  \n",
      " |  __eq__(self, value, /)\n",
      " |      Return self==value.\n",
      " |  \n",
      " |  __ge__(self, value, /)\n",
      " |      Return self>=value.\n",
      " |  \n",
      " |  __getattribute__(self, name, /)\n",
      " |      Return getattr(self, name).\n",
      " |  \n",
      " |  __getitem__(...)\n",
      " |      x.__getitem__(y) <==> x[y]\n",
      " |  \n",
      " |  __gt__(self, value, /)\n",
      " |      Return self>value.\n",
      " |  \n",
      " |  __iadd__(self, value, /)\n",
      " |      Implement self+=value.\n",
      " |  \n",
      " |  __imul__(self, value, /)\n",
      " |      Implement self*=value.\n",
      " |  \n",
      " |  __init__(self, /, *args, **kwargs)\n",
      " |      Initialize self.  See help(type(self)) for accurate signature.\n",
      " |  \n",
      " |  __iter__(self, /)\n",
      " |      Implement iter(self).\n",
      " |  \n",
      " |  __le__(self, value, /)\n",
      " |      Return self<=value.\n",
      " |  \n",
      " |  __len__(self, /)\n",
      " |      Return len(self).\n",
      " |  \n",
      " |  __lt__(self, value, /)\n",
      " |      Return self<value.\n",
      " |  \n",
      " |  __mul__(self, value, /)\n",
      " |      Return self*value.n\n",
      " |  \n",
      " |  __ne__(self, value, /)\n",
      " |      Return self!=value.\n",
      " |  \n",
      " |  __new__(*args, **kwargs) from builtins.type\n",
      " |      Create and return a new object.  See help(type) for accurate signature.\n",
      " |  \n",
      " |  __repr__(self, /)\n",
      " |      Return repr(self).\n",
      " |  \n",
      " |  __reversed__(...)\n",
      " |      L.__reversed__() -- return a reverse iterator over the list\n",
      " |  \n",
      " |  __rmul__(self, value, /)\n",
      " |      Return self*value.\n",
      " |  \n",
      " |  __setitem__(self, key, value, /)\n",
      " |      Set self[key] to value.\n",
      " |  \n",
      " |  __sizeof__(...)\n",
      " |      L.__sizeof__() -- size of L in memory, in bytes\n",
      " |  \n",
      " |  append(...)\n",
      " |      L.append(object) -> None -- append object to end\n",
      " |  \n",
      " |  clear(...)\n",
      " |      L.clear() -> None -- remove all items from L\n",
      " |  \n",
      " |  copy(...)\n",
      " |      L.copy() -> list -- a shallow copy of L\n",
      " |  \n",
      " |  count(...)\n",
      " |      L.count(value) -> integer -- return number of occurrences of value\n",
      " |  \n",
      " |  extend(...)\n",
      " |      L.extend(iterable) -> None -- extend list by appending elements from the iterable\n",
      " |  \n",
      " |  index(...)\n",
      " |      L.index(value, [start, [stop]]) -> integer -- return first index of value.\n",
      " |      Raises ValueError if the value is not present.\n",
      " |  \n",
      " |  insert(...)\n",
      " |      L.insert(index, object) -- insert object before index\n",
      " |  \n",
      " |  pop(...)\n",
      " |      L.pop([index]) -> item -- remove and return item at index (default last).\n",
      " |      Raises IndexError if list is empty or index is out of range.\n",
      " |  \n",
      " |  remove(...)\n",
      " |      L.remove(value) -> None -- remove first occurrence of value.\n",
      " |      Raises ValueError if the value is not present.\n",
      " |  \n",
      " |  reverse(...)\n",
      " |      L.reverse() -- reverse *IN PLACE*\n",
      " |  \n",
      " |  sort(...)\n",
      " |      L.sort(key=None, reverse=False) -> None -- stable sort *IN PLACE*\n",
      " |  \n",
      " |  ----------------------------------------------------------------------\n",
      " |  Data and other attributes defined here:\n",
      " |  \n",
      " |  __hash__ = None\n",
      "\n"
     ]
    }
   ],
   "source": [
    "help(my_first_list)"
   ]
  },
  {
   "cell_type": "code",
   "execution_count": 57,
   "metadata": {},
   "outputs": [
    {
     "name": "stdout",
     "output_type": "stream",
     "text": [
      "Help on built-in function sorted in module builtins:\n",
      "\n",
      "sorted(iterable, /, *, key=None, reverse=False)\n",
      "    Return a new list containing all items from the iterable in ascending order.\n",
      "    \n",
      "    A custom key function can be supplied to customize the sort order, and the\n",
      "    reverse flag can be set to request the result in descending order.\n",
      "\n"
     ]
    }
   ],
   "source": [
    "#Nos dice como usar la función sorted\n",
    "help(sorted)"
   ]
  },
  {
   "cell_type": "markdown",
   "metadata": {
    "slideshow": {
     "slide_type": "slide"
    }
   },
   "source": [
    "## Borrar variables del espacio de trabajo\n",
    "\n",
    "Comando `del`\n",
    "\n",
    "-   `del(v)` borra la variable de nombre `v`.\n",
    "\n",
    "-   Puede ser útil para borrar variables muy grandes que ya no\n",
    "    necesitamos, sobre todo cuando estemos realizando análisis de datos."
   ]
  },
  {
   "cell_type": "code",
   "execution_count": 58,
   "metadata": {},
   "outputs": [
    {
     "ename": "NameError",
     "evalue": "name 'a' is not defined",
     "output_type": "error",
     "traceback": [
      "\u001b[1;31m---------------------------------------------------------------------------\u001b[0m",
      "\u001b[1;31mNameError\u001b[0m                                 Traceback (most recent call last)",
      "\u001b[1;32m<ipython-input-58-19194c366443>\u001b[0m in \u001b[0;36m<module>\u001b[1;34m()\u001b[0m\n\u001b[0;32m      1\u001b[0m \u001b[1;32mdel\u001b[0m\u001b[1;33m(\u001b[0m\u001b[0ma\u001b[0m\u001b[1;33m)\u001b[0m\u001b[1;33m\u001b[0m\u001b[0m\n\u001b[1;32m----> 2\u001b[1;33m \u001b[0mprint\u001b[0m\u001b[1;33m(\u001b[0m\u001b[0ma\u001b[0m\u001b[1;33m)\u001b[0m\u001b[1;33m\u001b[0m\u001b[0m\n\u001b[0m",
      "\u001b[1;31mNameError\u001b[0m: name 'a' is not defined"
     ]
    }
   ],
   "source": [
    "del(a)\n",
    "print(a)"
   ]
  },
  {
   "cell_type": "markdown",
   "metadata": {},
   "source": [
    "Éste error es el mismo que si nunca hubiéramos definido `a`:"
   ]
  },
  {
   "cell_type": "markdown",
   "metadata": {
    "slideshow": {
     "slide_type": "fragment"
    }
   },
   "source": [
    "## Espacio de trabajo\n",
    "\n",
    "- El *notebook* tiene diferentes opciones para limpiar el\n",
    "    espacio de trabajo, reiniciar el *kernel* de\n",
    "    *IPython*\n",
    "\n",
    "- Esto será útil cuando estemos realizando sesiones de análisis de\n",
    "    datos\n",
    "    \n",
    "- Es muy recomendable, antes de guardar o compartir un notebook, reiniciar el kernel y correr todas las celdas tal cual están. Así nos aseguramos de que nuestro código produce el resultado que esperamos en su estado actual."
   ]
  },
  {
   "cell_type": "code",
   "execution_count": 59,
   "metadata": {
    "collapsed": true
   },
   "outputs": [],
   "source": [
    "#Recomendable reinicar el Kernel. En el menú Kernel --> Restart and Run All\n",
    "#En el caso de bucle infinito o bloqueo Kernel --> Interrupt"
   ]
  },
  {
   "cell_type": "markdown",
   "metadata": {
    "slideshow": {
     "slide_type": "slide"
    }
   },
   "source": [
    "## ¿Qué ocurre si hacemos una operación ilegal?\n",
    "\n",
    "### Operaciones sin resultados\n",
    "\n",
    "¿Cuál es el resultado de $7/0$? ¿Y de $0/0$?"
   ]
  },
  {
   "cell_type": "code",
   "execution_count": 60,
   "metadata": {},
   "outputs": [
    {
     "ename": "ZeroDivisionError",
     "evalue": "division by zero",
     "output_type": "error",
     "traceback": [
      "\u001b[1;31m---------------------------------------------------------------------------\u001b[0m",
      "\u001b[1;31mZeroDivisionError\u001b[0m                         Traceback (most recent call last)",
      "\u001b[1;32m<ipython-input-60-105373b3adad>\u001b[0m in \u001b[0;36m<module>\u001b[1;34m()\u001b[0m\n\u001b[1;32m----> 1\u001b[1;33m \u001b[1;36m7\u001b[0m\u001b[1;33m/\u001b[0m\u001b[1;36m0\u001b[0m\u001b[1;33m\u001b[0m\u001b[0m\n\u001b[0m",
      "\u001b[1;31mZeroDivisionError\u001b[0m: division by zero"
     ]
    }
   ],
   "source": [
    "7/0"
   ]
  },
  {
   "cell_type": "markdown",
   "metadata": {
    "slideshow": {
     "slide_type": "slide"
    }
   },
   "source": [
    "### Excepciones\n",
    "\n",
    "Cuando el ordenador no puede realizar una operación, lanza una **excepción**\n",
    "\n",
    "Podemos manejar las excepciones en nuestros programas, para reaccionar a los errores\n",
    "\n",
    "Los errores al ejecutar un programa son algo **totalmente natural**. Es normal tener que hacer varios intentos hasta que tengamos nuestros programas listos\n",
    "\n",
    "-   Y aún en esos casos, más tarde descubriremos que nuestros programas tenían errores que no habíamos descubierto.\n",
    "\n",
    "Usa el ordenador para mejorar tus programas. Los errores son la ayuda que el ordenador te ofrece para mejorar tu programa."
   ]
  },
  {
   "cell_type": "markdown",
   "metadata": {
    "slideshow": {
     "slide_type": "slide"
    }
   },
   "source": [
    "# Elementos de un lenguaje de programación \n",
    "\n",
    "Existen muchos lenguajes de programación, y de muchos tipos diferentes\n",
    "\n",
    "-   http://es.wikipedia.org/wiki/Lista_de_lenguajes_de_programación\n",
    "\n",
    "Un lenguaje de programación tiene tres elementos principales, que son\n",
    "diferentes en cada lenguaje en concreto:\n",
    "\n",
    "-   Sintaxis\n",
    "\n",
    "-   Semántica\n",
    "\n",
    "-   Tipos de datos"
   ]
  },
  {
   "cell_type": "markdown",
   "metadata": {
    "slideshow": {
     "slide_type": "slide"
    }
   },
   "source": [
    "## Errores al programar\n",
    "\n",
    "El proceso de programación es propenso a errores. Los errores pueden ser causados por una **sintaxis incorrecta**, una  **semántica incorrecta** o por el **tipo de datos incorrecto**."
   ]
  },
  {
   "cell_type": "markdown",
   "metadata": {
    "slideshow": {
     "slide_type": "slide"
    }
   },
   "source": [
    "## Sintaxis del lenguaje de programación\n",
    "\n",
    "-   La sintaxis define cómo se escribe un programa en el lenguaje de\n",
    "    programación (qué símbolos hay que usar, en qué orden, etc).\n",
    "\n",
    "-   Cuando leemos evaluaciones y preferencias sobre lenguajes de\n",
    "    programación, la sintaxis suele ser una de las características\n",
    "    principales que se tienen en cuenta."
   ]
  },
  {
   "cell_type": "markdown",
   "metadata": {
    "slideshow": {
     "slide_type": "slide"
    }
   },
   "source": [
    "## Sintaxis del lenguaje de programación\n",
    "\n",
    "El mismo programa en lenguajes con diferente sintaxis\n",
    "\n",
    "**Lenguaje MATLAB**\n",
    "\n",
    "```matlab\n",
    "for k = 1:10\n",
    "    disp(k);\n",
    "end\n",
    "```\n",
    "**Lenguaje Python**\n",
    "\n",
    "```python \n",
    "for k in range(1,11):\n",
    "    print (k)\n",
    "```"
   ]
  },
  {
   "cell_type": "markdown",
   "metadata": {
    "slideshow": {
     "slide_type": "slide"
    }
   },
   "source": [
    "## Semántica del lenguaje de programación\n",
    "\n",
    "-   Asigna significado a las expresiones escritas en el programa.\n",
    "\n",
    "-   Cada lenguaje tiene unas reglas que asignan significado a\n",
    "    cada expresión."
   ]
  },
  {
   "cell_type": "markdown",
   "metadata": {
    "slideshow": {
     "slide_type": "fragment"
    }
   },
   "source": [
    "Mismos ejemplos que en la transparencia anterior\n",
    "\n",
    "-   La semántica es la misma en ambos casos, ya que ambos programas\n",
    "    hacen lo mismo.\n",
    "\n",
    "-   El programa repite el comando 10 veces, y muestra el valor de k en\n",
    "    cada iteración en la pantalla (números del 1 al 10)."
   ]
  },
  {
   "cell_type": "markdown",
   "metadata": {
    "slideshow": {
     "slide_type": "slide"
    }
   },
   "source": [
    "## Tipos de datos\n",
    "\n",
    "Tipos en lenguajes de programación\n",
    "\n",
    "Los lenguajes de programación tienen diferentes tipos de datos.\n",
    "\n",
    "-   Enteros, números en coma flotante, matrices, texto, etc\n",
    "\n",
    "Los números con decimales son una **aproximación** de los números reales\n",
    "\n",
    "-   Se denominan **números en coma flotante**"
   ]
  },
  {
   "cell_type": "markdown",
   "metadata": {
    "slideshow": {
     "slide_type": "slide"
    }
   },
   "source": [
    "## Tipos en Python\n",
    "\n",
    "El lenguaje Python es de tipado **dinámico**\n",
    "\n",
    "-   Las variables pueden cambiar de tipo además de valor.\n",
    "\n",
    "Es también de tipado **fuerte**\n",
    "\n",
    "-   Si no usamos el tipo correcto, se producirá un error\n",
    "\n",
    "-   No hay conversón automática de tipos"
   ]
  },
  {
   "cell_type": "markdown",
   "metadata": {
    "slideshow": {
     "slide_type": "slide"
    }
   },
   "source": [
    "## Errores al programar\n",
    "\n",
    "Es habitual cometer errores en el proceso de programación. Los errores pueden ser:\n",
    "\n",
    "-   De sintaxis.\n",
    "\n",
    "-   Semánticos.\n",
    "\n",
    "-   Por tipos de datos."
   ]
  },
  {
   "cell_type": "markdown",
   "metadata": {
    "slideshow": {
     "slide_type": "fragment"
    }
   },
   "source": [
    "El intérprete nos puede avisar solo de los errores de sintaxis y por tipo de datos.\n",
    "\n",
    "El error *semántico* se produce cuando el programa no hace lo que teníamos pensado. El intérprete no puede detectar la mayoría de estos errores, y por ello son los más difíciles de detectar."
   ]
  },
  {
   "cell_type": "markdown",
   "metadata": {
    "slideshow": {
     "slide_type": "slide"
    }
   },
   "source": [
    "## Ejemplos de error de sintaxis\n",
    "\n",
    "No cerrar las comillas de texto"
   ]
  },
  {
   "cell_type": "code",
   "execution_count": 61,
   "metadata": {},
   "outputs": [
    {
     "ename": "SyntaxError",
     "evalue": "EOL while scanning string literal (<ipython-input-61-3fef3e130045>, line 1)",
     "output_type": "error",
     "traceback": [
      "\u001b[1;36m  File \u001b[1;32m\"<ipython-input-61-3fef3e130045>\"\u001b[1;36m, line \u001b[1;32m1\u001b[0m\n\u001b[1;33m    a='un error muy obvio es\u001b[0m\n\u001b[1;37m                            ^\u001b[0m\n\u001b[1;31mSyntaxError\u001b[0m\u001b[1;31m:\u001b[0m EOL while scanning string literal\n"
     ]
    }
   ],
   "source": [
    "a='un error muy obvio es"
   ]
  },
  {
   "cell_type": "markdown",
   "metadata": {
    "slideshow": {
     "slide_type": "fragment"
    }
   },
   "source": [
    "Usar el símbolo incorrecto"
   ]
  },
  {
   "cell_type": "code",
   "execution_count": 62,
   "metadata": {},
   "outputs": [
    {
     "data": {
      "text/plain": [
       "12"
      ]
     },
     "execution_count": 62,
     "metadata": {},
     "output_type": "execute_result"
    }
   ],
   "source": [
    "#Para extraer el primer elemento de una lista\n",
    "my_first_list[0]"
   ]
  },
  {
   "cell_type": "code",
   "execution_count": 64,
   "metadata": {},
   "outputs": [
    {
     "ename": "SyntaxError",
     "evalue": "invalid syntax (<ipython-input-64-c08f45041477>, line 2)",
     "output_type": "error",
     "traceback": [
      "\u001b[1;36m  File \u001b[1;32m\"<ipython-input-64-c08f45041477>\"\u001b[1;36m, line \u001b[1;32m2\u001b[0m\n\u001b[1;33m    my_first_list{0}\u001b[0m\n\u001b[1;37m                 ^\u001b[0m\n\u001b[1;31mSyntaxError\u001b[0m\u001b[1;31m:\u001b[0m invalid syntax\n"
     ]
    }
   ],
   "source": [
    "#Tiene que ser entre corchetes, entre paréntesis o llaves da error\n",
    "my_first_list{0}"
   ]
  },
  {
   "cell_type": "code",
   "execution_count": null,
   "metadata": {
    "collapsed": true
   },
   "outputs": [],
   "source": []
  },
  {
   "cell_type": "markdown",
   "metadata": {
    "slideshow": {
     "slide_type": "slide"
    }
   },
   "source": [
    "## Ejemplos de errores semánticos\n",
    "\n",
    "Usar un índice demasiado grande en una lista"
   ]
  },
  {
   "cell_type": "code",
   "execution_count": 65,
   "metadata": {
    "collapsed": true
   },
   "outputs": [],
   "source": [
    "five_element_list = ['a', 'b', 'c', 'd', 'e']"
   ]
  },
  {
   "cell_type": "code",
   "execution_count": 66,
   "metadata": {},
   "outputs": [
    {
     "data": {
      "text/plain": [
       "'a'"
      ]
     },
     "execution_count": 66,
     "metadata": {},
     "output_type": "execute_result"
    }
   ],
   "source": [
    "five_element_list[0]"
   ]
  },
  {
   "cell_type": "code",
   "execution_count": 67,
   "metadata": {},
   "outputs": [
    {
     "ename": "IndexError",
     "evalue": "list index out of range",
     "output_type": "error",
     "traceback": [
      "\u001b[1;31m---------------------------------------------------------------------------\u001b[0m",
      "\u001b[1;31mIndexError\u001b[0m                                Traceback (most recent call last)",
      "\u001b[1;32m<ipython-input-67-e74fa2c60c16>\u001b[0m in \u001b[0;36m<module>\u001b[1;34m()\u001b[0m\n\u001b[1;32m----> 1\u001b[1;33m \u001b[0mfive_element_list\u001b[0m\u001b[1;33m[\u001b[0m\u001b[1;36m5\u001b[0m\u001b[1;33m]\u001b[0m\u001b[1;33m\u001b[0m\u001b[0m\n\u001b[0m",
      "\u001b[1;31mIndexError\u001b[0m: list index out of range"
     ]
    }
   ],
   "source": [
    "five_element_list[5]"
   ]
  },
  {
   "cell_type": "markdown",
   "metadata": {
    "slideshow": {
     "slide_type": "fragment"
    }
   },
   "source": [
    "¿Por qué da error con el índice 5? Si la\n",
    "lista tiene 5 elementos, ¿por qué falla?"
   ]
  },
  {
   "cell_type": "markdown",
   "metadata": {
    "slideshow": {
     "slide_type": "slide"
    }
   },
   "source": [
    "## Error en los tipos de datos\n",
    "\n",
    "Pasar un tipo diferente al esperado"
   ]
  },
  {
   "cell_type": "code",
   "execution_count": 69,
   "metadata": {},
   "outputs": [
    {
     "ename": "TypeError",
     "evalue": "list indices must be integers or slices, not str",
     "output_type": "error",
     "traceback": [
      "\u001b[1;31m---------------------------------------------------------------------------\u001b[0m",
      "\u001b[1;31mTypeError\u001b[0m                                 Traceback (most recent call last)",
      "\u001b[1;32m<ipython-input-69-3fa8faae47b6>\u001b[0m in \u001b[0;36m<module>\u001b[1;34m()\u001b[0m\n\u001b[1;32m----> 1\u001b[1;33m \u001b[0mfive_element_list\u001b[0m\u001b[1;33m[\u001b[0m\u001b[1;34m'a'\u001b[0m\u001b[1;33m]\u001b[0m \u001b[1;31m#Le estamos diciendo que saque el elemento con índice a.\u001b[0m\u001b[1;33m\u001b[0m\u001b[0m\n\u001b[0m",
      "\u001b[1;31mTypeError\u001b[0m: list indices must be integers or slices, not str"
     ]
    }
   ],
   "source": [
    "five_element_list['a'] #Le estamos diciendo que saque el elemento con índice a."
   ]
  },
  {
   "cell_type": "markdown",
   "metadata": {
    "slideshow": {
     "slide_type": "slide"
    }
   },
   "source": [
    "## Nombres de variables "
   ]
  },
  {
   "cell_type": "markdown",
   "metadata": {
    "slideshow": {
     "slide_type": "fragment"
    }
   },
   "source": [
    "> There are only two hard things in Computer Science: cache invalidation and naming things.\n",
    "\n",
    "> Phil Karlton"
   ]
  },
  {
   "cell_type": "markdown",
   "metadata": {
    "slideshow": {
     "slide_type": "slide"
    }
   },
   "source": [
    "## Nombres de variables "
   ]
  },
  {
   "cell_type": "markdown",
   "metadata": {
    "slideshow": {
     "slide_type": "fragment"
    }
   },
   "source": [
    "Elegir los nombres adecuados es importante, porque:\n",
    "\n",
    "- Facilita la lectura del código\n",
    "\n",
    "- Evita errores en el programa"
   ]
  },
  {
   "cell_type": "code",
   "execution_count": null,
   "metadata": {
    "collapsed": true
   },
   "outputs": [],
   "source": [
    "z = a * x ** 2\n",
    "A = pi * r ** 2 #Las dos líneas son lo mismo, pero esta se entiende lo que se está calculando"
   ]
  },
  {
   "cell_type": "markdown",
   "metadata": {
    "slideshow": {
     "slide_type": "slide"
    }
   },
   "source": [
    "## Nombres de variables "
   ]
  },
  {
   "cell_type": "markdown",
   "metadata": {
    "slideshow": {
     "slide_type": "fragment"
    }
   },
   "source": [
    "Reglas para los nombres de variables\n",
    "\n",
    "-   No pueden contener ningún operador como parte del nombre\n",
    "\n",
    "-   No pueden empezar por un número.\n",
    "\n",
    "-   Pueden contener números y otros símbolos en el resto del nombre.\n",
    "\n",
    "-   Son sensibles a mayúsculas y minúsculas."
   ]
  },
  {
   "cell_type": "code",
   "execution_count": 71,
   "metadata": {},
   "outputs": [
    {
     "ename": "NameError",
     "evalue": "name 'a' is not defined",
     "output_type": "error",
     "traceback": [
      "\u001b[1;31m---------------------------------------------------------------------------\u001b[0m",
      "\u001b[1;31mNameError\u001b[0m                                 Traceback (most recent call last)",
      "\u001b[1;32m<ipython-input-71-1aabdc3f0018>\u001b[0m in \u001b[0;36m<module>\u001b[1;34m()\u001b[0m\n\u001b[1;32m----> 1\u001b[1;33m \u001b[0ma\u001b[0m\u001b[1;33m*=\u001b[0m\u001b[1;34m'this'\u001b[0m\u001b[1;33m\u001b[0m\u001b[0m\n\u001b[0m",
      "\u001b[1;31mNameError\u001b[0m: name 'a' is not defined"
     ]
    }
   ],
   "source": [
    "a*='this'"
   ]
  },
  {
   "cell_type": "markdown",
   "metadata": {},
   "source": [
    "Si intento usar nombre de variable con un operador, Python lo interpretará como dos nombres separados por el operador."
   ]
  },
  {
   "cell_type": "code",
   "execution_count": 72,
   "metadata": {},
   "outputs": [
    {
     "ename": "SyntaxError",
     "evalue": "invalid token (<ipython-input-72-a40534ca744d>, line 1)",
     "output_type": "error",
     "traceback": [
      "\u001b[1;36m  File \u001b[1;32m\"<ipython-input-72-a40534ca744d>\"\u001b[1;36m, line \u001b[1;32m1\u001b[0m\n\u001b[1;33m    el_+1_de_Laura='Jorge'\u001b[0m\n\u001b[1;37m         ^\u001b[0m\n\u001b[1;31mSyntaxError\u001b[0m\u001b[1;31m:\u001b[0m invalid token\n"
     ]
    }
   ],
   "source": [
    "el_+1_de_Laura='Jorge'"
   ]
  },
  {
   "cell_type": "markdown",
   "metadata": {
    "slideshow": {
     "slide_type": "slide"
    }
   },
   "source": [
    "## Nombres de variables "
   ]
  },
  {
   "cell_type": "markdown",
   "metadata": {
    "slideshow": {
     "slide_type": "fragment"
    }
   },
   "source": [
    "[Recomendaciones](https://www.python.org/dev/peps/pep-0008/#prescriptive-naming-conventions) para los nombres de variables:\n",
    "\n",
    "-   Los nombres deberían ser representativos del contenido de la\n",
    "    variable, cortos e intuitivos.\n",
    "\n",
    "-   Evitar usar nombres de una sola letra, en particular `l`, `O`, e `I`.\n",
    "\n",
    "-   Empezar siempre por minúscula\n",
    "\n",
    "-   En caso de tener más de una palabra, separarlas con guiones bajos: `total_provisional`"
   ]
  },
  {
   "cell_type": "markdown",
   "metadata": {
    "slideshow": {
     "slide_type": "slide"
    }
   },
   "source": [
    "# Prioridad de operadores \n",
    "\n",
    "Reglas de prioridad\n",
    "\n",
    "-   La prioridad funciona de manera similar a las reglas de la\n",
    "    aritmética que conocemos.\n",
    "\n",
    "-   Es mejor usar paréntesis para evitar situaciones dudosas"
   ]
  },
  {
   "cell_type": "markdown",
   "metadata": {
    "slideshow": {
     "slide_type": "slide"
    }
   },
   "source": [
    "# Prioridad de operadores \n",
    "\n",
    "### Elige la opción correcta \n",
    "\n",
    "Al ejecutar `7 * 3 + 4 / 2`, ¿en qué orden se hacen las operaciones?\n",
    "\n",
    "1.  `+ * /`\n",
    "\n",
    "2.   `* / +`\n",
    "\n",
    "3.  `/ * +`"
   ]
  },
  {
   "cell_type": "markdown",
   "metadata": {
    "slideshow": {
     "slide_type": "fragment"
    }
   },
   "source": [
    "La opción correcta es la 2."
   ]
  },
  {
   "cell_type": "markdown",
   "metadata": {
    "slideshow": {
     "slide_type": "slide"
    }
   },
   "source": [
    "### Paréntesis y prioridad de operadores\n",
    "\n",
    "-   Los paréntesis alteran el orden en el que se realizan\n",
    "    las operaciones.\n",
    "\n",
    "-   Si hay varios niveles de anidamiento, no se pueden usar corchetes,\n",
    "    hay que usar siempre paréntesis."
   ]
  },
  {
   "cell_type": "markdown",
   "metadata": {
    "slideshow": {
     "slide_type": "fragment"
    }
   },
   "source": [
    "Pregunta ¿Cuál es el resultado de estas dos operaciones?\n",
    "\n",
    "-   `7 * 3 + 4 / 2`\n",
    "\n",
    "-   `7 * (3 + 4) / 2`"
   ]
  },
  {
   "cell_type": "code",
   "execution_count": null,
   "metadata": {
    "collapsed": true
   },
   "outputs": [],
   "source": []
  },
  {
   "cell_type": "markdown",
   "metadata": {
    "slideshow": {
     "slide_type": "slide"
    }
   },
   "source": [
    "## Ejemplo final\n",
    "\n",
    "Ejecutamos el siguiente código\n",
    "\n",
    "```python\n",
    "z = 5\n",
    "y = z + 1\n",
    "z = 10\n",
    "```\n",
    "\n",
    "Al terminar, tenemos que\n",
    "\n",
    "1.  `z = 5, y = 6`\n",
    "\n",
    "2.  `z = 10, y = 6`\n",
    "\n",
    "3.  `z = 10, y = 11`"
   ]
  },
  {
   "cell_type": "markdown",
   "metadata": {
    "slideshow": {
     "slide_type": "fragment"
    }
   },
   "source": [
    "**La opción correcta es la 2**."
   ]
  },
  {
   "cell_type": "markdown",
   "metadata": {},
   "source": [
    "#### Ejercicio\n",
    "\n",
    "Crea una variable _n_ y calcula a partir de ella el número de saludos que se da un grupo de _n_ personas, es decir, el número de combinaciones dos a dos de _n_ elementos."
   ]
  },
  {
   "cell_type": "code",
   "execution_count": 77,
   "metadata": {},
   "outputs": [
    {
     "name": "stdout",
     "output_type": "stream",
     "text": [
      "6.0\n"
     ]
    }
   ],
   "source": [
    "n=4\n",
    "saludos=n*(n-1)/2\n",
    "print(saludos)"
   ]
  },
  {
   "cell_type": "code",
   "execution_count": 78,
   "metadata": {},
   "outputs": [
    {
     "name": "stdout",
     "output_type": "stream",
     "text": [
      "Variable            Type        Data/Info\n",
      "-----------------------------------------\n",
      "avogadros_number    float       6.022e-23\n",
      "b                   int         6\n",
      "c                   int         11\n",
      "cont                int         0\n",
      "five_element_list   list        n=5\n",
      "is_it_friday        bool        False\n",
      "k                   int         3\n",
      "math                module      <module 'math' (built-in)>\n",
      "my_car              NoneType    None\n",
      "my_first_list       list        n=3\n",
      "my_first_tupla      tuple       n=3\n",
      "my_name             str         Dani\n",
      "n                   int         4\n",
      "saludos             float       6.0\n",
      "x                   NoneType    None\n"
     ]
    }
   ],
   "source": [
    "#El Kernel es la memoria actual de lo que hemos ejecutado\n",
    "#Para ver todas las variables que tenemos guardadas en el Kernel\n",
    "\n",
    "%whos"
   ]
  },
  {
   "cell_type": "markdown",
   "metadata": {
    "slideshow": {
     "slide_type": "slide"
    }
   },
   "source": [
    "# Para llevar: resumen del tema\n",
    "\n",
    "-   El *notebook* nos permite ir ejecutando el programa\n",
    "    celda a celda, comprobar los resultados intermedios y rehacer\n",
    "    cualquier parte del programa\n",
    "\n",
    "-   Podemos usar todos los operadores habituales (aritméticos, lógicos).\n",
    "\n",
    "-   Las variables tienen valor y tipo:\n",
    "\n",
    "    -   Números con y sin decimales\n",
    "\n",
    "    -   Textos\n",
    "\n",
    "    -   Vectores, matrices\n",
    "\n",
    "    -   Números complejos\n",
    "    \n",
    "    -   Booleanos\n",
    "\n",
    "-   El comando help nos visualiza la ayuda global, o sobre\n",
    "    alguna variable o elemento\n",
    "\n",
    "-   Podemos borrar variables con del"
   ]
  },
  {
   "cell_type": "markdown",
   "metadata": {
    "slideshow": {
     "slide_type": "slide"
    }
   },
   "source": [
    "## Para llevar: resumen del tema\n",
    "\n",
    "-   Un lenguaje de programación tiene: Sintaxis, Semántica y Tipos de\n",
    "    datos\n",
    "\n",
    "-   Los errores de sintaxis son los más habituales.\n",
    "\n",
    "-   Los errores semánticos son sutiles y difíciles de encontrar.\n",
    "\n",
    "-   Los errores por tipos de datos son habituales cuando estemos\n",
    "    trabajando con Pandas, Spark y otras bibliotecas/sistemas\n",
    "    relacionados con *data science*\n",
    "\n",
    "-   Las variables no pueden tener cualquier nombre. Además, deben ser\n",
    "    nombres cortos e intuitivos, para facilitar la tarea de comprensión\n",
    "    del código.\n",
    "\n",
    "-   Existe una prioridad de operadores, que define el orden en el que se\n",
    "    hacen las operaciones.\n",
    "\n",
    "-   Es siempre mejor usar paréntesis para hacer explícito el orden de\n",
    "    las operaciones."
   ]
  },
  {
   "cell_type": "markdown",
   "metadata": {
    "slideshow": {
     "slide_type": "slide"
    }
   },
   "source": [
    "# Para saber más\n",
    "\n",
    "https://es.wikipedia.org/wiki/Lenguaje_de_programaci%C3%B3n\n",
    "\n",
    "https://www.python.org/dev/peps/pep-0008/"
   ]
  }
 ],
 "metadata": {
  "anaconda-cloud": {},
  "celltoolbar": "Slideshow",
  "kernelspec": {
   "display_name": "Python 3",
   "language": "python",
   "name": "python3"
  },
  "language_info": {
   "codemirror_mode": {
    "name": "ipython",
    "version": 3
   },
   "file_extension": ".py",
   "mimetype": "text/x-python",
   "name": "python",
   "nbconvert_exporter": "python",
   "pygments_lexer": "ipython3",
   "version": "3.6.3"
  },
  "livereveal": {
   "scroll": true,
   "start_slideshow_at": "selected"
  }
 },
 "nbformat": 4,
 "nbformat_minor": 2
}
